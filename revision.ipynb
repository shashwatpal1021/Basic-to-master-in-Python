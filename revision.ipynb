{
 "cells": [
  {
   "cell_type": "code",
   "execution_count": 1,
   "metadata": {},
   "outputs": [
    {
     "name": "stdout",
     "output_type": "stream",
     "text": [
      "hello\n"
     ]
    }
   ],
   "source": [
    "print(\"hello\")"
   ]
  },
  {
   "cell_type": "code",
   "execution_count": 2,
   "metadata": {},
   "outputs": [
    {
     "data": {
      "text/plain": [
       "'shashwat'"
      ]
     },
     "execution_count": 2,
     "metadata": {},
     "output_type": "execute_result"
    }
   ],
   "source": [
    "input(\"what is your name?\")"
   ]
  },
  {
   "cell_type": "code",
   "execution_count": 3,
   "metadata": {},
   "outputs": [],
   "source": [
    "name=input(\"what is your name? \")"
   ]
  },
  {
   "cell_type": "code",
   "execution_count": 4,
   "metadata": {},
   "outputs": [
    {
     "data": {
      "text/plain": [
       "'shashwat pal'"
      ]
     },
     "execution_count": 4,
     "metadata": {},
     "output_type": "execute_result"
    }
   ],
   "source": [
    "name\n"
   ]
  },
  {
   "cell_type": "code",
   "execution_count": 5,
   "metadata": {},
   "outputs": [
    {
     "data": {
      "text/plain": [
       "'\\n-> concatination of string\\n-> Specialized data types\\n-> modules\\n-> None -> nothing\\n'"
      ]
     },
     "execution_count": 5,
     "metadata": {},
     "output_type": "execute_result"
    }
   ],
   "source": [
    "'''\n",
    "-> concatination of string\n",
    "-> Specialized data types\n",
    "-> modules\n",
    "-> None -> nothing\n",
    "\n",
    "Number -> int, float\n",
    "'''"
   ]
  },
  {
   "cell_type": "code",
   "execution_count": 7,
   "metadata": {},
   "outputs": [
    {
     "name": "stdout",
     "output_type": "stream",
     "text": [
      "<class 'int'>\n"
     ]
    }
   ],
   "source": [
    "'''\n",
    "-> input() taking input as string\n",
    "\n",
    "use type conversion \n",
    "ex:- \n",
    "'''\n",
    "a=int(input())\n",
    "a\n",
    "print(type(a))"
   ]
  },
  {
   "cell_type": "code",
   "execution_count": 8,
   "metadata": {},
   "outputs": [
    {
     "name": "stdout",
     "output_type": "stream",
     "text": [
      "<class 'int'>\n",
      "<class 'int'>\n",
      "<class 'float'>\n",
      "<class 'int'>\n",
      "<class 'float'>\n",
      "<class 'float'>\n",
      "<class 'int'>\n",
      "4\n",
      "1\n",
      "1\n"
     ]
    }
   ],
   "source": [
    "print(type(6))\n",
    "print(type(2-4))\n",
    "print(type(2/4))\n",
    "print(type(0))\n",
    "\n",
    "print(type(20+4.3))\n",
    "print(type(3.2+4.3))\n",
    "\n",
    "print(type(2**2))\n",
    "print(2*2)\n",
    "print(5//4)\n",
    "print(5%4) "
   ]
  },
  {
   "cell_type": "code",
   "execution_count": 9,
   "metadata": {},
   "outputs": [
    {
     "name": "stdout",
     "output_type": "stream",
     "text": [
      "3\n",
      "8\n",
      "32\n"
     ]
    }
   ],
   "source": [
    "'''math function'''\n",
    "\n",
    "print(round(3.4))\n",
    "\n",
    "'''Operator precedence'''\n",
    "\n",
    "print(20-3*4)\n",
    "\n",
    "'''\n",
    "order\n",
    "()\n",
    "**\n",
    "* /\n",
    "% //\n",
    "'''\n",
    "print((30-2)+2**2)"
   ]
  },
  {
   "cell_type": "code",
   "execution_count": 11,
   "metadata": {},
   "outputs": [
    {
     "name": "stdout",
     "output_type": "stream",
     "text": [
      "0b101\n"
     ]
    }
   ],
   "source": [
    "'''complex'''\n",
    "\n",
    "print(bin(5)) #'''binary number of how they store'''"
   ]
  },
  {
   "cell_type": "code",
   "execution_count": 12,
   "metadata": {},
   "outputs": [
    {
     "name": "stdout",
     "output_type": "stream",
     "text": [
      "5\n"
     ]
    }
   ],
   "source": [
    "print(int('0b101',2))"
   ]
  },
  {
   "cell_type": "code",
   "execution_count": 13,
   "metadata": {},
   "outputs": [
    {
     "name": "stdout",
     "output_type": "stream",
     "text": [
      "190\n",
      "120\n"
     ]
    }
   ],
   "source": [
    "'''variable'''\n",
    "iq = 190 #snake_case   #STORE AND USE WHENEVER WE WANT aslo called name and binding value  \n",
    "print(iq)\n",
    "\n",
    "_user_iq =120\n",
    "print(_user_iq)\n",
    "\n",
    "# print = 190    #can't do this with keyword's\n",
    "# print(print)\n",
    "\n",
    "#snake_case\n",
    "#start with lowercase or underscore\n",
    "# letter, num, underscore\n",
    "# case sensitive\n",
    "# don't overwrite keywords."
   ]
  },
  {
   "cell_type": "code",
   "execution_count": 14,
   "metadata": {},
   "outputs": [
    {
     "name": "stdout",
     "output_type": "stream",
     "text": [
      "47.5\n"
     ]
    }
   ],
   "source": [
    "iq =190\n",
    "user_age =iq/4\n",
    "a= user_age\n",
    "\n",
    "print(a)"
   ]
  },
  {
   "cell_type": "code",
   "execution_count": 15,
   "metadata": {},
   "outputs": [
    {
     "name": "stdout",
     "output_type": "stream",
     "text": [
      "1\n",
      "2\n",
      "3\n"
     ]
    }
   ],
   "source": [
    "#constant\n",
    "PI =3.14\n",
    "\n",
    "a,b,c =1,2,3\n",
    "print(a)\n",
    "print(b)\n",
    "print(c)"
   ]
  },
  {
   "cell_type": "code",
   "execution_count": 16,
   "metadata": {},
   "outputs": [],
   "source": [
    "iq =100  #statement\n",
    "user_age =iq/5  #expression"
   ]
  },
  {
   "cell_type": "code",
   "execution_count": 18,
   "metadata": {},
   "outputs": [
    {
     "name": "stdout",
     "output_type": "stream",
     "text": [
      "9\n"
     ]
    }
   ],
   "source": [
    "# augmented assignment operator\n",
    "\n",
    "some_value =5\n",
    "# some_value =5+2\n",
    "\n",
    "some_value = some_value +2\n",
    "#or\n",
    "some_value += 2\n",
    "\n",
    "#  += , -=,  *= , /= , %= \n",
    "\n",
    "#short hand form\n",
    "print(some_value)"
   ]
  },
  {
   "cell_type": "code",
   "execution_count": 19,
   "metadata": {},
   "outputs": [
    {
     "name": "stdout",
     "output_type": "stream",
     "text": [
      "hi\n",
      "\n",
      "wow\n",
      "o  o\n",
      "----\n",
      "\n",
      "shashwat pal\n"
     ]
    }
   ],
   "source": [
    "# str data type string a piece of text\n",
    "\n",
    "String = 'hi'\n",
    "\n",
    "print(String)\n",
    "type(String)\n",
    "\n",
    "user_name = \"shashwat\"\n",
    "passwaord = 'codeword'\n",
    "long_string = '''\n",
    "wow\n",
    "o  o\n",
    "----\n",
    "'''\n",
    "\n",
    "print(long_string)\n",
    "\n",
    "first_name ='shashwat'\n",
    "l_name = 'pal'\n",
    "\n",
    "full_name = first_name +' '+ l_name   #string concatenation\n",
    "print(full_name)"
   ]
  },
  {
   "cell_type": "code",
   "execution_count": 20,
   "metadata": {},
   "outputs": [
    {
     "name": "stdout",
     "output_type": "stream",
     "text": [
      "100\n",
      "<class 'str'>\n",
      "<class 'int'>\n",
      "<class 'float'>\n"
     ]
    }
   ],
   "source": [
    "print(str(100))\n",
    "print(type(str(100)))\n",
    "\n",
    "print(type(int(100)))\n",
    "\n",
    "print(type(float(100)))"
   ]
  },
  {
   "cell_type": "code",
   "execution_count": 21,
   "metadata": {},
   "outputs": [
    {
     "name": "stdout",
     "output_type": "stream",
     "text": [
      "<class 'int'>\n"
     ]
    }
   ],
   "source": [
    "# Type conversion\n",
    "\n",
    "a = str(100)\n",
    "b= int(a)\n",
    "c = type(b)\n",
    "\n",
    "print(c)"
   ]
  },
  {
   "cell_type": "code",
   "execution_count": 22,
   "metadata": {},
   "outputs": [
    {
     "name": "stdout",
     "output_type": "stream",
     "text": [
      "It's \"kind of \"sunny\n",
      "\t It's \"kind of\" sunny \n",
      " hope you have a good day!\n"
     ]
    }
   ],
   "source": [
    "#  Escape sequence\n",
    "\n",
    "weather = \"It's sunny\"\n",
    "weather1 = 'It\\'s \\\"kind of \\\"sunny'\n",
    "print(weather1)\n",
    "\n",
    "# for \\ use \\\\ \n",
    "\n",
    "s= \"\\t It\\'s \\\"kind of\\\" sunny \\n hope you have a good day!\"\n",
    "print(s)"
   ]
  },
  {
   "cell_type": "code",
   "execution_count": 23,
   "metadata": {},
   "outputs": [
    {
     "name": "stdout",
     "output_type": "stream",
     "text": [
      "Hi shashwat you are 23 year old\n",
      "Hi shashwat. you are 23 year old\n",
      "Hi shashwat. you are 23 year old\n",
      "Hi 23. you are shashwat year old\n",
      "Hi Arnav. you are 22 year old\n"
     ]
    }
   ],
   "source": [
    "# formatted string\n",
    "\n",
    "name = 'shashwat'\n",
    "age = 23\n",
    "print('Hi '+ name +' you are '+ str(age)+' year old')\n",
    "\n",
    "print(f'Hi {name}. you are {age} year old')  #new in python 3\n",
    "#  or\n",
    "\n",
    "print('Hi {}. you are {} year old'.format(name,age))\n",
    "\n",
    "print('Hi {}. you are {} year old'.format(age,name))\n",
    "\n",
    "print('Hi {name}. you are {age} year old'.format(name = 'Arnav',age ='22'))"
   ]
  },
  {
   "cell_type": "code",
   "execution_count": 24,
   "metadata": {},
   "outputs": [
    {
     "name": "stdout",
     "output_type": "stream",
     "text": [
      "s\n",
      "s\n",
      "shas\n",
      "shashwat\n",
      "saha\n",
      "shas\n",
      "saha\n",
      "t\n",
      "tawhsahs\n",
      "twsh\n"
     ]
    }
   ],
   "source": [
    " # st is ordered sequence of character\n",
    "s = 'shashwat'\n",
    "print(s[0])       # [satrt : stop : stepover]  is called slicing\n",
    "print(s[3])\n",
    "print(s[0:4])\n",
    "print(s[0:])\n",
    "print(s[0:7:2])      \n",
    "print(s[:4])\n",
    "print(s[::2])\n",
    "print(s[-1])\n",
    "print(s[::-1])\n",
    "print(s[::-2])"
   ]
  },
  {
   "cell_type": "code",
   "execution_count": 25,
   "metadata": {},
   "outputs": [
    {
     "name": "stdout",
     "output_type": "stream",
     "text": [
      "shashwat\n",
      "shashwat\n"
     ]
    }
   ],
   "source": [
    "#immutability\n",
    "\n",
    "s= 'shashwat'\n",
    "#s= 'pal'   it's posible\n",
    "print(s)\n",
    "#[2] = '3' #string is immutable so not possible\n",
    "print(s)\n",
    "\n",
    "# build in functions"
   ]
  },
  {
   "cell_type": "code",
   "execution_count": 26,
   "metadata": {},
   "outputs": [
    {
     "name": "stdout",
     "output_type": "stream",
     "text": [
      "8\n",
      "8\n",
      "SHASHWAT\n",
      "Shashwat\n",
      "4\n",
      "shastwat\n",
      "shashwat\n"
     ]
    }
   ],
   "source": [
    "print(len('shashwat'))\n",
    "\n",
    "s= 'shashwat'\n",
    "print(len(s))\n",
    "\n",
    "#build in method  means only string have some extra functionality.\n",
    "#  .format() , .upper()\n",
    "\n",
    "print(s.upper())\n",
    "print(s.capitalize())\n",
    "print(s.find('hw'))   # find first occurance\n",
    "print(s.replace('hw','tw')) #its creat a new variable with value shashtwat\n",
    "print(s)"
   ]
  },
  {
   "cell_type": "code",
   "execution_count": 1,
   "metadata": {},
   "outputs": [
    {
     "data": {
      "text/plain": [
       "False"
      ]
     },
     "execution_count": 1,
     "metadata": {},
     "output_type": "execute_result"
    }
   ],
   "source": [
    "name=\"shashwat\"\n",
    "is_cool=False\n",
    "\n",
    "is_cool=True\n",
    "\n",
    "bool(1)\n",
    "bool(0)\n",
    "\n",
    "bool('hello')\n",
    "bool('')"
   ]
  },
  {
   "cell_type": "code",
   "execution_count": 3,
   "metadata": {},
   "outputs": [
    {
     "name": "stdout",
     "output_type": "stream",
     "text": [
      "it's complicated\n"
     ]
    }
   ],
   "source": [
    "name='shashwat'\n",
    "age=30\n",
    "relationship_status='it\\'s complicated'\n",
    "print(relationship_status)"
   ]
  },
  {
   "cell_type": "code",
   "execution_count": 4,
   "metadata": {},
   "outputs": [],
   "source": [
    "birth_year=input('what year were you born : ')\n",
    "age=2021-int(birth_year)\n",
    "print(f'year age is:{age}')"
   ]
  },
  {
   "cell_type": "code",
   "execution_count": null,
   "metadata": {},
   "outputs": [],
   "source": []
  },
  {
   "cell_type": "code",
   "execution_count": null,
   "metadata": {},
   "outputs": [],
   "source": []
  }
 ],
 "metadata": {
  "interpreter": {
   "hash": "b957dbe11676a874aab21e7d053542141370a5a965f8567de3523a758c7a7b8e"
  },
  "kernelspec": {
   "display_name": "Python 3.9.5 64-bit",
   "language": "python",
   "name": "python3"
  },
  "language_info": {
   "codemirror_mode": {
    "name": "ipython",
    "version": 3
   },
   "file_extension": ".py",
   "mimetype": "text/x-python",
   "name": "python",
   "nbconvert_exporter": "python",
   "pygments_lexer": "ipython3",
   "version": "3.9.5"
  },
  "orig_nbformat": 4
 },
 "nbformat": 4,
 "nbformat_minor": 2
}
