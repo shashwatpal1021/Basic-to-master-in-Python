{
 "cells": [
  {
   "cell_type": "code",
   "execution_count": null,
   "metadata": {},
   "outputs": [],
   "source": [
    "print(\"hello\")"
   ]
  },
  {
   "cell_type": "code",
   "execution_count": null,
   "metadata": {},
   "outputs": [
    {
     "data": {
      "text/plain": [
       "'shashwat'"
      ]
     },
     "execution_count": 2,
     "metadata": {},
     "output_type": "execute_result"
    }
   ],
   "source": [
    "input(\"what is your name?\")"
   ]
  },
  {
   "cell_type": "code",
   "execution_count": null,
   "metadata": {},
   "outputs": [],
   "source": [
    "name=input(\"what is your name? \")"
   ]
  },
  {
   "cell_type": "code",
   "execution_count": null,
   "metadata": {},
   "outputs": [
    {
     "data": {
      "text/plain": [
       "'shashwat pal'"
      ]
     },
     "execution_count": 4,
     "metadata": {},
     "output_type": "execute_result"
    }
   ],
   "source": [
    "name\n"
   ]
  },
  {
   "cell_type": "code",
   "execution_count": null,
   "metadata": {},
   "outputs": [
    {
     "data": {
      "text/plain": [
       "'\\n-> concatination of string\\n-> Specialized data types\\n-> modules\\n-> None -> nothing\\n'"
      ]
     },
     "execution_count": 5,
     "metadata": {},
     "output_type": "execute_result"
    }
   ],
   "source": [
    "'''\n",
    "-> concatination of string\n",
    "-> Specialized data types\n",
    "-> modules\n",
    "-> None -> nothing\n",
    "\n",
    "Number -> int, float\n",
    "'''"
   ]
  },
  {
   "cell_type": "code",
   "execution_count": null,
   "metadata": {},
   "outputs": [
    {
     "name": "stdout",
     "output_type": "stream",
     "text": [
      "<class 'int'>\n"
     ]
    }
   ],
   "source": [
    "'''\n",
    "-> input() taking input as string\n",
    "\n",
    "use type conversion \n",
    "ex:- \n",
    "'''\n",
    "a=int(input())\n",
    "a\n",
    "print(type(a))"
   ]
  },
  {
   "cell_type": "code",
   "execution_count": null,
   "metadata": {},
   "outputs": [
    {
     "name": "stdout",
     "output_type": "stream",
     "text": [
      "<class 'int'>\n",
      "<class 'int'>\n",
      "<class 'float'>\n",
      "<class 'int'>\n",
      "<class 'float'>\n",
      "<class 'float'>\n",
      "<class 'int'>\n",
      "4\n",
      "1\n",
      "1\n"
     ]
    }
   ],
   "source": [
    "print(type(6))\n",
    "print(type(2-4))\n",
    "print(type(2/4))\n",
    "print(type(0))\n",
    "\n",
    "print(type(20+4.3))\n",
    "print(type(3.2+4.3))\n",
    "\n",
    "print(type(2**2))\n",
    "print(2*2)\n",
    "print(5//4)\n",
    "print(5%4) "
   ]
  },
  {
   "cell_type": "code",
   "execution_count": null,
   "metadata": {},
   "outputs": [
    {
     "name": "stdout",
     "output_type": "stream",
     "text": [
      "3\n",
      "8\n",
      "32\n"
     ]
    }
   ],
   "source": [
    "'''math function'''\n",
    "\n",
    "print(round(3.4))\n",
    "\n",
    "'''Operator precedence'''\n",
    "\n",
    "print(20-3*4)\n",
    "\n",
    "'''\n",
    "order\n",
    "()\n",
    "**\n",
    "* /\n",
    "% //\n",
    "'''\n",
    "print((30-2)+2**2)"
   ]
  },
  {
   "cell_type": "code",
   "execution_count": null,
   "metadata": {},
   "outputs": [
    {
     "name": "stdout",
     "output_type": "stream",
     "text": [
      "0b101\n"
     ]
    }
   ],
   "source": [
    "'''complex'''\n",
    "\n",
    "print(bin(5)) #'''binary number of how they store'''"
   ]
  },
  {
   "cell_type": "code",
   "execution_count": null,
   "metadata": {},
   "outputs": [
    {
     "name": "stdout",
     "output_type": "stream",
     "text": [
      "5\n"
     ]
    }
   ],
   "source": [
    "print(int('0b101',2))"
   ]
  },
  {
   "cell_type": "code",
   "execution_count": null,
   "metadata": {},
   "outputs": [
    {
     "name": "stdout",
     "output_type": "stream",
     "text": [
      "190\n",
      "120\n"
     ]
    }
   ],
   "source": [
    "'''variable'''\n",
    "iq = 190 #snake_case   #STORE AND USE WHENEVER WE WANT aslo called name and binding value  \n",
    "print(iq)\n",
    "\n",
    "_user_iq =120\n",
    "print(_user_iq)\n",
    "\n",
    "# print = 190    #can't do this with keyword's\n",
    "# print(print)\n",
    "\n",
    "#snake_case\n",
    "#start with lowercase or underscore\n",
    "# letter, num, underscore\n",
    "# case sensitive\n",
    "# don't overwrite keywords."
   ]
  },
  {
   "cell_type": "code",
   "execution_count": null,
   "metadata": {},
   "outputs": [
    {
     "name": "stdout",
     "output_type": "stream",
     "text": [
      "47.5\n"
     ]
    }
   ],
   "source": [
    "iq =190\n",
    "user_age =iq/4\n",
    "a= user_age\n",
    "\n",
    "print(a)"
   ]
  },
  {
   "cell_type": "code",
   "execution_count": null,
   "metadata": {},
   "outputs": [
    {
     "name": "stdout",
     "output_type": "stream",
     "text": [
      "1\n",
      "2\n",
      "3\n"
     ]
    }
   ],
   "source": [
    "#constant\n",
    "PI =3.14\n",
    "\n",
    "a,b,c =1,2,3\n",
    "print(a)\n",
    "print(b)\n",
    "print(c)"
   ]
  },
  {
   "cell_type": "code",
   "execution_count": null,
   "metadata": {},
   "outputs": [],
   "source": [
    "iq =100  #statement\n",
    "user_age =iq/5  #expression"
   ]
  },
  {
   "cell_type": "code",
   "execution_count": null,
   "metadata": {},
   "outputs": [
    {
     "name": "stdout",
     "output_type": "stream",
     "text": [
      "9\n"
     ]
    }
   ],
   "source": [
    "# augmented assignment operator\n",
    "\n",
    "some_value =5\n",
    "# some_value =5+2\n",
    "\n",
    "some_value = some_value +2\n",
    "#or\n",
    "some_value += 2\n",
    "\n",
    "#  += , -=,  *= , /= , %= \n",
    "\n",
    "#short hand form\n",
    "print(some_value)"
   ]
  },
  {
   "cell_type": "code",
   "execution_count": null,
   "metadata": {},
   "outputs": [
    {
     "name": "stdout",
     "output_type": "stream",
     "text": [
      "hi\n",
      "\n",
      "wow\n",
      "o  o\n",
      "----\n",
      "\n",
      "shashwat pal\n"
     ]
    }
   ],
   "source": [
    "# str data type string a piece of text\n",
    "\n",
    "String = 'hi'\n",
    "\n",
    "print(String)\n",
    "type(String)\n",
    "\n",
    "user_name = \"shashwat\"\n",
    "passwaord = 'codeword'\n",
    "long_string = '''\n",
    "wow\n",
    "o  o\n",
    "----\n",
    "'''\n",
    "\n",
    "print(long_string)\n",
    "\n",
    "first_name ='shashwat'\n",
    "l_name = 'pal'\n",
    "\n",
    "full_name = first_name +' '+ l_name   #string concatenation\n",
    "print(full_name)"
   ]
  },
  {
   "cell_type": "code",
   "execution_count": null,
   "metadata": {},
   "outputs": [
    {
     "name": "stdout",
     "output_type": "stream",
     "text": [
      "100\n",
      "<class 'str'>\n",
      "<class 'int'>\n",
      "<class 'float'>\n"
     ]
    }
   ],
   "source": [
    "print(str(100))\n",
    "print(type(str(100)))\n",
    "\n",
    "print(type(int(100)))\n",
    "\n",
    "print(type(float(100)))"
   ]
  },
  {
   "cell_type": "code",
   "execution_count": null,
   "metadata": {},
   "outputs": [
    {
     "name": "stdout",
     "output_type": "stream",
     "text": [
      "<class 'int'>\n"
     ]
    }
   ],
   "source": [
    "# Type conversion\n",
    "\n",
    "a = str(100)\n",
    "b= int(a)\n",
    "c = type(b)\n",
    "\n",
    "print(c)"
   ]
  },
  {
   "cell_type": "code",
   "execution_count": null,
   "metadata": {},
   "outputs": [
    {
     "name": "stdout",
     "output_type": "stream",
     "text": [
      "It's \"kind of \"sunny\n",
      "\t It's \"kind of\" sunny \n",
      " hope you have a good day!\n"
     ]
    }
   ],
   "source": [
    "#  Escape sequence\n",
    "\n",
    "weather = \"It's sunny\"\n",
    "weather1 = 'It\\'s \\\"kind of \\\"sunny'\n",
    "print(weather1)\n",
    "\n",
    "# for \\ use \\\\ \n",
    "\n",
    "s= \"\\t It\\'s \\\"kind of\\\" sunny \\n hope you have a good day!\"\n",
    "print(s)"
   ]
  },
  {
   "cell_type": "code",
   "execution_count": null,
   "metadata": {},
   "outputs": [
    {
     "name": "stdout",
     "output_type": "stream",
     "text": [
      "Hi shashwat you are 23 year old\n",
      "Hi shashwat. you are 23 year old\n",
      "Hi shashwat. you are 23 year old\n",
      "Hi 23. you are shashwat year old\n",
      "Hi Arnav. you are 22 year old\n"
     ]
    }
   ],
   "source": [
    "# formatted string\n",
    "\n",
    "name = 'shashwat'\n",
    "age = 23\n",
    "print('Hi '+ name +' you are '+ str(age)+' year old')\n",
    "\n",
    "print(f'Hi {name}. you are {age} year old')  #new in python 3\n",
    "#  or\n",
    "\n",
    "print('Hi {}. you are {} year old'.format(name,age))\n",
    "\n",
    "print('Hi {}. you are {} year old'.format(age,name))\n",
    "\n",
    "print('Hi {name}. you are {age} year old'.format(name = 'Arnav',age ='22'))"
   ]
  },
  {
   "cell_type": "code",
   "execution_count": null,
   "metadata": {},
   "outputs": [
    {
     "name": "stdout",
     "output_type": "stream",
     "text": [
      "s\n",
      "s\n",
      "shas\n",
      "shashwat\n",
      "saha\n",
      "shas\n",
      "saha\n",
      "t\n",
      "tawhsahs\n",
      "twsh\n"
     ]
    }
   ],
   "source": [
    " # st is ordered sequence of character\n",
    "s = 'shashwat'\n",
    "print(s[0])       # [satrt : stop : stepover]  is called slicing\n",
    "print(s[3])\n",
    "print(s[0:4])\n",
    "print(s[0:])\n",
    "print(s[0:7:2])      \n",
    "print(s[:4])\n",
    "print(s[::2])\n",
    "print(s[-1])\n",
    "print(s[::-1])\n",
    "print(s[::-2])"
   ]
  },
  {
   "cell_type": "code",
   "execution_count": null,
   "metadata": {},
   "outputs": [
    {
     "name": "stdout",
     "output_type": "stream",
     "text": [
      "shashwat\n",
      "shashwat\n"
     ]
    }
   ],
   "source": [
    "#immutability\n",
    "\n",
    "s= 'shashwat'\n",
    "#s= 'pal'   it's posible\n",
    "print(s)\n",
    "#[2] = '3' #string is immutable so not possible\n",
    "print(s)\n",
    "\n",
    "# build in functions"
   ]
  },
  {
   "cell_type": "code",
   "execution_count": null,
   "metadata": {},
   "outputs": [
    {
     "name": "stdout",
     "output_type": "stream",
     "text": [
      "8\n",
      "8\n",
      "SHASHWAT\n",
      "Shashwat\n",
      "4\n",
      "shastwat\n",
      "shashwat\n"
     ]
    }
   ],
   "source": [
    "print(len('shashwat'))\n",
    "\n",
    "s= 'shashwat'\n",
    "print(len(s))\n",
    "\n",
    "#build in method  means only string have some extra functionality.\n",
    "#  .format() , .upper()\n",
    "\n",
    "print(s.upper())\n",
    "print(s.capitalize())\n",
    "print(s.find('hw'))   # find first occurance\n",
    "print(s.replace('hw','tw')) #its creat a new variable with value shashtwat\n",
    "print(s)"
   ]
  },
  {
   "cell_type": "code",
   "execution_count": 1,
   "metadata": {},
   "outputs": [
    {
     "data": {
      "text/plain": [
       "False"
      ]
     },
     "execution_count": 1,
     "metadata": {},
     "output_type": "execute_result"
    }
   ],
   "source": [
    "name=\"shashwat\"\n",
    "is_cool=False\n",
    "\n",
    "is_cool=True\n",
    "\n",
    "bool(1)\n",
    "bool(0)\n",
    "\n",
    "bool('hello')\n",
    "bool('')"
   ]
  },
  {
   "cell_type": "code",
   "execution_count": 3,
   "metadata": {},
   "outputs": [
    {
     "name": "stdout",
     "output_type": "stream",
     "text": [
      "year age is : 23\n"
     ]
    }
   ],
   "source": [
    "birth_year = input('what year were you born : ')\n",
    "age = 2022 - int(birth_year)\n",
    "print(f'year age is : {age}')"
   ]
  },
  {
   "cell_type": "code",
   "execution_count": 7,
   "metadata": {},
   "outputs": [
    {
     "name": "stdout",
     "output_type": "stream",
     "text": [
      "shashwat, your password, ********, is 8 letter long\n"
     ]
    }
   ],
   "source": [
    "user_name=input('what is your name:')\n",
    "password =input('password ? ')\n",
    "passwaord_len=len(password)\n",
    "hidden_pwd='*'* passwaord_len\n",
    "\n",
    "print(f'{user_name}, your password, {hidden_pwd}, is {passwaord_len} letter long')"
   ]
  },
  {
   "cell_type": "code",
   "execution_count": 10,
   "metadata": {},
   "outputs": [],
   "source": [
    "# list\n",
    "\n",
    "#  ordered sequence of object any type\n",
    "\n"
   ]
  },
  {
   "cell_type": "code",
   "execution_count": 13,
   "metadata": {},
   "outputs": [
    {
     "name": "stdout",
     "output_type": "stream",
     "text": [
      "notebook\n",
      "sunglassess\n",
      "['notebook', 'sunglassess']\n"
     ]
    },
    {
     "data": {
      "text/plain": [
       "['notebook', 'sunglassess', 'toys', 'grapes']"
      ]
     },
     "execution_count": 13,
     "metadata": {},
     "output_type": "execute_result"
    }
   ],
   "source": [
    "li = [1,2,3,4,5]\n",
    "li2=['z','zb','d','e','s']\n",
    "li3=[1,'2',3,5,'d',True,6]\n",
    "\n",
    "# Data Structure\n",
    "\n",
    "amazon_cart = ['notebook','sunglassess','toys','grapes']\n",
    "\n",
    "print(amazon_cart[0])\n",
    "print(amazon_cart[1])\n",
    "print(amazon_cart[0:2])\n",
    "amazon_cart"
   ]
  },
  {
   "cell_type": "code",
   "execution_count": 14,
   "metadata": {},
   "outputs": [
    {
     "data": {
      "text/plain": [
       "['gum', 'laptop', 'toys', 'grapes']"
      ]
     },
     "execution_count": 14,
     "metadata": {},
     "output_type": "execute_result"
    }
   ],
   "source": [
    "#  list are mutable\n",
    "\n",
    "amazon_cart[1]='laptop'\n",
    "amazon_cart\n",
    "amazon_cart[0:3]\n",
    "\n",
    "new_cart = amazon_cart[:]\n",
    "\n",
    "new_cart[0]='gum'\n",
    "\n",
    "new_cart"
   ]
  },
  {
   "cell_type": "code",
   "execution_count": 15,
   "metadata": {},
   "outputs": [],
   "source": [
    "# Matrix"
   ]
  },
  {
   "cell_type": "code",
   "execution_count": 16,
   "metadata": {},
   "outputs": [
    {
     "data": {
      "text/plain": [
       "2"
      ]
     },
     "execution_count": 16,
     "metadata": {},
     "output_type": "execute_result"
    }
   ],
   "source": [
    "matrix=[\n",
    "    [1,2,3],\n",
    "    [4,5,6],\n",
    "    [7,8,9]\n",
    "]\n",
    "\n",
    "matrix[0][1]"
   ]
  },
  {
   "cell_type": "code",
   "execution_count": 17,
   "metadata": {},
   "outputs": [
    {
     "name": "stdout",
     "output_type": "stream",
     "text": [
      "None\n"
     ]
    },
    {
     "data": {
      "text/plain": [
       "[1, 2, 3, 4, 5, 6, 7, 8, 9, 100]"
      ]
     },
     "execution_count": 17,
     "metadata": {},
     "output_type": "execute_result"
    }
   ],
   "source": [
    "# build in method()\n",
    "\n",
    "# len is a function\n",
    "\n",
    "basket = [1,2,3,4,5,6,7,8,9]\n",
    "\n",
    "new_list = basket.append(100)\n",
    "\n",
    "print(new_list)\n",
    "\n",
    "basket\n",
    "\n"
   ]
  },
  {
   "cell_type": "code",
   "execution_count": 18,
   "metadata": {},
   "outputs": [
    {
     "data": {
      "text/plain": [
       "[1, 2, 3, 4, 100, 5, 6, 7, 8, 9, 100]"
      ]
     },
     "execution_count": 18,
     "metadata": {},
     "output_type": "execute_result"
    }
   ],
   "source": [
    "# append change the value in place\n",
    " \n",
    "# insert\n",
    "\n",
    "basket.insert(4,100)\n",
    "basket "
   ]
  },
  {
   "cell_type": "code",
   "execution_count": 19,
   "metadata": {},
   "outputs": [
    {
     "data": {
      "text/plain": [
       "[1, 2, 3, 4, 100, 5, 6, 7, 8, 9, 100, 11, 12, 13, 14]"
      ]
     },
     "execution_count": 19,
     "metadata": {},
     "output_type": "execute_result"
    }
   ],
   "source": [
    "new_one=[11,12,13,14]\n",
    "\n",
    "basket.extend(new_one)\n",
    "basket"
   ]
  },
  {
   "cell_type": "code",
   "execution_count": 20,
   "metadata": {},
   "outputs": [
    {
     "data": {
      "text/plain": [
       "14"
      ]
     },
     "execution_count": 20,
     "metadata": {},
     "output_type": "execute_result"
    }
   ],
   "source": [
    "basket.pop()"
   ]
  },
  {
   "cell_type": "code",
   "execution_count": 21,
   "metadata": {},
   "outputs": [
    {
     "data": {
      "text/plain": [
       "1"
      ]
     },
     "execution_count": 21,
     "metadata": {},
     "output_type": "execute_result"
    }
   ],
   "source": [
    "basket.pop(0)"
   ]
  },
  {
   "cell_type": "code",
   "execution_count": 22,
   "metadata": {},
   "outputs": [
    {
     "data": {
      "text/plain": [
       "[2, 3, 100, 5, 6, 7, 8, 9, 100, 11, 12, 13]"
      ]
     },
     "execution_count": 22,
     "metadata": {},
     "output_type": "execute_result"
    }
   ],
   "source": [
    "basket.remove(4)  #removed from the list\n",
    "\n",
    "basket"
   ]
  },
  {
   "cell_type": "code",
   "execution_count": 23,
   "metadata": {},
   "outputs": [],
   "source": [
    "basket.clear()"
   ]
  },
  {
   "cell_type": "code",
   "execution_count": 24,
   "metadata": {},
   "outputs": [
    {
     "data": {
      "text/plain": [
       "[]"
      ]
     },
     "execution_count": 24,
     "metadata": {},
     "output_type": "execute_result"
    }
   ],
   "source": [
    "basket"
   ]
  },
  {
   "cell_type": "code",
   "execution_count": 26,
   "metadata": {},
   "outputs": [
    {
     "data": {
      "text/plain": [
       "[1, 1, 1, 1, 1, 2, 3, 4, 5]"
      ]
     },
     "execution_count": 26,
     "metadata": {},
     "output_type": "execute_result"
    }
   ],
   "source": [
    "# insert\n",
    "\n",
    "basket.extend([1,1,1,1,1,2,3,4,5])\n",
    "basket"
   ]
  },
  {
   "cell_type": "code",
   "execution_count": 27,
   "metadata": {},
   "outputs": [],
   "source": [
    "basket.remove(1)"
   ]
  },
  {
   "cell_type": "code",
   "execution_count": 28,
   "metadata": {},
   "outputs": [
    {
     "data": {
      "text/plain": [
       "[1, 1, 1, 1, 2, 3, 4, 5]"
      ]
     },
     "execution_count": 28,
     "metadata": {},
     "output_type": "execute_result"
    }
   ],
   "source": [
    "basket  #remove only first occurence"
   ]
  },
  {
   "cell_type": "code",
   "execution_count": 29,
   "metadata": {},
   "outputs": [
    {
     "data": {
      "text/plain": [
       "['a', 'b', 'c', 'd', 'e', 'd']"
      ]
     },
     "execution_count": 29,
     "metadata": {},
     "output_type": "execute_result"
    }
   ],
   "source": [
    "basket.clear()\n",
    "\n",
    "basket\n",
    "\n",
    "basket.extend(['a','b','c','d','e','d'])\n",
    "basket"
   ]
  },
  {
   "cell_type": "code",
   "execution_count": 30,
   "metadata": {},
   "outputs": [
    {
     "data": {
      "text/plain": [
       "3"
      ]
     },
     "execution_count": 30,
     "metadata": {},
     "output_type": "execute_result"
    }
   ],
   "source": [
    "basket.index('d')"
   ]
  },
  {
   "cell_type": "code",
   "execution_count": 31,
   "metadata": {},
   "outputs": [
    {
     "data": {
      "text/plain": [
       "True"
      ]
     },
     "execution_count": 31,
     "metadata": {},
     "output_type": "execute_result"
    }
   ],
   "source": [
    "'d' in basket"
   ]
  },
  {
   "cell_type": "code",
   "execution_count": 32,
   "metadata": {},
   "outputs": [
    {
     "data": {
      "text/plain": [
       "False"
      ]
     },
     "execution_count": 32,
     "metadata": {},
     "output_type": "execute_result"
    }
   ],
   "source": [
    "'v' in basket"
   ]
  },
  {
   "cell_type": "code",
   "execution_count": 33,
   "metadata": {},
   "outputs": [
    {
     "data": {
      "text/plain": [
       "2"
      ]
     },
     "execution_count": 33,
     "metadata": {},
     "output_type": "execute_result"
    }
   ],
   "source": [
    "basket.count('d')"
   ]
  },
  {
   "cell_type": "code",
   "execution_count": 34,
   "metadata": {},
   "outputs": [],
   "source": [
    "basket.sort()"
   ]
  },
  {
   "cell_type": "code",
   "execution_count": 35,
   "metadata": {},
   "outputs": [
    {
     "data": {
      "text/plain": [
       "['a', 'b', 'c', 'd', 'd', 'e']"
      ]
     },
     "execution_count": 35,
     "metadata": {},
     "output_type": "execute_result"
    }
   ],
   "source": [
    "basket"
   ]
  },
  {
   "cell_type": "code",
   "execution_count": 36,
   "metadata": {},
   "outputs": [
    {
     "data": {
      "text/plain": [
       "['a', 'b', 'c', 'd', 'd', 'e']"
      ]
     },
     "execution_count": 36,
     "metadata": {},
     "output_type": "execute_result"
    }
   ],
   "source": [
    "sorted(basket)  #produce a new array"
   ]
  },
  {
   "cell_type": "code",
   "execution_count": 37,
   "metadata": {},
   "outputs": [
    {
     "data": {
      "text/plain": [
       "['e', 'd', 'd', 'c', 'b', 'a']"
      ]
     },
     "execution_count": 37,
     "metadata": {},
     "output_type": "execute_result"
    }
   ],
   "source": [
    "basket.reverse()\n",
    "basket"
   ]
  },
  {
   "cell_type": "code",
   "execution_count": 38,
   "metadata": {},
   "outputs": [
    {
     "data": {
      "text/plain": [
       "6"
      ]
     },
     "execution_count": 38,
     "metadata": {},
     "output_type": "execute_result"
    }
   ],
   "source": [
    "len(basket)"
   ]
  },
  {
   "cell_type": "code",
   "execution_count": 39,
   "metadata": {},
   "outputs": [
    {
     "data": {
      "text/plain": [
       "['a', 'b', 'c', 'd', 'd', 'e']"
      ]
     },
     "execution_count": 39,
     "metadata": {},
     "output_type": "execute_result"
    }
   ],
   "source": [
    "basket[::-1]"
   ]
  },
  {
   "cell_type": "code",
   "execution_count": 40,
   "metadata": {},
   "outputs": [
    {
     "data": {
      "text/plain": [
       "['e', 'd', 'd', 'c', 'b', 'a']"
      ]
     },
     "execution_count": 40,
     "metadata": {},
     "output_type": "execute_result"
    }
   ],
   "source": [
    "basket"
   ]
  },
  {
   "cell_type": "code",
   "execution_count": 41,
   "metadata": {},
   "outputs": [
    {
     "data": {
      "text/plain": [
       "[1, 2, 3, 4, 5, 6, 7, 8, 9]"
      ]
     },
     "execution_count": 41,
     "metadata": {},
     "output_type": "execute_result"
    }
   ],
   "source": [
    "list(range(1,10))"
   ]
  },
  {
   "cell_type": "code",
   "execution_count": 42,
   "metadata": {},
   "outputs": [
    {
     "data": {
      "text/plain": [
       "'hi @ my @ name @ is @ joj'"
      ]
     },
     "execution_count": 42,
     "metadata": {},
     "output_type": "execute_result"
    }
   ],
   "source": [
    "#  .join()\n",
    "\n",
    "sentence = \" @ \"\n",
    "\n",
    "new_s=sentence.join(['hi','my','name','is','joj'])\n",
    "new_s"
   ]
  },
  {
   "cell_type": "code",
   "execution_count": 43,
   "metadata": {},
   "outputs": [
    {
     "data": {
      "text/plain": [
       "1"
      ]
     },
     "execution_count": 43,
     "metadata": {},
     "output_type": "execute_result"
    }
   ],
   "source": [
    "#  list unpacking\n",
    "\n",
    "a,b,c, *other,d = [1,2,3,4,5,6,7,9]\n",
    "\n",
    "a"
   ]
  },
  {
   "cell_type": "code",
   "execution_count": 44,
   "metadata": {},
   "outputs": [
    {
     "data": {
      "text/plain": [
       "2"
      ]
     },
     "execution_count": 44,
     "metadata": {},
     "output_type": "execute_result"
    }
   ],
   "source": [
    "b"
   ]
  },
  {
   "cell_type": "code",
   "execution_count": 45,
   "metadata": {},
   "outputs": [
    {
     "data": {
      "text/plain": [
       "3"
      ]
     },
     "execution_count": 45,
     "metadata": {},
     "output_type": "execute_result"
    }
   ],
   "source": [
    "c"
   ]
  },
  {
   "cell_type": "code",
   "execution_count": 46,
   "metadata": {},
   "outputs": [
    {
     "data": {
      "text/plain": [
       "[4, 5, 6, 7]"
      ]
     },
     "execution_count": 46,
     "metadata": {},
     "output_type": "execute_result"
    }
   ],
   "source": [
    "other"
   ]
  },
  {
   "cell_type": "code",
   "execution_count": 47,
   "metadata": {},
   "outputs": [
    {
     "data": {
      "text/plain": [
       "9"
      ]
     },
     "execution_count": 47,
     "metadata": {},
     "output_type": "execute_result"
    }
   ],
   "source": [
    "d"
   ]
  },
  {
   "cell_type": "code",
   "execution_count": 48,
   "metadata": {},
   "outputs": [
    {
     "name": "stdout",
     "output_type": "stream",
     "text": [
      "None\n"
     ]
    }
   ],
   "source": [
    "#  None\n",
    "\n",
    "weapons = None\n",
    "\n",
    "print(weapons)"
   ]
  },
  {
   "cell_type": "code",
   "execution_count": 49,
   "metadata": {},
   "outputs": [
    {
     "data": {
      "text/plain": [
       "2"
      ]
     },
     "execution_count": 49,
     "metadata": {},
     "output_type": "execute_result"
    }
   ],
   "source": [
    "dictionary ={\n",
    "    'a':1,\n",
    "    'b':2\n",
    "}\n",
    "\n",
    "dictionary['b']"
   ]
  },
  {
   "cell_type": "code",
   "execution_count": 50,
   "metadata": {},
   "outputs": [],
   "source": [
    "#  dict is sonorder means that \n",
    "\n",
    "# they are not right next to each other in memory\n"
   ]
  },
  {
   "cell_type": "code",
   "execution_count": 51,
   "metadata": {},
   "outputs": [],
   "source": [
    "\n",
    "dictionary.clear()"
   ]
  },
  {
   "cell_type": "code",
   "execution_count": 52,
   "metadata": {},
   "outputs": [
    {
     "data": {
      "text/plain": [
       "{}"
      ]
     },
     "execution_count": 52,
     "metadata": {},
     "output_type": "execute_result"
    }
   ],
   "source": [
    "dictionary"
   ]
  },
  {
   "cell_type": "code",
   "execution_count": 55,
   "metadata": {},
   "outputs": [
    {
     "data": {
      "text/plain": [
       "{'a': [1, 2, 3], 'b': 'hello', 'x': True}"
      ]
     },
     "execution_count": 55,
     "metadata": {},
     "output_type": "execute_result"
    }
   ],
   "source": [
    "dictioanry = [{\n",
    "    'a':[1,2,3],\n",
    "    'b':'hello',\n",
    "    'x': True\n",
    "},{\n",
    "    'a':[4,5,6],\n",
    "    'b':'hello',\n",
    "    'x': False\n",
    "}]\n",
    "\n",
    "dictionary[0]\n",
    "    "
   ]
  },
  {
   "cell_type": "code",
   "execution_count": 56,
   "metadata": {},
   "outputs": [
    {
     "name": "stdout",
     "output_type": "stream",
     "text": [
      "2\n"
     ]
    }
   ],
   "source": [
    "print(dictionary[0]['a'][1])"
   ]
  },
  {
   "cell_type": "code",
   "execution_count": 57,
   "metadata": {},
   "outputs": [],
   "source": [
    "#  key is a immutable"
   ]
  },
  {
   "cell_type": "code",
   "execution_count": 58,
   "metadata": {},
   "outputs": [
    {
     "data": {
      "text/plain": [
       "20"
      ]
     },
     "execution_count": 58,
     "metadata": {},
     "output_type": "execute_result"
    }
   ],
   "source": [
    "user = {\n",
    "    'basket':[1,2,3],\n",
    "    'greet':'hello',\n",
    "    'age':20\n",
    "}\n",
    "\n",
    "user.get('age')"
   ]
  },
  {
   "cell_type": "code",
   "execution_count": 59,
   "metadata": {},
   "outputs": [
    {
     "data": {
      "text/plain": [
       "{'basket': [1, 2, 3], 'greet': 'hello', 'age': 20}"
      ]
     },
     "execution_count": 59,
     "metadata": {},
     "output_type": "execute_result"
    }
   ],
   "source": [
    "user.get('age',55)  # avoid error\n",
    "user"
   ]
  },
  {
   "cell_type": "code",
   "execution_count": 60,
   "metadata": {},
   "outputs": [
    {
     "data": {
      "text/plain": [
       "{'name': 'shashwat'}"
      ]
     },
     "execution_count": 60,
     "metadata": {},
     "output_type": "execute_result"
    }
   ],
   "source": [
    "user2=dict(name='shashwat')\n",
    "user2"
   ]
  },
  {
   "cell_type": "code",
   "execution_count": 61,
   "metadata": {},
   "outputs": [
    {
     "data": {
      "text/plain": [
       "True"
      ]
     },
     "execution_count": 61,
     "metadata": {},
     "output_type": "execute_result"
    }
   ],
   "source": [
    "'basket' in user"
   ]
  },
  {
   "cell_type": "code",
   "execution_count": 62,
   "metadata": {},
   "outputs": [
    {
     "data": {
      "text/plain": [
       "False"
      ]
     },
     "execution_count": 62,
     "metadata": {},
     "output_type": "execute_result"
    }
   ],
   "source": [
    "'size' in user"
   ]
  },
  {
   "cell_type": "code",
   "execution_count": 63,
   "metadata": {},
   "outputs": [
    {
     "data": {
      "text/plain": [
       "False"
      ]
     },
     "execution_count": 63,
     "metadata": {},
     "output_type": "execute_result"
    }
   ],
   "source": [
    "'hello' in user.keys()"
   ]
  },
  {
   "cell_type": "code",
   "execution_count": 64,
   "metadata": {},
   "outputs": [
    {
     "data": {
      "text/plain": [
       "dict_items([('basket', [1, 2, 3]), ('greet', 'hello'), ('age', 20)])"
      ]
     },
     "execution_count": 64,
     "metadata": {},
     "output_type": "execute_result"
    }
   ],
   "source": [
    "user.items()"
   ]
  },
  {
   "cell_type": "code",
   "execution_count": 65,
   "metadata": {},
   "outputs": [],
   "source": [
    "user.clear()"
   ]
  },
  {
   "cell_type": "code",
   "execution_count": 66,
   "metadata": {},
   "outputs": [
    {
     "data": {
      "text/plain": [
       "{}"
      ]
     },
     "execution_count": 66,
     "metadata": {},
     "output_type": "execute_result"
    }
   ],
   "source": [
    "user2=user.copy()\n",
    "\n",
    "user2"
   ]
  },
  {
   "cell_type": "code",
   "execution_count": 67,
   "metadata": {},
   "outputs": [
    {
     "data": {
      "text/plain": [
       "20"
      ]
     },
     "execution_count": 67,
     "metadata": {},
     "output_type": "execute_result"
    }
   ],
   "source": [
    "user = {\n",
    "    'basket':[1,2,3],\n",
    "    'greet':'hello',\n",
    "    'age':20\n",
    "}\n",
    "\n",
    "user.pop('age')"
   ]
  },
  {
   "cell_type": "code",
   "execution_count": 68,
   "metadata": {},
   "outputs": [
    {
     "data": {
      "text/plain": [
       "('greet', 'hello')"
      ]
     },
     "execution_count": 68,
     "metadata": {},
     "output_type": "execute_result"
    }
   ],
   "source": [
    "user.popitem()"
   ]
  },
  {
   "cell_type": "code",
   "execution_count": 69,
   "metadata": {},
   "outputs": [
    {
     "data": {
      "text/plain": [
       "{'basket': [1, 2, 3], 'age': 55}"
      ]
     },
     "execution_count": 69,
     "metadata": {},
     "output_type": "execute_result"
    }
   ],
   "source": [
    "user.update({'age':55})\n",
    "\n",
    "user"
   ]
  },
  {
   "cell_type": "code",
   "execution_count": 70,
   "metadata": {},
   "outputs": [],
   "source": [
    "#  tuples()\n",
    "\n",
    "# immutable"
   ]
  },
  {
   "cell_type": "code",
   "execution_count": 71,
   "metadata": {},
   "outputs": [
    {
     "data": {
      "text/plain": [
       "(1, 2, 3, 4, 5)"
      ]
     },
     "execution_count": 71,
     "metadata": {},
     "output_type": "execute_result"
    }
   ],
   "source": [
    "my_tuple=(1,2,3,4,5)\n",
    "\n",
    "my_tuple"
   ]
  },
  {
   "cell_type": "code",
   "execution_count": 72,
   "metadata": {},
   "outputs": [
    {
     "data": {
      "text/plain": [
       "4"
      ]
     },
     "execution_count": 72,
     "metadata": {},
     "output_type": "execute_result"
    }
   ],
   "source": [
    "# my_tuple[0] = 2 \n",
    "\n",
    "# not possible\n",
    "\n",
    "my_tuple[3]"
   ]
  },
  {
   "cell_type": "code",
   "execution_count": 73,
   "metadata": {},
   "outputs": [
    {
     "data": {
      "text/plain": [
       "True"
      ]
     },
     "execution_count": 73,
     "metadata": {},
     "output_type": "execute_result"
    }
   ],
   "source": [
    "5 in my_tuple"
   ]
  },
  {
   "cell_type": "code",
   "execution_count": 74,
   "metadata": {},
   "outputs": [
    {
     "data": {
      "text/plain": [
       "[1, 2, 3]"
      ]
     },
     "execution_count": 74,
     "metadata": {},
     "output_type": "execute_result"
    }
   ],
   "source": [
    "user[('basket')]"
   ]
  },
  {
   "cell_type": "code",
   "execution_count": 75,
   "metadata": {},
   "outputs": [
    {
     "data": {
      "text/plain": [
       "(2,)"
      ]
     },
     "execution_count": 75,
     "metadata": {},
     "output_type": "execute_result"
    }
   ],
   "source": [
    "new_tuple=my_tuple[1:2]\n",
    "\n",
    "new_tuple"
   ]
  },
  {
   "cell_type": "code",
   "execution_count": 76,
   "metadata": {},
   "outputs": [
    {
     "data": {
      "text/plain": [
       "1"
      ]
     },
     "execution_count": 76,
     "metadata": {},
     "output_type": "execute_result"
    }
   ],
   "source": [
    "x,y,z,*other=(1,2,3,4,5,6,7,8,)\n",
    "\n",
    "x"
   ]
  },
  {
   "cell_type": "code",
   "execution_count": 77,
   "metadata": {},
   "outputs": [
    {
     "data": {
      "text/plain": [
       "2"
      ]
     },
     "execution_count": 77,
     "metadata": {},
     "output_type": "execute_result"
    }
   ],
   "source": [
    "y"
   ]
  },
  {
   "cell_type": "code",
   "execution_count": 78,
   "metadata": {},
   "outputs": [
    {
     "data": {
      "text/plain": [
       "3"
      ]
     },
     "execution_count": 78,
     "metadata": {},
     "output_type": "execute_result"
    }
   ],
   "source": [
    "z"
   ]
  },
  {
   "cell_type": "code",
   "execution_count": 79,
   "metadata": {},
   "outputs": [
    {
     "data": {
      "text/plain": [
       "[4, 5, 6, 7, 8]"
      ]
     },
     "execution_count": 79,
     "metadata": {},
     "output_type": "execute_result"
    }
   ],
   "source": [
    "other"
   ]
  },
  {
   "cell_type": "code",
   "execution_count": 80,
   "metadata": {},
   "outputs": [
    {
     "data": {
      "text/plain": [
       "1"
      ]
     },
     "execution_count": 80,
     "metadata": {},
     "output_type": "execute_result"
    }
   ],
   "source": [
    "my_tuple.count(5)"
   ]
  },
  {
   "cell_type": "code",
   "execution_count": 81,
   "metadata": {},
   "outputs": [
    {
     "data": {
      "text/plain": [
       "4"
      ]
     },
     "execution_count": 81,
     "metadata": {},
     "output_type": "execute_result"
    }
   ],
   "source": [
    "my_tuple.index(5)"
   ]
  },
  {
   "cell_type": "code",
   "execution_count": 82,
   "metadata": {},
   "outputs": [
    {
     "data": {
      "text/plain": [
       "5"
      ]
     },
     "execution_count": 82,
     "metadata": {},
     "output_type": "execute_result"
    }
   ],
   "source": [
    "len(my_tuple)"
   ]
  },
  {
   "cell_type": "code",
   "execution_count": 83,
   "metadata": {},
   "outputs": [],
   "source": [
    "# Set\n",
    "\n",
    "# unordered collection unique items"
   ]
  },
  {
   "cell_type": "code",
   "execution_count": 85,
   "metadata": {},
   "outputs": [
    {
     "data": {
      "text/plain": [
       "{1, 2, 3, 4, 5, 6}"
      ]
     },
     "execution_count": 85,
     "metadata": {},
     "output_type": "execute_result"
    }
   ],
   "source": [
    "my_set = {1,2,3,4,5,6,6}\n",
    "my_set                      # no duplicates are allowed"
   ]
  },
  {
   "cell_type": "code",
   "execution_count": 86,
   "metadata": {},
   "outputs": [
    {
     "data": {
      "text/plain": [
       "{1, 2, 3, 4, 5, 6, 100}"
      ]
     },
     "execution_count": 86,
     "metadata": {},
     "output_type": "execute_result"
    }
   ],
   "source": [
    "my_set.add(100)\n",
    "my_set"
   ]
  },
  {
   "cell_type": "code",
   "execution_count": 87,
   "metadata": {},
   "outputs": [
    {
     "data": {
      "text/plain": [
       "{1, 2, 3, 4, 5, 6, 100}"
      ]
     },
     "execution_count": 87,
     "metadata": {},
     "output_type": "execute_result"
    }
   ],
   "source": [
    "my_set.add(2)\n",
    "my_set"
   ]
  },
  {
   "cell_type": "code",
   "execution_count": 88,
   "metadata": {},
   "outputs": [],
   "source": [
    "my_list= [1,2,3,4,5,6,6,6]"
   ]
  },
  {
   "cell_type": "code",
   "execution_count": 89,
   "metadata": {},
   "outputs": [
    {
     "data": {
      "text/plain": [
       "{1, 2, 3, 4, 5, 6}"
      ]
     },
     "execution_count": 89,
     "metadata": {},
     "output_type": "execute_result"
    }
   ],
   "source": [
    "set(my_list)"
   ]
  },
  {
   "cell_type": "code",
   "execution_count": 91,
   "metadata": {},
   "outputs": [
    {
     "ename": "TypeError",
     "evalue": "'set' object is not subscriptable",
     "output_type": "error",
     "traceback": [
      "\u001b[1;31m---------------------------------------------------------------------------\u001b[0m",
      "\u001b[1;31mTypeError\u001b[0m                                 Traceback (most recent call last)",
      "\u001b[1;32mc:\\Users\\shash\\Documents\\GitHub\\Basic to master in Python\\revision.ipynb Cell 101'\u001b[0m in \u001b[0;36m<cell line: 1>\u001b[1;34m()\u001b[0m\n\u001b[1;32m----> <a href='vscode-notebook-cell:/c%3A/Users/shash/Documents/GitHub/Basic%20to%20master%20in%20Python/revision.ipynb#ch0000109?line=0'>1</a>\u001b[0m my_set[\u001b[39m0\u001b[39;49m]\n",
      "\u001b[1;31mTypeError\u001b[0m: 'set' object is not subscriptable"
     ]
    }
   ],
   "source": [
    "my_set[0]  #doesn't allow indexess"
   ]
  },
  {
   "cell_type": "code",
   "execution_count": 92,
   "metadata": {},
   "outputs": [
    {
     "data": {
      "text/plain": [
       "True"
      ]
     },
     "execution_count": 92,
     "metadata": {},
     "output_type": "execute_result"
    }
   ],
   "source": [
    "1 in my_set"
   ]
  },
  {
   "cell_type": "code",
   "execution_count": 93,
   "metadata": {},
   "outputs": [
    {
     "data": {
      "text/plain": [
       "7"
      ]
     },
     "execution_count": 93,
     "metadata": {},
     "output_type": "execute_result"
    }
   ],
   "source": [
    "len(my_set)"
   ]
  },
  {
   "cell_type": "code",
   "execution_count": 94,
   "metadata": {},
   "outputs": [
    {
     "data": {
      "text/plain": [
       "{1, 2, 3, 4, 5, 6, 100}"
      ]
     },
     "execution_count": 94,
     "metadata": {},
     "output_type": "execute_result"
    }
   ],
   "source": [
    "new=my_set.copy()\n",
    "new"
   ]
  },
  {
   "cell_type": "code",
   "execution_count": 96,
   "metadata": {},
   "outputs": [
    {
     "data": {
      "text/plain": [
       "set()"
      ]
     },
     "execution_count": 96,
     "metadata": {},
     "output_type": "execute_result"
    }
   ],
   "source": [
    "new.clear()\n",
    "new"
   ]
  },
  {
   "cell_type": "code",
   "execution_count": 97,
   "metadata": {},
   "outputs": [],
   "source": [
    "#  set methonds\n",
    "\n",
    "# .difference()\n",
    "\n",
    "# .discard()\n",
    "\n",
    "# .intersection_update()\n",
    "\n",
    "# .isdisjoint()\n",
    "\n",
    "# .issubclass()\n",
    "\n",
    "# .issuperset()\n",
    "\n",
    "# .union()\n"
   ]
  },
  {
   "cell_type": "code",
   "execution_count": 100,
   "metadata": {},
   "outputs": [
    {
     "data": {
      "text/plain": [
       "{1, 100}"
      ]
     },
     "execution_count": 100,
     "metadata": {},
     "output_type": "execute_result"
    }
   ],
   "source": [
    "your_set = {2,3,4,5,5,6,7}\n",
    "\n",
    "my_set.difference(your_set)  #not modified"
   ]
  },
  {
   "cell_type": "code",
   "execution_count": 99,
   "metadata": {},
   "outputs": [
    {
     "data": {
      "text/plain": [
       "{1, 2, 3, 4, 5, 6, 100}"
      ]
     },
     "execution_count": 99,
     "metadata": {},
     "output_type": "execute_result"
    }
   ],
   "source": [
    "my_set"
   ]
  },
  {
   "cell_type": "code",
   "execution_count": 102,
   "metadata": {},
   "outputs": [
    {
     "data": {
      "text/plain": [
       "{1, 2, 3, 4, 6, 100}"
      ]
     },
     "execution_count": 102,
     "metadata": {},
     "output_type": "execute_result"
    }
   ],
   "source": [
    "my_set.discard(5)\n",
    "my_set"
   ]
  },
  {
   "cell_type": "code",
   "execution_count": 105,
   "metadata": {},
   "outputs": [
    {
     "data": {
      "text/plain": [
       "{2, 3, 4, 6, 7}"
      ]
     },
     "execution_count": 105,
     "metadata": {},
     "output_type": "execute_result"
    }
   ],
   "source": [
    "your_set.discard(5) #remove all this 5 in the list\n",
    "your_set"
   ]
  },
  {
   "cell_type": "code",
   "execution_count": 106,
   "metadata": {},
   "outputs": [
    {
     "data": {
      "text/plain": [
       "{1, 100}"
      ]
     },
     "execution_count": 106,
     "metadata": {},
     "output_type": "execute_result"
    }
   ],
   "source": [
    "my_set.difference_update(your_set)\n",
    "my_set"
   ]
  },
  {
   "cell_type": "code",
   "execution_count": 107,
   "metadata": {},
   "outputs": [
    {
     "data": {
      "text/plain": [
       "{2, 3, 4, 6}"
      ]
     },
     "execution_count": 107,
     "metadata": {},
     "output_type": "execute_result"
    }
   ],
   "source": [
    "my_set={1,2,3,4,5,6}\n",
    "my_set.intersection(your_set)"
   ]
  },
  {
   "cell_type": "code",
   "execution_count": 108,
   "metadata": {},
   "outputs": [
    {
     "data": {
      "text/plain": [
       "False"
      ]
     },
     "execution_count": 108,
     "metadata": {},
     "output_type": "execute_result"
    }
   ],
   "source": [
    "my_set.isdisjoint(your_set)"
   ]
  },
  {
   "cell_type": "code",
   "execution_count": 109,
   "metadata": {},
   "outputs": [
    {
     "data": {
      "text/plain": [
       "{1, 2, 3, 4, 5, 6, 7}"
      ]
     },
     "execution_count": 109,
     "metadata": {},
     "output_type": "execute_result"
    }
   ],
   "source": [
    "my_set.union(your_set)  # or my_set  | your_set"
   ]
  },
  {
   "cell_type": "code",
   "execution_count": 110,
   "metadata": {},
   "outputs": [
    {
     "data": {
      "text/plain": [
       "{1, 2, 3, 4, 5, 6}"
      ]
     },
     "execution_count": 110,
     "metadata": {},
     "output_type": "execute_result"
    }
   ],
   "source": [
    "my_set"
   ]
  },
  {
   "cell_type": "code",
   "execution_count": 114,
   "metadata": {},
   "outputs": [
    {
     "data": {
      "text/plain": [
       "{2, 3, 4, 5, 6, 7}"
      ]
     },
     "execution_count": 114,
     "metadata": {},
     "output_type": "execute_result"
    }
   ],
   "source": [
    "my_set | your_set"
   ]
  },
  {
   "cell_type": "code",
   "execution_count": 115,
   "metadata": {},
   "outputs": [
    {
     "data": {
      "text/plain": [
       "False"
      ]
     },
     "execution_count": 115,
     "metadata": {},
     "output_type": "execute_result"
    }
   ],
   "source": [
    "my_set = {4,5,5}\n",
    "\n",
    "my_set.issubset(your_set)"
   ]
  },
  {
   "cell_type": "code",
   "execution_count": 116,
   "metadata": {},
   "outputs": [
    {
     "data": {
      "text/plain": [
       "{4}"
      ]
     },
     "execution_count": 116,
     "metadata": {},
     "output_type": "execute_result"
    }
   ],
   "source": [
    "my_set & your_set"
   ]
  },
  {
   "cell_type": "code",
   "execution_count": 117,
   "metadata": {},
   "outputs": [
    {
     "data": {
      "text/plain": [
       "False"
      ]
     },
     "execution_count": 117,
     "metadata": {},
     "output_type": "execute_result"
    }
   ],
   "source": [
    "my_set.issuperset(your_set)"
   ]
  },
  {
   "cell_type": "code",
   "execution_count": 118,
   "metadata": {},
   "outputs": [
    {
     "data": {
      "text/plain": [
       "False"
      ]
     },
     "execution_count": 118,
     "metadata": {},
     "output_type": "execute_result"
    }
   ],
   "source": [
    "your_set.issuperset(my_set)"
   ]
  },
  {
   "cell_type": "code",
   "execution_count": 119,
   "metadata": {},
   "outputs": [],
   "source": [
    "#  Conditional Programming if, if-else, elif"
   ]
  },
  {
   "cell_type": "code",
   "execution_count": 120,
   "metadata": {},
   "outputs": [
    {
     "name": "stdout",
     "output_type": "stream",
     "text": [
      "you are old enough to drive! \n"
     ]
    },
    {
     "data": {
      "text/plain": [
       "'okok'"
      ]
     },
     "execution_count": 120,
     "metadata": {},
     "output_type": "execute_result"
    }
   ],
   "source": [
    "\n",
    "\n",
    "is_old = True\n",
    "is_licenced =True\n",
    "\n",
    "if is_old:  # or if is_old and is_licenced:\n",
    "    print('you are old enough to drive! ')\n",
    "elif is_licenced:\n",
    "    print('checked you are not have licenced to drive! ')\n",
    "else:\n",
    "    print(\"ow are not of age\")\n",
    "\n",
    "'okok'"
   ]
  },
  {
   "cell_type": "code",
   "execution_count": 124,
   "metadata": {},
   "outputs": [
    {
     "name": "stdout",
     "output_type": "stream",
     "text": [
      "you r old enough to drive, and you have a licence\n"
     ]
    }
   ],
   "source": [
    "#  idea of truthy and falsy\n",
    "\n",
    "is_old = bool('yes')\n",
    "is_licenced = bool(1)\n",
    "\n",
    "if is_old and is_licenced:\n",
    "    print('you r old enough to drive, and you have a licence',end='\\n')\n",
    "else:\n",
    "    print('you r not of age!',end='\\n')"
   ]
  },
  {
   "cell_type": "code",
   "execution_count": 125,
   "metadata": {},
   "outputs": [],
   "source": [
    "# #  Falsy Values\n",
    "\n",
    "# None\n",
    "# 0\n",
    "# 0.0\n",
    "# 0j\n",
    "# Decimal(0)\n",
    "# Fraction(0,1)\n",
    "# []-an empty list\n",
    "# {}-an empty dict\n",
    "# ()\n",
    "# ''\n",
    "# b''\n",
    "# set()\n",
    "# an empty range, like range(0)\n",
    "# objects for which\n",
    "# obj.__bool__() return False\n",
    "# obj.__len__() return 0\n",
    "\n",
    "\n",
    "# other than all are true"
   ]
  },
  {
   "cell_type": "code",
   "execution_count": 128,
   "metadata": {},
   "outputs": [
    {
     "name": "stdout",
     "output_type": "stream",
     "text": [
      "yes it have both of them\n"
     ]
    }
   ],
   "source": [
    "passwaord='1234'\n",
    "\n",
    "# username=''\n",
    "username=\"12345\"\n",
    "\n",
    "if passwaord and username:\n",
    "    print('yes it have both of them')\n",
    "else:\n",
    "    print('not')"
   ]
  },
  {
   "cell_type": "code",
   "execution_count": 132,
   "metadata": {},
   "outputs": [
    {
     "name": "stdout",
     "output_type": "stream",
     "text": [
      "message allowed\n"
     ]
    }
   ],
   "source": [
    "# ternary operator called conditiona; expression\n",
    "\n",
    "# conditiona; if true if else condition if else\n",
    "\n",
    "is_friend = True\n",
    "# is_friend=False\n",
    "\n",
    "can_msg = 'message allowed' if is_friend else 'not allowed to msg'\n",
    "print(can_msg)"
   ]
  },
  {
   "cell_type": "code",
   "execution_count": 133,
   "metadata": {},
   "outputs": [
    {
     "name": "stdout",
     "output_type": "stream",
     "text": [
      "best frnd forever\n"
     ]
    }
   ],
   "source": [
    "# short circuting\n",
    "\n",
    "id_user=True\n",
    "if is_friend and id_user: # or can also used in place of and\n",
    "    print('best frnd forever')"
   ]
  },
  {
   "cell_type": "code",
   "execution_count": 1,
   "metadata": {},
   "outputs": [],
   "source": [
    "# logical Operator -> and, or, >, <, >=, <=, ==, !=, not()"
   ]
  },
  {
   "cell_type": "code",
   "execution_count": 2,
   "metadata": {},
   "outputs": [
    {
     "name": "stdout",
     "output_type": "stream",
     "text": [
      "you need magic powers\n"
     ]
    }
   ],
   "source": [
    "\n",
    "# visit game\n",
    "\n",
    "is_magician = False\n",
    "is_expert =True\n",
    "\n",
    "#check if magician AND expert : 'you are a master magician'\n",
    "\n",
    "\n",
    "if is_magician and is_expert:\n",
    "    print('you are a master magician')\n",
    "\n",
    "# check if magician bit not expert : \"at least you r getting there\"\n",
    "\n",
    "elif is_magician and not(is_expert):\n",
    "    print('at least you r getting there')\n",
    "\n",
    "# if you r not a magician : 'you need magic powers'\n",
    "\n",
    "elif not is_magician:\n",
    "    print('you need magic powers')\n"
   ]
  },
  {
   "cell_type": "code",
   "execution_count": 3,
   "metadata": {},
   "outputs": [],
   "source": [
    "# is keyword check the location i memory"
   ]
  },
  {
   "cell_type": "code",
   "execution_count": 5,
   "metadata": {},
   "outputs": [
    {
     "name": "stdout",
     "output_type": "stream",
     "text": [
      "z e r o   t o   m a s t e r y "
     ]
    }
   ],
   "source": [
    "# for loop\n",
    "\n",
    "for item in 'zero to mastery':  #work with everyone list , tuple, set, dict\n",
    "    print(item,end=' ')"
   ]
  },
  {
   "cell_type": "code",
   "execution_count": 7,
   "metadata": {},
   "outputs": [
    {
     "name": "stdout",
     "output_type": "stream",
     "text": [
      "1 a\n",
      "1 b\n",
      "1 c\n",
      "2 a\n",
      "2 b\n",
      "2 c\n",
      "3 a\n",
      "3 b\n",
      "3 c\n",
      "4 a\n",
      "4 b\n",
      "4 c\n",
      "5 a\n",
      "5 b\n",
      "5 c\n"
     ]
    }
   ],
   "source": [
    "for item in(1,2,3,4,5):\n",
    "    for c in ['a','b','c']:\n",
    "        print(item,c)\n",
    "\n",
    "# iterable - list, dict, tuple, set, string\n",
    "\n",
    "# iterate - one buy one check each item in the collection. "
   ]
  },
  {
   "cell_type": "code",
   "execution_count": 10,
   "metadata": {},
   "outputs": [
    {
     "name": "stdout",
     "output_type": "stream",
     "text": [
      "('name', 'shashwat')\n",
      "('age', 23)\n",
      "('can_swim', False)\n"
     ]
    }
   ],
   "source": [
    "user = {\n",
    "    'name':'shashwat',\n",
    "    'age': 23,\n",
    "    'can_swim':False\n",
    "}\n",
    "\n",
    "for item in user.items():\n",
    "    print(item)"
   ]
  },
  {
   "cell_type": "code",
   "execution_count": 11,
   "metadata": {},
   "outputs": [
    {
     "name": "stdout",
     "output_type": "stream",
     "text": [
      "shashwat\n",
      "23\n",
      "False\n"
     ]
    }
   ],
   "source": [
    "for item in user.values():\n",
    "    print(item)"
   ]
  },
  {
   "cell_type": "code",
   "execution_count": 12,
   "metadata": {},
   "outputs": [
    {
     "name": "stdout",
     "output_type": "stream",
     "text": [
      "name\n",
      "age\n",
      "can_swim\n"
     ]
    }
   ],
   "source": [
    "for item in user.keys():\n",
    "    print(item)"
   ]
  },
  {
   "cell_type": "code",
   "execution_count": 13,
   "metadata": {},
   "outputs": [
    {
     "name": "stdout",
     "output_type": "stream",
     "text": [
      "name shashwat\n",
      "age 23\n",
      "can_swim False\n"
     ]
    }
   ],
   "source": [
    "for item in user.items():\n",
    "    key,value=item\n",
    "    print(key,value)"
   ]
  },
  {
   "cell_type": "code",
   "execution_count": 14,
   "metadata": {},
   "outputs": [
    {
     "name": "stdout",
     "output_type": "stream",
     "text": [
      "name shashwat\n",
      "age 23\n",
      "can_swim False\n"
     ]
    }
   ],
   "source": [
    "for key, value in user.items():\n",
    "    print(key,value)"
   ]
  },
  {
   "cell_type": "code",
   "execution_count": 15,
   "metadata": {},
   "outputs": [],
   "source": [
    "# 3 int object is iterable"
   ]
  },
  {
   "cell_type": "code",
   "execution_count": 16,
   "metadata": {},
   "outputs": [
    {
     "name": "stdout",
     "output_type": "stream",
     "text": [
      "1\n",
      "3\n",
      "6\n",
      "10\n",
      "15\n",
      "21\n",
      "28\n",
      "36\n",
      "45\n",
      "45\n"
     ]
    }
   ],
   "source": [
    "\n",
    "# counter\n",
    "\n",
    "my_list = [1,2,3,4,5,6,7,8,9]\n",
    "counter = 0\n",
    "\n",
    "for item in my_list:\n",
    "    counter += item\n",
    "    print(counter)\n",
    "print(counter)"
   ]
  },
  {
   "cell_type": "code",
   "execution_count": 17,
   "metadata": {},
   "outputs": [
    {
     "data": {
      "text/plain": [
       "range(0, 10)"
      ]
     },
     "execution_count": 17,
     "metadata": {},
     "output_type": "execute_result"
    }
   ],
   "source": [
    "# range\n",
    "\n",
    "range(0,10)"
   ]
  },
  {
   "cell_type": "code",
   "execution_count": 19,
   "metadata": {},
   "outputs": [
    {
     "name": "stdout",
     "output_type": "stream",
     "text": [
      "0\n",
      "1\n",
      "2\n",
      "3\n",
      "4\n",
      "5\n",
      "6\n",
      "7\n",
      "8\n",
      "9\n"
     ]
    }
   ],
   "source": [
    "for num in range(0,10):\n",
    "    print(num)"
   ]
  },
  {
   "cell_type": "code",
   "execution_count": 20,
   "metadata": {},
   "outputs": [
    {
     "name": "stdout",
     "output_type": "stream",
     "text": [
      "0\n",
      "2\n",
      "4\n",
      "6\n",
      "8\n"
     ]
    }
   ],
   "source": [
    "for _ in range(0,10,2):\n",
    "    print(_)"
   ]
  },
  {
   "cell_type": "code",
   "execution_count": 21,
   "metadata": {},
   "outputs": [],
   "source": [
    "for _ in range(0,10,-1):\n",
    "    print(_)"
   ]
  },
  {
   "cell_type": "code",
   "execution_count": 22,
   "metadata": {},
   "outputs": [
    {
     "name": "stdout",
     "output_type": "stream",
     "text": [
      "10\n",
      "9\n",
      "8\n",
      "7\n",
      "6\n",
      "5\n",
      "4\n",
      "3\n",
      "2\n",
      "1\n"
     ]
    }
   ],
   "source": [
    "for _ in range(10,0,-1):\n",
    "    print(_)"
   ]
  },
  {
   "cell_type": "code",
   "execution_count": 23,
   "metadata": {},
   "outputs": [
    {
     "name": "stdout",
     "output_type": "stream",
     "text": [
      "[0, 1, 2, 3, 4, 5, 6, 7, 8, 9]\n",
      "[0, 1, 2, 3, 4, 5, 6, 7, 8, 9]\n"
     ]
    }
   ],
   "source": [
    "for _ in range(2):\n",
    "    print(list(range(10)))"
   ]
  },
  {
   "cell_type": "code",
   "execution_count": 25,
   "metadata": {},
   "outputs": [
    {
     "name": "stdout",
     "output_type": "stream",
     "text": [
      "0 1\n",
      "1 2\n",
      "2 3\n"
     ]
    }
   ],
   "source": [
    "# enumerate()  for counting index number\n",
    "\n",
    "for i,char in enumerate([1,2,3]):\n",
    "    print(i,char)"
   ]
  },
  {
   "cell_type": "code",
   "execution_count": 26,
   "metadata": {},
   "outputs": [
    {
     "name": "stdout",
     "output_type": "stream",
     "text": [
      "0 h\n",
      "1 e\n",
      "2 l\n",
      "3 l\n",
      "4 o\n",
      "5 o\n",
      "6 o\n",
      "7 o\n",
      "8 o\n",
      "9 o\n",
      "10 o\n",
      "11 o\n",
      "12 o\n",
      "13 o\n",
      "14 o\n",
      "15 o\n",
      "16 o\n"
     ]
    }
   ],
   "source": [
    "for i,char in enumerate('hellooooooooooooo'):\n",
    "    print(i,char)"
   ]
  },
  {
   "cell_type": "code",
   "execution_count": 27,
   "metadata": {},
   "outputs": [
    {
     "name": "stdout",
     "output_type": "stream",
     "text": [
      "0 1\n",
      "1 2\n",
      "2 3\n"
     ]
    }
   ],
   "source": [
    "# enumerate()  for counting index number\n",
    "\n",
    "for i,char in enumerate((1,2,3)):\n",
    "    print(i,char)"
   ]
  },
  {
   "cell_type": "code",
   "execution_count": 29,
   "metadata": {},
   "outputs": [
    {
     "name": "stdout",
     "output_type": "stream",
     "text": [
      "index of 50 is : 50\n"
     ]
    }
   ],
   "source": [
    "for i,char in enumerate(list(range(100))):\n",
    "    if char==50:\n",
    "        print(f'index of 50 is : {i}')"
   ]
  },
  {
   "cell_type": "code",
   "execution_count": 30,
   "metadata": {},
   "outputs": [
    {
     "name": "stdout",
     "output_type": "stream",
     "text": [
      "0\n"
     ]
    }
   ],
   "source": [
    "# while loop\n",
    "\n",
    "i=0\n",
    "while i<5:\n",
    "    print(i)\n",
    "    break;"
   ]
  },
  {
   "cell_type": "code",
   "execution_count": 31,
   "metadata": {},
   "outputs": [
    {
     "name": "stdout",
     "output_type": "stream",
     "text": [
      "0\n",
      "1\n",
      "2\n",
      "3\n",
      "4\n",
      "done with all the work\n"
     ]
    }
   ],
   "source": [
    "# while loop\n",
    "\n",
    "i=0\n",
    "while i<5:\n",
    "    print(i)\n",
    "    i+=1\n",
    "else:\n",
    "    print('done with all the work')"
   ]
  },
  {
   "cell_type": "code",
   "execution_count": 32,
   "metadata": {},
   "outputs": [],
   "source": [
    "# while else statement is used when break statement is in there"
   ]
  },
  {
   "cell_type": "code",
   "execution_count": 35,
   "metadata": {},
   "outputs": [],
   "source": [
    "while True:\n",
    "    input('say something: ')\n",
    "    break"
   ]
  },
  {
   "cell_type": "code",
   "execution_count": 37,
   "metadata": {},
   "outputs": [],
   "source": [
    "while True:\n",
    "    response=input('say something: ')\n",
    "    if(response == 'bye'):\n",
    "        break"
   ]
  },
  {
   "cell_type": "code",
   "execution_count": 40,
   "metadata": {},
   "outputs": [
    {
     "name": "stdout",
     "output_type": "stream",
     "text": [
      "3\n"
     ]
    }
   ],
   "source": [
    "# continue\n",
    "\n",
    "my_list = [1,2,3]\n",
    "for item in my_list:\n",
    "    continue\n",
    "    print(item)\n",
    "print(item)"
   ]
  },
  {
   "cell_type": "code",
   "execution_count": 41,
   "metadata": {},
   "outputs": [
    {
     "name": "stdout",
     "output_type": "stream",
     "text": [
      "1\n",
      "2\n",
      "3\n",
      "3\n"
     ]
    }
   ],
   "source": [
    "# pass\n",
    "\n",
    "my_list = [1,2,3]\n",
    "for item in my_list:\n",
    "    pass\n",
    "    print(item)\n",
    "print(item)"
   ]
  },
  {
   "cell_type": "code",
   "execution_count": 42,
   "metadata": {},
   "outputs": [
    {
     "name": "stdout",
     "output_type": "stream",
     "text": [
      "1\n",
      "2\n",
      "3\n"
     ]
    }
   ],
   "source": [
    "my_list = [1,2,3]\n",
    "for item in my_list:\n",
    "    # thinking about it\n",
    "\n",
    "    pass\n",
    "\n",
    "i = 0\n",
    "\n",
    "while i < len(my_list):\n",
    "    print(my_list[i])\n",
    "    i += 1\n",
    "    pass"
   ]
  },
  {
   "cell_type": "code",
   "execution_count": 47,
   "metadata": {},
   "outputs": [
    {
     "name": "stdout",
     "output_type": "stream",
     "text": [
      "      *       \n",
      "    * * *     \n",
      "  * * * * *   \n",
      "* * * * * * * \n",
      "      *       \n",
      "      *       \n"
     ]
    }
   ],
   "source": [
    "# our first gui\n",
    "\n",
    "picture = [\n",
    "    [0,0,0,1,0,0,0],\n",
    "    [0,0,1,1,1,0,0],\n",
    "    [0,1,1,1,1,1,0],\n",
    "    [1,1,1,1,1,1,1],\n",
    "    [0,0,0,1,0,0,0],\n",
    "    [0,0,0,1,0,0,0]\n",
    "]\n",
    "\n",
    "#iterate over picture\n",
    "# if 0 print -> ''\n",
    "# if 1 print -> *\n",
    "\n",
    "\n",
    "for img in picture:\n",
    "    for pixel in img:\n",
    "        if(pixel == 1):\n",
    "            print('*',end=' ')\n",
    "        else:\n",
    "            print(' ',end=' ')\n",
    "    print('')\n",
    "\n"
   ]
  },
  {
   "cell_type": "code",
   "execution_count": 48,
   "metadata": {},
   "outputs": [],
   "source": [
    " # clean\n",
    "    # redability\n",
    "    # predictbility\n",
    "    # DRY - do not yourself\n",
    "    \n",
    "    \n"
   ]
  },
  {
   "cell_type": "code",
   "execution_count": 49,
   "metadata": {},
   "outputs": [
    {
     "name": "stdout",
     "output_type": "stream",
     "text": [
      "      #       \n",
      "    # # #     \n",
      "  # # # # #   \n",
      "# # # # # # # \n",
      "      #       \n",
      "      #       \n"
     ]
    }
   ],
   "source": [
    "fill =\"#\"\n",
    "empty = ' '\n",
    "\n",
    "for row in picture:\n",
    "    for pixel in row:\n",
    "        if(pixel):\n",
    "            print(fill, end=' ')\n",
    "        else:\n",
    "            print(empty, end = ' ')\n",
    "    print('')   # need a new line"
   ]
  },
  {
   "cell_type": "code",
   "execution_count": 51,
   "metadata": {},
   "outputs": [
    {
     "name": "stdout",
     "output_type": "stream",
     "text": [
      "['b', 'n', 'n', 'b']\n"
     ]
    }
   ],
   "source": [
    "# check for duplicate in list:\n",
    "\n",
    "some_list = ['a','b','c','d','m','n','n','b']\n",
    "\n",
    "# set not allowed\n",
    "\n",
    "duplicates = []\n",
    "\n",
    "for value in some_list:\n",
    "    if some_list.count(value)>1:\n",
    "        duplicates.append(value)\n",
    "\n",
    "print(duplicates)"
   ]
  },
  {
   "cell_type": "code",
   "execution_count": 52,
   "metadata": {},
   "outputs": [
    {
     "name": "stdout",
     "output_type": "stream",
     "text": [
      "['b', 'n']\n"
     ]
    }
   ],
   "source": [
    "duplicates = [] \n",
    "\n",
    "for value in some_list:\n",
    "    if some_list.count(value)>1:\n",
    "        if value not in duplicates:\n",
    "            duplicates.append(value)\n",
    "print(duplicates)"
   ]
  },
  {
   "cell_type": "code",
   "execution_count": 53,
   "metadata": {},
   "outputs": [
    {
     "name": "stdout",
     "output_type": "stream",
     "text": [
      "hello\n"
     ]
    }
   ],
   "source": [
    "# fuction  -> def define a function\n",
    "\n",
    "def say_hello():\n",
    "    print('hello')\n",
    "\n",
    "say_hello()"
   ]
  },
  {
   "cell_type": "code",
   "execution_count": 54,
   "metadata": {},
   "outputs": [
    {
     "name": "stdout",
     "output_type": "stream",
     "text": [
      "      #       \n",
      "    # # #     \n",
      "  # # # # #   \n",
      "# # # # # # # \n",
      "      #       \n",
      "      #       \n",
      "\n",
      "\n",
      "      #       \n",
      "    # # #     \n",
      "  # # # # #   \n",
      "# # # # # # # \n",
      "      #       \n",
      "      #       \n"
     ]
    }
   ],
   "source": [
    "def show_tree():\n",
    "    for row in picture:\n",
    "        for pixel in row:\n",
    "            if(pixel):\n",
    "                print('#',end=' ')\n",
    "            else:\n",
    "                print(' ',end=' ')\n",
    "        print('') # need a new line\n",
    "\n",
    "show_tree()\n",
    "print('\\n')\n",
    "show_tree()"
   ]
  },
  {
   "cell_type": "code",
   "execution_count": 55,
   "metadata": {},
   "outputs": [
    {
     "name": "stdout",
     "output_type": "stream",
     "text": [
      "helloooo shashwat*\n",
      "helloooo pal*\n"
     ]
    }
   ],
   "source": [
    "# argument vs parameter\n",
    "\n",
    "# parameters\n",
    "\n",
    "def say_hello(name,emoji):  # parameter\n",
    "    print(f'helloooo {name}{emoji}')\n",
    "\n",
    "# positional arguments\n",
    "\n",
    "say_hello('shashwat','*')\n",
    "\n",
    "# keyword arguments\n",
    "\n",
    "say_hello(emoji='*',name='pal')"
   ]
  },
  {
   "cell_type": "code",
   "execution_count": 56,
   "metadata": {},
   "outputs": [
    {
     "name": "stdout",
     "output_type": "stream",
     "text": [
      "hello shashwat *\n",
      "hello pal 8\n"
     ]
    }
   ],
   "source": [
    "# Default parameter\n",
    "\n",
    "def say_hello(name='shashwat',emoji='*'):  # parameter\n",
    "    print(f'hello {name} {emoji}')\n",
    "\n",
    "say_hello()\n",
    "\n",
    "say_hello('pal','8')"
   ]
  },
  {
   "cell_type": "code",
   "execution_count": 63,
   "metadata": {},
   "outputs": [
    {
     "name": "stdout",
     "output_type": "stream",
     "text": [
      "None\n"
     ]
    }
   ],
   "source": [
    "#  Return\n",
    "\n",
    "def Sum(n1,n2):\n",
    "    n1+n2\n",
    "\n",
    "print(Sum(4,5))"
   ]
  },
  {
   "cell_type": "code",
   "execution_count": 64,
   "metadata": {},
   "outputs": [
    {
     "name": "stdout",
     "output_type": "stream",
     "text": [
      "9\n"
     ]
    }
   ],
   "source": [
    "def Sum(n1,n2):\n",
    "    return n1+n2\n",
    "\n",
    "print(Sum(4,5))"
   ]
  },
  {
   "cell_type": "code",
   "execution_count": 65,
   "metadata": {},
   "outputs": [
    {
     "name": "stdout",
     "output_type": "stream",
     "text": [
      "hi\n",
      "None\n"
     ]
    }
   ],
   "source": [
    "def Sum(n1,n2):\n",
    "    print('hi')\n",
    "    n1+n2\n",
    "    \n",
    "print(Sum(4,5))\n",
    "\n",
    "\n",
    "#should do one thing really well.\n",
    "#should return something\n"
   ]
  },
  {
   "cell_type": "code",
   "execution_count": 66,
   "metadata": {},
   "outputs": [
    {
     "data": {
      "text/plain": [
       "19"
      ]
     },
     "execution_count": 66,
     "metadata": {},
     "output_type": "execute_result"
    }
   ],
   "source": [
    "def Sum(n1,n2):\n",
    "    return n1+n2\n",
    "    \n",
    "total = Sum(4,5)\n",
    "total\n",
    "Sum(10,total)"
   ]
  },
  {
   "cell_type": "code",
   "execution_count": 67,
   "metadata": {},
   "outputs": [
    {
     "data": {
      "text/plain": [
       "9"
      ]
     },
     "execution_count": 67,
     "metadata": {},
     "output_type": "execute_result"
    }
   ],
   "source": [
    "def Sum(n1,n2):\n",
    "    def another_fun(a,b):\n",
    "        return a+b\n",
    "    return another_fun(n1,n2)\n",
    "    \n",
    "total = Sum(4,5)\n",
    "total\n"
   ]
  },
  {
   "cell_type": "code",
   "execution_count": 68,
   "metadata": {},
   "outputs": [],
   "source": [
    "# return exit the function\n",
    "\n",
    "#  Method vs Function\n",
    "\n",
    "# list()\n",
    "# print()\n",
    "# max()\n",
    "# min()\n",
    "# input()\n",
    "\n",
    "# def dome()\n",
    "\n",
    "# method is owned by object"
   ]
  },
  {
   "cell_type": "code",
   "execution_count": 69,
   "metadata": {},
   "outputs": [
    {
     "name": "stdout",
     "output_type": "stream",
     "text": [
      "!!!!!\n"
     ]
    }
   ],
   "source": [
    "#  docstring\n",
    "\n",
    "#  INside function any comment write under ''' \n",
    "\n",
    "#                                            '''\n",
    "\n",
    "\n",
    "def test(a):\n",
    "    '''\n",
    "    Info: this function test and prints param a\n",
    "    \n",
    "    '''\n",
    "    print(a)\n",
    "test('!!!!!')\n",
    "# test()\n"
   ]
  },
  {
   "cell_type": "code",
   "execution_count": 70,
   "metadata": {},
   "outputs": [
    {
     "data": {
      "text/plain": [
       "'\\n    Info: this function test and prints param a\\n    \\n    '"
      ]
     },
     "execution_count": 70,
     "metadata": {},
     "output_type": "execute_result"
    }
   ],
   "source": [
    "test.__doc__"
   ]
  },
  {
   "cell_type": "code",
   "execution_count": 71,
   "metadata": {},
   "outputs": [
    {
     "data": {
      "text/plain": [
       "False"
      ]
     },
     "execution_count": 71,
     "metadata": {},
     "output_type": "execute_result"
    }
   ],
   "source": [
    "# clean code\n",
    "\n",
    "\n",
    "def is_even(num):\n",
    "    if num%2==0:\n",
    "        return True\n",
    "    elif num%2 !=0:\n",
    "        return False\n",
    "is_even(5)"
   ]
  },
  {
   "cell_type": "code",
   "execution_count": 72,
   "metadata": {},
   "outputs": [
    {
     "data": {
      "text/plain": [
       "False"
      ]
     },
     "execution_count": 72,
     "metadata": {},
     "output_type": "execute_result"
    }
   ],
   "source": [
    "def is_even(num):\n",
    "    if num%2==0:\n",
    "        return True\n",
    "    else:\n",
    "        return False\n",
    "is_even(5)\n",
    "    "
   ]
  },
  {
   "cell_type": "code",
   "execution_count": 73,
   "metadata": {},
   "outputs": [
    {
     "data": {
      "text/plain": [
       "False"
      ]
     },
     "execution_count": 73,
     "metadata": {},
     "output_type": "execute_result"
    }
   ],
   "source": [
    "def is_even(num):\n",
    "    if num%2==0:\n",
    "        return True\n",
    "    return False\n",
    "\n",
    "is_even(5)    "
   ]
  },
  {
   "cell_type": "code",
   "execution_count": 74,
   "metadata": {},
   "outputs": [
    {
     "data": {
      "text/plain": [
       "False"
      ]
     },
     "execution_count": 74,
     "metadata": {},
     "output_type": "execute_result"
    }
   ],
   "source": [
    "def is_even(num):\n",
    "    return num % 2 == 0\n",
    "\n",
    "is_even(5)    "
   ]
  },
  {
   "cell_type": "code",
   "execution_count": 75,
   "metadata": {},
   "outputs": [
    {
     "name": "stdout",
     "output_type": "stream",
     "text": [
      "(1, 2, 3, 4, 5)\n"
     ]
    },
    {
     "data": {
      "text/plain": [
       "15"
      ]
     },
     "execution_count": 75,
     "metadata": {},
     "output_type": "execute_result"
    }
   ],
   "source": [
    "# argument and keyargs\n",
    "\n",
    "#  *args   **kwargs\n",
    " \n",
    "def super_func(*args):\n",
    "    print(args)\n",
    "    return sum(args)\n",
    "\n",
    "super_func(1,2,3,4,5)   # gives 15  bcoz sum function ia already created"
   ]
  },
  {
   "cell_type": "code",
   "execution_count": 78,
   "metadata": {},
   "outputs": [
    {
     "name": "stdout",
     "output_type": "stream",
     "text": [
      "{'num1': 5, 'num2': 10}\n"
     ]
    },
    {
     "ename": "TypeError",
     "evalue": "'bool' object is not iterable",
     "output_type": "error",
     "traceback": [
      "\u001b[1;31m---------------------------------------------------------------------------\u001b[0m",
      "\u001b[1;31mTypeError\u001b[0m                                 Traceback (most recent call last)",
      "\u001b[1;32mc:\\Users\\shash\\Documents\\GitHub\\Basic to master in Python\\revision.ipynb Cell 180'\u001b[0m in \u001b[0;36m<cell line: 5>\u001b[1;34m()\u001b[0m\n\u001b[0;32m      <a href='vscode-notebook-cell:/c%3A/Users/shash/Documents/GitHub/Basic%20to%20master%20in%20Python/revision.ipynb#ch0000179?line=1'>2</a>\u001b[0m     \u001b[39mprint\u001b[39m(kwargs)\n\u001b[0;32m      <a href='vscode-notebook-cell:/c%3A/Users/shash/Documents/GitHub/Basic%20to%20master%20in%20Python/revision.ipynb#ch0000179?line=2'>3</a>\u001b[0m     \u001b[39mreturn\u001b[39;00m \u001b[39msum\u001b[39m(args) \u001b[39m+\u001b[39m \u001b[39msum\u001b[39m(item \u001b[39min\u001b[39;00m kwargs\u001b[39m.\u001b[39mvalues())\n\u001b[1;32m----> <a href='vscode-notebook-cell:/c%3A/Users/shash/Documents/GitHub/Basic%20to%20master%20in%20Python/revision.ipynb#ch0000179?line=4'>5</a>\u001b[0m \u001b[39mprint\u001b[39m(super_func(\u001b[39m1\u001b[39;49m,\u001b[39m2\u001b[39;49m,\u001b[39m3\u001b[39;49m,\u001b[39m4\u001b[39;49m,\u001b[39m5\u001b[39;49m, num1\u001b[39m=\u001b[39;49m\u001b[39m5\u001b[39;49m,num2\u001b[39m=\u001b[39;49m\u001b[39m10\u001b[39;49m))\n",
      "\u001b[1;32mc:\\Users\\shash\\Documents\\GitHub\\Basic to master in Python\\revision.ipynb Cell 180'\u001b[0m in \u001b[0;36msuper_func\u001b[1;34m(*args, **kwargs)\u001b[0m\n\u001b[0;32m      <a href='vscode-notebook-cell:/c%3A/Users/shash/Documents/GitHub/Basic%20to%20master%20in%20Python/revision.ipynb#ch0000179?line=0'>1</a>\u001b[0m \u001b[39mdef\u001b[39;00m \u001b[39msuper_func\u001b[39m(\u001b[39m*\u001b[39margs,\u001b[39m*\u001b[39m\u001b[39m*\u001b[39mkwargs):\n\u001b[0;32m      <a href='vscode-notebook-cell:/c%3A/Users/shash/Documents/GitHub/Basic%20to%20master%20in%20Python/revision.ipynb#ch0000179?line=1'>2</a>\u001b[0m     \u001b[39mprint\u001b[39m(kwargs)\n\u001b[1;32m----> <a href='vscode-notebook-cell:/c%3A/Users/shash/Documents/GitHub/Basic%20to%20master%20in%20Python/revision.ipynb#ch0000179?line=2'>3</a>\u001b[0m     \u001b[39mreturn\u001b[39;00m \u001b[39msum\u001b[39m(args) \u001b[39m+\u001b[39m \u001b[39msum\u001b[39;49m(item \u001b[39min\u001b[39;49;00m kwargs\u001b[39m.\u001b[39;49mvalues())\n",
      "\u001b[1;31mTypeError\u001b[0m: 'bool' object is not iterable"
     ]
    }
   ],
   "source": [
    "def super_func(*args,**kwargs):\n",
    "    print(kwargs)\n",
    "    return sum(args) + sum(item in kwargs.values())\n",
    "\n",
    "print(super_func(1,2,3,4,5, num1=5,num2=10))\n",
    "\n",
    "#sum return to 15\n"
   ]
  },
  {
   "cell_type": "code",
   "execution_count": 79,
   "metadata": {},
   "outputs": [],
   "source": [
    "# ordering rule:\n",
    "\n",
    "#     params,\n",
    "#     *args,\n",
    "#     default parameters,\n",
    "#     **kwargs"
   ]
  },
  {
   "cell_type": "code",
   "execution_count": 80,
   "metadata": {},
   "outputs": [
    {
     "data": {
      "text/plain": [
       "14"
      ]
     },
     "execution_count": 80,
     "metadata": {},
     "output_type": "execute_result"
    }
   ],
   "source": [
    "def heighest_even(li):\n",
    "    evens=[]\n",
    "    for item in li:\n",
    "        if item % 2== 0:\n",
    "            evens.append(item)\n",
    "    return max(evens)\n",
    "\n",
    "heighest_even([10,2,3,4,5,6,7,8,11,12,14])"
   ]
  },
  {
   "cell_type": "code",
   "execution_count": 81,
   "metadata": {},
   "outputs": [
    {
     "name": "stdout",
     "output_type": "stream",
     "text": [
      "1\n",
      "5\n"
     ]
    }
   ],
   "source": [
    "# Scope -> what variable do I have access to ?\n",
    "\n",
    "a=1\n",
    "\n",
    "def confusion():\n",
    "    a=5\n",
    "    return a\n",
    "print(a)\n",
    "print(confusion())"
   ]
  },
  {
   "cell_type": "code",
   "execution_count": 82,
   "metadata": {},
   "outputs": [],
   "source": [
    "# 1 - start with local\n",
    "# 2 - Parent local?\n",
    "# 3 - Global\n",
    "# 4 - built in python functions\n",
    "# parameter is consider as local variable"
   ]
  },
  {
   "cell_type": "code",
   "execution_count": 83,
   "metadata": {},
   "outputs": [],
   "source": [
    "# oops"
   ]
  },
  {
   "cell_type": "code",
   "execution_count": 84,
   "metadata": {},
   "outputs": [
    {
     "name": "stdout",
     "output_type": "stream",
     "text": [
      "<__main__.BigObject object at 0x000001DB88CC0CA0>\n"
     ]
    },
    {
     "data": {
      "text/plain": [
       "__main__.BigObject"
      ]
     },
     "execution_count": 84,
     "metadata": {},
     "output_type": "execute_result"
    }
   ],
   "source": [
    "class BigObject:        # class\n",
    "    pass\n",
    "\n",
    "obj1 = BigObject()  # instantiate\n",
    "print(obj1)\n",
    "\n",
    "BigObject"
   ]
  },
  {
   "cell_type": "code",
   "execution_count": 86,
   "metadata": {},
   "outputs": [
    {
     "name": "stdout",
     "output_type": "stream",
     "text": [
      "<__main__.Playercharacter object at 0x000001DB87B9C700>\n",
      "shashwat\n",
      "22\n",
      "50\n",
      "pal\n",
      "Help on class list in module builtins:\n",
      "\n",
      "class list(object)\n",
      " |  list(iterable=(), /)\n",
      " |  \n",
      " |  Built-in mutable sequence.\n",
      " |  \n",
      " |  If no argument is given, the constructor creates a new empty list.\n",
      " |  The argument must be an iterable if specified.\n",
      " |  \n",
      " |  Methods defined here:\n",
      " |  \n",
      " |  __add__(self, value, /)\n",
      " |      Return self+value.\n",
      " |  \n",
      " |  __contains__(self, key, /)\n",
      " |      Return key in self.\n",
      " |  \n",
      " |  __delitem__(self, key, /)\n",
      " |      Delete self[key].\n",
      " |  \n",
      " |  __eq__(self, value, /)\n",
      " |      Return self==value.\n",
      " |  \n",
      " |  __ge__(self, value, /)\n",
      " |      Return self>=value.\n",
      " |  \n",
      " |  __getattribute__(self, name, /)\n",
      " |      Return getattr(self, name).\n",
      " |  \n",
      " |  __getitem__(...)\n",
      " |      x.__getitem__(y) <==> x[y]\n",
      " |  \n",
      " |  __gt__(self, value, /)\n",
      " |      Return self>value.\n",
      " |  \n",
      " |  __iadd__(self, value, /)\n",
      " |      Implement self+=value.\n",
      " |  \n",
      " |  __imul__(self, value, /)\n",
      " |      Implement self*=value.\n",
      " |  \n",
      " |  __init__(self, /, *args, **kwargs)\n",
      " |      Initialize self.  See help(type(self)) for accurate signature.\n",
      " |  \n",
      " |  __iter__(self, /)\n",
      " |      Implement iter(self).\n",
      " |  \n",
      " |  __le__(self, value, /)\n",
      " |      Return self<=value.\n",
      " |  \n",
      " |  __len__(self, /)\n",
      " |      Return len(self).\n",
      " |  \n",
      " |  __lt__(self, value, /)\n",
      " |      Return self<value.\n",
      " |  \n",
      " |  __mul__(self, value, /)\n",
      " |      Return self*value.\n",
      " |  \n",
      " |  __ne__(self, value, /)\n",
      " |      Return self!=value.\n",
      " |  \n",
      " |  __repr__(self, /)\n",
      " |      Return repr(self).\n",
      " |  \n",
      " |  __reversed__(self, /)\n",
      " |      Return a reverse iterator over the list.\n",
      " |  \n",
      " |  __rmul__(self, value, /)\n",
      " |      Return value*self.\n",
      " |  \n",
      " |  __setitem__(self, key, value, /)\n",
      " |      Set self[key] to value.\n",
      " |  \n",
      " |  __sizeof__(self, /)\n",
      " |      Return the size of the list in memory, in bytes.\n",
      " |  \n",
      " |  append(self, object, /)\n",
      " |      Append object to the end of the list.\n",
      " |  \n",
      " |  clear(self, /)\n",
      " |      Remove all items from list.\n",
      " |  \n",
      " |  copy(self, /)\n",
      " |      Return a shallow copy of the list.\n",
      " |  \n",
      " |  count(self, value, /)\n",
      " |      Return number of occurrences of value.\n",
      " |  \n",
      " |  extend(self, iterable, /)\n",
      " |      Extend list by appending elements from the iterable.\n",
      " |  \n",
      " |  index(self, value, start=0, stop=9223372036854775807, /)\n",
      " |      Return first index of value.\n",
      " |      \n",
      " |      Raises ValueError if the value is not present.\n",
      " |  \n",
      " |  insert(self, index, object, /)\n",
      " |      Insert object before index.\n",
      " |  \n",
      " |  pop(self, index=-1, /)\n",
      " |      Remove and return item at index (default last).\n",
      " |      \n",
      " |      Raises IndexError if list is empty or index is out of range.\n",
      " |  \n",
      " |  remove(self, value, /)\n",
      " |      Remove first occurrence of value.\n",
      " |      \n",
      " |      Raises ValueError if the value is not present.\n",
      " |  \n",
      " |  reverse(self, /)\n",
      " |      Reverse *IN PLACE*.\n",
      " |  \n",
      " |  sort(self, /, *, key=None, reverse=False)\n",
      " |      Sort the list in ascending order and return None.\n",
      " |      \n",
      " |      The sort is in-place (i.e. the list itself is modified) and stable (i.e. the\n",
      " |      order of two equal elements is maintained).\n",
      " |      \n",
      " |      If a key function is given, apply it once to each list item and sort them,\n",
      " |      ascending or descending, according to their function values.\n",
      " |      \n",
      " |      The reverse flag can be set to sort in descending order.\n",
      " |  \n",
      " |  ----------------------------------------------------------------------\n",
      " |  Class methods defined here:\n",
      " |  \n",
      " |  __class_getitem__(...) from builtins.type\n",
      " |      See PEP 585\n",
      " |  \n",
      " |  ----------------------------------------------------------------------\n",
      " |  Static methods defined here:\n",
      " |  \n",
      " |  __new__(*args, **kwargs) from builtins.type\n",
      " |      Create and return a new object.  See help(type) for accurate signature.\n",
      " |  \n",
      " |  ----------------------------------------------------------------------\n",
      " |  Data and other attributes defined here:\n",
      " |  \n",
      " |  __hash__ = None\n",
      "\n"
     ]
    }
   ],
   "source": [
    "class Playercharacter:\n",
    "    def __init__(self,name,age):\n",
    "        self.name=name    # attributes\n",
    "        self.age=age\n",
    "\n",
    "\n",
    "    def run(self):\n",
    "        print('run')\n",
    "\n",
    "player1=Playercharacter('shashwat',22)\n",
    "player2=Playercharacter('pal',23)\n",
    "\n",
    "print(player1)\n",
    "print(player1.name)\n",
    "print(player1.age)\n",
    "\n",
    "player2.attack=50\n",
    "\n",
    "print(player2.attack)\n",
    "\n",
    "print(player2.name)\n",
    "\n",
    "help(list)"
   ]
  },
  {
   "cell_type": "code",
   "execution_count": 88,
   "metadata": {},
   "outputs": [
    {
     "name": "stdout",
     "output_type": "stream",
     "text": [
      "<__main__.PlayerCharacter object at 0x000001DB87BABF40>\n",
      "pal\n",
      "True\n",
      "True\n",
      "run\n",
      "done\n",
      "None\n"
     ]
    }
   ],
   "source": [
    "# class object\n",
    "\n",
    "class PlayerCharacter:\n",
    "        #class object attributes\n",
    "        membership = True       #static\n",
    "        \n",
    "        def __init__(self,name,age):\n",
    "            self.name = name   #attributes\n",
    "            self.age = age\n",
    "            \n",
    "        def run(self):\n",
    "            print('run')\n",
    "            print('done')\n",
    "            \n",
    "player1 = PlayerCharacter('Shashwat', 23)\n",
    "player2 = PlayerCharacter('pal', 44)\n",
    "\n",
    "print(player2)\n",
    "print(player2.name)\n",
    "print(player2.membership)\n",
    "print(player1.membership)\n",
    "\n",
    "print(player2.run())"
   ]
  },
  {
   "cell_type": "code",
   "execution_count": 89,
   "metadata": {},
   "outputs": [
    {
     "name": "stdout",
     "output_type": "stream",
     "text": [
      "<__main__.PlayerCharacter object at 0x000001DB87BAB5E0>\n",
      "pal\n",
      "True\n",
      "True\n",
      "my name is Shashwat\n",
      "None\n",
      "my name is pal\n",
      "None\n"
     ]
    }
   ],
   "source": [
    "class PlayerCharacter:\n",
    "        #class object attributes\n",
    "        membership = True       #static\n",
    "        \n",
    "        def __init__(self,name,age):   # contructor function\n",
    "            if(PlayerCharacter.membership):\n",
    "                self.name = name   #attributes\n",
    "                self.age = age\n",
    "\n",
    "        def shout(self):\n",
    "            print(f'my name is {self.name}')\n",
    "            \n",
    "            \n",
    "player1 = PlayerCharacter('Shashwat', 23)\n",
    "player2 = PlayerCharacter('pal', 44)\n",
    "\n",
    "print(player2)\n",
    "print(player2.name)\n",
    "print(player2.membership)\n",
    "print(player1.membership)\n",
    "\n",
    "print(player1.shout())\n",
    "print(player2.shout())"
   ]
  },
  {
   "cell_type": "code",
   "execution_count": 93,
   "metadata": {},
   "outputs": [
    {
     "name": "stdout",
     "output_type": "stream",
     "text": [
      "my name is Shashwat\n",
      "None\n"
     ]
    },
    {
     "ename": "AttributeError",
     "evalue": "'PlayerCharacter' object has no attribute 'name'",
     "output_type": "error",
     "traceback": [
      "\u001b[1;31m---------------------------------------------------------------------------\u001b[0m",
      "\u001b[1;31mAttributeError\u001b[0m                            Traceback (most recent call last)",
      "\u001b[1;32mc:\\Users\\shash\\Documents\\GitHub\\Basic to master in Python\\revision.ipynb Cell 190'\u001b[0m in \u001b[0;36m<cell line: 18>\u001b[1;34m()\u001b[0m\n\u001b[0;32m     <a href='vscode-notebook-cell:/c%3A/Users/shash/Documents/GitHub/Basic%20to%20master%20in%20Python/revision.ipynb#ch0000189?line=14'>15</a>\u001b[0m player2 \u001b[39m=\u001b[39m PlayerCharacter(\u001b[39m'\u001b[39m\u001b[39mpal\u001b[39m\u001b[39m'\u001b[39m, \u001b[39m4\u001b[39m)\n\u001b[0;32m     <a href='vscode-notebook-cell:/c%3A/Users/shash/Documents/GitHub/Basic%20to%20master%20in%20Python/revision.ipynb#ch0000189?line=16'>17</a>\u001b[0m \u001b[39mprint\u001b[39m(player1\u001b[39m.\u001b[39mshout())\n\u001b[1;32m---> <a href='vscode-notebook-cell:/c%3A/Users/shash/Documents/GitHub/Basic%20to%20master%20in%20Python/revision.ipynb#ch0000189?line=17'>18</a>\u001b[0m \u001b[39mprint\u001b[39m(player2\u001b[39m.\u001b[39;49mshout())\n",
      "\u001b[1;32mc:\\Users\\shash\\Documents\\GitHub\\Basic to master in Python\\revision.ipynb Cell 190'\u001b[0m in \u001b[0;36mPlayerCharacter.shout\u001b[1;34m(self)\u001b[0m\n\u001b[0;32m     <a href='vscode-notebook-cell:/c%3A/Users/shash/Documents/GitHub/Basic%20to%20master%20in%20Python/revision.ipynb#ch0000189?line=9'>10</a>\u001b[0m \u001b[39mdef\u001b[39;00m \u001b[39mshout\u001b[39m(\u001b[39mself\u001b[39m):\n\u001b[1;32m---> <a href='vscode-notebook-cell:/c%3A/Users/shash/Documents/GitHub/Basic%20to%20master%20in%20Python/revision.ipynb#ch0000189?line=10'>11</a>\u001b[0m     \u001b[39mprint\u001b[39m(\u001b[39mf\u001b[39m\u001b[39m'\u001b[39m\u001b[39mmy name is \u001b[39m\u001b[39m{\u001b[39;00m\u001b[39mself\u001b[39m\u001b[39m.\u001b[39mname\u001b[39m}\u001b[39;00m\u001b[39m'\u001b[39m)\n",
      "\u001b[1;31mAttributeError\u001b[0m: 'PlayerCharacter' object has no attribute 'name'"
     ]
    }
   ],
   "source": [
    "class PlayerCharacter:\n",
    "        #class object attributes\n",
    "        membership = True       #static\n",
    "        \n",
    "        def __init__(self,name = 'anonymous',age = 0):   # contructor function\n",
    "            if(age>18):\n",
    "                self.name = name   #attributes\n",
    "                self.age = age\n",
    "\n",
    "        def shout(self):\n",
    "            print(f'my name is {self.name}')\n",
    "            \n",
    "            \n",
    "player1 = PlayerCharacter('Shashwat', 23)\n",
    "player2 = PlayerCharacter('pal', 4)\n",
    "\n",
    "print(player1.shout())\n",
    "print(player2.shout())"
   ]
  },
  {
   "cell_type": "code",
   "execution_count": 94,
   "metadata": {},
   "outputs": [
    {
     "name": "stdout",
     "output_type": "stream",
     "text": [
      "my name is Shashwat\n",
      "None\n",
      "5\n",
      "5\n"
     ]
    }
   ],
   "source": [
    "class PlayerCharacter:\n",
    "        #class object attributes\n",
    "        membership = True       #static\n",
    "        \n",
    "        def __init__(self,name = 'anonymous',age = 0):   # contructor function\n",
    "            if(age>18):\n",
    "                self.name = name   #attributes\n",
    "                self.age = age\n",
    "\n",
    "        def shout(self):\n",
    "            print(f'my name is {self.name}')\n",
    "        \n",
    "        @classmethod  #decorator  cls->class used as self\n",
    "        \n",
    "        def adding_things(cls,n1,n2):\n",
    "            return n1+n2\n",
    "            \n",
    "            \n",
    "player1 = PlayerCharacter('Shashwat', 23)\n",
    "\n",
    "\n",
    "print(player1.shout())\n",
    "\n",
    "\n",
    "print(player1.adding_things(2,3))\n",
    "\n",
    "print(PlayerCharacter.adding_things(2,3))"
   ]
  },
  {
   "cell_type": "code",
   "execution_count": 95,
   "metadata": {},
   "outputs": [
    {
     "name": "stdout",
     "output_type": "stream",
     "text": [
      "my name is Shashwat\n",
      "None\n",
      "<__main__.PlayerCharacter object at 0x000001DB87BD03A0>\n"
     ]
    },
    {
     "ename": "AttributeError",
     "evalue": "'PlayerCharacter' object has no attribute 'age'",
     "output_type": "error",
     "traceback": [
      "\u001b[1;31m---------------------------------------------------------------------------\u001b[0m",
      "\u001b[1;31mAttributeError\u001b[0m                            Traceback (most recent call last)",
      "\u001b[1;32mc:\\Users\\shash\\Documents\\GitHub\\Basic to master in Python\\revision.ipynb Cell 192'\u001b[0m in \u001b[0;36m<cell line: 29>\u001b[1;34m()\u001b[0m\n\u001b[0;32m     <a href='vscode-notebook-cell:/c%3A/Users/shash/Documents/GitHub/Basic%20to%20master%20in%20Python/revision.ipynb#ch0000191?line=24'>25</a>\u001b[0m \u001b[39mprint\u001b[39m(player1\u001b[39m.\u001b[39madding_things(\u001b[39m2\u001b[39m,\u001b[39m3\u001b[39m))\n\u001b[0;32m     <a href='vscode-notebook-cell:/c%3A/Users/shash/Documents/GitHub/Basic%20to%20master%20in%20Python/revision.ipynb#ch0000191?line=26'>27</a>\u001b[0m player3 \u001b[39m=\u001b[39m PlayerCharacter\u001b[39m.\u001b[39madding_things(\u001b[39m5\u001b[39m,\u001b[39m8\u001b[39m)\n\u001b[1;32m---> <a href='vscode-notebook-cell:/c%3A/Users/shash/Documents/GitHub/Basic%20to%20master%20in%20Python/revision.ipynb#ch0000191?line=28'>29</a>\u001b[0m \u001b[39mprint\u001b[39m(player3\u001b[39m.\u001b[39;49mage)\n",
      "\u001b[1;31mAttributeError\u001b[0m: 'PlayerCharacter' object has no attribute 'age'"
     ]
    }
   ],
   "source": [
    "class PlayerCharacter:\n",
    "        #class object attributes\n",
    "        membership = True       #static\n",
    "        \n",
    "        def __init__(self,name = 'anonymous',age = 0):   # contructor function\n",
    "            if(age>18):\n",
    "                self.name = name   #attributes\n",
    "                self.age = age\n",
    "\n",
    "        def shout(self):\n",
    "            print(f'my name is {self.name}')\n",
    "        \n",
    "        @classmethod  #decorator  cls->class used as self\n",
    "        \n",
    "        def adding_things(cls,n1,n2):\n",
    "            return cls('Arnav',n1+n2)\n",
    "            \n",
    "            \n",
    "player1 = PlayerCharacter('Shashwat', 23)\n",
    "\n",
    "\n",
    "print(player1.shout())\n",
    "\n",
    "\n",
    "print(player1.adding_things(2,3))\n",
    "\n",
    "player3 = PlayerCharacter.adding_things(5,8)\n",
    "\n",
    "print(player3.age)"
   ]
  },
  {
   "cell_type": "code",
   "execution_count": 96,
   "metadata": {},
   "outputs": [
    {
     "ename": "SyntaxError",
     "evalue": "invalid syntax (1159692686.py, line 2)",
     "output_type": "error",
     "traceback": [
      "\u001b[1;36m  Input \u001b[1;32mIn [96]\u001b[1;36m\u001b[0m\n\u001b[1;33m    class attribute = 'value'\u001b[0m\n\u001b[1;37m                    ^\u001b[0m\n\u001b[1;31mSyntaxError\u001b[0m\u001b[1;31m:\u001b[0m invalid syntax\n"
     ]
    }
   ],
   "source": [
    "class PlayerCharacter:\n",
    "       class attribute = 'value'\n",
    "        def __init__(self,name = 'anonymous',age = 0):   # contructor function\n",
    "           \n",
    "                self.param1 = param1\n",
    "                self.param2 = param2\n",
    "                \n",
    "        def method(self):\n",
    "            #code\n",
    "            \n",
    "        @classmethod  #decorator  cls->class used as self\n",
    "        \n",
    "        def cls_method(cls, param1, param2):\n",
    "            #code\n",
    "            \n",
    "        @staticmethos\n",
    "        \n",
    "        def stc_method(param1, param2):\n",
    "            #code\n",
    "            \n",
    "player1 = PlayerCharacter('Shashwat', 23)\n",
    "\n"
   ]
  },
  {
   "cell_type": "code",
   "execution_count": 97,
   "metadata": {},
   "outputs": [
    {
     "name": "stdout",
     "output_type": "stream",
     "text": [
      "my name is Shashwat, and I am 23 year old\n"
     ]
    }
   ],
   "source": [
    "#  1. Encapsulation\n",
    "\n",
    "class PlayerCharacter:\n",
    "    def __init__(self,name,age):\n",
    "        self.name = name\n",
    "        self.age = age\n",
    "        \n",
    "    def run(self):\n",
    "        print('run')\n",
    "        \n",
    "    def speak(self):\n",
    "        print(f'my name is {self.name}, and I am {self.age} year old')\n",
    "        \n",
    "player1 = PlayerCharacter('Shashwat', 23)\n",
    "player1.speak()"
   ]
  },
  {
   "cell_type": "code",
   "execution_count": 99,
   "metadata": {},
   "outputs": [
    {
     "name": "stdout",
     "output_type": "stream",
     "text": [
      "2\n",
      "5\n",
      "pal\n",
      "my name is Shashwat, and I am 23 year old\n",
      "None\n",
      "Shashwat\n"
     ]
    }
   ],
   "source": [
    "#  2. Abstraction\n",
    "\n",
    "class PlayerCharacter:\n",
    "    def __init__(self,name,age):\n",
    "        self._name = name       # _ is used for private\n",
    "        self._age = age\n",
    "        \n",
    "    def run(self):\n",
    "        print('run')\n",
    "        \n",
    "    def speak(self):\n",
    "        print(f'my name is {self._name}, and I am {self._age} year old')\n",
    "        \n",
    "player1 = PlayerCharacter('Shashwat', 23)\n",
    "player1.name='pal'\n",
    "\n",
    "print((1,2,3,4,1).count(1))\n",
    "print(len((1,2,3,4,5)))\n",
    "\n",
    "print(player1.name)\n",
    "print(player1.speak())\n",
    "print(player1._name)"
   ]
  },
  {
   "cell_type": "code",
   "execution_count": 100,
   "metadata": {},
   "outputs": [
    {
     "ename": "TypeError",
     "evalue": "__init__() missing 2 required positional arguments: 'name' and 'power'",
     "output_type": "error",
     "traceback": [
      "\u001b[1;31m---------------------------------------------------------------------------\u001b[0m",
      "\u001b[1;31mTypeError\u001b[0m                                 Traceback (most recent call last)",
      "\u001b[1;32mc:\\Users\\shash\\Documents\\GitHub\\Basic to master in Python\\revision.ipynb Cell 196'\u001b[0m in \u001b[0;36m<cell line: 24>\u001b[1;34m()\u001b[0m\n\u001b[0;32m     <a href='vscode-notebook-cell:/c%3A/Users/shash/Documents/GitHub/Basic%20to%20master%20in%20Python/revision.ipynb#ch0000195?line=19'>20</a>\u001b[0m     \u001b[39mdef\u001b[39;00m \u001b[39mattack\u001b[39m(\u001b[39mself\u001b[39m):\n\u001b[0;32m     <a href='vscode-notebook-cell:/c%3A/Users/shash/Documents/GitHub/Basic%20to%20master%20in%20Python/revision.ipynb#ch0000195?line=20'>21</a>\u001b[0m         \u001b[39mprint\u001b[39m(\u001b[39mf\u001b[39m\u001b[39m'\u001b[39m\u001b[39mattacking with arrows: arrows left - \u001b[39m\u001b[39m{\u001b[39;00m\u001b[39mself\u001b[39m\u001b[39m.\u001b[39mnum_arrows \u001b[39m}\u001b[39;00m\u001b[39m'\u001b[39m)\n\u001b[1;32m---> <a href='vscode-notebook-cell:/c%3A/Users/shash/Documents/GitHub/Basic%20to%20master%20in%20Python/revision.ipynb#ch0000195?line=23'>24</a>\u001b[0m wizard1 \u001b[39m=\u001b[39m Wizard()\n\u001b[0;32m     <a href='vscode-notebook-cell:/c%3A/Users/shash/Documents/GitHub/Basic%20to%20master%20in%20Python/revision.ipynb#ch0000195?line=24'>25</a>\u001b[0m \u001b[39mprint\u001b[39m(wizard1\u001b[39m.\u001b[39msign_in())\n",
      "\u001b[1;31mTypeError\u001b[0m: __init__() missing 2 required positional arguments: 'name' and 'power'"
     ]
    }
   ],
   "source": [
    "# 3. Inheritance\n",
    "\n",
    "class User:\n",
    "    def sign_in(self):\n",
    "        print('logged in')\n",
    "        \n",
    "class Wizard(User):\n",
    "    def __init__(self,name,power):\n",
    "        self.name = name\n",
    "        self.power = power\n",
    "        \n",
    "    def attack(self):\n",
    "        print(f'attacking with power of {self.power}')\n",
    "\n",
    "class Archer(User):\n",
    "    def __init__(self,name,num_arrows ):\n",
    "        self.name = name\n",
    "        self.num_arrows  = num_arrows \n",
    "        \n",
    "    def attack(self):\n",
    "        print(f'attacking with arrows: arrows left - {self.num_arrows }')\n",
    "\n",
    "\n",
    "wizard1 = Wizard()\n",
    "print(wizard1.sign_in())\n"
   ]
  },
  {
   "cell_type": "code",
   "execution_count": 101,
   "metadata": {},
   "outputs": [
    {
     "name": "stdout",
     "output_type": "stream",
     "text": [
      "attacking with power of 50\n",
      "attacking with arrows: arrows left - 100\n"
     ]
    }
   ],
   "source": [
    "# 3. Inheritance\n",
    "\n",
    "class User:\n",
    "    def sign_in(self):\n",
    "        print('logged in')\n",
    "        \n",
    "class Wizard(User):\n",
    "    def __init__(self,name,power):\n",
    "        self.name = name\n",
    "        self.power = power\n",
    "        \n",
    "    def attack(self):\n",
    "        print(f'attacking with power of {self.power}')\n",
    "\n",
    "class Archer(User):\n",
    "    def __init__(self,name,num_arrows ):\n",
    "        self.name = name\n",
    "        self.num_arrows  = num_arrows \n",
    "        \n",
    "    def attack(self):\n",
    "        print(f'attacking with arrows: arrows left - {self.num_arrows }')\n",
    "\n",
    "\n",
    "wizard1 = Wizard('Merlin', 50)\n",
    "archer1 = Archer('Robin', 100)\n",
    "wizard1.attack()\n",
    "archer1.attack()\n",
    "\n"
   ]
  },
  {
   "cell_type": "code",
   "execution_count": 102,
   "metadata": {},
   "outputs": [
    {
     "ename": "SyntaxError",
     "evalue": "invalid syntax (501789544.py, line 24)",
     "output_type": "error",
     "traceback": [
      "\u001b[1;36m  Input \u001b[1;32mIn [102]\u001b[1;36m\u001b[0m\n\u001b[1;33m    isinstance(instance,class)\u001b[0m\n\u001b[1;37m                        ^\u001b[0m\n\u001b[1;31mSyntaxError\u001b[0m\u001b[1;31m:\u001b[0m invalid syntax\n"
     ]
    }
   ],
   "source": [
    "# 3. Inheritance\n",
    "\n",
    "class User:\n",
    "    def sign_in(self):\n",
    "        print('logged in')\n",
    "        \n",
    "class Wizard(User):\n",
    "    def __init__(self,name,power):\n",
    "        self.name = name\n",
    "        self.power = power\n",
    "        \n",
    "    def attack(self):\n",
    "        print(f'attacking with power of {self.power}')\n",
    "\n",
    "class Archer(User):\n",
    "    def __init__(self,name,num_arrows ):\n",
    "        self.name = name\n",
    "        self.num_arrows  = num_arrows \n",
    "        \n",
    "    def attack(self):\n",
    "        print(f'attacking with arrows: arrows left - {self.num_arrows }')\n",
    "\n",
    "\n",
    "isinstance(instance,class)\n"
   ]
  },
  {
   "cell_type": "code",
   "execution_count": 103,
   "metadata": {},
   "outputs": [
    {
     "name": "stdout",
     "output_type": "stream",
     "text": [
      "True\n",
      "True\n"
     ]
    }
   ],
   "source": [
    "# 3. Inheritance\n",
    "\n",
    "class User:\n",
    "    def sign_in(self):\n",
    "        print('logged in')\n",
    "        \n",
    "class Wizard(User):\n",
    "    def __init__(self,name,power):\n",
    "        self.name = name\n",
    "        self.power = power\n",
    "        \n",
    "    def attack(self):\n",
    "        print(f'attacking with power of {self.power}')\n",
    "\n",
    "class Archer(User):\n",
    "    def __init__(self,name,num_arrows ):\n",
    "        self.name = name\n",
    "        self.num_arrows  = num_arrows \n",
    "        \n",
    "    def attack(self):\n",
    "        print(f'attacking with arrows: arrows left - {self.num_arrows }')\n",
    "\n",
    "wizard1 = Wizard(\"Merlin\",60)\n",
    "print(isinstance(wizard1,Wizard))\n",
    "\n",
    "print(isinstance(wizard1,User))\n"
   ]
  },
  {
   "cell_type": "code",
   "execution_count": 104,
   "metadata": {},
   "outputs": [
    {
     "name": "stdout",
     "output_type": "stream",
     "text": [
      "True\n"
     ]
    }
   ],
   "source": [
    "# 3. Inheritance\n",
    "\n",
    "class User:\n",
    "    def sign_in(self):\n",
    "        print('logged in')\n",
    "        \n",
    "class Wizard(User):\n",
    "    def __init__(self,name,power):\n",
    "        self.name = name\n",
    "        self.power = power\n",
    "        \n",
    "    def attack(self):\n",
    "        print(f'attacking with power of {self.power}')\n",
    "\n",
    "class Archer(User):\n",
    "    def __init__(self,name,num_arrows ):\n",
    "        self.name = name\n",
    "        self.num_arrows  = num_arrows \n",
    "        \n",
    "    def attack(self):\n",
    "        print(f'attacking with arrows: arrows left - {self.num_arrows }')\n",
    "\n",
    "wizard1 = Wizard(\"Merlin\",60)\n",
    "print(isinstance(wizard1, object))\n"
   ]
  },
  {
   "cell_type": "code",
   "execution_count": 105,
   "metadata": {},
   "outputs": [
    {
     "name": "stdout",
     "output_type": "stream",
     "text": [
      "True\n"
     ]
    }
   ],
   "source": [
    "# 3. Inheritance\n",
    "\n",
    "class User(object):\n",
    "    def sign_in(self):\n",
    "        print('logged in')\n",
    "        \n",
    "class Wizard(User):\n",
    "    def __init__(self,name,power):\n",
    "        self.name = name\n",
    "        self.power = power\n",
    "        \n",
    "    def attack(self):\n",
    "        print(f'attacking with power of {self.power}')\n",
    "\n",
    "class Archer(User):\n",
    "    def __init__(self,name,num_arrows ):\n",
    "        self.name = name\n",
    "        self.num_arrows  = num_arrows \n",
    "        \n",
    "    def attack(self):\n",
    "        print(f'attacking with arrows: arrows left - {self.num_arrows }')\n",
    "\n",
    "wizard1 = Wizard(\"Merlin\",60)\n",
    "print(isinstance(wizard1, object))\n"
   ]
  },
  {
   "cell_type": "code",
   "execution_count": 106,
   "metadata": {},
   "outputs": [
    {
     "name": "stdout",
     "output_type": "stream",
     "text": [
      "merlin@gmail.com\n"
     ]
    }
   ],
   "source": [
    "# 4. Polymorphism\n",
    "\n",
    "# super() without super\n",
    "\n",
    "class User(object):\n",
    "    def __init__(self, email):\n",
    "        self.email = email\n",
    "        \n",
    "    def sign_in(self):\n",
    "        print('logged in')\n",
    "        \n",
    "class Wizard(User):\n",
    "    def __init__(self, name, power, email):\n",
    "        User.__init__(self,email)\n",
    "        self.name = name\n",
    "        self.power = power\n",
    "\n",
    "class Archer(User):\n",
    "    def __init__(self,name,num_arrows ):\n",
    "        self.name = name\n",
    "        self.num_arrows  = num_arrows \n",
    "        \n",
    "    def attack(self):\n",
    "        print(f'attacking with arrows: arrows left - {self.num_arrows }')\n",
    "\n",
    "wizard1 = Wizard(\"Merlin\",60,'merlin@gmail.com')\n",
    "print(wizard1.email)"
   ]
  },
  {
   "cell_type": "code",
   "execution_count": 107,
   "metadata": {},
   "outputs": [
    {
     "name": "stdout",
     "output_type": "stream",
     "text": [
      "merlin@gmail.com\n"
     ]
    }
   ],
   "source": [
    "# super() other method\n",
    "\n",
    "class User(object):\n",
    "    def __init__(self, email):\n",
    "        self.email = email\n",
    "        \n",
    "    def sign_in(self):\n",
    "        print('logged in')\n",
    "        \n",
    "class Wizard(User):\n",
    "    def __init__(self, name, power, email):\n",
    "        super().__init__(email)\n",
    "        self.name = name\n",
    "        self.power = power\n",
    "\n",
    "class Archer(User):\n",
    "    def __init__(self,name,num_arrows ):\n",
    "        self.name = name\n",
    "        self.num_arrows  = num_arrows \n",
    "        \n",
    "    def attack(self):\n",
    "        print(f'attacking with arrows: arrows left - {self.num_arrows }')\n",
    "\n",
    "wizard1 = Wizard(\"Merlin\",60,'merlin@gmail.com')\n",
    "print(wizard1.email)"
   ]
  },
  {
   "cell_type": "code",
   "execution_count": 108,
   "metadata": {},
   "outputs": [
    {
     "name": "stdout",
     "output_type": "stream",
     "text": [
      "['__class__', '__delattr__', '__dict__', '__dir__', '__doc__', '__eq__', '__format__', '__ge__', '__getattribute__', '__gt__', '__hash__', '__init__', '__init_subclass__', '__le__', '__lt__', '__module__', '__ne__', '__new__', '__reduce__', '__reduce_ex__', '__repr__', '__setattr__', '__sizeof__', '__str__', '__subclasshook__', '__weakref__', 'email', 'name', 'power', 'sign_in']\n"
     ]
    }
   ],
   "source": [
    "#  Introspection\n",
    "\n",
    "#   '''In computer programming means the ability to determine the type of an object at runtime.\n",
    "\n",
    "print(dir(wizard1))"
   ]
  },
  {
   "cell_type": "code",
   "execution_count": 109,
   "metadata": {},
   "outputs": [
    {
     "name": "stdout",
     "output_type": "stream",
     "text": [
      "<__main__.Toy object at 0x000001DB87C1E760>\n",
      "<__main__.Toy object at 0x000001DB87C1E760>\n"
     ]
    }
   ],
   "source": [
    " # dunder method\n",
    "    \n",
    "class Toy():\n",
    "    def __init__(self,color,age):\n",
    "        self.color=color\n",
    "        self.age=age\n",
    "        \n",
    "action_figure = Toy('red',0)\n",
    "print(action_figure.__str__())\n",
    "\n",
    "#same as\n",
    "\n",
    "print(str(action_figure))"
   ]
  },
  {
   "cell_type": "code",
   "execution_count": 110,
   "metadata": {},
   "outputs": [
    {
     "name": "stdout",
     "output_type": "stream",
     "text": [
      "<__main__.Toy object at 0x000001DB87C0C580>\n",
      "<__main__.Toy object at 0x000001DB87C0C580>\n"
     ]
    }
   ],
   "source": [
    " # dunder method\n",
    "    \n",
    "class Toy():\n",
    "    def __init__(self,color,age):\n",
    "        self.color=color\n",
    "        self.age=age\n",
    "        \n",
    "        \n",
    "        def __str__(self):\n",
    "            return (f'{self.color}')\n",
    "        \n",
    "        \n",
    "action_figure = Toy('red',0)\n",
    "print(action_figure.__str__())\n",
    "\n",
    "#same as\n",
    "\n",
    "print(str(action_figure))\n",
    "\n",
    "# output should be red"
   ]
  },
  {
   "cell_type": "code",
   "execution_count": 111,
   "metadata": {},
   "outputs": [
    {
     "name": "stdout",
     "output_type": "stream",
     "text": [
      "<__main__.Toy object at 0x000001DB87BD0160>\n",
      "<__main__.Toy object at 0x000001DB87BD0160>\n"
     ]
    },
    {
     "ename": "TypeError",
     "evalue": "object of type 'Toy' has no len()",
     "output_type": "error",
     "traceback": [
      "\u001b[1;31m---------------------------------------------------------------------------\u001b[0m",
      "\u001b[1;31mTypeError\u001b[0m                                 Traceback (most recent call last)",
      "\u001b[1;32mc:\\Users\\shash\\Documents\\GitHub\\Basic to master in Python\\revision.ipynb Cell 207'\u001b[0m in \u001b[0;36m<cell line: 24>\u001b[1;34m()\u001b[0m\n\u001b[0;32m     <a href='vscode-notebook-cell:/c%3A/Users/shash/Documents/GitHub/Basic%20to%20master%20in%20Python/revision.ipynb#ch0000206?line=19'>20</a>\u001b[0m \u001b[39mprint\u001b[39m(\u001b[39mstr\u001b[39m(action_figure))\n\u001b[0;32m     <a href='vscode-notebook-cell:/c%3A/Users/shash/Documents/GitHub/Basic%20to%20master%20in%20Python/revision.ipynb#ch0000206?line=21'>22</a>\u001b[0m \u001b[39m# output should be red\u001b[39;00m\n\u001b[1;32m---> <a href='vscode-notebook-cell:/c%3A/Users/shash/Documents/GitHub/Basic%20to%20master%20in%20Python/revision.ipynb#ch0000206?line=23'>24</a>\u001b[0m \u001b[39mprint\u001b[39m(\u001b[39mlen\u001b[39;49m(action_figure))\n",
      "\u001b[1;31mTypeError\u001b[0m: object of type 'Toy' has no len()"
     ]
    }
   ],
   "source": [
    " # dunder method\n",
    "    \n",
    "class Toy():\n",
    "    def __init__(self,color,age):\n",
    "        self.color = color\n",
    "        self.age = age\n",
    "        \n",
    "        \n",
    "        def __str__(self):\n",
    "            return (f'{self.color}')\n",
    "        \n",
    "        def __len__(self):\n",
    "            return 5\n",
    "        \n",
    "action_figure = Toy('red',0)\n",
    "print(action_figure.__str__())\n",
    "\n",
    "#same as\n",
    "\n",
    "print(str(action_figure))\n",
    "\n",
    "# output should be red\n",
    "\n",
    "print(len(action_figure))"
   ]
  },
  {
   "cell_type": "code",
   "execution_count": 112,
   "metadata": {},
   "outputs": [
    {
     "name": "stdout",
     "output_type": "stream",
     "text": [
      "1\n",
      "[<class '__main__.D'>, <class '__main__.B'>, <class '__main__.C'>, <class '__main__.A'>, <class 'object'>]\n"
     ]
    }
   ],
   "source": [
    "# multiple inheritance\n",
    "\n",
    "#    MRO- Method Resolution Order\n",
    "\n",
    "class A:\n",
    "    num = 10\n",
    "    \n",
    "class B(A):\n",
    "    pass\n",
    "\n",
    "class C(A):\n",
    "    num = 1\n",
    "    \n",
    "class D(B,C):\n",
    "    pass\n",
    "\n",
    "print(D.num)\n",
    "\n",
    "print(D.mro())"
   ]
  },
  {
   "cell_type": "code",
   "execution_count": 113,
   "metadata": {},
   "outputs": [
    {
     "name": "stdout",
     "output_type": "stream",
     "text": [
      "[2, 4, 6, 8]\n"
     ]
    }
   ],
   "source": [
    "# functional programming\n",
    "\n",
    "def multi_by2(li):\n",
    "    new_list = []\n",
    "    for item in li:\n",
    "        new_list.append(item*2)\n",
    "    return new_list\n",
    "\n",
    "print(multi_by2([1,2,3,4]))"
   ]
  },
  {
   "cell_type": "code",
   "execution_count": 114,
   "metadata": {},
   "outputs": [
    {
     "name": "stdout",
     "output_type": "stream",
     "text": [
      "[2, 4, 6, 8]\n"
     ]
    }
   ],
   "source": [
    "# pure function\n",
    "\n",
    "#   map, filter, zip, reduce\n",
    "\n",
    "# map(action, [1,2,3])\n",
    "\n",
    "def multi_by2(item):\n",
    "    return item*2\n",
    "print(list(map(multi_by2,[1,2,3,4])))"
   ]
  },
  {
   "cell_type": "code",
   "execution_count": 115,
   "metadata": {},
   "outputs": [
    {
     "name": "stdout",
     "output_type": "stream",
     "text": [
      "[2, 4, 6]\n",
      "[1, 2, 3]\n"
     ]
    }
   ],
   "source": [
    "my_list = [1,2,3]\n",
    "def multi_by2(item):\n",
    "    return item*2\n",
    "print(list(map(multi_by2,my_list)))\n",
    "print(my_list)"
   ]
  },
  {
   "cell_type": "code",
   "execution_count": 116,
   "metadata": {},
   "outputs": [
    {
     "name": "stdout",
     "output_type": "stream",
     "text": [
      "[1, 3]\n",
      "[2, 4, 6]\n",
      "[1, 2, 3]\n"
     ]
    }
   ],
   "source": [
    "#  filter\n",
    "\n",
    "my_list = [1,2,3]\n",
    "\n",
    "def multi_by2(item):\n",
    "    return item*2\n",
    "\n",
    "def only_odd(item):\n",
    "    return item%2 != 0\n",
    "\n",
    "print(list(filter(only_odd,my_list)))\n",
    "\n",
    "print(list(map(multi_by2,my_list)))\n",
    "\n",
    "print(my_list)"
   ]
  },
  {
   "cell_type": "code",
   "execution_count": 117,
   "metadata": {},
   "outputs": [
    {
     "name": "stdout",
     "output_type": "stream",
     "text": [
      "[(1, 10), (2, 20), (3, 30)]\n",
      "[1, 3]\n",
      "[2, 4, 6]\n",
      "[1, 2, 3]\n"
     ]
    }
   ],
   "source": [
    "#  zip()\n",
    "\n",
    "my_list = [1,2,3]\n",
    "your_list = [10,20,30]\n",
    "\n",
    "def multi_by2(item):\n",
    "    return item*2\n",
    "\n",
    "def only_odd(item):\n",
    "    return item%2 != 0\n",
    "\n",
    "print(list(zip(my_list, your_list)))\n",
    "\n",
    "print(list(filter(only_odd,my_list)))\n",
    "\n",
    "print(list(map(multi_by2,my_list)))\n",
    "\n",
    "print(my_list)"
   ]
  },
  {
   "cell_type": "code",
   "execution_count": 118,
   "metadata": {},
   "outputs": [
    {
     "name": "stdout",
     "output_type": "stream",
     "text": [
      "[(1, 10), (2, 20), (3, 30)]\n",
      "[1, 3]\n",
      "[2, 4, 6]\n",
      "[1, 2, 3]\n"
     ]
    }
   ],
   "source": [
    "#  zip()\n",
    "\n",
    "my_list = [1,2,3]\n",
    "your_list = (10,20,30)\n",
    "\n",
    "def multi_by2(item):\n",
    "    return item*2\n",
    "\n",
    "def only_odd(item):\n",
    "    return item%2 != 0\n",
    "\n",
    "print(list(zip(my_list, your_list)))\n",
    "\n",
    "print(list(filter(only_odd,my_list)))\n",
    "\n",
    "print(list(map(multi_by2,my_list)))\n",
    "\n",
    "print(my_list)"
   ]
  },
  {
   "cell_type": "code",
   "execution_count": 119,
   "metadata": {},
   "outputs": [],
   "source": [
    "# reduced\n",
    "\n",
    "from functools import reduce"
   ]
  },
  {
   "cell_type": "code",
   "execution_count": 120,
   "metadata": {},
   "outputs": [
    {
     "name": "stdout",
     "output_type": "stream",
     "text": [
      "0 1\n",
      "1 2\n",
      "3 3\n",
      "6\n",
      "[1, 2, 3]\n"
     ]
    }
   ],
   "source": [
    "my_list = [1,2,3]\n",
    "\n",
    "def multi_by2(item):\n",
    "    return item*2\n",
    "\n",
    "def only_odd(item):\n",
    "    return item%2 != 0\n",
    "\n",
    "def accumulator(acc,item):\n",
    "    print(acc,item)\n",
    "    return acc + item\n",
    "\n",
    "print(reduce(accumulator,my_list,0))\n",
    "print(my_list)\n"
   ]
  },
  {
   "cell_type": "code",
   "execution_count": 121,
   "metadata": {},
   "outputs": [
    {
     "name": "stdout",
     "output_type": "stream",
     "text": [
      "[2, 4, 6]\n"
     ]
    }
   ],
   "source": [
    "# lambda expression\n",
    "\n",
    "#  lambda param:action(param)\n",
    "\n",
    "print(list(map(lambda item: item * 2, my_list)))"
   ]
  },
  {
   "cell_type": "code",
   "execution_count": 122,
   "metadata": {},
   "outputs": [
    {
     "name": "stdout",
     "output_type": "stream",
     "text": [
      "[25, 16, 9]\n"
     ]
    }
   ],
   "source": [
    "my_list = [5,4,3]\n",
    "\n",
    "print(list(map(lambda item: item**2, my_list)))"
   ]
  },
  {
   "cell_type": "code",
   "execution_count": 123,
   "metadata": {},
   "outputs": [
    {
     "data": {
      "text/plain": [
       "[(0, 2), (4, 3), (9, 9), (10, -1)]"
      ]
     },
     "execution_count": 123,
     "metadata": {},
     "output_type": "execute_result"
    }
   ],
   "source": [
    "# list sorting\n",
    "\n",
    "a = [(0,2),(4,3),(10,-1),(9,9)]\n",
    "\n",
    "sorted(a)"
   ]
  },
  {
   "cell_type": "code",
   "execution_count": 126,
   "metadata": {},
   "outputs": [
    {
     "name": "stdout",
     "output_type": "stream",
     "text": [
      "[(10, -1), (0, 2), (4, 3), (9, 9)]\n"
     ]
    }
   ],
   "source": [
    "a = [(0,2),(4,3),(10,-1),(9,9)]\n",
    "\n",
    "a.sort(key=lambda x:x[1])\n",
    "print(a)"
   ]
  },
  {
   "cell_type": "code",
   "execution_count": 127,
   "metadata": {},
   "outputs": [
    {
     "name": "stdout",
     "output_type": "stream",
     "text": [
      "[(0, 2), (4, 3), (9, 9), (10, -1)]\n"
     ]
    }
   ],
   "source": [
    "a.sort(key=lambda x:x[0])\n",
    "print(a)"
   ]
  },
  {
   "cell_type": "code",
   "execution_count": 128,
   "metadata": {},
   "outputs": [
    {
     "data": {
      "text/plain": [
       "['h', 'e', 'l', 'l', 'o']"
      ]
     },
     "execution_count": 128,
     "metadata": {},
     "output_type": "execute_result"
    }
   ],
   "source": [
    "# list, set, dic, comprehension\n",
    "\n",
    "my_list = [char for char in 'hello']\n",
    "\n",
    "my_list"
   ]
  },
  {
   "cell_type": "code",
   "execution_count": 129,
   "metadata": {},
   "outputs": [
    {
     "data": {
      "text/plain": [
       "[0, 1, 2, 3, 4, 5, 6, 7, 8, 9, 10]"
      ]
     },
     "execution_count": 129,
     "metadata": {},
     "output_type": "execute_result"
    }
   ],
   "source": [
    "my_list1 = [num for num in range(0,11)]\n",
    "my_list1"
   ]
  },
  {
   "cell_type": "code",
   "execution_count": 130,
   "metadata": {},
   "outputs": [
    {
     "data": {
      "text/plain": [
       "[0, 2, 4, 6, 8, 10, 12, 14, 16, 18, 20]"
      ]
     },
     "execution_count": 130,
     "metadata": {},
     "output_type": "execute_result"
    }
   ],
   "source": [
    "my_list2 = [num*2 for num in range(0,11)]\n",
    "my_list2"
   ]
  },
  {
   "cell_type": "code",
   "execution_count": 131,
   "metadata": {},
   "outputs": [
    {
     "data": {
      "text/plain": [
       "[0, 1, 4, 9, 16, 25, 36, 49, 64, 81, 100]"
      ]
     },
     "execution_count": 131,
     "metadata": {},
     "output_type": "execute_result"
    }
   ],
   "source": [
    "my_list3 = [num**2 for num in range(0,11)]\n",
    "my_list3"
   ]
  },
  {
   "cell_type": "code",
   "execution_count": 132,
   "metadata": {},
   "outputs": [
    {
     "data": {
      "text/plain": [
       "[0, 4, 16, 36, 64, 100]"
      ]
     },
     "execution_count": 132,
     "metadata": {},
     "output_type": "execute_result"
    }
   ],
   "source": [
    "my_list4 = [num**2 for num in range(0,11) if num%2==0]\n",
    "my_list4"
   ]
  },
  {
   "cell_type": "code",
   "execution_count": 133,
   "metadata": {},
   "outputs": [
    {
     "data": {
      "text/plain": [
       "{'a': 1, 'b': 4}"
      ]
     },
     "execution_count": 133,
     "metadata": {},
     "output_type": "execute_result"
    }
   ],
   "source": [
    "# # set comprihension\n",
    "\n",
    "# same as list only unique item\n",
    "\n",
    "# for dict\n",
    "\n",
    "sample_dict = {\n",
    "    'a': 1,\n",
    "    'b': 2\n",
    "}\n",
    "my_dict = {key : value**2 for key,value in sample_dict.items()}\n",
    "\n",
    "my_dict"
   ]
  },
  {
   "cell_type": "code",
   "execution_count": 134,
   "metadata": {},
   "outputs": [
    {
     "data": {
      "text/plain": [
       "{'b': 4}"
      ]
     },
     "execution_count": 134,
     "metadata": {},
     "output_type": "execute_result"
    }
   ],
   "source": [
    "# for dict\n",
    "\n",
    "sample_dict = {\n",
    "    'a': 1,\n",
    "    'b': 2\n",
    "}\n",
    "my_dict = {key : value**2 for key,value in sample_dict.items() if value % 2==0}\n",
    "\n",
    "my_dict"
   ]
  },
  {
   "cell_type": "code",
   "execution_count": 135,
   "metadata": {},
   "outputs": [
    {
     "data": {
      "text/plain": [
       "{1: 2, 2: 4, 3: 6}"
      ]
     },
     "execution_count": 135,
     "metadata": {},
     "output_type": "execute_result"
    }
   ],
   "source": [
    "my_dict1 ={num:num*2 for num in [1,2,3]}\n",
    "my_dict1"
   ]
  },
  {
   "cell_type": "code",
   "execution_count": 137,
   "metadata": {},
   "outputs": [
    {
     "data": {
      "text/plain": [
       "['b', 'n']"
      ]
     },
     "execution_count": 137,
     "metadata": {},
     "output_type": "execute_result"
    }
   ],
   "source": [
    "some_list = ['a','b','c','b','d','m','n','n']\n",
    "\n",
    "duplicates= []\n",
    "for value in some_list:\n",
    "    if some_list.count(value)>1:\n",
    "        if value not in duplicates:\n",
    "            duplicates.append(value)\n",
    "            \n",
    "duplicates"
   ]
  },
  {
   "cell_type": "code",
   "execution_count": 138,
   "metadata": {},
   "outputs": [
    {
     "data": {
      "text/plain": [
       "{'b', 'n'}"
      ]
     },
     "execution_count": 138,
     "metadata": {},
     "output_type": "execute_result"
    }
   ],
   "source": [
    "# with comprehension\n",
    "\n",
    "duplicates = set([x for x in some_list if some_list.count(x)>1])\n",
    "duplicates"
   ]
  },
  {
   "cell_type": "code",
   "execution_count": 139,
   "metadata": {},
   "outputs": [],
   "source": [
    "# decorators\n",
    "\n",
    "#    @classmethod\n",
    "#    @staticmethod\n",
    "\n",
    "# higher order function\n",
    "\n",
    "\n"
   ]
  },
  {
   "cell_type": "code",
   "execution_count": 140,
   "metadata": {},
   "outputs": [
    {
     "ename": "SyntaxError",
     "evalue": "invalid syntax (1442580111.py, line 15)",
     "output_type": "error",
     "traceback": [
      "\u001b[1;36m  Input \u001b[1;32mIn [140]\u001b[1;36m\u001b[0m\n\u001b[1;33m    def hooooo()\u001b[0m\n\u001b[1;37m                ^\u001b[0m\n\u001b[1;31mSyntaxError\u001b[0m\u001b[1;31m:\u001b[0m invalid syntax\n"
     ]
    }
   ],
   "source": [
    "#  Errors in python\n",
    " \n",
    "    #  print(1+'tr')\n",
    "    \n",
    "    # print(\"hello)\n",
    "    \n",
    "    \n",
    "# error Handling\n",
    "\n",
    "# typr error\n",
    "# attribute error etc\n",
    "\n",
    "def hoooooo():    # syntax error\n",
    "    \n",
    "    def hooooo()\n",
    "    \n",
    "    \n",
    "\n"
   ]
  },
  {
   "cell_type": "code",
   "execution_count": 141,
   "metadata": {},
   "outputs": [
    {
     "ename": "ZeroDivisionError",
     "evalue": "division by zero",
     "output_type": "error",
     "traceback": [
      "\u001b[1;31m---------------------------------------------------------------------------\u001b[0m",
      "\u001b[1;31mZeroDivisionError\u001b[0m                         Traceback (most recent call last)",
      "\u001b[1;32mc:\\Users\\shash\\Documents\\GitHub\\Basic to master in Python\\revision.ipynb Cell 234'\u001b[0m in \u001b[0;36m<cell line: 3>\u001b[1;34m()\u001b[0m\n\u001b[0;32m      <a href='vscode-notebook-cell:/c%3A/Users/shash/Documents/GitHub/Basic%20to%20master%20in%20Python/revision.ipynb#ch0000233?line=0'>1</a>\u001b[0m \u001b[39mdef\u001b[39;00m \u001b[39mhooo\u001b[39m(num):\n\u001b[0;32m      <a href='vscode-notebook-cell:/c%3A/Users/shash/Documents/GitHub/Basic%20to%20master%20in%20Python/revision.ipynb#ch0000233?line=1'>2</a>\u001b[0m     \u001b[39m5\u001b[39m\u001b[39m/\u001b[39mnum\n\u001b[1;32m----> <a href='vscode-notebook-cell:/c%3A/Users/shash/Documents/GitHub/Basic%20to%20master%20in%20Python/revision.ipynb#ch0000233?line=2'>3</a>\u001b[0m hooo(\u001b[39m0\u001b[39;49m)\n",
      "\u001b[1;32mc:\\Users\\shash\\Documents\\GitHub\\Basic to master in Python\\revision.ipynb Cell 234'\u001b[0m in \u001b[0;36mhooo\u001b[1;34m(num)\u001b[0m\n\u001b[0;32m      <a href='vscode-notebook-cell:/c%3A/Users/shash/Documents/GitHub/Basic%20to%20master%20in%20Python/revision.ipynb#ch0000233?line=0'>1</a>\u001b[0m \u001b[39mdef\u001b[39;00m \u001b[39mhooo\u001b[39m(num):\n\u001b[1;32m----> <a href='vscode-notebook-cell:/c%3A/Users/shash/Documents/GitHub/Basic%20to%20master%20in%20Python/revision.ipynb#ch0000233?line=1'>2</a>\u001b[0m     \u001b[39m5\u001b[39;49m\u001b[39m/\u001b[39;49mnum\n",
      "\u001b[1;31mZeroDivisionError\u001b[0m: division by zero"
     ]
    }
   ],
   "source": [
    "def hooo(num):\n",
    "    5/num\n",
    "hooo(0)"
   ]
  },
  {
   "cell_type": "code",
   "execution_count": 142,
   "metadata": {},
   "outputs": [
    {
     "name": "stdout",
     "output_type": "stream",
     "text": [
      "23\n"
     ]
    }
   ],
   "source": [
    "age = int(input('what is your age? '))\n",
    "          \n",
    "print(age)"
   ]
  },
  {
   "cell_type": "code",
   "execution_count": 145,
   "metadata": {},
   "outputs": [
    {
     "name": "stdout",
     "output_type": "stream",
     "text": [
      "plz enter a number\n"
     ]
    }
   ],
   "source": [
    "try:\n",
    "    age = int(input('what is your age? '))\n",
    "    print(age)\n",
    "except:\n",
    "    print('plz enter a number')"
   ]
  },
  {
   "cell_type": "code",
   "execution_count": 146,
   "metadata": {},
   "outputs": [
    {
     "name": "stdout",
     "output_type": "stream",
     "text": [
      "plz enter a number\n",
      "ohk,I'm finally done\n",
      "thnx\n",
      "ohk,I'm finally done\n"
     ]
    }
   ],
   "source": [
    "while True:\n",
    "    try:\n",
    "        age = int(input('what is your age? '))\n",
    "        10/age\n",
    "    except ValueError:\n",
    "        print('plz enter a number')\n",
    "    except ZeroDivisionError:\n",
    "        print('plz enter age higher than 0')\n",
    "    else:\n",
    "        print('thnx')\n",
    "        break\n",
    "    finally:\n",
    "        print('ohk,I\\'m finally done')"
   ]
  },
  {
   "cell_type": "code",
   "execution_count": 147,
   "metadata": {},
   "outputs": [
    {
     "name": "stdout",
     "output_type": "stream",
     "text": [
      "0\n",
      "thank you\n"
     ]
    }
   ],
   "source": [
    "while True: \n",
    "    try:\n",
    "        age = int(input('what is your age? '))\n",
    "        print(age)\n",
    "    except:\n",
    "        print('plz enter a number')\n",
    "    else:\n",
    "        print('thank you')\n",
    "        break"
   ]
  },
  {
   "cell_type": "code",
   "execution_count": 148,
   "metadata": {},
   "outputs": [
    {
     "name": "stdout",
     "output_type": "stream",
     "text": [
      "plz enter a number\n",
      "0\n",
      "thank you\n"
     ]
    }
   ],
   "source": [
    "while True: \n",
    "    try:\n",
    "        age = int(input('what is your age? '))\n",
    "        print(age)\n",
    "    except ValueError:\n",
    "        print('plz enter a number')\n",
    "    except ZeroDivisionError:\n",
    "        print('plz enter age higher than 0')\n",
    "    else:\n",
    "        print('thank you')\n",
    "        break\n",
    "    "
   ]
  },
  {
   "cell_type": "code",
   "execution_count": 149,
   "metadata": {},
   "outputs": [
    {
     "ename": "TypeError",
     "evalue": "can only concatenate str (not \"int\") to str",
     "output_type": "error",
     "traceback": [
      "\u001b[1;31m---------------------------------------------------------------------------\u001b[0m",
      "\u001b[1;31mTypeError\u001b[0m                                 Traceback (most recent call last)",
      "\u001b[1;32mc:\\Users\\shash\\Documents\\GitHub\\Basic to master in Python\\revision.ipynb Cell 240'\u001b[0m in \u001b[0;36m<cell line: 3>\u001b[1;34m()\u001b[0m\n\u001b[0;32m      <a href='vscode-notebook-cell:/c%3A/Users/shash/Documents/GitHub/Basic%20to%20master%20in%20Python/revision.ipynb#ch0000239?line=0'>1</a>\u001b[0m \u001b[39mdef\u001b[39;00m \u001b[39msumm\u001b[39m(n1,n2):\n\u001b[0;32m      <a href='vscode-notebook-cell:/c%3A/Users/shash/Documents/GitHub/Basic%20to%20master%20in%20Python/revision.ipynb#ch0000239?line=1'>2</a>\u001b[0m     \u001b[39mreturn\u001b[39;00m n1\u001b[39m+\u001b[39mn2\n\u001b[1;32m----> <a href='vscode-notebook-cell:/c%3A/Users/shash/Documents/GitHub/Basic%20to%20master%20in%20Python/revision.ipynb#ch0000239?line=2'>3</a>\u001b[0m \u001b[39mprint\u001b[39m(summ(\u001b[39m'\u001b[39;49m\u001b[39m1\u001b[39;49m\u001b[39m'\u001b[39;49m\u001b[39m+\u001b[39;49m\u001b[39m2\u001b[39;49m))\n",
      "\u001b[1;31mTypeError\u001b[0m: can only concatenate str (not \"int\") to str"
     ]
    }
   ],
   "source": [
    "def summ(n1,n2):\n",
    "    return n1+n2\n",
    "print(summ('1'+2))"
   ]
  },
  {
   "cell_type": "code",
   "execution_count": 150,
   "metadata": {},
   "outputs": [
    {
     "name": "stdout",
     "output_type": "stream",
     "text": [
      "something id wrong\n",
      "None\n"
     ]
    }
   ],
   "source": [
    "def summ(n1,n2):\n",
    "    try:\n",
    "        \n",
    "        return n1+n2\n",
    "    except:\n",
    "        print('something id wrong')\n",
    "print(summ('1',2))"
   ]
  },
  {
   "cell_type": "code",
   "execution_count": 151,
   "metadata": {},
   "outputs": [
    {
     "name": "stdout",
     "output_type": "stream",
     "text": [
      "3\n"
     ]
    }
   ],
   "source": [
    "def summ(n1,n2):\n",
    "    try:\n",
    "        \n",
    "        return n1+n2\n",
    "    except TypeError:\n",
    "        print('something id wrong')\n",
    "print(summ(1,2))"
   ]
  },
  {
   "cell_type": "code",
   "execution_count": 152,
   "metadata": {},
   "outputs": [
    {
     "ename": "TypeError",
     "evalue": "can only concatenate str (not \"TypeError\") to str",
     "output_type": "error",
     "traceback": [
      "\u001b[1;31m---------------------------------------------------------------------------\u001b[0m",
      "\u001b[1;31mTypeError\u001b[0m                                 Traceback (most recent call last)",
      "\u001b[1;32mc:\\Users\\shash\\Documents\\GitHub\\Basic to master in Python\\revision.ipynb Cell 243'\u001b[0m in \u001b[0;36msumm\u001b[1;34m(n1, n2)\u001b[0m\n\u001b[0;32m      <a href='vscode-notebook-cell:/c%3A/Users/shash/Documents/GitHub/Basic%20to%20master%20in%20Python/revision.ipynb#ch0000242?line=1'>2</a>\u001b[0m \u001b[39mtry\u001b[39;00m:\n\u001b[1;32m----> <a href='vscode-notebook-cell:/c%3A/Users/shash/Documents/GitHub/Basic%20to%20master%20in%20Python/revision.ipynb#ch0000242?line=3'>4</a>\u001b[0m     \u001b[39mreturn\u001b[39;00m n1\u001b[39m+\u001b[39;49mn2\n\u001b[0;32m      <a href='vscode-notebook-cell:/c%3A/Users/shash/Documents/GitHub/Basic%20to%20master%20in%20Python/revision.ipynb#ch0000242?line=4'>5</a>\u001b[0m \u001b[39mexcept\u001b[39;00m \u001b[39mTypeError\u001b[39;00m \u001b[39mas\u001b[39;00m err:\n",
      "\u001b[1;31mTypeError\u001b[0m: unsupported operand type(s) for +: 'int' and 'str'",
      "\nDuring handling of the above exception, another exception occurred:\n",
      "\u001b[1;31mTypeError\u001b[0m                                 Traceback (most recent call last)",
      "\u001b[1;32mc:\\Users\\shash\\Documents\\GitHub\\Basic to master in Python\\revision.ipynb Cell 243'\u001b[0m in \u001b[0;36m<cell line: 7>\u001b[1;34m()\u001b[0m\n\u001b[0;32m      <a href='vscode-notebook-cell:/c%3A/Users/shash/Documents/GitHub/Basic%20to%20master%20in%20Python/revision.ipynb#ch0000242?line=4'>5</a>\u001b[0m     \u001b[39mexcept\u001b[39;00m \u001b[39mTypeError\u001b[39;00m \u001b[39mas\u001b[39;00m err:\n\u001b[0;32m      <a href='vscode-notebook-cell:/c%3A/Users/shash/Documents/GitHub/Basic%20to%20master%20in%20Python/revision.ipynb#ch0000242?line=5'>6</a>\u001b[0m         \u001b[39mprint\u001b[39m(\u001b[39m'\u001b[39m\u001b[39msomething id wrong\u001b[39m\u001b[39m'\u001b[39m \u001b[39m+\u001b[39m err)\n\u001b[1;32m----> <a href='vscode-notebook-cell:/c%3A/Users/shash/Documents/GitHub/Basic%20to%20master%20in%20Python/revision.ipynb#ch0000242?line=6'>7</a>\u001b[0m \u001b[39mprint\u001b[39m(summ(\u001b[39m1\u001b[39;49m,\u001b[39m\"\u001b[39;49m\u001b[39m2\u001b[39;49m\u001b[39m\"\u001b[39;49m))\n",
      "\u001b[1;32mc:\\Users\\shash\\Documents\\GitHub\\Basic to master in Python\\revision.ipynb Cell 243'\u001b[0m in \u001b[0;36msumm\u001b[1;34m(n1, n2)\u001b[0m\n\u001b[0;32m      <a href='vscode-notebook-cell:/c%3A/Users/shash/Documents/GitHub/Basic%20to%20master%20in%20Python/revision.ipynb#ch0000242?line=3'>4</a>\u001b[0m     \u001b[39mreturn\u001b[39;00m n1\u001b[39m+\u001b[39mn2\n\u001b[0;32m      <a href='vscode-notebook-cell:/c%3A/Users/shash/Documents/GitHub/Basic%20to%20master%20in%20Python/revision.ipynb#ch0000242?line=4'>5</a>\u001b[0m \u001b[39mexcept\u001b[39;00m \u001b[39mTypeError\u001b[39;00m \u001b[39mas\u001b[39;00m err:\n\u001b[1;32m----> <a href='vscode-notebook-cell:/c%3A/Users/shash/Documents/GitHub/Basic%20to%20master%20in%20Python/revision.ipynb#ch0000242?line=5'>6</a>\u001b[0m     \u001b[39mprint\u001b[39m(\u001b[39m'\u001b[39;49m\u001b[39msomething id wrong\u001b[39;49m\u001b[39m'\u001b[39;49m \u001b[39m+\u001b[39;49m err)\n",
      "\u001b[1;31mTypeError\u001b[0m: can only concatenate str (not \"TypeError\") to str"
     ]
    }
   ],
   "source": [
    "def summ(n1,n2):\n",
    "    try:\n",
    "        \n",
    "        return n1+n2\n",
    "    except TypeError as err:\n",
    "        print('something id wrong' + err)\n",
    "print(summ(1,\"2\"))"
   ]
  },
  {
   "cell_type": "code",
   "execution_count": 153,
   "metadata": {},
   "outputs": [
    {
     "name": "stdout",
     "output_type": "stream",
     "text": [
      "plz enter num unsupported operand type(s) for +: 'int' and 'str'\n",
      "None\n"
     ]
    }
   ],
   "source": [
    "def summ(n1,n2):\n",
    "    try:\n",
    "        \n",
    "        return n1+n2\n",
    "    except TypeError as err:\n",
    "        print(f'plz enter num {err}')\n",
    "print(summ(1,\"2\"))"
   ]
  },
  {
   "cell_type": "code",
   "execution_count": 154,
   "metadata": {},
   "outputs": [
    {
     "name": "stdout",
     "output_type": "stream",
     "text": [
      "unsupported operand type(s) for +: 'int' and 'str'\n",
      "None\n"
     ]
    }
   ],
   "source": [
    "def summ(n1,n2):\n",
    "    try:\n",
    "        \n",
    "        return n1+n2\n",
    "    except TypeError as err:\n",
    "        print(err)\n",
    "print(summ(1,\"2\"))"
   ]
  },
  {
   "cell_type": "code",
   "execution_count": 155,
   "metadata": {},
   "outputs": [
    {
     "name": "stdout",
     "output_type": "stream",
     "text": [
      "division by zero\n",
      "None\n"
     ]
    }
   ],
   "source": [
    "def summ(n1,n2):\n",
    "    try:\n",
    "          return n1/n2\n",
    "    except (TypeError, ZeroDivisionError) as err:\n",
    "        print(err)\n",
    "print(summ(1,0))"
   ]
  },
  {
   "cell_type": "code",
   "execution_count": 156,
   "metadata": {},
   "outputs": [
    {
     "name": "stdout",
     "output_type": "stream",
     "text": [
      "unsupported operand type(s) for /: 'int' and 'str'\n",
      "None\n"
     ]
    }
   ],
   "source": [
    "def summ(n1,n2):\n",
    "    try:\n",
    "          return n1/n2\n",
    "    except (TypeError, ZeroDivisionError) as err:\n",
    "        print(err)\n",
    "print(summ(1,'2'))"
   ]
  },
  {
   "cell_type": "code",
   "execution_count": 157,
   "metadata": {},
   "outputs": [
    {
     "name": "stdout",
     "output_type": "stream",
     "text": [
      "[0, 1, 2, 3, 4]\n"
     ]
    }
   ],
   "source": [
    "# Generator\n",
    "\n",
    "# rang(100)\n",
    "# listrange(100)\n",
    "\n",
    "def make_list(num):\n",
    "    result = []\n",
    "    for i in range(num):\n",
    "        result.append(i*2)\n",
    "    return result\n",
    "my_list = make_list(100)\n",
    "print(list(range(5)))"
   ]
  },
  {
   "cell_type": "code",
   "execution_count": 158,
   "metadata": {},
   "outputs": [
    {
     "name": "stdout",
     "output_type": "stream",
     "text": [
      "0\n",
      "1\n",
      "2\n",
      "3\n",
      "4\n",
      "5\n",
      "6\n",
      "7\n",
      "8\n",
      "9\n"
     ]
    }
   ],
   "source": [
    "# iterate\n",
    "\n",
    "#generators\n",
    "\n",
    "def generator_function(num):\n",
    "    for i in range(num):\n",
    "        yield i\n",
    "\n",
    "for item in generator_function(10):\n",
    "    print(item)"
   ]
  },
  {
   "cell_type": "code",
   "execution_count": 159,
   "metadata": {},
   "outputs": [
    {
     "name": "stdout",
     "output_type": "stream",
     "text": [
      "0\n",
      "2\n",
      "4\n",
      "6\n",
      "8\n",
      "10\n",
      "12\n",
      "14\n",
      "16\n",
      "18\n"
     ]
    }
   ],
   "source": [
    "# iterate\n",
    "\n",
    "#generators\n",
    "\n",
    "def generator_function(num):\n",
    "    for i in range(num):\n",
    "        yield i*2\n",
    "\n",
    "for item in generator_function(10):\n",
    "    print(item)"
   ]
  },
  {
   "cell_type": "code",
   "execution_count": 160,
   "metadata": {},
   "outputs": [
    {
     "name": "stdout",
     "output_type": "stream",
     "text": [
      "2\n"
     ]
    }
   ],
   "source": [
    "# iterate\n",
    "\n",
    "#generators     yield is generator\n",
    "\n",
    "def generator_function(num):\n",
    "    for i in range(num):\n",
    "        yield i\n",
    "\n",
    "g = generator_function(10)\n",
    "next(g)\n",
    "next(g)\n",
    "print(next(g))"
   ]
  },
  {
   "cell_type": "code",
   "execution_count": 161,
   "metadata": {},
   "outputs": [
    {
     "ename": "StopIteration",
     "evalue": "",
     "output_type": "error",
     "traceback": [
      "\u001b[1;31m---------------------------------------------------------------------------\u001b[0m",
      "\u001b[1;31mStopIteration\u001b[0m                             Traceback (most recent call last)",
      "\u001b[1;32mc:\\Users\\shash\\Documents\\GitHub\\Basic to master in Python\\revision.ipynb Cell 252'\u001b[0m in \u001b[0;36m<cell line: 11>\u001b[1;34m()\u001b[0m\n\u001b[0;32m      <a href='vscode-notebook-cell:/c%3A/Users/shash/Documents/GitHub/Basic%20to%20master%20in%20Python/revision.ipynb#ch0000251?line=8'>9</a>\u001b[0m g \u001b[39m=\u001b[39m generator_function(\u001b[39m1\u001b[39m)\n\u001b[0;32m     <a href='vscode-notebook-cell:/c%3A/Users/shash/Documents/GitHub/Basic%20to%20master%20in%20Python/revision.ipynb#ch0000251?line=9'>10</a>\u001b[0m \u001b[39mnext\u001b[39m(g)\n\u001b[1;32m---> <a href='vscode-notebook-cell:/c%3A/Users/shash/Documents/GitHub/Basic%20to%20master%20in%20Python/revision.ipynb#ch0000251?line=10'>11</a>\u001b[0m \u001b[39mnext\u001b[39;49m(g)\n\u001b[0;32m     <a href='vscode-notebook-cell:/c%3A/Users/shash/Documents/GitHub/Basic%20to%20master%20in%20Python/revision.ipynb#ch0000251?line=11'>12</a>\u001b[0m \u001b[39mprint\u001b[39m(\u001b[39mnext\u001b[39m(g))\n",
      "\u001b[1;31mStopIteration\u001b[0m: "
     ]
    }
   ],
   "source": [
    "# iterate\n",
    "\n",
    "#generators     yield is generator\n",
    "\n",
    "def generator_function(num):\n",
    "    for i in range(num):\n",
    "        yield i\n",
    "\n",
    "g = generator_function(1)\n",
    "next(g)\n",
    "next(g)\n",
    "print(next(g))"
   ]
  },
  {
   "cell_type": "code",
   "execution_count": 162,
   "metadata": {},
   "outputs": [
    {
     "name": "stdout",
     "output_type": "stream",
     "text": [
      "> \u001b[1;32mc:\\users\\shash\\appdata\\local\\temp\\ipykernel_2868\\835736046.py\u001b[0m(15)\u001b[0;36madd\u001b[1;34m()\u001b[0m\n",
      "\n",
      "1\n",
      "5\n",
      "\n",
      "Documented commands (type help <topic>):\n",
      "========================================\n",
      "EOF    commands   enable    ll        pp       s                until \n",
      "a      condition  exit      longlist  psource  skip_hidden      up    \n",
      "alias  cont       h         n         q        skip_predicates  w     \n",
      "args   context    help      next      quit     source           whatis\n",
      "b      continue   ignore    p         r        step             where \n",
      "break  d          interact  pdef      restart  tbreak         \n",
      "bt     debug      j         pdoc      return   u              \n",
      "c      disable    jump      pfile     retval   unalias        \n",
      "cl     display    l         pinfo     run      undisplay      \n",
      "clear  down       list      pinfo2    rv       unt            \n",
      "\n",
      "Miscellaneous help topics:\n",
      "==========================\n",
      "exec  pdb\n",
      "\n"
     ]
    },
    {
     "ename": "BdbQuit",
     "evalue": "",
     "output_type": "error",
     "traceback": [
      "\u001b[1;31m---------------------------------------------------------------------------\u001b[0m",
      "\u001b[1;31mBdbQuit\u001b[0m                                   Traceback (most recent call last)",
      "\u001b[1;32mc:\\Users\\shash\\Documents\\GitHub\\Basic to master in Python\\revision.ipynb Cell 253'\u001b[0m in \u001b[0;36m<cell line: 17>\u001b[1;34m()\u001b[0m\n\u001b[0;32m     <a href='vscode-notebook-cell:/c%3A/Users/shash/Documents/GitHub/Basic%20to%20master%20in%20Python/revision.ipynb#ch0000252?line=13'>14</a>\u001b[0m     pdb\u001b[39m.\u001b[39mset_trace()   \u001b[39m# print(n1,n2)\u001b[39;00m\n\u001b[0;32m     <a href='vscode-notebook-cell:/c%3A/Users/shash/Documents/GitHub/Basic%20to%20master%20in%20Python/revision.ipynb#ch0000252?line=14'>15</a>\u001b[0m     \u001b[39mreturn\u001b[39;00m n1\u001b[39m+\u001b[39mn2\n\u001b[1;32m---> <a href='vscode-notebook-cell:/c%3A/Users/shash/Documents/GitHub/Basic%20to%20master%20in%20Python/revision.ipynb#ch0000252?line=16'>17</a>\u001b[0m add(\u001b[39m3\u001b[39;49m,\u001b[39m'\u001b[39;49m\u001b[39mhello\u001b[39;49m\u001b[39m'\u001b[39;49m)\n",
      "\u001b[1;32mc:\\Users\\shash\\Documents\\GitHub\\Basic to master in Python\\revision.ipynb Cell 253'\u001b[0m in \u001b[0;36madd\u001b[1;34m(n1, n2)\u001b[0m\n\u001b[0;32m     <a href='vscode-notebook-cell:/c%3A/Users/shash/Documents/GitHub/Basic%20to%20master%20in%20Python/revision.ipynb#ch0000252?line=12'>13</a>\u001b[0m \u001b[39mdef\u001b[39;00m \u001b[39madd\u001b[39m(n1,n2):\n\u001b[0;32m     <a href='vscode-notebook-cell:/c%3A/Users/shash/Documents/GitHub/Basic%20to%20master%20in%20Python/revision.ipynb#ch0000252?line=13'>14</a>\u001b[0m     pdb\u001b[39m.\u001b[39mset_trace()   \u001b[39m# print(n1,n2)\u001b[39;00m\n\u001b[1;32m---> <a href='vscode-notebook-cell:/c%3A/Users/shash/Documents/GitHub/Basic%20to%20master%20in%20Python/revision.ipynb#ch0000252?line=14'>15</a>\u001b[0m     \u001b[39mreturn\u001b[39;00m n1\u001b[39m+\u001b[39mn2\n",
      "\u001b[1;32mc:\\Users\\shash\\Documents\\GitHub\\Basic to master in Python\\revision.ipynb Cell 253'\u001b[0m in \u001b[0;36madd\u001b[1;34m(n1, n2)\u001b[0m\n\u001b[0;32m     <a href='vscode-notebook-cell:/c%3A/Users/shash/Documents/GitHub/Basic%20to%20master%20in%20Python/revision.ipynb#ch0000252?line=12'>13</a>\u001b[0m \u001b[39mdef\u001b[39;00m \u001b[39madd\u001b[39m(n1,n2):\n\u001b[0;32m     <a href='vscode-notebook-cell:/c%3A/Users/shash/Documents/GitHub/Basic%20to%20master%20in%20Python/revision.ipynb#ch0000252?line=13'>14</a>\u001b[0m     pdb\u001b[39m.\u001b[39mset_trace()   \u001b[39m# print(n1,n2)\u001b[39;00m\n\u001b[1;32m---> <a href='vscode-notebook-cell:/c%3A/Users/shash/Documents/GitHub/Basic%20to%20master%20in%20Python/revision.ipynb#ch0000252?line=14'>15</a>\u001b[0m     \u001b[39mreturn\u001b[39;00m n1\u001b[39m+\u001b[39mn2\n",
      "File \u001b[1;32m~\\AppData\\Local\\Programs\\Python\\Python39\\lib\\bdb.py:88\u001b[0m, in \u001b[0;36mBdb.trace_dispatch\u001b[1;34m(self, frame, event, arg)\u001b[0m\n\u001b[0;32m     <a href='file:///c%3A/Users/shash/AppData/Local/Programs/Python/Python39/lib/bdb.py?line=85'>86</a>\u001b[0m     \u001b[39mreturn\u001b[39;00m \u001b[39m# None\u001b[39;00m\n\u001b[0;32m     <a href='file:///c%3A/Users/shash/AppData/Local/Programs/Python/Python39/lib/bdb.py?line=86'>87</a>\u001b[0m \u001b[39mif\u001b[39;00m event \u001b[39m==\u001b[39m \u001b[39m'\u001b[39m\u001b[39mline\u001b[39m\u001b[39m'\u001b[39m:\n\u001b[1;32m---> <a href='file:///c%3A/Users/shash/AppData/Local/Programs/Python/Python39/lib/bdb.py?line=87'>88</a>\u001b[0m     \u001b[39mreturn\u001b[39;00m \u001b[39mself\u001b[39;49m\u001b[39m.\u001b[39;49mdispatch_line(frame)\n\u001b[0;32m     <a href='file:///c%3A/Users/shash/AppData/Local/Programs/Python/Python39/lib/bdb.py?line=88'>89</a>\u001b[0m \u001b[39mif\u001b[39;00m event \u001b[39m==\u001b[39m \u001b[39m'\u001b[39m\u001b[39mcall\u001b[39m\u001b[39m'\u001b[39m:\n\u001b[0;32m     <a href='file:///c%3A/Users/shash/AppData/Local/Programs/Python/Python39/lib/bdb.py?line=89'>90</a>\u001b[0m     \u001b[39mreturn\u001b[39;00m \u001b[39mself\u001b[39m\u001b[39m.\u001b[39mdispatch_call(frame, arg)\n",
      "File \u001b[1;32m~\\AppData\\Local\\Programs\\Python\\Python39\\lib\\bdb.py:113\u001b[0m, in \u001b[0;36mBdb.dispatch_line\u001b[1;34m(self, frame)\u001b[0m\n\u001b[0;32m    <a href='file:///c%3A/Users/shash/AppData/Local/Programs/Python/Python39/lib/bdb.py?line=110'>111</a>\u001b[0m \u001b[39mif\u001b[39;00m \u001b[39mself\u001b[39m\u001b[39m.\u001b[39mstop_here(frame) \u001b[39mor\u001b[39;00m \u001b[39mself\u001b[39m\u001b[39m.\u001b[39mbreak_here(frame):\n\u001b[0;32m    <a href='file:///c%3A/Users/shash/AppData/Local/Programs/Python/Python39/lib/bdb.py?line=111'>112</a>\u001b[0m     \u001b[39mself\u001b[39m\u001b[39m.\u001b[39muser_line(frame)\n\u001b[1;32m--> <a href='file:///c%3A/Users/shash/AppData/Local/Programs/Python/Python39/lib/bdb.py?line=112'>113</a>\u001b[0m     \u001b[39mif\u001b[39;00m \u001b[39mself\u001b[39m\u001b[39m.\u001b[39mquitting: \u001b[39mraise\u001b[39;00m BdbQuit\n\u001b[0;32m    <a href='file:///c%3A/Users/shash/AppData/Local/Programs/Python/Python39/lib/bdb.py?line=113'>114</a>\u001b[0m \u001b[39mreturn\u001b[39;00m \u001b[39mself\u001b[39m\u001b[39m.\u001b[39mtrace_dispatch\n",
      "\u001b[1;31mBdbQuit\u001b[0m: "
     ]
    }
   ],
   "source": [
    "# debugging\n",
    "\n",
    "#linting\n",
    "\n",
    "# ide / editor\n",
    "\n",
    "# read errors\n",
    "\n",
    "# PDP python debugger\n",
    "\n",
    "import pdb\n",
    "\n",
    "def add(n1,n2):\n",
    "    pdb.set_trace()   # print(n1,n2)\n",
    "    return n1+n2\n",
    "\n",
    "add(3,'hello')\n"
   ]
  },
  {
   "cell_type": "code",
   "execution_count": 163,
   "metadata": {},
   "outputs": [
    {
     "name": "stdout",
     "output_type": "stream",
     "text": [
      "True\n"
     ]
    }
   ],
   "source": [
    "#   regex\n",
    "\n",
    "\n",
    "import re\n",
    "\n",
    "\n",
    "string = 'search inside of this text plz !'\n",
    "\n",
    "print('search' in string)"
   ]
  },
  {
   "cell_type": "code",
   "execution_count": 164,
   "metadata": {},
   "outputs": [
    {
     "data": {
      "text/plain": [
       "(17, 21)"
      ]
     },
     "execution_count": 164,
     "metadata": {},
     "output_type": "execute_result"
    }
   ],
   "source": [
    "a = re.search('this',string)\n",
    "a.span()"
   ]
  },
  {
   "cell_type": "code",
   "execution_count": 165,
   "metadata": {},
   "outputs": [
    {
     "data": {
      "text/plain": [
       "17"
      ]
     },
     "execution_count": 165,
     "metadata": {},
     "output_type": "execute_result"
    }
   ],
   "source": [
    "a.start()"
   ]
  },
  {
   "cell_type": "code",
   "execution_count": 166,
   "metadata": {},
   "outputs": [
    {
     "data": {
      "text/plain": [
       "'this'"
      ]
     },
     "execution_count": 166,
     "metadata": {},
     "output_type": "execute_result"
    }
   ],
   "source": [
    "a.group()"
   ]
  },
  {
   "cell_type": "code",
   "execution_count": 167,
   "metadata": {},
   "outputs": [
    {
     "name": "stdout",
     "output_type": "stream",
     "text": [
      "None\n"
     ]
    }
   ],
   "source": [
    "pattern = re.compile('this')\n",
    "a=pattern.search(string)\n",
    "b = pattern.findall(string)\n",
    "c = pattern.fullmatch(string)\n",
    "d = pattern.match(string)\n",
    "\n",
    "print(d)"
   ]
  },
  {
   "cell_type": "code",
   "execution_count": 1,
   "metadata": {},
   "outputs": [
    {
     "name": "stdout",
     "output_type": "stream",
     "text": [
      "ABC\n",
      "ACB\n",
      "BAC\n",
      "BCA\n",
      "CBA\n",
      "CAB\n"
     ]
    }
   ],
   "source": [
    "# pemutation question\n",
    "\n",
    "#  a b c ab bc abc\n",
    "\n",
    "\n",
    "def permute(data, i, length): \n",
    "    if i==length: \n",
    "        print(''.join(data) )\n",
    "    else: \n",
    "        for j in range(i,length): \n",
    "            #swap\n",
    "            data[i], data[j] = data[j], data[i] \n",
    "            permute(data, i+1, length) \n",
    "            data[i], data[j] = data[j], data[i]  \n",
    "  \n",
    "\n",
    "string = \"ABC\"\n",
    "n = len(string) \n",
    "data = list(string) \n",
    "permute(data, 0, n)\n",
    "        "
   ]
  },
  {
   "cell_type": "code",
   "execution_count": 5,
   "metadata": {},
   "outputs": [
    {
     "name": "stdout",
     "output_type": "stream",
     "text": [
      "['A', 'AB', 'ABC', 'B', 'BC', 'C']\n"
     ]
    }
   ],
   "source": [
    "# possible combination\n",
    "def combination(s):\n",
    "    print(list(s[i:j+1] for i in range (len(s)) for j in range(i,len(s))))\n",
    "        \n",
    "s='ABC'\n",
    "combination(s)"
   ]
  },
  {
   "cell_type": "code",
   "execution_count": 8,
   "metadata": {},
   "outputs": [
    {
     "name": "stdout",
     "output_type": "stream",
     "text": [
      "['a', 'b', 'c', 'ab', 'bc', 'abc']\n"
     ]
    }
   ],
   "source": [
    "def allSubstrings(s):\n",
    "    length = len(s)\n",
    "    mylist = []\n",
    "    for i in range(1, length+1):\n",
    "        for j in range(length-i+1):\n",
    "            mylist.append(s[j:j+i])\n",
    "    return mylist\n",
    "s='abc'\n",
    "print(allSubstrings(s))"
   ]
  },
  {
   "cell_type": "code",
   "execution_count": 24,
   "metadata": {},
   "outputs": [
    {
     "name": "stdout",
     "output_type": "stream",
     "text": [
      "[2, 2, 5, 4, 0, 0, 0, 0, 0, 0]\n"
     ]
    }
   ],
   "source": [
    "#   2,0,2,5,0,0,4\n",
    "\n",
    "#   2,2,5,4,0,0,0\n",
    "\n",
    "#  O(n)\n",
    "\n",
    "def moveZeros_to_last(arr,n):\n",
    "    l=0\n",
    "    r=l+1\n",
    "    m=r+1\n",
    "    \n",
    "    while(m < n and (l<n-1 and r<n)):\n",
    "        if arr[l]==0 and arr[r]==0:\n",
    "            arr[l],arr[m]=arr[m],arr[l]\n",
    "            m+=1\n",
    "        elif arr[l]==0:\n",
    "            arr[l],arr[r]=arr[r],arr[l]\n",
    "            r+=1\n",
    "        else:\n",
    "            l+=1\n",
    "            r+=1\n",
    "    return arr\n",
    "            \n",
    "    \n",
    "\n",
    "\n",
    "arr=[2,0,2,5,0,0,0,0,0,4]\n",
    "n=len(arr)\n",
    "res= moveZeros_to_last(arr,n)\n",
    "print(res)\n",
    "\n"
   ]
  },
  {
   "cell_type": "code",
   "execution_count": 51,
   "metadata": {},
   "outputs": [
    {
     "name": "stdout",
     "output_type": "stream",
     "text": [
      "3 4 5 6 1 2 "
     ]
    }
   ],
   "source": [
    "# 1,2,3,4,5,6\n",
    "\n",
    "# k=2\n",
    "# 2,3,4,5,6,1\n",
    "# 3,4,5,6,1,2\n",
    "\n",
    "# def leftrotate(arr,k,n):\n",
    "#     arr[:] = arr[k:n]+arr[:k]\n",
    "#     return arr\n",
    "\n",
    "def leftrotate(arr,k,n):\n",
    "    mod = k % n\n",
    "    s = \"\"\n",
    " \n",
    "    # Prints the rotated array from start position\n",
    "    for i in range(n):\n",
    "        print(str(arr[(mod + i) % n]),end=\" \")\n",
    "    \n",
    "arr=[1,2,3,4,5,6]\n",
    "n=len(arr)\n",
    "k=2\n",
    "leftrotate(arr,k,n)"
   ]
  },
  {
   "cell_type": "code",
   "execution_count": 58,
   "metadata": {},
   "outputs": [
    {
     "name": "stdout",
     "output_type": "stream",
     "text": [
      "1 2 3 4 \n",
      "1 2 4 "
     ]
    }
   ],
   "source": [
    "# linkedlist Implementation\n",
    "\n",
    "class Node(object):\n",
    "    def __init__(self,data,next=None):\n",
    "        self.data = data\n",
    "        self.next = next\n",
    "        \n",
    "    # function to set data\n",
    "    def setData(self, data):\n",
    "        self.data = data\n",
    "        \n",
    "    # function to get data of a particular node\n",
    "    def getData(self):\n",
    "        return self.data\n",
    "    \n",
    "    # function to set next node\n",
    "    def setNext(self, next):\n",
    "        self.next = next\n",
    "        \n",
    "    # function to get the next node\n",
    "    def getNext(self):\n",
    "        return self.next\n",
    "    \n",
    "class LinkedList(object):\n",
    "    def __init__(self):\n",
    "        self.head = None\n",
    "        \n",
    "    def printLinkedList(self):\n",
    "        temp = self.head\n",
    "        while temp:\n",
    "            print(temp.data,end=\" \")\n",
    "            temp = temp.next\n",
    "            \n",
    "    def insertAtStart(Self,data):\n",
    "        newNode = Node(data)\n",
    "        newNode.next = self.head\n",
    "        self.head = newNode\n",
    "    \n",
    "    # deleting an item based on data(or key)\n",
    "    def delete(self, data):\n",
    "        temp = self.head\n",
    "        # if data/key is found in head node itself\n",
    "        if (temp.next is not None):\n",
    "            if(temp.data == data):\n",
    "                self.head = temp.next\n",
    "                temp = None\n",
    "                return\n",
    "            else:\n",
    "                #  else search all the nodes\n",
    "                while(temp.next != None):\n",
    "                    if(temp.data == data):\n",
    "                        break\n",
    "                    prev = temp          #save current node as previous so that we can go on to next node\n",
    "                    temp = temp.next\n",
    "                \n",
    "                # node not found\n",
    "                if temp == None:\n",
    "                    return\n",
    "                \n",
    "                prev.next = temp.next\n",
    "                return    \n",
    "    \n",
    "        \n",
    "if __name__ == '__main__':\n",
    "    List = LinkedList()\n",
    "    List.head = Node(1)                   # create the head node\n",
    "    node2 = Node(2)\n",
    "    List.head.setNext(node2)           # head node's next --> node2\n",
    "    node3 = Node(3)\n",
    "    node2.setNext(node3) \n",
    "    node4 = Node(4)\n",
    "    node3.setNext(node4)\n",
    "    List.printLinkedList()\n",
    "    print()\n",
    "    List.delete(3)\n",
    "    List.printLinkedList()"
   ]
  }
 ],
 "metadata": {
  "interpreter": {
   "hash": "cbc5014ed32a3511c99c810aecedbd8e5a5c878610fa20b4667810c497ccaeea"
  },
  "kernelspec": {
   "display_name": "Python 3.9.5 64-bit",
   "language": "python",
   "name": "python3"
  },
  "language_info": {
   "codemirror_mode": {
    "name": "ipython",
    "version": 3
   },
   "file_extension": ".py",
   "mimetype": "text/x-python",
   "name": "python",
   "nbconvert_exporter": "python",
   "pygments_lexer": "ipython3",
   "version": "3.9.5"
  },
  "orig_nbformat": 4
 },
 "nbformat": 4,
 "nbformat_minor": 2
}
