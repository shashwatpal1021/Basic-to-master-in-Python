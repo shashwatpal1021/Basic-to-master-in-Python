{
 "cells": [
  {
   "cell_type": "code",
   "execution_count": 1,
   "metadata": {},
   "outputs": [
    {
     "name": "stdout",
     "output_type": "stream",
     "text": [
      "hello\n"
     ]
    }
   ],
   "source": [
    "print(\"hello\")"
   ]
  },
  {
   "cell_type": "code",
   "execution_count": 2,
   "metadata": {},
   "outputs": [
    {
     "data": {
      "text/plain": [
       "'shashwat'"
      ]
     },
     "execution_count": 2,
     "metadata": {},
     "output_type": "execute_result"
    }
   ],
   "source": [
    "input(\"what is your name?\")"
   ]
  },
  {
   "cell_type": "code",
   "execution_count": 3,
   "metadata": {},
   "outputs": [],
   "source": [
    "name=input(\"what is your name? \")"
   ]
  },
  {
   "cell_type": "code",
   "execution_count": 4,
   "metadata": {},
   "outputs": [
    {
     "data": {
      "text/plain": [
       "'shashwat'"
      ]
     },
     "execution_count": 4,
     "metadata": {},
     "output_type": "execute_result"
    }
   ],
   "source": [
    "name\n"
   ]
  },
  {
   "cell_type": "code",
   "execution_count": 5,
   "metadata": {},
   "outputs": [
    {
     "data": {
      "text/plain": [
       "'\\n-> concatination of string\\n-> Specialized data types\\n-> modules\\n-> None -> nothing\\n\\nNumber -> int, float\\n'"
      ]
     },
     "execution_count": 5,
     "metadata": {},
     "output_type": "execute_result"
    }
   ],
   "source": [
    "'''\n",
    "-> concatination of string\n",
    "-> Specialized data types\n",
    "-> modules\n",
    "-> None -> nothing\n",
    "\n",
    "Number -> int, float\n",
    "'''"
   ]
  },
  {
   "cell_type": "code",
   "execution_count": 6,
   "metadata": {},
   "outputs": [
    {
     "ename": "ValueError",
     "evalue": "invalid literal for int() with base 10: ''",
     "output_type": "error",
     "traceback": [
      "\u001b[1;31m---------------------------------------------------------------------------\u001b[0m",
      "\u001b[1;31mValueError\u001b[0m                                Traceback (most recent call last)",
      "\u001b[1;32mc:\\Users\\shash\\Documents\\GitHub\\Basic to master in Python\\revision.ipynb Cell 6'\u001b[0m in \u001b[0;36m<cell line: 7>\u001b[1;34m()\u001b[0m\n\u001b[0;32m      <a href='vscode-notebook-cell:/c%3A/Users/shash/Documents/GitHub/Basic%20to%20master%20in%20Python/revision.ipynb#ch0000005?line=0'>1</a>\u001b[0m \u001b[39m'''\u001b[39;00m\n\u001b[0;32m      <a href='vscode-notebook-cell:/c%3A/Users/shash/Documents/GitHub/Basic%20to%20master%20in%20Python/revision.ipynb#ch0000005?line=1'>2</a>\u001b[0m \u001b[39m-> input() taking input as string\u001b[39;00m\n\u001b[0;32m      <a href='vscode-notebook-cell:/c%3A/Users/shash/Documents/GitHub/Basic%20to%20master%20in%20Python/revision.ipynb#ch0000005?line=2'>3</a>\u001b[0m \n\u001b[0;32m      <a href='vscode-notebook-cell:/c%3A/Users/shash/Documents/GitHub/Basic%20to%20master%20in%20Python/revision.ipynb#ch0000005?line=3'>4</a>\u001b[0m \u001b[39muse type conversion \u001b[39;00m\n\u001b[0;32m      <a href='vscode-notebook-cell:/c%3A/Users/shash/Documents/GitHub/Basic%20to%20master%20in%20Python/revision.ipynb#ch0000005?line=4'>5</a>\u001b[0m \u001b[39mex:- \u001b[39;00m\n\u001b[0;32m      <a href='vscode-notebook-cell:/c%3A/Users/shash/Documents/GitHub/Basic%20to%20master%20in%20Python/revision.ipynb#ch0000005?line=5'>6</a>\u001b[0m \u001b[39m'''\u001b[39;00m\n\u001b[1;32m----> <a href='vscode-notebook-cell:/c%3A/Users/shash/Documents/GitHub/Basic%20to%20master%20in%20Python/revision.ipynb#ch0000005?line=6'>7</a>\u001b[0m a\u001b[39m=\u001b[39m\u001b[39mint\u001b[39;49m(\u001b[39minput\u001b[39;49m())\n\u001b[0;32m      <a href='vscode-notebook-cell:/c%3A/Users/shash/Documents/GitHub/Basic%20to%20master%20in%20Python/revision.ipynb#ch0000005?line=7'>8</a>\u001b[0m a\n\u001b[0;32m      <a href='vscode-notebook-cell:/c%3A/Users/shash/Documents/GitHub/Basic%20to%20master%20in%20Python/revision.ipynb#ch0000005?line=8'>9</a>\u001b[0m \u001b[39mprint\u001b[39m(\u001b[39mtype\u001b[39m(a))\n",
      "\u001b[1;31mValueError\u001b[0m: invalid literal for int() with base 10: ''"
     ]
    }
   ],
   "source": [
    "'''\n",
    "-> input() taking input as string\n",
    "\n",
    "use type conversion \n",
    "ex:- \n",
    "'''\n",
    "a=int(input())\n",
    "a\n",
    "print(type(a))"
   ]
  },
  {
   "cell_type": "code",
   "execution_count": null,
   "metadata": {},
   "outputs": [
    {
     "name": "stdout",
     "output_type": "stream",
     "text": [
      "<class 'int'>\n",
      "<class 'int'>\n",
      "<class 'float'>\n",
      "<class 'int'>\n",
      "<class 'float'>\n",
      "<class 'float'>\n",
      "<class 'int'>\n",
      "4\n",
      "1\n",
      "1\n"
     ]
    }
   ],
   "source": [
    "print(type(6))\n",
    "print(type(2-4))\n",
    "print(type(2/4))\n",
    "print(type(0))\n",
    "\n",
    "print(type(20+4.3))\n",
    "print(type(3.2+4.3))\n",
    "\n",
    "print(type(2**2))\n",
    "print(2*2)\n",
    "print(5//4)\n",
    "print(5%4) "
   ]
  },
  {
   "cell_type": "code",
   "execution_count": null,
   "metadata": {},
   "outputs": [
    {
     "name": "stdout",
     "output_type": "stream",
     "text": [
      "3\n",
      "8\n",
      "32\n"
     ]
    }
   ],
   "source": [
    "'''math function'''\n",
    "\n",
    "print(round(3.4))\n",
    "\n",
    "'''Operator precedence'''\n",
    "\n",
    "print(20-3*4)\n",
    "\n",
    "'''\n",
    "order\n",
    "()\n",
    "**\n",
    "* /\n",
    "% //\n",
    "'''\n",
    "print((30-2)+2**2)"
   ]
  },
  {
   "cell_type": "code",
   "execution_count": null,
   "metadata": {},
   "outputs": [
    {
     "name": "stdout",
     "output_type": "stream",
     "text": [
      "0b101\n"
     ]
    }
   ],
   "source": [
    "'''complex'''\n",
    "\n",
    "print(bin(5)) #'''binary number of how they store'''"
   ]
  },
  {
   "cell_type": "code",
   "execution_count": null,
   "metadata": {},
   "outputs": [
    {
     "name": "stdout",
     "output_type": "stream",
     "text": [
      "5\n"
     ]
    }
   ],
   "source": [
    "print(int('0b101',2))"
   ]
  },
  {
   "cell_type": "code",
   "execution_count": null,
   "metadata": {},
   "outputs": [
    {
     "name": "stdout",
     "output_type": "stream",
     "text": [
      "190\n",
      "120\n"
     ]
    }
   ],
   "source": [
    "'''variable'''\n",
    "iq = 190 #snake_case   #STORE AND USE WHENEVER WE WANT aslo called name and binding value  \n",
    "print(iq)\n",
    "\n",
    "_user_iq =120\n",
    "print(_user_iq)\n",
    "\n",
    "# print = 190    #can't do this with keyword's\n",
    "# print(print)\n",
    "\n",
    "#snake_case\n",
    "#start with lowercase or underscore\n",
    "# letter, num, underscore\n",
    "# case sensitive\n",
    "# don't overwrite keywords."
   ]
  },
  {
   "cell_type": "code",
   "execution_count": null,
   "metadata": {},
   "outputs": [
    {
     "name": "stdout",
     "output_type": "stream",
     "text": [
      "47.5\n"
     ]
    }
   ],
   "source": [
    "iq =190\n",
    "user_age =iq/4\n",
    "a= user_age\n",
    "\n",
    "print(a)"
   ]
  },
  {
   "cell_type": "code",
   "execution_count": null,
   "metadata": {},
   "outputs": [
    {
     "name": "stdout",
     "output_type": "stream",
     "text": [
      "1\n",
      "2\n",
      "3\n"
     ]
    }
   ],
   "source": [
    "#constant\n",
    "PI =3.14\n",
    "\n",
    "a,b,c =1,2,3\n",
    "print(a)\n",
    "print(b)\n",
    "print(c)"
   ]
  },
  {
   "cell_type": "code",
   "execution_count": null,
   "metadata": {},
   "outputs": [],
   "source": [
    "iq =100  #statement\n",
    "user_age =iq/5  #expression"
   ]
  },
  {
   "cell_type": "code",
   "execution_count": null,
   "metadata": {},
   "outputs": [
    {
     "name": "stdout",
     "output_type": "stream",
     "text": [
      "9\n"
     ]
    }
   ],
   "source": [
    "# augmented assignment operator\n",
    "\n",
    "some_value =5\n",
    "# some_value =5+2\n",
    "\n",
    "some_value = some_value +2\n",
    "#or\n",
    "some_value += 2\n",
    "\n",
    "#  += , -=,  *= , /= , %= \n",
    "\n",
    "#short hand form\n",
    "print(some_value)"
   ]
  },
  {
   "cell_type": "code",
   "execution_count": null,
   "metadata": {},
   "outputs": [
    {
     "name": "stdout",
     "output_type": "stream",
     "text": [
      "hi\n",
      "\n",
      "wow\n",
      "o  o\n",
      "----\n",
      "\n",
      "shashwat pal\n"
     ]
    }
   ],
   "source": [
    "# str data type string a piece of text\n",
    "\n",
    "String = 'hi'\n",
    "\n",
    "print(String)\n",
    "type(String)\n",
    "\n",
    "user_name = \"shashwat\"\n",
    "passwaord = 'codeword'\n",
    "long_string = '''\n",
    "wow\n",
    "o  o\n",
    "----\n",
    "'''\n",
    "\n",
    "print(long_string)\n",
    "\n",
    "first_name ='shashwat'\n",
    "l_name = 'pal'\n",
    "\n",
    "full_name = first_name +' '+ l_name   #string concatenation\n",
    "print(full_name)"
   ]
  },
  {
   "cell_type": "code",
   "execution_count": null,
   "metadata": {},
   "outputs": [
    {
     "name": "stdout",
     "output_type": "stream",
     "text": [
      "100\n",
      "<class 'str'>\n",
      "<class 'int'>\n",
      "<class 'float'>\n"
     ]
    }
   ],
   "source": [
    "print(str(100))\n",
    "print(type(str(100)))\n",
    "\n",
    "print(type(int(100)))\n",
    "\n",
    "print(type(float(100)))"
   ]
  },
  {
   "cell_type": "code",
   "execution_count": null,
   "metadata": {},
   "outputs": [
    {
     "name": "stdout",
     "output_type": "stream",
     "text": [
      "<class 'int'>\n"
     ]
    }
   ],
   "source": [
    "# Type conversion\n",
    "\n",
    "a = str(100)\n",
    "b= int(a)\n",
    "c = type(b)\n",
    "\n",
    "print(c)"
   ]
  },
  {
   "cell_type": "code",
   "execution_count": null,
   "metadata": {},
   "outputs": [
    {
     "name": "stdout",
     "output_type": "stream",
     "text": [
      "It's \"kind of \"sunny\n",
      "\t It's \"kind of\" sunny \n",
      " hope you have a good day!\n"
     ]
    }
   ],
   "source": [
    "#  Escape sequence\n",
    "\n",
    "weather = \"It's sunny\"\n",
    "weather1 = 'It\\'s \\\"kind of \\\"sunny'\n",
    "print(weather1)\n",
    "\n",
    "# for \\ use \\\\ \n",
    "\n",
    "s= \"\\t It\\'s \\\"kind of\\\" sunny \\n hope you have a good day!\"\n",
    "print(s)"
   ]
  },
  {
   "cell_type": "code",
   "execution_count": null,
   "metadata": {},
   "outputs": [
    {
     "name": "stdout",
     "output_type": "stream",
     "text": [
      "Hi shashwat you are 23 year old\n",
      "Hi shashwat. you are 23 year old\n",
      "Hi shashwat. you are 23 year old\n",
      "Hi 23. you are shashwat year old\n",
      "Hi Arnav. you are 22 year old\n"
     ]
    }
   ],
   "source": [
    "# formatted string\n",
    "\n",
    "name = 'shashwat'\n",
    "age = 23\n",
    "print('Hi '+ name +' you are '+ str(age)+' year old')\n",
    "\n",
    "print(f'Hi {name}. you are {age} year old')  #new in python 3\n",
    "#  or\n",
    "\n",
    "print('Hi {}. you are {} year old'.format(name,age))\n",
    "\n",
    "print('Hi {}. you are {} year old'.format(age,name))\n",
    "\n",
    "print('Hi {name}. you are {age} year old'.format(name = 'Arnav',age ='22'))"
   ]
  },
  {
   "cell_type": "code",
   "execution_count": null,
   "metadata": {},
   "outputs": [
    {
     "name": "stdout",
     "output_type": "stream",
     "text": [
      "s\n",
      "s\n",
      "shas\n",
      "shashwat\n",
      "saha\n",
      "shas\n",
      "saha\n",
      "t\n",
      "tawhsahs\n",
      "twsh\n"
     ]
    }
   ],
   "source": [
    " # st is ordered sequence of character\n",
    "s = 'shashwat'\n",
    "print(s[0])       # [satrt : stop : stepover]  is called slicing\n",
    "print(s[3])\n",
    "print(s[0:4])\n",
    "print(s[0:])\n",
    "print(s[0:7:2])      \n",
    "print(s[:4])\n",
    "print(s[::2])\n",
    "print(s[-1])\n",
    "print(s[::-1])\n",
    "print(s[::-2])"
   ]
  },
  {
   "cell_type": "code",
   "execution_count": null,
   "metadata": {},
   "outputs": [
    {
     "name": "stdout",
     "output_type": "stream",
     "text": [
      "shashwat\n",
      "shashwat\n"
     ]
    }
   ],
   "source": [
    "#immutability\n",
    "\n",
    "s= 'shashwat'\n",
    "#s= 'pal'   it's posible\n",
    "print(s)\n",
    "#[2] = '3' #string is immutable so not possible\n",
    "print(s)\n",
    "\n",
    "# build in functions"
   ]
  },
  {
   "cell_type": "code",
   "execution_count": null,
   "metadata": {},
   "outputs": [
    {
     "name": "stdout",
     "output_type": "stream",
     "text": [
      "8\n",
      "8\n",
      "SHASHWAT\n",
      "Shashwat\n",
      "4\n",
      "shastwat\n",
      "shashwat\n"
     ]
    }
   ],
   "source": [
    "print(len('shashwat'))\n",
    "\n",
    "s= 'shashwat'\n",
    "print(len(s))\n",
    "\n",
    "#build in method  means only string have some extra functionality.\n",
    "#  .format() , .upper()\n",
    "\n",
    "print(s.upper())\n",
    "print(s.capitalize())\n",
    "print(s.find('hw'))   # find first occurance\n",
    "print(s.replace('hw','tw')) #its creat a new variable with value shashtwat\n",
    "print(s)"
   ]
  },
  {
   "cell_type": "code",
   "execution_count": null,
   "metadata": {},
   "outputs": [
    {
     "data": {
      "text/plain": [
       "False"
      ]
     },
     "execution_count": 1,
     "metadata": {},
     "output_type": "execute_result"
    }
   ],
   "source": [
    "name=\"shashwat\"\n",
    "is_cool=False\n",
    "\n",
    "is_cool=True\n",
    "\n",
    "bool(1)\n",
    "bool(0)\n",
    "\n",
    "bool('hello')\n",
    "bool('')"
   ]
  },
  {
   "cell_type": "code",
   "execution_count": null,
   "metadata": {},
   "outputs": [
    {
     "name": "stdout",
     "output_type": "stream",
     "text": [
      "year age is : 23\n"
     ]
    }
   ],
   "source": [
    "birth_year = input('what year were you born : ')\n",
    "age = 2022 - int(birth_year)\n",
    "print(f'year age is : {age}')"
   ]
  },
  {
   "cell_type": "code",
   "execution_count": null,
   "metadata": {},
   "outputs": [
    {
     "name": "stdout",
     "output_type": "stream",
     "text": [
      "shashwat, your password, ********, is 8 letter long\n"
     ]
    }
   ],
   "source": [
    "user_name=input('what is your name:')\n",
    "password =input('password ? ')\n",
    "passwaord_len=len(password)\n",
    "hidden_pwd='*'* passwaord_len\n",
    "\n",
    "print(f'{user_name}, your password, {hidden_pwd}, is {passwaord_len} letter long')"
   ]
  },
  {
   "cell_type": "code",
   "execution_count": null,
   "metadata": {},
   "outputs": [],
   "source": [
    "# list\n",
    "\n",
    "#  ordered sequence of object any type\n",
    "\n"
   ]
  },
  {
   "cell_type": "code",
   "execution_count": null,
   "metadata": {},
   "outputs": [
    {
     "name": "stdout",
     "output_type": "stream",
     "text": [
      "notebook\n",
      "sunglassess\n",
      "['notebook', 'sunglassess']\n"
     ]
    },
    {
     "data": {
      "text/plain": [
       "['notebook', 'sunglassess', 'toys', 'grapes']"
      ]
     },
     "execution_count": 13,
     "metadata": {},
     "output_type": "execute_result"
    }
   ],
   "source": [
    "li = [1,2,3,4,5]\n",
    "li2=['z','zb','d','e','s']\n",
    "li3=[1,'2',3,5,'d',True,6]\n",
    "\n",
    "# Data Structure\n",
    "\n",
    "amazon_cart = ['notebook','sunglassess','toys','grapes']\n",
    "\n",
    "print(amazon_cart[0])\n",
    "print(amazon_cart[1])\n",
    "print(amazon_cart[0:2])\n",
    "amazon_cart"
   ]
  },
  {
   "cell_type": "code",
   "execution_count": null,
   "metadata": {},
   "outputs": [
    {
     "data": {
      "text/plain": [
       "['gum', 'laptop', 'toys', 'grapes']"
      ]
     },
     "execution_count": 14,
     "metadata": {},
     "output_type": "execute_result"
    }
   ],
   "source": [
    "#  list are mutable\n",
    "\n",
    "amazon_cart[1]='laptop'\n",
    "amazon_cart\n",
    "amazon_cart[0:3]\n",
    "\n",
    "new_cart = amazon_cart[:]\n",
    "\n",
    "new_cart[0]='gum'\n",
    "\n",
    "new_cart"
   ]
  },
  {
   "cell_type": "code",
   "execution_count": null,
   "metadata": {},
   "outputs": [],
   "source": [
    "# Matrix"
   ]
  },
  {
   "cell_type": "code",
   "execution_count": null,
   "metadata": {},
   "outputs": [
    {
     "data": {
      "text/plain": [
       "2"
      ]
     },
     "execution_count": 16,
     "metadata": {},
     "output_type": "execute_result"
    }
   ],
   "source": [
    "matrix=[\n",
    "    [1,2,3],\n",
    "    [4,5,6],\n",
    "    [7,8,9]\n",
    "]\n",
    "\n",
    "matrix[0][1]"
   ]
  },
  {
   "cell_type": "code",
   "execution_count": null,
   "metadata": {},
   "outputs": [
    {
     "name": "stdout",
     "output_type": "stream",
     "text": [
      "None\n"
     ]
    },
    {
     "data": {
      "text/plain": [
       "[1, 2, 3, 4, 5, 6, 7, 8, 9, 100]"
      ]
     },
     "execution_count": 17,
     "metadata": {},
     "output_type": "execute_result"
    }
   ],
   "source": [
    "# build in method()\n",
    "\n",
    "# len is a function\n",
    "\n",
    "basket = [1,2,3,4,5,6,7,8,9]\n",
    "\n",
    "new_list = basket.append(100)\n",
    "\n",
    "print(new_list)\n",
    "\n",
    "basket\n",
    "\n"
   ]
  },
  {
   "cell_type": "code",
   "execution_count": null,
   "metadata": {},
   "outputs": [
    {
     "data": {
      "text/plain": [
       "[1, 2, 3, 4, 100, 5, 6, 7, 8, 9, 100]"
      ]
     },
     "execution_count": 18,
     "metadata": {},
     "output_type": "execute_result"
    }
   ],
   "source": [
    "# append change the value in place\n",
    " \n",
    "# insert\n",
    "\n",
    "basket.insert(4,100)\n",
    "basket "
   ]
  },
  {
   "cell_type": "code",
   "execution_count": null,
   "metadata": {},
   "outputs": [
    {
     "data": {
      "text/plain": [
       "[1, 2, 3, 4, 100, 5, 6, 7, 8, 9, 100, 11, 12, 13, 14]"
      ]
     },
     "execution_count": 19,
     "metadata": {},
     "output_type": "execute_result"
    }
   ],
   "source": [
    "new_one=[11,12,13,14]\n",
    "\n",
    "basket.extend(new_one)\n",
    "basket"
   ]
  },
  {
   "cell_type": "code",
   "execution_count": null,
   "metadata": {},
   "outputs": [
    {
     "data": {
      "text/plain": [
       "14"
      ]
     },
     "execution_count": 20,
     "metadata": {},
     "output_type": "execute_result"
    }
   ],
   "source": [
    "basket.pop()"
   ]
  },
  {
   "cell_type": "code",
   "execution_count": null,
   "metadata": {},
   "outputs": [
    {
     "data": {
      "text/plain": [
       "1"
      ]
     },
     "execution_count": 21,
     "metadata": {},
     "output_type": "execute_result"
    }
   ],
   "source": [
    "basket.pop(0)"
   ]
  },
  {
   "cell_type": "code",
   "execution_count": null,
   "metadata": {},
   "outputs": [
    {
     "data": {
      "text/plain": [
       "[2, 3, 100, 5, 6, 7, 8, 9, 100, 11, 12, 13]"
      ]
     },
     "execution_count": 22,
     "metadata": {},
     "output_type": "execute_result"
    }
   ],
   "source": [
    "basket.remove(4)  #removed from the list\n",
    "\n",
    "basket"
   ]
  },
  {
   "cell_type": "code",
   "execution_count": null,
   "metadata": {},
   "outputs": [],
   "source": [
    "basket.clear()"
   ]
  },
  {
   "cell_type": "code",
   "execution_count": null,
   "metadata": {},
   "outputs": [
    {
     "data": {
      "text/plain": [
       "[]"
      ]
     },
     "execution_count": 24,
     "metadata": {},
     "output_type": "execute_result"
    }
   ],
   "source": [
    "basket"
   ]
  },
  {
   "cell_type": "code",
   "execution_count": null,
   "metadata": {},
   "outputs": [
    {
     "data": {
      "text/plain": [
       "[1, 1, 1, 1, 1, 2, 3, 4, 5]"
      ]
     },
     "execution_count": 26,
     "metadata": {},
     "output_type": "execute_result"
    }
   ],
   "source": [
    "# insert\n",
    "\n",
    "basket.extend([1,1,1,1,1,2,3,4,5])\n",
    "basket"
   ]
  },
  {
   "cell_type": "code",
   "execution_count": null,
   "metadata": {},
   "outputs": [],
   "source": [
    "basket.remove(1)"
   ]
  },
  {
   "cell_type": "code",
   "execution_count": null,
   "metadata": {},
   "outputs": [
    {
     "data": {
      "text/plain": [
       "[1, 1, 1, 1, 2, 3, 4, 5]"
      ]
     },
     "execution_count": 28,
     "metadata": {},
     "output_type": "execute_result"
    }
   ],
   "source": [
    "basket  #remove only first occurence"
   ]
  },
  {
   "cell_type": "code",
   "execution_count": null,
   "metadata": {},
   "outputs": [
    {
     "data": {
      "text/plain": [
       "['a', 'b', 'c', 'd', 'e', 'd']"
      ]
     },
     "execution_count": 29,
     "metadata": {},
     "output_type": "execute_result"
    }
   ],
   "source": [
    "basket.clear()\n",
    "\n",
    "basket\n",
    "\n",
    "basket.extend(['a','b','c','d','e','d'])\n",
    "basket"
   ]
  },
  {
   "cell_type": "code",
   "execution_count": null,
   "metadata": {},
   "outputs": [
    {
     "data": {
      "text/plain": [
       "3"
      ]
     },
     "execution_count": 30,
     "metadata": {},
     "output_type": "execute_result"
    }
   ],
   "source": [
    "basket.index('d')"
   ]
  },
  {
   "cell_type": "code",
   "execution_count": null,
   "metadata": {},
   "outputs": [
    {
     "data": {
      "text/plain": [
       "True"
      ]
     },
     "execution_count": 31,
     "metadata": {},
     "output_type": "execute_result"
    }
   ],
   "source": [
    "'d' in basket"
   ]
  },
  {
   "cell_type": "code",
   "execution_count": null,
   "metadata": {},
   "outputs": [
    {
     "data": {
      "text/plain": [
       "False"
      ]
     },
     "execution_count": 32,
     "metadata": {},
     "output_type": "execute_result"
    }
   ],
   "source": [
    "'v' in basket"
   ]
  },
  {
   "cell_type": "code",
   "execution_count": null,
   "metadata": {},
   "outputs": [
    {
     "data": {
      "text/plain": [
       "2"
      ]
     },
     "execution_count": 33,
     "metadata": {},
     "output_type": "execute_result"
    }
   ],
   "source": [
    "basket.count('d')"
   ]
  },
  {
   "cell_type": "code",
   "execution_count": null,
   "metadata": {},
   "outputs": [],
   "source": [
    "basket.sort()"
   ]
  },
  {
   "cell_type": "code",
   "execution_count": null,
   "metadata": {},
   "outputs": [
    {
     "data": {
      "text/plain": [
       "['a', 'b', 'c', 'd', 'd', 'e']"
      ]
     },
     "execution_count": 35,
     "metadata": {},
     "output_type": "execute_result"
    }
   ],
   "source": [
    "basket"
   ]
  },
  {
   "cell_type": "code",
   "execution_count": null,
   "metadata": {},
   "outputs": [
    {
     "data": {
      "text/plain": [
       "['a', 'b', 'c', 'd', 'd', 'e']"
      ]
     },
     "execution_count": 36,
     "metadata": {},
     "output_type": "execute_result"
    }
   ],
   "source": [
    "sorted(basket)  #produce a new array"
   ]
  },
  {
   "cell_type": "code",
   "execution_count": null,
   "metadata": {},
   "outputs": [
    {
     "data": {
      "text/plain": [
       "['e', 'd', 'd', 'c', 'b', 'a']"
      ]
     },
     "execution_count": 37,
     "metadata": {},
     "output_type": "execute_result"
    }
   ],
   "source": [
    "basket.reverse()\n",
    "basket"
   ]
  },
  {
   "cell_type": "code",
   "execution_count": null,
   "metadata": {},
   "outputs": [
    {
     "data": {
      "text/plain": [
       "6"
      ]
     },
     "execution_count": 38,
     "metadata": {},
     "output_type": "execute_result"
    }
   ],
   "source": [
    "len(basket)"
   ]
  },
  {
   "cell_type": "code",
   "execution_count": null,
   "metadata": {},
   "outputs": [
    {
     "data": {
      "text/plain": [
       "['a', 'b', 'c', 'd', 'd', 'e']"
      ]
     },
     "execution_count": 39,
     "metadata": {},
     "output_type": "execute_result"
    }
   ],
   "source": [
    "basket[::-1]"
   ]
  },
  {
   "cell_type": "code",
   "execution_count": null,
   "metadata": {},
   "outputs": [
    {
     "data": {
      "text/plain": [
       "['e', 'd', 'd', 'c', 'b', 'a']"
      ]
     },
     "execution_count": 40,
     "metadata": {},
     "output_type": "execute_result"
    }
   ],
   "source": [
    "basket"
   ]
  },
  {
   "cell_type": "code",
   "execution_count": null,
   "metadata": {},
   "outputs": [
    {
     "data": {
      "text/plain": [
       "[1, 2, 3, 4, 5, 6, 7, 8, 9]"
      ]
     },
     "execution_count": 41,
     "metadata": {},
     "output_type": "execute_result"
    }
   ],
   "source": [
    "list(range(1,10))"
   ]
  },
  {
   "cell_type": "code",
   "execution_count": null,
   "metadata": {},
   "outputs": [
    {
     "data": {
      "text/plain": [
       "'hi @ my @ name @ is @ joj'"
      ]
     },
     "execution_count": 42,
     "metadata": {},
     "output_type": "execute_result"
    }
   ],
   "source": [
    "#  .join()\n",
    "\n",
    "sentence = \" @ \"\n",
    "\n",
    "new_s=sentence.join(['hi','my','name','is','joj'])\n",
    "new_s"
   ]
  },
  {
   "cell_type": "code",
   "execution_count": null,
   "metadata": {},
   "outputs": [
    {
     "data": {
      "text/plain": [
       "1"
      ]
     },
     "execution_count": 43,
     "metadata": {},
     "output_type": "execute_result"
    }
   ],
   "source": [
    "#  list unpacking\n",
    "\n",
    "a,b,c, *other,d = [1,2,3,4,5,6,7,9]\n",
    "\n",
    "a"
   ]
  },
  {
   "cell_type": "code",
   "execution_count": null,
   "metadata": {},
   "outputs": [
    {
     "data": {
      "text/plain": [
       "2"
      ]
     },
     "execution_count": 44,
     "metadata": {},
     "output_type": "execute_result"
    }
   ],
   "source": [
    "b"
   ]
  },
  {
   "cell_type": "code",
   "execution_count": null,
   "metadata": {},
   "outputs": [
    {
     "data": {
      "text/plain": [
       "3"
      ]
     },
     "execution_count": 45,
     "metadata": {},
     "output_type": "execute_result"
    }
   ],
   "source": [
    "c"
   ]
  },
  {
   "cell_type": "code",
   "execution_count": null,
   "metadata": {},
   "outputs": [
    {
     "data": {
      "text/plain": [
       "[4, 5, 6, 7]"
      ]
     },
     "execution_count": 46,
     "metadata": {},
     "output_type": "execute_result"
    }
   ],
   "source": [
    "other"
   ]
  },
  {
   "cell_type": "code",
   "execution_count": null,
   "metadata": {},
   "outputs": [
    {
     "data": {
      "text/plain": [
       "9"
      ]
     },
     "execution_count": 47,
     "metadata": {},
     "output_type": "execute_result"
    }
   ],
   "source": [
    "d"
   ]
  },
  {
   "cell_type": "code",
   "execution_count": null,
   "metadata": {},
   "outputs": [
    {
     "name": "stdout",
     "output_type": "stream",
     "text": [
      "None\n"
     ]
    }
   ],
   "source": [
    "#  None\n",
    "\n",
    "weapons = None\n",
    "\n",
    "print(weapons)"
   ]
  },
  {
   "cell_type": "code",
   "execution_count": null,
   "metadata": {},
   "outputs": [
    {
     "data": {
      "text/plain": [
       "2"
      ]
     },
     "execution_count": 49,
     "metadata": {},
     "output_type": "execute_result"
    }
   ],
   "source": [
    "dictionary ={\n",
    "    'a':1,\n",
    "    'b':2\n",
    "}\n",
    "\n",
    "dictionary['b']"
   ]
  },
  {
   "cell_type": "code",
   "execution_count": null,
   "metadata": {},
   "outputs": [],
   "source": [
    "#  dict is sonorder means that \n",
    "\n",
    "# they are not right next to each other in memory\n"
   ]
  },
  {
   "cell_type": "code",
   "execution_count": null,
   "metadata": {},
   "outputs": [],
   "source": [
    "\n",
    "dictionary.clear()"
   ]
  },
  {
   "cell_type": "code",
   "execution_count": null,
   "metadata": {},
   "outputs": [
    {
     "data": {
      "text/plain": [
       "{}"
      ]
     },
     "execution_count": 52,
     "metadata": {},
     "output_type": "execute_result"
    }
   ],
   "source": [
    "dictionary"
   ]
  },
  {
   "cell_type": "code",
   "execution_count": null,
   "metadata": {},
   "outputs": [
    {
     "data": {
      "text/plain": [
       "{'a': [1, 2, 3], 'b': 'hello', 'x': True}"
      ]
     },
     "execution_count": 55,
     "metadata": {},
     "output_type": "execute_result"
    }
   ],
   "source": [
    "dictioanry = [{\n",
    "    'a':[1,2,3],\n",
    "    'b':'hello',\n",
    "    'x': True\n",
    "},{\n",
    "    'a':[4,5,6],\n",
    "    'b':'hello',\n",
    "    'x': False\n",
    "}]\n",
    "\n",
    "dictionary[0]\n",
    "    "
   ]
  },
  {
   "cell_type": "code",
   "execution_count": null,
   "metadata": {},
   "outputs": [
    {
     "name": "stdout",
     "output_type": "stream",
     "text": [
      "2\n"
     ]
    }
   ],
   "source": [
    "print(dictionary[0]['a'][1])"
   ]
  },
  {
   "cell_type": "code",
   "execution_count": null,
   "metadata": {},
   "outputs": [],
   "source": [
    "#  key is a immutable"
   ]
  },
  {
   "cell_type": "code",
   "execution_count": null,
   "metadata": {},
   "outputs": [
    {
     "data": {
      "text/plain": [
       "20"
      ]
     },
     "execution_count": 58,
     "metadata": {},
     "output_type": "execute_result"
    }
   ],
   "source": [
    "user = {\n",
    "    'basket':[1,2,3],\n",
    "    'greet':'hello',\n",
    "    'age':20\n",
    "}\n",
    "\n",
    "user.get('age')"
   ]
  },
  {
   "cell_type": "code",
   "execution_count": null,
   "metadata": {},
   "outputs": [
    {
     "data": {
      "text/plain": [
       "{'basket': [1, 2, 3], 'greet': 'hello', 'age': 20}"
      ]
     },
     "execution_count": 59,
     "metadata": {},
     "output_type": "execute_result"
    }
   ],
   "source": [
    "user.get('age',55)  # avoid error\n",
    "user"
   ]
  },
  {
   "cell_type": "code",
   "execution_count": null,
   "metadata": {},
   "outputs": [
    {
     "data": {
      "text/plain": [
       "{'name': 'shashwat'}"
      ]
     },
     "execution_count": 60,
     "metadata": {},
     "output_type": "execute_result"
    }
   ],
   "source": [
    "user2=dict(name='shashwat')\n",
    "user2"
   ]
  },
  {
   "cell_type": "code",
   "execution_count": null,
   "metadata": {},
   "outputs": [
    {
     "data": {
      "text/plain": [
       "True"
      ]
     },
     "execution_count": 61,
     "metadata": {},
     "output_type": "execute_result"
    }
   ],
   "source": [
    "'basket' in user"
   ]
  },
  {
   "cell_type": "code",
   "execution_count": null,
   "metadata": {},
   "outputs": [
    {
     "data": {
      "text/plain": [
       "False"
      ]
     },
     "execution_count": 62,
     "metadata": {},
     "output_type": "execute_result"
    }
   ],
   "source": [
    "'size' in user"
   ]
  },
  {
   "cell_type": "code",
   "execution_count": null,
   "metadata": {},
   "outputs": [
    {
     "data": {
      "text/plain": [
       "False"
      ]
     },
     "execution_count": 63,
     "metadata": {},
     "output_type": "execute_result"
    }
   ],
   "source": [
    "'hello' in user.keys()"
   ]
  },
  {
   "cell_type": "code",
   "execution_count": null,
   "metadata": {},
   "outputs": [
    {
     "data": {
      "text/plain": [
       "dict_items([('basket', [1, 2, 3]), ('greet', 'hello'), ('age', 20)])"
      ]
     },
     "execution_count": 64,
     "metadata": {},
     "output_type": "execute_result"
    }
   ],
   "source": [
    "user.items()"
   ]
  },
  {
   "cell_type": "code",
   "execution_count": null,
   "metadata": {},
   "outputs": [],
   "source": [
    "user.clear()"
   ]
  },
  {
   "cell_type": "code",
   "execution_count": null,
   "metadata": {},
   "outputs": [
    {
     "data": {
      "text/plain": [
       "{}"
      ]
     },
     "execution_count": 66,
     "metadata": {},
     "output_type": "execute_result"
    }
   ],
   "source": [
    "user2=user.copy()\n",
    "\n",
    "user2"
   ]
  },
  {
   "cell_type": "code",
   "execution_count": null,
   "metadata": {},
   "outputs": [
    {
     "data": {
      "text/plain": [
       "20"
      ]
     },
     "execution_count": 67,
     "metadata": {},
     "output_type": "execute_result"
    }
   ],
   "source": [
    "user = {\n",
    "    'basket':[1,2,3],\n",
    "    'greet':'hello',\n",
    "    'age':20\n",
    "}\n",
    "\n",
    "user.pop('age')"
   ]
  },
  {
   "cell_type": "code",
   "execution_count": null,
   "metadata": {},
   "outputs": [
    {
     "data": {
      "text/plain": [
       "('greet', 'hello')"
      ]
     },
     "execution_count": 68,
     "metadata": {},
     "output_type": "execute_result"
    }
   ],
   "source": [
    "user.popitem()"
   ]
  },
  {
   "cell_type": "code",
   "execution_count": null,
   "metadata": {},
   "outputs": [
    {
     "data": {
      "text/plain": [
       "{'basket': [1, 2, 3], 'age': 55}"
      ]
     },
     "execution_count": 69,
     "metadata": {},
     "output_type": "execute_result"
    }
   ],
   "source": [
    "user.update({'age':55})\n",
    "\n",
    "user"
   ]
  },
  {
   "cell_type": "code",
   "execution_count": null,
   "metadata": {},
   "outputs": [],
   "source": [
    "#  tuples()\n",
    "\n",
    "# immutable"
   ]
  },
  {
   "cell_type": "code",
   "execution_count": null,
   "metadata": {},
   "outputs": [
    {
     "data": {
      "text/plain": [
       "(1, 2, 3, 4, 5)"
      ]
     },
     "execution_count": 71,
     "metadata": {},
     "output_type": "execute_result"
    }
   ],
   "source": [
    "my_tuple=(1,2,3,4,5)\n",
    "\n",
    "my_tuple"
   ]
  },
  {
   "cell_type": "code",
   "execution_count": null,
   "metadata": {},
   "outputs": [
    {
     "data": {
      "text/plain": [
       "4"
      ]
     },
     "execution_count": 72,
     "metadata": {},
     "output_type": "execute_result"
    }
   ],
   "source": [
    "# my_tuple[0] = 2 \n",
    "\n",
    "# not possible\n",
    "\n",
    "my_tuple[3]"
   ]
  },
  {
   "cell_type": "code",
   "execution_count": null,
   "metadata": {},
   "outputs": [
    {
     "data": {
      "text/plain": [
       "True"
      ]
     },
     "execution_count": 73,
     "metadata": {},
     "output_type": "execute_result"
    }
   ],
   "source": [
    "5 in my_tuple"
   ]
  },
  {
   "cell_type": "code",
   "execution_count": null,
   "metadata": {},
   "outputs": [
    {
     "data": {
      "text/plain": [
       "[1, 2, 3]"
      ]
     },
     "execution_count": 74,
     "metadata": {},
     "output_type": "execute_result"
    }
   ],
   "source": [
    "user[('basket')]"
   ]
  },
  {
   "cell_type": "code",
   "execution_count": null,
   "metadata": {},
   "outputs": [
    {
     "data": {
      "text/plain": [
       "(2,)"
      ]
     },
     "execution_count": 75,
     "metadata": {},
     "output_type": "execute_result"
    }
   ],
   "source": [
    "new_tuple=my_tuple[1:2]\n",
    "\n",
    "new_tuple"
   ]
  },
  {
   "cell_type": "code",
   "execution_count": null,
   "metadata": {},
   "outputs": [
    {
     "data": {
      "text/plain": [
       "1"
      ]
     },
     "execution_count": 76,
     "metadata": {},
     "output_type": "execute_result"
    }
   ],
   "source": [
    "x,y,z,*other=(1,2,3,4,5,6,7,8,)\n",
    "\n",
    "x"
   ]
  },
  {
   "cell_type": "code",
   "execution_count": null,
   "metadata": {},
   "outputs": [
    {
     "data": {
      "text/plain": [
       "2"
      ]
     },
     "execution_count": 77,
     "metadata": {},
     "output_type": "execute_result"
    }
   ],
   "source": [
    "y"
   ]
  },
  {
   "cell_type": "code",
   "execution_count": null,
   "metadata": {},
   "outputs": [
    {
     "data": {
      "text/plain": [
       "3"
      ]
     },
     "execution_count": 78,
     "metadata": {},
     "output_type": "execute_result"
    }
   ],
   "source": [
    "z"
   ]
  },
  {
   "cell_type": "code",
   "execution_count": null,
   "metadata": {},
   "outputs": [
    {
     "data": {
      "text/plain": [
       "[4, 5, 6, 7, 8]"
      ]
     },
     "execution_count": 79,
     "metadata": {},
     "output_type": "execute_result"
    }
   ],
   "source": [
    "other"
   ]
  },
  {
   "cell_type": "code",
   "execution_count": null,
   "metadata": {},
   "outputs": [
    {
     "data": {
      "text/plain": [
       "1"
      ]
     },
     "execution_count": 80,
     "metadata": {},
     "output_type": "execute_result"
    }
   ],
   "source": [
    "my_tuple.count(5)"
   ]
  },
  {
   "cell_type": "code",
   "execution_count": null,
   "metadata": {},
   "outputs": [
    {
     "data": {
      "text/plain": [
       "4"
      ]
     },
     "execution_count": 81,
     "metadata": {},
     "output_type": "execute_result"
    }
   ],
   "source": [
    "my_tuple.index(5)"
   ]
  },
  {
   "cell_type": "code",
   "execution_count": null,
   "metadata": {},
   "outputs": [
    {
     "data": {
      "text/plain": [
       "5"
      ]
     },
     "execution_count": 82,
     "metadata": {},
     "output_type": "execute_result"
    }
   ],
   "source": [
    "len(my_tuple)"
   ]
  },
  {
   "cell_type": "code",
   "execution_count": null,
   "metadata": {},
   "outputs": [],
   "source": [
    "# Set\n",
    "\n",
    "# unordered collection unique items"
   ]
  },
  {
   "cell_type": "code",
   "execution_count": null,
   "metadata": {},
   "outputs": [
    {
     "data": {
      "text/plain": [
       "{1, 2, 3, 4, 5, 6}"
      ]
     },
     "execution_count": 85,
     "metadata": {},
     "output_type": "execute_result"
    }
   ],
   "source": [
    "my_set = {1,2,3,4,5,6,6}\n",
    "my_set                      # no duplicates are allowed"
   ]
  },
  {
   "cell_type": "code",
   "execution_count": null,
   "metadata": {},
   "outputs": [
    {
     "data": {
      "text/plain": [
       "{1, 2, 3, 4, 5, 6, 100}"
      ]
     },
     "execution_count": 86,
     "metadata": {},
     "output_type": "execute_result"
    }
   ],
   "source": [
    "my_set.add(100)\n",
    "my_set"
   ]
  },
  {
   "cell_type": "code",
   "execution_count": null,
   "metadata": {},
   "outputs": [
    {
     "data": {
      "text/plain": [
       "{1, 2, 3, 4, 5, 6, 100}"
      ]
     },
     "execution_count": 87,
     "metadata": {},
     "output_type": "execute_result"
    }
   ],
   "source": [
    "my_set.add(2)\n",
    "my_set"
   ]
  },
  {
   "cell_type": "code",
   "execution_count": null,
   "metadata": {},
   "outputs": [],
   "source": [
    "my_list= [1,2,3,4,5,6,6,6]"
   ]
  },
  {
   "cell_type": "code",
   "execution_count": null,
   "metadata": {},
   "outputs": [
    {
     "data": {
      "text/plain": [
       "{1, 2, 3, 4, 5, 6}"
      ]
     },
     "execution_count": 89,
     "metadata": {},
     "output_type": "execute_result"
    }
   ],
   "source": [
    "set(my_list)"
   ]
  },
  {
   "cell_type": "code",
   "execution_count": null,
   "metadata": {},
   "outputs": [
    {
     "ename": "TypeError",
     "evalue": "'set' object is not subscriptable",
     "output_type": "error",
     "traceback": [
      "\u001b[1;31m---------------------------------------------------------------------------\u001b[0m",
      "\u001b[1;31mTypeError\u001b[0m                                 Traceback (most recent call last)",
      "\u001b[1;32mc:\\Users\\shash\\Documents\\GitHub\\Basic to master in Python\\revision.ipynb Cell 101'\u001b[0m in \u001b[0;36m<cell line: 1>\u001b[1;34m()\u001b[0m\n\u001b[1;32m----> <a href='vscode-notebook-cell:/c%3A/Users/shash/Documents/GitHub/Basic%20to%20master%20in%20Python/revision.ipynb#ch0000109?line=0'>1</a>\u001b[0m my_set[\u001b[39m0\u001b[39;49m]\n",
      "\u001b[1;31mTypeError\u001b[0m: 'set' object is not subscriptable"
     ]
    }
   ],
   "source": [
    "my_set[0]  #doesn't allow indexess"
   ]
  },
  {
   "cell_type": "code",
   "execution_count": null,
   "metadata": {},
   "outputs": [
    {
     "data": {
      "text/plain": [
       "True"
      ]
     },
     "execution_count": 92,
     "metadata": {},
     "output_type": "execute_result"
    }
   ],
   "source": [
    "1 in my_set"
   ]
  },
  {
   "cell_type": "code",
   "execution_count": null,
   "metadata": {},
   "outputs": [
    {
     "data": {
      "text/plain": [
       "7"
      ]
     },
     "execution_count": 93,
     "metadata": {},
     "output_type": "execute_result"
    }
   ],
   "source": [
    "len(my_set)"
   ]
  },
  {
   "cell_type": "code",
   "execution_count": null,
   "metadata": {},
   "outputs": [
    {
     "data": {
      "text/plain": [
       "{1, 2, 3, 4, 5, 6, 100}"
      ]
     },
     "execution_count": 94,
     "metadata": {},
     "output_type": "execute_result"
    }
   ],
   "source": [
    "new=my_set.copy()\n",
    "new"
   ]
  },
  {
   "cell_type": "code",
   "execution_count": null,
   "metadata": {},
   "outputs": [
    {
     "data": {
      "text/plain": [
       "set()"
      ]
     },
     "execution_count": 96,
     "metadata": {},
     "output_type": "execute_result"
    }
   ],
   "source": [
    "new.clear()\n",
    "new"
   ]
  },
  {
   "cell_type": "code",
   "execution_count": null,
   "metadata": {},
   "outputs": [],
   "source": [
    "#  set methonds\n",
    "\n",
    "# .difference()\n",
    "\n",
    "# .discard()\n",
    "\n",
    "# .intersection_update()\n",
    "\n",
    "# .isdisjoint()\n",
    "\n",
    "# .issubclass()\n",
    "\n",
    "# .issuperset()\n",
    "\n",
    "# .union()\n"
   ]
  },
  {
   "cell_type": "code",
   "execution_count": null,
   "metadata": {},
   "outputs": [
    {
     "data": {
      "text/plain": [
       "{1, 100}"
      ]
     },
     "execution_count": 100,
     "metadata": {},
     "output_type": "execute_result"
    }
   ],
   "source": [
    "your_set = {2,3,4,5,5,6,7}\n",
    "\n",
    "my_set.difference(your_set)  #not modified"
   ]
  },
  {
   "cell_type": "code",
   "execution_count": null,
   "metadata": {},
   "outputs": [
    {
     "data": {
      "text/plain": [
       "{1, 2, 3, 4, 5, 6, 100}"
      ]
     },
     "execution_count": 99,
     "metadata": {},
     "output_type": "execute_result"
    }
   ],
   "source": [
    "my_set"
   ]
  },
  {
   "cell_type": "code",
   "execution_count": null,
   "metadata": {},
   "outputs": [
    {
     "data": {
      "text/plain": [
       "{1, 2, 3, 4, 6, 100}"
      ]
     },
     "execution_count": 102,
     "metadata": {},
     "output_type": "execute_result"
    }
   ],
   "source": [
    "my_set.discard(5)\n",
    "my_set"
   ]
  },
  {
   "cell_type": "code",
   "execution_count": null,
   "metadata": {},
   "outputs": [
    {
     "data": {
      "text/plain": [
       "{2, 3, 4, 6, 7}"
      ]
     },
     "execution_count": 105,
     "metadata": {},
     "output_type": "execute_result"
    }
   ],
   "source": [
    "your_set.discard(5) #remove all this 5 in the list\n",
    "your_set"
   ]
  },
  {
   "cell_type": "code",
   "execution_count": null,
   "metadata": {},
   "outputs": [
    {
     "data": {
      "text/plain": [
       "{1, 100}"
      ]
     },
     "execution_count": 106,
     "metadata": {},
     "output_type": "execute_result"
    }
   ],
   "source": [
    "my_set.difference_update(your_set)\n",
    "my_set"
   ]
  },
  {
   "cell_type": "code",
   "execution_count": null,
   "metadata": {},
   "outputs": [
    {
     "data": {
      "text/plain": [
       "{2, 3, 4, 6}"
      ]
     },
     "execution_count": 107,
     "metadata": {},
     "output_type": "execute_result"
    }
   ],
   "source": [
    "my_set={1,2,3,4,5,6}\n",
    "my_set.intersection(your_set)"
   ]
  },
  {
   "cell_type": "code",
   "execution_count": null,
   "metadata": {},
   "outputs": [
    {
     "data": {
      "text/plain": [
       "False"
      ]
     },
     "execution_count": 108,
     "metadata": {},
     "output_type": "execute_result"
    }
   ],
   "source": [
    "my_set.isdisjoint(your_set)"
   ]
  },
  {
   "cell_type": "code",
   "execution_count": null,
   "metadata": {},
   "outputs": [
    {
     "data": {
      "text/plain": [
       "{1, 2, 3, 4, 5, 6, 7}"
      ]
     },
     "execution_count": 109,
     "metadata": {},
     "output_type": "execute_result"
    }
   ],
   "source": [
    "my_set.union(your_set)  # or my_set  | your_set"
   ]
  },
  {
   "cell_type": "code",
   "execution_count": null,
   "metadata": {},
   "outputs": [
    {
     "data": {
      "text/plain": [
       "{1, 2, 3, 4, 5, 6}"
      ]
     },
     "execution_count": 110,
     "metadata": {},
     "output_type": "execute_result"
    }
   ],
   "source": [
    "my_set"
   ]
  },
  {
   "cell_type": "code",
   "execution_count": null,
   "metadata": {},
   "outputs": [
    {
     "data": {
      "text/plain": [
       "{2, 3, 4, 5, 6, 7}"
      ]
     },
     "execution_count": 114,
     "metadata": {},
     "output_type": "execute_result"
    }
   ],
   "source": [
    "my_set | your_set"
   ]
  },
  {
   "cell_type": "code",
   "execution_count": null,
   "metadata": {},
   "outputs": [
    {
     "data": {
      "text/plain": [
       "False"
      ]
     },
     "execution_count": 115,
     "metadata": {},
     "output_type": "execute_result"
    }
   ],
   "source": [
    "my_set = {4,5,5}\n",
    "\n",
    "my_set.issubset(your_set)"
   ]
  },
  {
   "cell_type": "code",
   "execution_count": null,
   "metadata": {},
   "outputs": [
    {
     "data": {
      "text/plain": [
       "{4}"
      ]
     },
     "execution_count": 116,
     "metadata": {},
     "output_type": "execute_result"
    }
   ],
   "source": [
    "my_set & your_set"
   ]
  },
  {
   "cell_type": "code",
   "execution_count": null,
   "metadata": {},
   "outputs": [
    {
     "data": {
      "text/plain": [
       "False"
      ]
     },
     "execution_count": 117,
     "metadata": {},
     "output_type": "execute_result"
    }
   ],
   "source": [
    "my_set.issuperset(your_set)"
   ]
  },
  {
   "cell_type": "code",
   "execution_count": null,
   "metadata": {},
   "outputs": [
    {
     "data": {
      "text/plain": [
       "False"
      ]
     },
     "execution_count": 118,
     "metadata": {},
     "output_type": "execute_result"
    }
   ],
   "source": [
    "your_set.issuperset(my_set)"
   ]
  },
  {
   "cell_type": "code",
   "execution_count": null,
   "metadata": {},
   "outputs": [],
   "source": [
    "#  Conditional Programming if, if-else, elif"
   ]
  },
  {
   "cell_type": "code",
   "execution_count": null,
   "metadata": {},
   "outputs": [
    {
     "name": "stdout",
     "output_type": "stream",
     "text": [
      "you are old enough to drive! \n"
     ]
    },
    {
     "data": {
      "text/plain": [
       "'okok'"
      ]
     },
     "execution_count": 120,
     "metadata": {},
     "output_type": "execute_result"
    }
   ],
   "source": [
    "\n",
    "\n",
    "is_old = True\n",
    "is_licenced =True\n",
    "\n",
    "if is_old:  # or if is_old and is_licenced:\n",
    "    print('you are old enough to drive! ')\n",
    "elif is_licenced:\n",
    "    print('checked you are not have licenced to drive! ')\n",
    "else:\n",
    "    print(\"ow are not of age\")\n",
    "\n",
    "'okok'"
   ]
  },
  {
   "cell_type": "code",
   "execution_count": null,
   "metadata": {},
   "outputs": [
    {
     "name": "stdout",
     "output_type": "stream",
     "text": [
      "you r old enough to drive, and you have a licence\n"
     ]
    }
   ],
   "source": [
    "#  idea of truthy and falsy\n",
    "\n",
    "is_old = bool('yes')\n",
    "is_licenced = bool(1)\n",
    "\n",
    "if is_old and is_licenced:\n",
    "    print('you r old enough to drive, and you have a licence',end='\\n')\n",
    "else:\n",
    "    print('you r not of age!',end='\\n')"
   ]
  },
  {
   "cell_type": "code",
   "execution_count": null,
   "metadata": {},
   "outputs": [],
   "source": [
    "# #  Falsy Values\n",
    "\n",
    "# None\n",
    "# 0\n",
    "# 0.0\n",
    "# 0j\n",
    "# Decimal(0)\n",
    "# Fraction(0,1)\n",
    "# []-an empty list\n",
    "# {}-an empty dict\n",
    "# ()\n",
    "# ''\n",
    "# b''\n",
    "# set()\n",
    "# an empty range, like range(0)\n",
    "# objects for which\n",
    "# obj.__bool__() return False\n",
    "# obj.__len__() return 0\n",
    "\n",
    "\n",
    "# other than all are true"
   ]
  },
  {
   "cell_type": "code",
   "execution_count": null,
   "metadata": {},
   "outputs": [
    {
     "name": "stdout",
     "output_type": "stream",
     "text": [
      "yes it have both of them\n"
     ]
    }
   ],
   "source": [
    "passwaord='1234'\n",
    "\n",
    "# username=''\n",
    "username=\"12345\"\n",
    "\n",
    "if passwaord and username:\n",
    "    print('yes it have both of them')\n",
    "else:\n",
    "    print('not')"
   ]
  },
  {
   "cell_type": "code",
   "execution_count": null,
   "metadata": {},
   "outputs": [
    {
     "name": "stdout",
     "output_type": "stream",
     "text": [
      "message allowed\n"
     ]
    }
   ],
   "source": [
    "# ternary operator called conditiona; expression\n",
    "\n",
    "# conditiona; if true if else condition if else\n",
    "\n",
    "is_friend = True\n",
    "# is_friend=False\n",
    "\n",
    "can_msg = 'message allowed' if is_friend else 'not allowed to msg'\n",
    "print(can_msg)"
   ]
  },
  {
   "cell_type": "code",
   "execution_count": null,
   "metadata": {},
   "outputs": [
    {
     "name": "stdout",
     "output_type": "stream",
     "text": [
      "best frnd forever\n"
     ]
    }
   ],
   "source": [
    "# short circuting\n",
    "\n",
    "id_user=True\n",
    "if is_friend and id_user: # or can also used in place of and\n",
    "    print('best frnd forever')"
   ]
  },
  {
   "cell_type": "code",
   "execution_count": null,
   "metadata": {},
   "outputs": [],
   "source": [
    "# logical Operator -> and, or, >, <, >=, <=, ==, !=, not()"
   ]
  },
  {
   "cell_type": "code",
   "execution_count": null,
   "metadata": {},
   "outputs": [
    {
     "name": "stdout",
     "output_type": "stream",
     "text": [
      "you need magic powers\n"
     ]
    }
   ],
   "source": [
    "\n",
    "# visit game\n",
    "\n",
    "is_magician = False\n",
    "is_expert =True\n",
    "\n",
    "#check if magician AND expert : 'you are a master magician'\n",
    "\n",
    "\n",
    "if is_magician and is_expert:\n",
    "    print('you are a master magician')\n",
    "\n",
    "# check if magician bit not expert : \"at least you r getting there\"\n",
    "\n",
    "elif is_magician and not(is_expert):\n",
    "    print('at least you r getting there')\n",
    "\n",
    "# if you r not a magician : 'you need magic powers'\n",
    "\n",
    "elif not is_magician:\n",
    "    print('you need magic powers')\n"
   ]
  },
  {
   "cell_type": "code",
   "execution_count": null,
   "metadata": {},
   "outputs": [],
   "source": [
    "# is keyword check the location i memory"
   ]
  },
  {
   "cell_type": "code",
   "execution_count": null,
   "metadata": {},
   "outputs": [
    {
     "name": "stdout",
     "output_type": "stream",
     "text": [
      "z e r o   t o   m a s t e r y "
     ]
    }
   ],
   "source": [
    "# for loop\n",
    "\n",
    "for item in 'zero to mastery':  #work with everyone list , tuple, set, dict\n",
    "    print(item,end=' ')"
   ]
  },
  {
   "cell_type": "code",
   "execution_count": null,
   "metadata": {},
   "outputs": [
    {
     "name": "stdout",
     "output_type": "stream",
     "text": [
      "1 a\n",
      "1 b\n",
      "1 c\n",
      "2 a\n",
      "2 b\n",
      "2 c\n",
      "3 a\n",
      "3 b\n",
      "3 c\n",
      "4 a\n",
      "4 b\n",
      "4 c\n",
      "5 a\n",
      "5 b\n",
      "5 c\n"
     ]
    }
   ],
   "source": [
    "for item in(1,2,3,4,5):\n",
    "    for c in ['a','b','c']:\n",
    "        print(item,c)\n",
    "\n",
    "# iterable - list, dict, tuple, set, string\n",
    "\n",
    "# iterate - one buy one check each item in the collection. "
   ]
  },
  {
   "cell_type": "code",
   "execution_count": null,
   "metadata": {},
   "outputs": [
    {
     "name": "stdout",
     "output_type": "stream",
     "text": [
      "('name', 'shashwat')\n",
      "('age', 23)\n",
      "('can_swim', False)\n"
     ]
    }
   ],
   "source": [
    "user = {\n",
    "    'name':'shashwat',\n",
    "    'age': 23,\n",
    "    'can_swim':False\n",
    "}\n",
    "\n",
    "for item in user.items():\n",
    "    print(item)"
   ]
  },
  {
   "cell_type": "code",
   "execution_count": null,
   "metadata": {},
   "outputs": [
    {
     "name": "stdout",
     "output_type": "stream",
     "text": [
      "shashwat\n",
      "23\n",
      "False\n"
     ]
    }
   ],
   "source": [
    "for item in user.values():\n",
    "    print(item)"
   ]
  },
  {
   "cell_type": "code",
   "execution_count": null,
   "metadata": {},
   "outputs": [
    {
     "name": "stdout",
     "output_type": "stream",
     "text": [
      "name\n",
      "age\n",
      "can_swim\n"
     ]
    }
   ],
   "source": [
    "for item in user.keys():\n",
    "    print(item)"
   ]
  },
  {
   "cell_type": "code",
   "execution_count": null,
   "metadata": {},
   "outputs": [
    {
     "name": "stdout",
     "output_type": "stream",
     "text": [
      "name shashwat\n",
      "age 23\n",
      "can_swim False\n"
     ]
    }
   ],
   "source": [
    "for item in user.items():\n",
    "    key,value=item\n",
    "    print(key,value)"
   ]
  },
  {
   "cell_type": "code",
   "execution_count": null,
   "metadata": {},
   "outputs": [
    {
     "name": "stdout",
     "output_type": "stream",
     "text": [
      "name shashwat\n",
      "age 23\n",
      "can_swim False\n"
     ]
    }
   ],
   "source": [
    "for key, value in user.items():\n",
    "    print(key,value)"
   ]
  },
  {
   "cell_type": "code",
   "execution_count": null,
   "metadata": {},
   "outputs": [],
   "source": [
    "# 3 int object is iterable"
   ]
  },
  {
   "cell_type": "code",
   "execution_count": null,
   "metadata": {},
   "outputs": [
    {
     "name": "stdout",
     "output_type": "stream",
     "text": [
      "1\n",
      "3\n",
      "6\n",
      "10\n",
      "15\n",
      "21\n",
      "28\n",
      "36\n",
      "45\n",
      "45\n"
     ]
    }
   ],
   "source": [
    "\n",
    "# counter\n",
    "\n",
    "my_list = [1,2,3,4,5,6,7,8,9]\n",
    "counter = 0\n",
    "\n",
    "for item in my_list:\n",
    "    counter += item\n",
    "    print(counter)\n",
    "print(counter)"
   ]
  },
  {
   "cell_type": "code",
   "execution_count": null,
   "metadata": {},
   "outputs": [
    {
     "data": {
      "text/plain": [
       "range(0, 10)"
      ]
     },
     "execution_count": 17,
     "metadata": {},
     "output_type": "execute_result"
    }
   ],
   "source": [
    "# range\n",
    "\n",
    "range(0,10)"
   ]
  },
  {
   "cell_type": "code",
   "execution_count": null,
   "metadata": {},
   "outputs": [
    {
     "name": "stdout",
     "output_type": "stream",
     "text": [
      "0\n",
      "1\n",
      "2\n",
      "3\n",
      "4\n",
      "5\n",
      "6\n",
      "7\n",
      "8\n",
      "9\n"
     ]
    }
   ],
   "source": [
    "for num in range(0,10):\n",
    "    print(num)"
   ]
  },
  {
   "cell_type": "code",
   "execution_count": null,
   "metadata": {},
   "outputs": [
    {
     "name": "stdout",
     "output_type": "stream",
     "text": [
      "0\n",
      "2\n",
      "4\n",
      "6\n",
      "8\n"
     ]
    }
   ],
   "source": [
    "for _ in range(0,10,2):\n",
    "    print(_)"
   ]
  },
  {
   "cell_type": "code",
   "execution_count": null,
   "metadata": {},
   "outputs": [],
   "source": [
    "for _ in range(0,10,-1):\n",
    "    print(_)"
   ]
  },
  {
   "cell_type": "code",
   "execution_count": null,
   "metadata": {},
   "outputs": [
    {
     "name": "stdout",
     "output_type": "stream",
     "text": [
      "10\n",
      "9\n",
      "8\n",
      "7\n",
      "6\n",
      "5\n",
      "4\n",
      "3\n",
      "2\n",
      "1\n"
     ]
    }
   ],
   "source": [
    "for _ in range(10,0,-1):\n",
    "    print(_)"
   ]
  },
  {
   "cell_type": "code",
   "execution_count": null,
   "metadata": {},
   "outputs": [
    {
     "name": "stdout",
     "output_type": "stream",
     "text": [
      "[0, 1, 2, 3, 4, 5, 6, 7, 8, 9]\n",
      "[0, 1, 2, 3, 4, 5, 6, 7, 8, 9]\n"
     ]
    }
   ],
   "source": [
    "for _ in range(2):\n",
    "    print(list(range(10)))"
   ]
  },
  {
   "cell_type": "code",
   "execution_count": null,
   "metadata": {},
   "outputs": [
    {
     "name": "stdout",
     "output_type": "stream",
     "text": [
      "0 1\n",
      "1 2\n",
      "2 3\n"
     ]
    }
   ],
   "source": [
    "# enumerate()  for counting index number\n",
    "\n",
    "for i,char in enumerate([1,2,3]):\n",
    "    print(i,char)"
   ]
  },
  {
   "cell_type": "code",
   "execution_count": null,
   "metadata": {},
   "outputs": [
    {
     "name": "stdout",
     "output_type": "stream",
     "text": [
      "0 h\n",
      "1 e\n",
      "2 l\n",
      "3 l\n",
      "4 o\n",
      "5 o\n",
      "6 o\n",
      "7 o\n",
      "8 o\n",
      "9 o\n",
      "10 o\n",
      "11 o\n",
      "12 o\n",
      "13 o\n",
      "14 o\n",
      "15 o\n",
      "16 o\n"
     ]
    }
   ],
   "source": [
    "for i,char in enumerate('hellooooooooooooo'):\n",
    "    print(i,char)"
   ]
  },
  {
   "cell_type": "code",
   "execution_count": null,
   "metadata": {},
   "outputs": [
    {
     "name": "stdout",
     "output_type": "stream",
     "text": [
      "0 1\n",
      "1 2\n",
      "2 3\n"
     ]
    }
   ],
   "source": [
    "# enumerate()  for counting index number\n",
    "\n",
    "for i,char in enumerate((1,2,3)):\n",
    "    print(i,char)"
   ]
  },
  {
   "cell_type": "code",
   "execution_count": null,
   "metadata": {},
   "outputs": [
    {
     "name": "stdout",
     "output_type": "stream",
     "text": [
      "index of 50 is : 50\n"
     ]
    }
   ],
   "source": [
    "for i,char in enumerate(list(range(100))):\n",
    "    if char==50:\n",
    "        print(f'index of 50 is : {i}')"
   ]
  },
  {
   "cell_type": "code",
   "execution_count": null,
   "metadata": {},
   "outputs": [
    {
     "name": "stdout",
     "output_type": "stream",
     "text": [
      "0\n"
     ]
    }
   ],
   "source": [
    "# while loop\n",
    "\n",
    "i=0\n",
    "while i<5:\n",
    "    print(i)\n",
    "    break;"
   ]
  },
  {
   "cell_type": "code",
   "execution_count": null,
   "metadata": {},
   "outputs": [
    {
     "name": "stdout",
     "output_type": "stream",
     "text": [
      "0\n",
      "1\n",
      "2\n",
      "3\n",
      "4\n",
      "done with all the work\n"
     ]
    }
   ],
   "source": [
    "# while loop\n",
    "\n",
    "i=0\n",
    "while i<5:\n",
    "    print(i)\n",
    "    i+=1\n",
    "else:\n",
    "    print('done with all the work')"
   ]
  },
  {
   "cell_type": "code",
   "execution_count": null,
   "metadata": {},
   "outputs": [],
   "source": [
    "# while else statement is used when break statement is in there"
   ]
  },
  {
   "cell_type": "code",
   "execution_count": null,
   "metadata": {},
   "outputs": [],
   "source": [
    "while True:\n",
    "    input('say something: ')\n",
    "    break"
   ]
  },
  {
   "cell_type": "code",
   "execution_count": null,
   "metadata": {},
   "outputs": [],
   "source": [
    "while True:\n",
    "    response=input('say something: ')\n",
    "    if(response == 'bye'):\n",
    "        break"
   ]
  },
  {
   "cell_type": "code",
   "execution_count": null,
   "metadata": {},
   "outputs": [
    {
     "name": "stdout",
     "output_type": "stream",
     "text": [
      "3\n"
     ]
    }
   ],
   "source": [
    "# continue\n",
    "\n",
    "my_list = [1,2,3]\n",
    "for item in my_list:\n",
    "    continue\n",
    "    print(item)\n",
    "print(item)"
   ]
  },
  {
   "cell_type": "code",
   "execution_count": null,
   "metadata": {},
   "outputs": [
    {
     "name": "stdout",
     "output_type": "stream",
     "text": [
      "1\n",
      "2\n",
      "3\n",
      "3\n"
     ]
    }
   ],
   "source": [
    "# pass\n",
    "\n",
    "my_list = [1,2,3]\n",
    "for item in my_list:\n",
    "    pass\n",
    "    print(item)\n",
    "print(item)"
   ]
  },
  {
   "cell_type": "code",
   "execution_count": null,
   "metadata": {},
   "outputs": [
    {
     "name": "stdout",
     "output_type": "stream",
     "text": [
      "1\n",
      "2\n",
      "3\n"
     ]
    }
   ],
   "source": [
    "my_list = [1,2,3]\n",
    "for item in my_list:\n",
    "    # thinking about it\n",
    "\n",
    "    pass\n",
    "\n",
    "i = 0\n",
    "\n",
    "while i < len(my_list):\n",
    "    print(my_list[i])\n",
    "    i += 1\n",
    "    pass"
   ]
  },
  {
   "cell_type": "code",
   "execution_count": null,
   "metadata": {},
   "outputs": [
    {
     "name": "stdout",
     "output_type": "stream",
     "text": [
      "      *       \n",
      "    * * *     \n",
      "  * * * * *   \n",
      "* * * * * * * \n",
      "      *       \n",
      "      *       \n"
     ]
    }
   ],
   "source": [
    "# our first gui\n",
    "\n",
    "picture = [\n",
    "    [0,0,0,1,0,0,0],\n",
    "    [0,0,1,1,1,0,0],\n",
    "    [0,1,1,1,1,1,0],\n",
    "    [1,1,1,1,1,1,1],\n",
    "    [0,0,0,1,0,0,0],\n",
    "    [0,0,0,1,0,0,0]\n",
    "]\n",
    "\n",
    "#iterate over picture\n",
    "# if 0 print -> ''\n",
    "# if 1 print -> *\n",
    "\n",
    "\n",
    "for img in picture:\n",
    "    for pixel in img:\n",
    "        if(pixel == 1):\n",
    "            print('*',end=' ')\n",
    "        else:\n",
    "            print(' ',end=' ')\n",
    "    print('')\n",
    "\n"
   ]
  },
  {
   "cell_type": "code",
   "execution_count": null,
   "metadata": {},
   "outputs": [],
   "source": [
    " # clean\n",
    "    # redability\n",
    "    # predictbility\n",
    "    # DRY - do not yourself\n",
    "    \n",
    "    \n"
   ]
  },
  {
   "cell_type": "code",
   "execution_count": null,
   "metadata": {},
   "outputs": [
    {
     "name": "stdout",
     "output_type": "stream",
     "text": [
      "      #       \n",
      "    # # #     \n",
      "  # # # # #   \n",
      "# # # # # # # \n",
      "      #       \n",
      "      #       \n"
     ]
    }
   ],
   "source": [
    "fill =\"#\"\n",
    "empty = ' '\n",
    "\n",
    "for row in picture:\n",
    "    for pixel in row:\n",
    "        if(pixel):\n",
    "            print(fill, end=' ')\n",
    "        else:\n",
    "            print(empty, end = ' ')\n",
    "    print('')   # need a new line"
   ]
  },
  {
   "cell_type": "code",
   "execution_count": null,
   "metadata": {},
   "outputs": [
    {
     "name": "stdout",
     "output_type": "stream",
     "text": [
      "['b', 'n', 'n', 'b']\n"
     ]
    }
   ],
   "source": [
    "# check for duplicate in list:\n",
    "\n",
    "some_list = ['a','b','c','d','m','n','n','b']\n",
    "\n",
    "# set not allowed\n",
    "\n",
    "duplicates = []\n",
    "\n",
    "for value in some_list:\n",
    "    if some_list.count(value)>1:\n",
    "        duplicates.append(value)\n",
    "\n",
    "print(duplicates)"
   ]
  },
  {
   "cell_type": "code",
   "execution_count": null,
   "metadata": {},
   "outputs": [
    {
     "name": "stdout",
     "output_type": "stream",
     "text": [
      "['b', 'n']\n"
     ]
    }
   ],
   "source": [
    "duplicates = [] \n",
    "\n",
    "for value in some_list:\n",
    "    if some_list.count(value)>1:\n",
    "        if value not in duplicates:\n",
    "            duplicates.append(value)\n",
    "print(duplicates)"
   ]
  },
  {
   "cell_type": "code",
   "execution_count": null,
   "metadata": {},
   "outputs": [
    {
     "name": "stdout",
     "output_type": "stream",
     "text": [
      "hello\n"
     ]
    }
   ],
   "source": [
    "# fuction  -> def define a function\n",
    "\n",
    "def say_hello():\n",
    "    print('hello')\n",
    "\n",
    "say_hello()"
   ]
  },
  {
   "cell_type": "code",
   "execution_count": null,
   "metadata": {},
   "outputs": [
    {
     "name": "stdout",
     "output_type": "stream",
     "text": [
      "      #       \n",
      "    # # #     \n",
      "  # # # # #   \n",
      "# # # # # # # \n",
      "      #       \n",
      "      #       \n",
      "\n",
      "\n",
      "      #       \n",
      "    # # #     \n",
      "  # # # # #   \n",
      "# # # # # # # \n",
      "      #       \n",
      "      #       \n"
     ]
    }
   ],
   "source": [
    "def show_tree():\n",
    "    for row in picture:\n",
    "        for pixel in row:\n",
    "            if(pixel):\n",
    "                print('#',end=' ')\n",
    "            else:\n",
    "                print(' ',end=' ')\n",
    "        print('') # need a new line\n",
    "\n",
    "show_tree()\n",
    "print('\\n')\n",
    "show_tree()"
   ]
  },
  {
   "cell_type": "code",
   "execution_count": null,
   "metadata": {},
   "outputs": [
    {
     "name": "stdout",
     "output_type": "stream",
     "text": [
      "helloooo shashwat*\n",
      "helloooo pal*\n"
     ]
    }
   ],
   "source": [
    "# argument vs parameter\n",
    "\n",
    "# parameters\n",
    "\n",
    "def say_hello(name,emoji):  # parameter\n",
    "    print(f'helloooo {name}{emoji}')\n",
    "\n",
    "# positional arguments\n",
    "\n",
    "say_hello('shashwat','*')\n",
    "\n",
    "# keyword arguments\n",
    "\n",
    "say_hello(emoji='*',name='pal')"
   ]
  },
  {
   "cell_type": "code",
   "execution_count": null,
   "metadata": {},
   "outputs": [
    {
     "name": "stdout",
     "output_type": "stream",
     "text": [
      "hello shashwat *\n",
      "hello pal 8\n"
     ]
    }
   ],
   "source": [
    "# Default parameter\n",
    "\n",
    "def say_hello(name='shashwat',emoji='*'):  # parameter\n",
    "    print(f'hello {name} {emoji}')\n",
    "\n",
    "say_hello()\n",
    "\n",
    "say_hello('pal','8')"
   ]
  },
  {
   "cell_type": "code",
   "execution_count": null,
   "metadata": {},
   "outputs": [
    {
     "name": "stdout",
     "output_type": "stream",
     "text": [
      "None\n"
     ]
    }
   ],
   "source": [
    "#  Return\n",
    "\n",
    "def Sum(n1,n2):\n",
    "    n1+n2\n",
    "\n",
    "print(Sum(4,5))"
   ]
  },
  {
   "cell_type": "code",
   "execution_count": null,
   "metadata": {},
   "outputs": [
    {
     "name": "stdout",
     "output_type": "stream",
     "text": [
      "9\n"
     ]
    }
   ],
   "source": [
    "def Sum(n1,n2):\n",
    "    return n1+n2\n",
    "\n",
    "print(Sum(4,5))"
   ]
  },
  {
   "cell_type": "code",
   "execution_count": null,
   "metadata": {},
   "outputs": [
    {
     "name": "stdout",
     "output_type": "stream",
     "text": [
      "hi\n",
      "None\n"
     ]
    }
   ],
   "source": [
    "def Sum(n1,n2):\n",
    "    print('hi')\n",
    "    n1+n2\n",
    "    \n",
    "print(Sum(4,5))\n",
    "\n",
    "\n",
    "#should do one thing really well.\n",
    "#should return something\n"
   ]
  },
  {
   "cell_type": "code",
   "execution_count": null,
   "metadata": {},
   "outputs": [
    {
     "data": {
      "text/plain": [
       "19"
      ]
     },
     "execution_count": 66,
     "metadata": {},
     "output_type": "execute_result"
    }
   ],
   "source": [
    "def Sum(n1,n2):\n",
    "    return n1+n2\n",
    "    \n",
    "total = Sum(4,5)\n",
    "total\n",
    "Sum(10,total)"
   ]
  },
  {
   "cell_type": "code",
   "execution_count": null,
   "metadata": {},
   "outputs": [
    {
     "data": {
      "text/plain": [
       "9"
      ]
     },
     "execution_count": 67,
     "metadata": {},
     "output_type": "execute_result"
    }
   ],
   "source": [
    "def Sum(n1,n2):\n",
    "    def another_fun(a,b):\n",
    "        return a+b\n",
    "    return another_fun(n1,n2)\n",
    "    \n",
    "total = Sum(4,5)\n",
    "total\n"
   ]
  },
  {
   "cell_type": "code",
   "execution_count": null,
   "metadata": {},
   "outputs": [],
   "source": [
    "# return exit the function\n",
    "\n",
    "#  Method vs Function\n",
    "\n",
    "# list()\n",
    "# print()\n",
    "# max()\n",
    "# min()\n",
    "# input()\n",
    "\n",
    "# def dome()\n",
    "\n",
    "# method is owned by object"
   ]
  },
  {
   "cell_type": "code",
   "execution_count": null,
   "metadata": {},
   "outputs": [
    {
     "name": "stdout",
     "output_type": "stream",
     "text": [
      "!!!!!\n"
     ]
    }
   ],
   "source": [
    "#  docstring\n",
    "\n",
    "#  INside function any comment write under ''' \n",
    "\n",
    "#                                            '''\n",
    "\n",
    "\n",
    "def test(a):\n",
    "    '''\n",
    "    Info: this function test and prints param a\n",
    "    \n",
    "    '''\n",
    "    print(a)\n",
    "test('!!!!!')\n",
    "# test()\n"
   ]
  },
  {
   "cell_type": "code",
   "execution_count": null,
   "metadata": {},
   "outputs": [
    {
     "data": {
      "text/plain": [
       "'\\n    Info: this function test and prints param a\\n    \\n    '"
      ]
     },
     "execution_count": 70,
     "metadata": {},
     "output_type": "execute_result"
    }
   ],
   "source": [
    "test.__doc__"
   ]
  },
  {
   "cell_type": "code",
   "execution_count": null,
   "metadata": {},
   "outputs": [
    {
     "data": {
      "text/plain": [
       "False"
      ]
     },
     "execution_count": 71,
     "metadata": {},
     "output_type": "execute_result"
    }
   ],
   "source": [
    "# clean code\n",
    "\n",
    "\n",
    "def is_even(num):\n",
    "    if num%2==0:\n",
    "        return True\n",
    "    elif num%2 !=0:\n",
    "        return False\n",
    "is_even(5)"
   ]
  },
  {
   "cell_type": "code",
   "execution_count": null,
   "metadata": {},
   "outputs": [
    {
     "data": {
      "text/plain": [
       "False"
      ]
     },
     "execution_count": 72,
     "metadata": {},
     "output_type": "execute_result"
    }
   ],
   "source": [
    "def is_even(num):\n",
    "    if num%2==0:\n",
    "        return True\n",
    "    else:\n",
    "        return False\n",
    "is_even(5)\n",
    "    "
   ]
  },
  {
   "cell_type": "code",
   "execution_count": null,
   "metadata": {},
   "outputs": [
    {
     "data": {
      "text/plain": [
       "False"
      ]
     },
     "execution_count": 73,
     "metadata": {},
     "output_type": "execute_result"
    }
   ],
   "source": [
    "def is_even(num):\n",
    "    if num%2==0:\n",
    "        return True\n",
    "    return False\n",
    "\n",
    "is_even(5)    "
   ]
  },
  {
   "cell_type": "code",
   "execution_count": null,
   "metadata": {},
   "outputs": [
    {
     "data": {
      "text/plain": [
       "False"
      ]
     },
     "execution_count": 74,
     "metadata": {},
     "output_type": "execute_result"
    }
   ],
   "source": [
    "def is_even(num):\n",
    "    return num % 2 == 0\n",
    "\n",
    "is_even(5)    "
   ]
  },
  {
   "cell_type": "code",
   "execution_count": null,
   "metadata": {},
   "outputs": [
    {
     "name": "stdout",
     "output_type": "stream",
     "text": [
      "(1, 2, 3, 4, 5)\n"
     ]
    },
    {
     "data": {
      "text/plain": [
       "15"
      ]
     },
     "execution_count": 75,
     "metadata": {},
     "output_type": "execute_result"
    }
   ],
   "source": [
    "# argument and keyargs\n",
    "\n",
    "#  *args   **kwargs\n",
    " \n",
    "def super_func(*args):\n",
    "    print(args)\n",
    "    return sum(args)\n",
    "\n",
    "super_func(1,2,3,4,5)   # gives 15  bcoz sum function ia already created"
   ]
  },
  {
   "cell_type": "code",
   "execution_count": null,
   "metadata": {},
   "outputs": [
    {
     "name": "stdout",
     "output_type": "stream",
     "text": [
      "{'num1': 5, 'num2': 10}\n"
     ]
    },
    {
     "ename": "TypeError",
     "evalue": "'bool' object is not iterable",
     "output_type": "error",
     "traceback": [
      "\u001b[1;31m---------------------------------------------------------------------------\u001b[0m",
      "\u001b[1;31mTypeError\u001b[0m                                 Traceback (most recent call last)",
      "\u001b[1;32mc:\\Users\\shash\\Documents\\GitHub\\Basic to master in Python\\revision.ipynb Cell 180'\u001b[0m in \u001b[0;36m<cell line: 5>\u001b[1;34m()\u001b[0m\n\u001b[0;32m      <a href='vscode-notebook-cell:/c%3A/Users/shash/Documents/GitHub/Basic%20to%20master%20in%20Python/revision.ipynb#ch0000179?line=1'>2</a>\u001b[0m     \u001b[39mprint\u001b[39m(kwargs)\n\u001b[0;32m      <a href='vscode-notebook-cell:/c%3A/Users/shash/Documents/GitHub/Basic%20to%20master%20in%20Python/revision.ipynb#ch0000179?line=2'>3</a>\u001b[0m     \u001b[39mreturn\u001b[39;00m \u001b[39msum\u001b[39m(args) \u001b[39m+\u001b[39m \u001b[39msum\u001b[39m(item \u001b[39min\u001b[39;00m kwargs\u001b[39m.\u001b[39mvalues())\n\u001b[1;32m----> <a href='vscode-notebook-cell:/c%3A/Users/shash/Documents/GitHub/Basic%20to%20master%20in%20Python/revision.ipynb#ch0000179?line=4'>5</a>\u001b[0m \u001b[39mprint\u001b[39m(super_func(\u001b[39m1\u001b[39;49m,\u001b[39m2\u001b[39;49m,\u001b[39m3\u001b[39;49m,\u001b[39m4\u001b[39;49m,\u001b[39m5\u001b[39;49m, num1\u001b[39m=\u001b[39;49m\u001b[39m5\u001b[39;49m,num2\u001b[39m=\u001b[39;49m\u001b[39m10\u001b[39;49m))\n",
      "\u001b[1;32mc:\\Users\\shash\\Documents\\GitHub\\Basic to master in Python\\revision.ipynb Cell 180'\u001b[0m in \u001b[0;36msuper_func\u001b[1;34m(*args, **kwargs)\u001b[0m\n\u001b[0;32m      <a href='vscode-notebook-cell:/c%3A/Users/shash/Documents/GitHub/Basic%20to%20master%20in%20Python/revision.ipynb#ch0000179?line=0'>1</a>\u001b[0m \u001b[39mdef\u001b[39;00m \u001b[39msuper_func\u001b[39m(\u001b[39m*\u001b[39margs,\u001b[39m*\u001b[39m\u001b[39m*\u001b[39mkwargs):\n\u001b[0;32m      <a href='vscode-notebook-cell:/c%3A/Users/shash/Documents/GitHub/Basic%20to%20master%20in%20Python/revision.ipynb#ch0000179?line=1'>2</a>\u001b[0m     \u001b[39mprint\u001b[39m(kwargs)\n\u001b[1;32m----> <a href='vscode-notebook-cell:/c%3A/Users/shash/Documents/GitHub/Basic%20to%20master%20in%20Python/revision.ipynb#ch0000179?line=2'>3</a>\u001b[0m     \u001b[39mreturn\u001b[39;00m \u001b[39msum\u001b[39m(args) \u001b[39m+\u001b[39m \u001b[39msum\u001b[39;49m(item \u001b[39min\u001b[39;49;00m kwargs\u001b[39m.\u001b[39;49mvalues())\n",
      "\u001b[1;31mTypeError\u001b[0m: 'bool' object is not iterable"
     ]
    }
   ],
   "source": [
    "def super_func(*args,**kwargs):\n",
    "    print(kwargs)\n",
    "    return sum(args) + sum(item in kwargs.values())\n",
    "\n",
    "print(super_func(1,2,3,4,5, num1=5,num2=10))\n",
    "\n",
    "#sum return to 15\n"
   ]
  },
  {
   "cell_type": "code",
   "execution_count": null,
   "metadata": {},
   "outputs": [],
   "source": [
    "# ordering rule:\n",
    "\n",
    "#     params,\n",
    "#     *args,\n",
    "#     default parameters,\n",
    "#     **kwargs"
   ]
  },
  {
   "cell_type": "code",
   "execution_count": null,
   "metadata": {},
   "outputs": [
    {
     "data": {
      "text/plain": [
       "14"
      ]
     },
     "execution_count": 80,
     "metadata": {},
     "output_type": "execute_result"
    }
   ],
   "source": [
    "def heighest_even(li):\n",
    "    evens=[]\n",
    "    for item in li:\n",
    "        if item % 2== 0:\n",
    "            evens.append(item)\n",
    "    return max(evens)\n",
    "\n",
    "heighest_even([10,2,3,4,5,6,7,8,11,12,14])"
   ]
  },
  {
   "cell_type": "code",
   "execution_count": null,
   "metadata": {},
   "outputs": [
    {
     "name": "stdout",
     "output_type": "stream",
     "text": [
      "1\n",
      "5\n"
     ]
    }
   ],
   "source": [
    "# Scope -> what variable do I have access to ?\n",
    "\n",
    "a=1\n",
    "\n",
    "def confusion():\n",
    "    a=5\n",
    "    return a\n",
    "print(a)\n",
    "print(confusion())"
   ]
  },
  {
   "cell_type": "code",
   "execution_count": null,
   "metadata": {},
   "outputs": [],
   "source": [
    "# 1 - start with local\n",
    "# 2 - Parent local?\n",
    "# 3 - Global\n",
    "# 4 - built in python functions\n",
    "# parameter is consider as local variable"
   ]
  },
  {
   "cell_type": "code",
   "execution_count": null,
   "metadata": {},
   "outputs": [],
   "source": [
    "# oops"
   ]
  },
  {
   "cell_type": "code",
   "execution_count": null,
   "metadata": {},
   "outputs": [
    {
     "name": "stdout",
     "output_type": "stream",
     "text": [
      "<__main__.BigObject object at 0x000001DB88CC0CA0>\n"
     ]
    },
    {
     "data": {
      "text/plain": [
       "__main__.BigObject"
      ]
     },
     "execution_count": 84,
     "metadata": {},
     "output_type": "execute_result"
    }
   ],
   "source": [
    "class BigObject:        # class\n",
    "    pass\n",
    "\n",
    "obj1 = BigObject()  # instantiate\n",
    "print(obj1)\n",
    "\n",
    "BigObject"
   ]
  },
  {
   "cell_type": "code",
   "execution_count": null,
   "metadata": {},
   "outputs": [
    {
     "name": "stdout",
     "output_type": "stream",
     "text": [
      "<__main__.Playercharacter object at 0x000001DB87B9C700>\n",
      "shashwat\n",
      "22\n",
      "50\n",
      "pal\n",
      "Help on class list in module builtins:\n",
      "\n",
      "class list(object)\n",
      " |  list(iterable=(), /)\n",
      " |  \n",
      " |  Built-in mutable sequence.\n",
      " |  \n",
      " |  If no argument is given, the constructor creates a new empty list.\n",
      " |  The argument must be an iterable if specified.\n",
      " |  \n",
      " |  Methods defined here:\n",
      " |  \n",
      " |  __add__(self, value, /)\n",
      " |      Return self+value.\n",
      " |  \n",
      " |  __contains__(self, key, /)\n",
      " |      Return key in self.\n",
      " |  \n",
      " |  __delitem__(self, key, /)\n",
      " |      Delete self[key].\n",
      " |  \n",
      " |  __eq__(self, value, /)\n",
      " |      Return self==value.\n",
      " |  \n",
      " |  __ge__(self, value, /)\n",
      " |      Return self>=value.\n",
      " |  \n",
      " |  __getattribute__(self, name, /)\n",
      " |      Return getattr(self, name).\n",
      " |  \n",
      " |  __getitem__(...)\n",
      " |      x.__getitem__(y) <==> x[y]\n",
      " |  \n",
      " |  __gt__(self, value, /)\n",
      " |      Return self>value.\n",
      " |  \n",
      " |  __iadd__(self, value, /)\n",
      " |      Implement self+=value.\n",
      " |  \n",
      " |  __imul__(self, value, /)\n",
      " |      Implement self*=value.\n",
      " |  \n",
      " |  __init__(self, /, *args, **kwargs)\n",
      " |      Initialize self.  See help(type(self)) for accurate signature.\n",
      " |  \n",
      " |  __iter__(self, /)\n",
      " |      Implement iter(self).\n",
      " |  \n",
      " |  __le__(self, value, /)\n",
      " |      Return self<=value.\n",
      " |  \n",
      " |  __len__(self, /)\n",
      " |      Return len(self).\n",
      " |  \n",
      " |  __lt__(self, value, /)\n",
      " |      Return self<value.\n",
      " |  \n",
      " |  __mul__(self, value, /)\n",
      " |      Return self*value.\n",
      " |  \n",
      " |  __ne__(self, value, /)\n",
      " |      Return self!=value.\n",
      " |  \n",
      " |  __repr__(self, /)\n",
      " |      Return repr(self).\n",
      " |  \n",
      " |  __reversed__(self, /)\n",
      " |      Return a reverse iterator over the list.\n",
      " |  \n",
      " |  __rmul__(self, value, /)\n",
      " |      Return value*self.\n",
      " |  \n",
      " |  __setitem__(self, key, value, /)\n",
      " |      Set self[key] to value.\n",
      " |  \n",
      " |  __sizeof__(self, /)\n",
      " |      Return the size of the list in memory, in bytes.\n",
      " |  \n",
      " |  append(self, object, /)\n",
      " |      Append object to the end of the list.\n",
      " |  \n",
      " |  clear(self, /)\n",
      " |      Remove all items from list.\n",
      " |  \n",
      " |  copy(self, /)\n",
      " |      Return a shallow copy of the list.\n",
      " |  \n",
      " |  count(self, value, /)\n",
      " |      Return number of occurrences of value.\n",
      " |  \n",
      " |  extend(self, iterable, /)\n",
      " |      Extend list by appending elements from the iterable.\n",
      " |  \n",
      " |  index(self, value, start=0, stop=9223372036854775807, /)\n",
      " |      Return first index of value.\n",
      " |      \n",
      " |      Raises ValueError if the value is not present.\n",
      " |  \n",
      " |  insert(self, index, object, /)\n",
      " |      Insert object before index.\n",
      " |  \n",
      " |  pop(self, index=-1, /)\n",
      " |      Remove and return item at index (default last).\n",
      " |      \n",
      " |      Raises IndexError if list is empty or index is out of range.\n",
      " |  \n",
      " |  remove(self, value, /)\n",
      " |      Remove first occurrence of value.\n",
      " |      \n",
      " |      Raises ValueError if the value is not present.\n",
      " |  \n",
      " |  reverse(self, /)\n",
      " |      Reverse *IN PLACE*.\n",
      " |  \n",
      " |  sort(self, /, *, key=None, reverse=False)\n",
      " |      Sort the list in ascending order and return None.\n",
      " |      \n",
      " |      The sort is in-place (i.e. the list itself is modified) and stable (i.e. the\n",
      " |      order of two equal elements is maintained).\n",
      " |      \n",
      " |      If a key function is given, apply it once to each list item and sort them,\n",
      " |      ascending or descending, according to their function values.\n",
      " |      \n",
      " |      The reverse flag can be set to sort in descending order.\n",
      " |  \n",
      " |  ----------------------------------------------------------------------\n",
      " |  Class methods defined here:\n",
      " |  \n",
      " |  __class_getitem__(...) from builtins.type\n",
      " |      See PEP 585\n",
      " |  \n",
      " |  ----------------------------------------------------------------------\n",
      " |  Static methods defined here:\n",
      " |  \n",
      " |  __new__(*args, **kwargs) from builtins.type\n",
      " |      Create and return a new object.  See help(type) for accurate signature.\n",
      " |  \n",
      " |  ----------------------------------------------------------------------\n",
      " |  Data and other attributes defined here:\n",
      " |  \n",
      " |  __hash__ = None\n",
      "\n"
     ]
    }
   ],
   "source": [
    "class Playercharacter:\n",
    "    def __init__(self,name,age):\n",
    "        self.name=name    # attributes\n",
    "        self.age=age\n",
    "\n",
    "\n",
    "    def run(self):\n",
    "        print('run')\n",
    "\n",
    "player1=Playercharacter('shashwat',22)\n",
    "player2=Playercharacter('pal',23)\n",
    "\n",
    "print(player1)\n",
    "print(player1.name)\n",
    "print(player1.age)\n",
    "\n",
    "player2.attack=50\n",
    "\n",
    "print(player2.attack)\n",
    "\n",
    "print(player2.name)\n",
    "\n",
    "help(list)"
   ]
  },
  {
   "cell_type": "code",
   "execution_count": null,
   "metadata": {},
   "outputs": [
    {
     "name": "stdout",
     "output_type": "stream",
     "text": [
      "<__main__.PlayerCharacter object at 0x000001DB87BABF40>\n",
      "pal\n",
      "True\n",
      "True\n",
      "run\n",
      "done\n",
      "None\n"
     ]
    }
   ],
   "source": [
    "# class object\n",
    "\n",
    "class PlayerCharacter:\n",
    "        #class object attributes\n",
    "        membership = True       #static\n",
    "        \n",
    "        def __init__(self,name,age):\n",
    "            self.name = name   #attributes\n",
    "            self.age = age\n",
    "            \n",
    "        def run(self):\n",
    "            print('run')\n",
    "            print('done')\n",
    "            \n",
    "player1 = PlayerCharacter('Shashwat', 23)\n",
    "player2 = PlayerCharacter('pal', 44)\n",
    "\n",
    "print(player2)\n",
    "print(player2.name)\n",
    "print(player2.membership)\n",
    "print(player1.membership)\n",
    "\n",
    "print(player2.run())"
   ]
  },
  {
   "cell_type": "code",
   "execution_count": null,
   "metadata": {},
   "outputs": [
    {
     "name": "stdout",
     "output_type": "stream",
     "text": [
      "<__main__.PlayerCharacter object at 0x000001DB87BAB5E0>\n",
      "pal\n",
      "True\n",
      "True\n",
      "my name is Shashwat\n",
      "None\n",
      "my name is pal\n",
      "None\n"
     ]
    }
   ],
   "source": [
    "class PlayerCharacter:\n",
    "        #class object attributes\n",
    "        membership = True       #static\n",
    "        \n",
    "        def __init__(self,name,age):   # contructor function\n",
    "            if(PlayerCharacter.membership):\n",
    "                self.name = name   #attributes\n",
    "                self.age = age\n",
    "\n",
    "        def shout(self):\n",
    "            print(f'my name is {self.name}')\n",
    "            \n",
    "            \n",
    "player1 = PlayerCharacter('Shashwat', 23)\n",
    "player2 = PlayerCharacter('pal', 44)\n",
    "\n",
    "print(player2)\n",
    "print(player2.name)\n",
    "print(player2.membership)\n",
    "print(player1.membership)\n",
    "\n",
    "print(player1.shout())\n",
    "print(player2.shout())"
   ]
  },
  {
   "cell_type": "code",
   "execution_count": null,
   "metadata": {},
   "outputs": [
    {
     "name": "stdout",
     "output_type": "stream",
     "text": [
      "my name is Shashwat\n",
      "None\n"
     ]
    },
    {
     "ename": "AttributeError",
     "evalue": "'PlayerCharacter' object has no attribute 'name'",
     "output_type": "error",
     "traceback": [
      "\u001b[1;31m---------------------------------------------------------------------------\u001b[0m",
      "\u001b[1;31mAttributeError\u001b[0m                            Traceback (most recent call last)",
      "\u001b[1;32mc:\\Users\\shash\\Documents\\GitHub\\Basic to master in Python\\revision.ipynb Cell 190'\u001b[0m in \u001b[0;36m<cell line: 18>\u001b[1;34m()\u001b[0m\n\u001b[0;32m     <a href='vscode-notebook-cell:/c%3A/Users/shash/Documents/GitHub/Basic%20to%20master%20in%20Python/revision.ipynb#ch0000189?line=14'>15</a>\u001b[0m player2 \u001b[39m=\u001b[39m PlayerCharacter(\u001b[39m'\u001b[39m\u001b[39mpal\u001b[39m\u001b[39m'\u001b[39m, \u001b[39m4\u001b[39m)\n\u001b[0;32m     <a href='vscode-notebook-cell:/c%3A/Users/shash/Documents/GitHub/Basic%20to%20master%20in%20Python/revision.ipynb#ch0000189?line=16'>17</a>\u001b[0m \u001b[39mprint\u001b[39m(player1\u001b[39m.\u001b[39mshout())\n\u001b[1;32m---> <a href='vscode-notebook-cell:/c%3A/Users/shash/Documents/GitHub/Basic%20to%20master%20in%20Python/revision.ipynb#ch0000189?line=17'>18</a>\u001b[0m \u001b[39mprint\u001b[39m(player2\u001b[39m.\u001b[39;49mshout())\n",
      "\u001b[1;32mc:\\Users\\shash\\Documents\\GitHub\\Basic to master in Python\\revision.ipynb Cell 190'\u001b[0m in \u001b[0;36mPlayerCharacter.shout\u001b[1;34m(self)\u001b[0m\n\u001b[0;32m     <a href='vscode-notebook-cell:/c%3A/Users/shash/Documents/GitHub/Basic%20to%20master%20in%20Python/revision.ipynb#ch0000189?line=9'>10</a>\u001b[0m \u001b[39mdef\u001b[39;00m \u001b[39mshout\u001b[39m(\u001b[39mself\u001b[39m):\n\u001b[1;32m---> <a href='vscode-notebook-cell:/c%3A/Users/shash/Documents/GitHub/Basic%20to%20master%20in%20Python/revision.ipynb#ch0000189?line=10'>11</a>\u001b[0m     \u001b[39mprint\u001b[39m(\u001b[39mf\u001b[39m\u001b[39m'\u001b[39m\u001b[39mmy name is \u001b[39m\u001b[39m{\u001b[39;00m\u001b[39mself\u001b[39m\u001b[39m.\u001b[39mname\u001b[39m}\u001b[39;00m\u001b[39m'\u001b[39m)\n",
      "\u001b[1;31mAttributeError\u001b[0m: 'PlayerCharacter' object has no attribute 'name'"
     ]
    }
   ],
   "source": [
    "class PlayerCharacter:\n",
    "        #class object attributes\n",
    "        membership = True       #static\n",
    "        \n",
    "        def __init__(self,name = 'anonymous',age = 0):   # contructor function\n",
    "            if(age>18):\n",
    "                self.name = name   #attributes\n",
    "                self.age = age\n",
    "\n",
    "        def shout(self):\n",
    "            print(f'my name is {self.name}')\n",
    "            \n",
    "            \n",
    "player1 = PlayerCharacter('Shashwat', 23)\n",
    "player2 = PlayerCharacter('pal', 4)\n",
    "\n",
    "print(player1.shout())\n",
    "print(player2.shout())"
   ]
  },
  {
   "cell_type": "code",
   "execution_count": null,
   "metadata": {},
   "outputs": [
    {
     "name": "stdout",
     "output_type": "stream",
     "text": [
      "my name is Shashwat\n",
      "None\n",
      "5\n",
      "5\n"
     ]
    }
   ],
   "source": [
    "class PlayerCharacter:\n",
    "        #class object attributes\n",
    "        membership = True       #static\n",
    "        \n",
    "        def __init__(self,name = 'anonymous',age = 0):   # contructor function\n",
    "            if(age>18):\n",
    "                self.name = name   #attributes\n",
    "                self.age = age\n",
    "\n",
    "        def shout(self):\n",
    "            print(f'my name is {self.name}')\n",
    "        \n",
    "        @classmethod  #decorator  cls->class used as self\n",
    "        \n",
    "        def adding_things(cls,n1,n2):\n",
    "            return n1+n2\n",
    "            \n",
    "            \n",
    "player1 = PlayerCharacter('Shashwat', 23)\n",
    "\n",
    "\n",
    "print(player1.shout())\n",
    "\n",
    "\n",
    "print(player1.adding_things(2,3))\n",
    "\n",
    "print(PlayerCharacter.adding_things(2,3))"
   ]
  },
  {
   "cell_type": "code",
   "execution_count": null,
   "metadata": {},
   "outputs": [
    {
     "name": "stdout",
     "output_type": "stream",
     "text": [
      "my name is Shashwat\n",
      "None\n",
      "<__main__.PlayerCharacter object at 0x000001DB87BD03A0>\n"
     ]
    },
    {
     "ename": "AttributeError",
     "evalue": "'PlayerCharacter' object has no attribute 'age'",
     "output_type": "error",
     "traceback": [
      "\u001b[1;31m---------------------------------------------------------------------------\u001b[0m",
      "\u001b[1;31mAttributeError\u001b[0m                            Traceback (most recent call last)",
      "\u001b[1;32mc:\\Users\\shash\\Documents\\GitHub\\Basic to master in Python\\revision.ipynb Cell 192'\u001b[0m in \u001b[0;36m<cell line: 29>\u001b[1;34m()\u001b[0m\n\u001b[0;32m     <a href='vscode-notebook-cell:/c%3A/Users/shash/Documents/GitHub/Basic%20to%20master%20in%20Python/revision.ipynb#ch0000191?line=24'>25</a>\u001b[0m \u001b[39mprint\u001b[39m(player1\u001b[39m.\u001b[39madding_things(\u001b[39m2\u001b[39m,\u001b[39m3\u001b[39m))\n\u001b[0;32m     <a href='vscode-notebook-cell:/c%3A/Users/shash/Documents/GitHub/Basic%20to%20master%20in%20Python/revision.ipynb#ch0000191?line=26'>27</a>\u001b[0m player3 \u001b[39m=\u001b[39m PlayerCharacter\u001b[39m.\u001b[39madding_things(\u001b[39m5\u001b[39m,\u001b[39m8\u001b[39m)\n\u001b[1;32m---> <a href='vscode-notebook-cell:/c%3A/Users/shash/Documents/GitHub/Basic%20to%20master%20in%20Python/revision.ipynb#ch0000191?line=28'>29</a>\u001b[0m \u001b[39mprint\u001b[39m(player3\u001b[39m.\u001b[39;49mage)\n",
      "\u001b[1;31mAttributeError\u001b[0m: 'PlayerCharacter' object has no attribute 'age'"
     ]
    }
   ],
   "source": [
    "class PlayerCharacter:\n",
    "        #class object attributes\n",
    "        membership = True       #static\n",
    "        \n",
    "        def __init__(self,name = 'anonymous',age = 0):   # contructor function\n",
    "            if(age>18):\n",
    "                self.name = name   #attributes\n",
    "                self.age = age\n",
    "\n",
    "        def shout(self):\n",
    "            print(f'my name is {self.name}')\n",
    "        \n",
    "        @classmethod  #decorator  cls->class used as self\n",
    "        \n",
    "        def adding_things(cls,n1,n2):\n",
    "            return cls('Arnav',n1+n2)\n",
    "            \n",
    "            \n",
    "player1 = PlayerCharacter('Shashwat', 23)\n",
    "\n",
    "\n",
    "print(player1.shout())\n",
    "\n",
    "\n",
    "print(player1.adding_things(2,3))\n",
    "\n",
    "player3 = PlayerCharacter.adding_things(5,8)\n",
    "\n",
    "print(player3.age)"
   ]
  },
  {
   "cell_type": "code",
   "execution_count": null,
   "metadata": {},
   "outputs": [
    {
     "ename": "SyntaxError",
     "evalue": "invalid syntax (1159692686.py, line 2)",
     "output_type": "error",
     "traceback": [
      "\u001b[1;36m  Input \u001b[1;32mIn [96]\u001b[1;36m\u001b[0m\n\u001b[1;33m    class attribute = 'value'\u001b[0m\n\u001b[1;37m                    ^\u001b[0m\n\u001b[1;31mSyntaxError\u001b[0m\u001b[1;31m:\u001b[0m invalid syntax\n"
     ]
    }
   ],
   "source": [
    "class PlayerCharacter:\n",
    "       class attribute = 'value'\n",
    "        def __init__(self,name = 'anonymous',age = 0):   # contructor function\n",
    "           \n",
    "                self.param1 = param1\n",
    "                self.param2 = param2\n",
    "                \n",
    "        def method(self):\n",
    "            #code\n",
    "            \n",
    "        @classmethod  #decorator  cls->class used as self\n",
    "        \n",
    "        def cls_method(cls, param1, param2):\n",
    "            #code\n",
    "            \n",
    "        @staticmethos\n",
    "        \n",
    "        def stc_method(param1, param2):\n",
    "            #code\n",
    "            \n",
    "player1 = PlayerCharacter('Shashwat', 23)\n",
    "\n"
   ]
  },
  {
   "cell_type": "code",
   "execution_count": null,
   "metadata": {},
   "outputs": [
    {
     "name": "stdout",
     "output_type": "stream",
     "text": [
      "my name is Shashwat, and I am 23 year old\n"
     ]
    }
   ],
   "source": [
    "#  1. Encapsulation\n",
    "\n",
    "class PlayerCharacter:\n",
    "    def __init__(self,name,age):\n",
    "        self.name = name\n",
    "        self.age = age\n",
    "        \n",
    "    def run(self):\n",
    "        print('run')\n",
    "        \n",
    "    def speak(self):\n",
    "        print(f'my name is {self.name}, and I am {self.age} year old')\n",
    "        \n",
    "player1 = PlayerCharacter('Shashwat', 23)\n",
    "player1.speak()"
   ]
  },
  {
   "cell_type": "code",
   "execution_count": null,
   "metadata": {},
   "outputs": [
    {
     "name": "stdout",
     "output_type": "stream",
     "text": [
      "2\n",
      "5\n",
      "pal\n",
      "my name is Shashwat, and I am 23 year old\n",
      "None\n",
      "Shashwat\n"
     ]
    }
   ],
   "source": [
    "#  2. Abstraction\n",
    "\n",
    "class PlayerCharacter:\n",
    "    def __init__(self,name,age):\n",
    "        self._name = name       # _ is used for private\n",
    "        self._age = age\n",
    "        \n",
    "    def run(self):\n",
    "        print('run')\n",
    "        \n",
    "    def speak(self):\n",
    "        print(f'my name is {self._name}, and I am {self._age} year old')\n",
    "        \n",
    "player1 = PlayerCharacter('Shashwat', 23)\n",
    "player1.name='pal'\n",
    "\n",
    "print((1,2,3,4,1).count(1))\n",
    "print(len((1,2,3,4,5)))\n",
    "\n",
    "print(player1.name)\n",
    "print(player1.speak())\n",
    "print(player1._name)"
   ]
  },
  {
   "cell_type": "code",
   "execution_count": null,
   "metadata": {},
   "outputs": [
    {
     "ename": "TypeError",
     "evalue": "__init__() missing 2 required positional arguments: 'name' and 'power'",
     "output_type": "error",
     "traceback": [
      "\u001b[1;31m---------------------------------------------------------------------------\u001b[0m",
      "\u001b[1;31mTypeError\u001b[0m                                 Traceback (most recent call last)",
      "\u001b[1;32mc:\\Users\\shash\\Documents\\GitHub\\Basic to master in Python\\revision.ipynb Cell 196'\u001b[0m in \u001b[0;36m<cell line: 24>\u001b[1;34m()\u001b[0m\n\u001b[0;32m     <a href='vscode-notebook-cell:/c%3A/Users/shash/Documents/GitHub/Basic%20to%20master%20in%20Python/revision.ipynb#ch0000195?line=19'>20</a>\u001b[0m     \u001b[39mdef\u001b[39;00m \u001b[39mattack\u001b[39m(\u001b[39mself\u001b[39m):\n\u001b[0;32m     <a href='vscode-notebook-cell:/c%3A/Users/shash/Documents/GitHub/Basic%20to%20master%20in%20Python/revision.ipynb#ch0000195?line=20'>21</a>\u001b[0m         \u001b[39mprint\u001b[39m(\u001b[39mf\u001b[39m\u001b[39m'\u001b[39m\u001b[39mattacking with arrows: arrows left - \u001b[39m\u001b[39m{\u001b[39;00m\u001b[39mself\u001b[39m\u001b[39m.\u001b[39mnum_arrows \u001b[39m}\u001b[39;00m\u001b[39m'\u001b[39m)\n\u001b[1;32m---> <a href='vscode-notebook-cell:/c%3A/Users/shash/Documents/GitHub/Basic%20to%20master%20in%20Python/revision.ipynb#ch0000195?line=23'>24</a>\u001b[0m wizard1 \u001b[39m=\u001b[39m Wizard()\n\u001b[0;32m     <a href='vscode-notebook-cell:/c%3A/Users/shash/Documents/GitHub/Basic%20to%20master%20in%20Python/revision.ipynb#ch0000195?line=24'>25</a>\u001b[0m \u001b[39mprint\u001b[39m(wizard1\u001b[39m.\u001b[39msign_in())\n",
      "\u001b[1;31mTypeError\u001b[0m: __init__() missing 2 required positional arguments: 'name' and 'power'"
     ]
    }
   ],
   "source": [
    "# 3. Inheritance\n",
    "\n",
    "class User:\n",
    "    def sign_in(self):\n",
    "        print('logged in')\n",
    "        \n",
    "class Wizard(User):\n",
    "    def __init__(self,name,power):\n",
    "        self.name = name\n",
    "        self.power = power\n",
    "        \n",
    "    def attack(self):\n",
    "        print(f'attacking with power of {self.power}')\n",
    "\n",
    "class Archer(User):\n",
    "    def __init__(self,name,num_arrows ):\n",
    "        self.name = name\n",
    "        self.num_arrows  = num_arrows \n",
    "        \n",
    "    def attack(self):\n",
    "        print(f'attacking with arrows: arrows left - {self.num_arrows }')\n",
    "\n",
    "\n",
    "wizard1 = Wizard()\n",
    "print(wizard1.sign_in())\n"
   ]
  },
  {
   "cell_type": "code",
   "execution_count": null,
   "metadata": {},
   "outputs": [
    {
     "name": "stdout",
     "output_type": "stream",
     "text": [
      "attacking with power of 50\n",
      "attacking with arrows: arrows left - 100\n"
     ]
    }
   ],
   "source": [
    "# 3. Inheritance\n",
    "\n",
    "class User:\n",
    "    def sign_in(self):\n",
    "        print('logged in')\n",
    "        \n",
    "class Wizard(User):\n",
    "    def __init__(self,name,power):\n",
    "        self.name = name\n",
    "        self.power = power\n",
    "        \n",
    "    def attack(self):\n",
    "        print(f'attacking with power of {self.power}')\n",
    "\n",
    "class Archer(User):\n",
    "    def __init__(self,name,num_arrows ):\n",
    "        self.name = name\n",
    "        self.num_arrows  = num_arrows \n",
    "        \n",
    "    def attack(self):\n",
    "        print(f'attacking with arrows: arrows left - {self.num_arrows }')\n",
    "\n",
    "\n",
    "wizard1 = Wizard('Merlin', 50)\n",
    "archer1 = Archer('Robin', 100)\n",
    "wizard1.attack()\n",
    "archer1.attack()\n",
    "\n"
   ]
  },
  {
   "cell_type": "code",
   "execution_count": null,
   "metadata": {},
   "outputs": [
    {
     "ename": "SyntaxError",
     "evalue": "invalid syntax (501789544.py, line 24)",
     "output_type": "error",
     "traceback": [
      "\u001b[1;36m  Input \u001b[1;32mIn [102]\u001b[1;36m\u001b[0m\n\u001b[1;33m    isinstance(instance,class)\u001b[0m\n\u001b[1;37m                        ^\u001b[0m\n\u001b[1;31mSyntaxError\u001b[0m\u001b[1;31m:\u001b[0m invalid syntax\n"
     ]
    }
   ],
   "source": [
    "# 3. Inheritance\n",
    "\n",
    "class User:\n",
    "    def sign_in(self):\n",
    "        print('logged in')\n",
    "        \n",
    "class Wizard(User):\n",
    "    def __init__(self,name,power):\n",
    "        self.name = name\n",
    "        self.power = power\n",
    "        \n",
    "    def attack(self):\n",
    "        print(f'attacking with power of {self.power}')\n",
    "\n",
    "class Archer(User):\n",
    "    def __init__(self,name,num_arrows ):\n",
    "        self.name = name\n",
    "        self.num_arrows  = num_arrows \n",
    "        \n",
    "    def attack(self):\n",
    "        print(f'attacking with arrows: arrows left - {self.num_arrows }')\n",
    "\n",
    "\n",
    "isinstance(instance,class)\n"
   ]
  },
  {
   "cell_type": "code",
   "execution_count": null,
   "metadata": {},
   "outputs": [
    {
     "name": "stdout",
     "output_type": "stream",
     "text": [
      "True\n",
      "True\n"
     ]
    }
   ],
   "source": [
    "# 3. Inheritance\n",
    "\n",
    "class User:\n",
    "    def sign_in(self):\n",
    "        print('logged in')\n",
    "        \n",
    "class Wizard(User):\n",
    "    def __init__(self,name,power):\n",
    "        self.name = name\n",
    "        self.power = power\n",
    "        \n",
    "    def attack(self):\n",
    "        print(f'attacking with power of {self.power}')\n",
    "\n",
    "class Archer(User):\n",
    "    def __init__(self,name,num_arrows ):\n",
    "        self.name = name\n",
    "        self.num_arrows  = num_arrows \n",
    "        \n",
    "    def attack(self):\n",
    "        print(f'attacking with arrows: arrows left - {self.num_arrows }')\n",
    "\n",
    "wizard1 = Wizard(\"Merlin\",60)\n",
    "print(isinstance(wizard1,Wizard))\n",
    "\n",
    "print(isinstance(wizard1,User))\n"
   ]
  },
  {
   "cell_type": "code",
   "execution_count": null,
   "metadata": {},
   "outputs": [
    {
     "name": "stdout",
     "output_type": "stream",
     "text": [
      "True\n"
     ]
    }
   ],
   "source": [
    "# 3. Inheritance\n",
    "\n",
    "class User:\n",
    "    def sign_in(self):\n",
    "        print('logged in')\n",
    "        \n",
    "class Wizard(User):\n",
    "    def __init__(self,name,power):\n",
    "        self.name = name\n",
    "        self.power = power\n",
    "        \n",
    "    def attack(self):\n",
    "        print(f'attacking with power of {self.power}')\n",
    "\n",
    "class Archer(User):\n",
    "    def __init__(self,name,num_arrows ):\n",
    "        self.name = name\n",
    "        self.num_arrows  = num_arrows \n",
    "        \n",
    "    def attack(self):\n",
    "        print(f'attacking with arrows: arrows left - {self.num_arrows }')\n",
    "\n",
    "wizard1 = Wizard(\"Merlin\",60)\n",
    "print(isinstance(wizard1, object))\n"
   ]
  },
  {
   "cell_type": "code",
   "execution_count": null,
   "metadata": {},
   "outputs": [
    {
     "name": "stdout",
     "output_type": "stream",
     "text": [
      "True\n"
     ]
    }
   ],
   "source": [
    "# 3. Inheritance\n",
    "\n",
    "class User(object):\n",
    "    def sign_in(self):\n",
    "        print('logged in')\n",
    "        \n",
    "class Wizard(User):\n",
    "    def __init__(self,name,power):\n",
    "        self.name = name\n",
    "        self.power = power\n",
    "        \n",
    "    def attack(self):\n",
    "        print(f'attacking with power of {self.power}')\n",
    "\n",
    "class Archer(User):\n",
    "    def __init__(self,name,num_arrows ):\n",
    "        self.name = name\n",
    "        self.num_arrows  = num_arrows \n",
    "        \n",
    "    def attack(self):\n",
    "        print(f'attacking with arrows: arrows left - {self.num_arrows }')\n",
    "\n",
    "wizard1 = Wizard(\"Merlin\",60)\n",
    "print(isinstance(wizard1, object))\n"
   ]
  },
  {
   "cell_type": "code",
   "execution_count": null,
   "metadata": {},
   "outputs": [
    {
     "name": "stdout",
     "output_type": "stream",
     "text": [
      "merlin@gmail.com\n"
     ]
    }
   ],
   "source": [
    "# 4. Polymorphism\n",
    "\n",
    "# super() without super\n",
    "\n",
    "class User(object):\n",
    "    def __init__(self, email):\n",
    "        self.email = email\n",
    "        \n",
    "    def sign_in(self):\n",
    "        print('logged in')\n",
    "        \n",
    "class Wizard(User):\n",
    "    def __init__(self, name, power, email):\n",
    "        User.__init__(self,email)\n",
    "        self.name = name\n",
    "        self.power = power\n",
    "\n",
    "class Archer(User):\n",
    "    def __init__(self,name,num_arrows ):\n",
    "        self.name = name\n",
    "        self.num_arrows  = num_arrows \n",
    "        \n",
    "    def attack(self):\n",
    "        print(f'attacking with arrows: arrows left - {self.num_arrows }')\n",
    "\n",
    "wizard1 = Wizard(\"Merlin\",60,'merlin@gmail.com')\n",
    "print(wizard1.email)"
   ]
  },
  {
   "cell_type": "code",
   "execution_count": null,
   "metadata": {},
   "outputs": [
    {
     "name": "stdout",
     "output_type": "stream",
     "text": [
      "merlin@gmail.com\n"
     ]
    }
   ],
   "source": [
    "# super() other method\n",
    "\n",
    "class User(object):\n",
    "    def __init__(self, email):\n",
    "        self.email = email\n",
    "        \n",
    "    def sign_in(self):\n",
    "        print('logged in')\n",
    "        \n",
    "class Wizard(User):\n",
    "    def __init__(self, name, power, email):\n",
    "        super().__init__(email)\n",
    "        self.name = name\n",
    "        self.power = power\n",
    "\n",
    "class Archer(User):\n",
    "    def __init__(self,name,num_arrows ):\n",
    "        self.name = name\n",
    "        self.num_arrows  = num_arrows \n",
    "        \n",
    "    def attack(self):\n",
    "        print(f'attacking with arrows: arrows left - {self.num_arrows }')\n",
    "\n",
    "wizard1 = Wizard(\"Merlin\",60,'merlin@gmail.com')\n",
    "print(wizard1.email)"
   ]
  },
  {
   "cell_type": "code",
   "execution_count": null,
   "metadata": {},
   "outputs": [
    {
     "name": "stdout",
     "output_type": "stream",
     "text": [
      "['__class__', '__delattr__', '__dict__', '__dir__', '__doc__', '__eq__', '__format__', '__ge__', '__getattribute__', '__gt__', '__hash__', '__init__', '__init_subclass__', '__le__', '__lt__', '__module__', '__ne__', '__new__', '__reduce__', '__reduce_ex__', '__repr__', '__setattr__', '__sizeof__', '__str__', '__subclasshook__', '__weakref__', 'email', 'name', 'power', 'sign_in']\n"
     ]
    }
   ],
   "source": [
    "#  Introspection\n",
    "\n",
    "#   '''In computer programming means the ability to determine the type of an object at runtime.\n",
    "\n",
    "print(dir(wizard1))"
   ]
  },
  {
   "cell_type": "code",
   "execution_count": null,
   "metadata": {},
   "outputs": [
    {
     "name": "stdout",
     "output_type": "stream",
     "text": [
      "<__main__.Toy object at 0x000001DB87C1E760>\n",
      "<__main__.Toy object at 0x000001DB87C1E760>\n"
     ]
    }
   ],
   "source": [
    " # dunder method\n",
    "    \n",
    "class Toy():\n",
    "    def __init__(self,color,age):\n",
    "        self.color=color\n",
    "        self.age=age\n",
    "        \n",
    "action_figure = Toy('red',0)\n",
    "print(action_figure.__str__())\n",
    "\n",
    "#same as\n",
    "\n",
    "print(str(action_figure))"
   ]
  },
  {
   "cell_type": "code",
   "execution_count": null,
   "metadata": {},
   "outputs": [
    {
     "name": "stdout",
     "output_type": "stream",
     "text": [
      "<__main__.Toy object at 0x000001DB87C0C580>\n",
      "<__main__.Toy object at 0x000001DB87C0C580>\n"
     ]
    }
   ],
   "source": [
    " # dunder method\n",
    "    \n",
    "class Toy():\n",
    "    def __init__(self,color,age):\n",
    "        self.color=color\n",
    "        self.age=age\n",
    "        \n",
    "        \n",
    "        def __str__(self):\n",
    "            return (f'{self.color}')\n",
    "        \n",
    "        \n",
    "action_figure = Toy('red',0)\n",
    "print(action_figure.__str__())\n",
    "\n",
    "#same as\n",
    "\n",
    "print(str(action_figure))\n",
    "\n",
    "# output should be red"
   ]
  },
  {
   "cell_type": "code",
   "execution_count": null,
   "metadata": {},
   "outputs": [
    {
     "name": "stdout",
     "output_type": "stream",
     "text": [
      "<__main__.Toy object at 0x000001DB87BD0160>\n",
      "<__main__.Toy object at 0x000001DB87BD0160>\n"
     ]
    },
    {
     "ename": "TypeError",
     "evalue": "object of type 'Toy' has no len()",
     "output_type": "error",
     "traceback": [
      "\u001b[1;31m---------------------------------------------------------------------------\u001b[0m",
      "\u001b[1;31mTypeError\u001b[0m                                 Traceback (most recent call last)",
      "\u001b[1;32mc:\\Users\\shash\\Documents\\GitHub\\Basic to master in Python\\revision.ipynb Cell 207'\u001b[0m in \u001b[0;36m<cell line: 24>\u001b[1;34m()\u001b[0m\n\u001b[0;32m     <a href='vscode-notebook-cell:/c%3A/Users/shash/Documents/GitHub/Basic%20to%20master%20in%20Python/revision.ipynb#ch0000206?line=19'>20</a>\u001b[0m \u001b[39mprint\u001b[39m(\u001b[39mstr\u001b[39m(action_figure))\n\u001b[0;32m     <a href='vscode-notebook-cell:/c%3A/Users/shash/Documents/GitHub/Basic%20to%20master%20in%20Python/revision.ipynb#ch0000206?line=21'>22</a>\u001b[0m \u001b[39m# output should be red\u001b[39;00m\n\u001b[1;32m---> <a href='vscode-notebook-cell:/c%3A/Users/shash/Documents/GitHub/Basic%20to%20master%20in%20Python/revision.ipynb#ch0000206?line=23'>24</a>\u001b[0m \u001b[39mprint\u001b[39m(\u001b[39mlen\u001b[39;49m(action_figure))\n",
      "\u001b[1;31mTypeError\u001b[0m: object of type 'Toy' has no len()"
     ]
    }
   ],
   "source": [
    " # dunder method\n",
    "    \n",
    "class Toy():\n",
    "    def __init__(self,color,age):\n",
    "        self.color = color\n",
    "        self.age = age\n",
    "        \n",
    "        \n",
    "        def __str__(self):\n",
    "            return (f'{self.color}')\n",
    "        \n",
    "        def __len__(self):\n",
    "            return 5\n",
    "        \n",
    "action_figure = Toy('red',0)\n",
    "print(action_figure.__str__())\n",
    "\n",
    "#same as\n",
    "\n",
    "print(str(action_figure))\n",
    "\n",
    "# output should be red\n",
    "\n",
    "print(len(action_figure))"
   ]
  },
  {
   "cell_type": "code",
   "execution_count": null,
   "metadata": {},
   "outputs": [
    {
     "name": "stdout",
     "output_type": "stream",
     "text": [
      "1\n",
      "[<class '__main__.D'>, <class '__main__.B'>, <class '__main__.C'>, <class '__main__.A'>, <class 'object'>]\n"
     ]
    }
   ],
   "source": [
    "# multiple inheritance\n",
    "\n",
    "#    MRO- Method Resolution Order\n",
    "\n",
    "class A:\n",
    "    num = 10\n",
    "    \n",
    "class B(A):\n",
    "    pass\n",
    "\n",
    "class C(A):\n",
    "    num = 1\n",
    "    \n",
    "class D(B,C):\n",
    "    pass\n",
    "\n",
    "print(D.num)\n",
    "\n",
    "print(D.mro())"
   ]
  },
  {
   "cell_type": "code",
   "execution_count": null,
   "metadata": {},
   "outputs": [
    {
     "name": "stdout",
     "output_type": "stream",
     "text": [
      "[2, 4, 6, 8]\n"
     ]
    }
   ],
   "source": [
    "# functional programming\n",
    "\n",
    "def multi_by2(li):\n",
    "    new_list = []\n",
    "    for item in li:\n",
    "        new_list.append(item*2)\n",
    "    return new_list\n",
    "\n",
    "print(multi_by2([1,2,3,4]))"
   ]
  },
  {
   "cell_type": "code",
   "execution_count": null,
   "metadata": {},
   "outputs": [
    {
     "name": "stdout",
     "output_type": "stream",
     "text": [
      "[2, 4, 6, 8]\n"
     ]
    }
   ],
   "source": [
    "# pure function\n",
    "\n",
    "#   map, filter, zip, reduce\n",
    "\n",
    "# map(action, [1,2,3])\n",
    "\n",
    "def multi_by2(item):\n",
    "    return item*2\n",
    "print(list(map(multi_by2,[1,2,3,4])))"
   ]
  },
  {
   "cell_type": "code",
   "execution_count": null,
   "metadata": {},
   "outputs": [
    {
     "name": "stdout",
     "output_type": "stream",
     "text": [
      "[2, 4, 6]\n",
      "[1, 2, 3]\n"
     ]
    }
   ],
   "source": [
    "my_list = [1,2,3]\n",
    "def multi_by2(item):\n",
    "    return item*2\n",
    "print(list(map(multi_by2,my_list)))\n",
    "print(my_list)"
   ]
  },
  {
   "cell_type": "code",
   "execution_count": null,
   "metadata": {},
   "outputs": [
    {
     "name": "stdout",
     "output_type": "stream",
     "text": [
      "[1, 3]\n",
      "[2, 4, 6]\n",
      "[1, 2, 3]\n"
     ]
    }
   ],
   "source": [
    "#  filter\n",
    "\n",
    "my_list = [1,2,3]\n",
    "\n",
    "def multi_by2(item):\n",
    "    return item*2\n",
    "\n",
    "def only_odd(item):\n",
    "    return item%2 != 0\n",
    "\n",
    "print(list(filter(only_odd,my_list)))\n",
    "\n",
    "print(list(map(multi_by2,my_list)))\n",
    "\n",
    "print(my_list)"
   ]
  },
  {
   "cell_type": "code",
   "execution_count": null,
   "metadata": {},
   "outputs": [
    {
     "name": "stdout",
     "output_type": "stream",
     "text": [
      "[(1, 10), (2, 20), (3, 30)]\n",
      "[1, 3]\n",
      "[2, 4, 6]\n",
      "[1, 2, 3]\n"
     ]
    }
   ],
   "source": [
    "#  zip()\n",
    "\n",
    "my_list = [1,2,3]\n",
    "your_list = [10,20,30]\n",
    "\n",
    "def multi_by2(item):\n",
    "    return item*2\n",
    "\n",
    "def only_odd(item):\n",
    "    return item%2 != 0\n",
    "\n",
    "print(list(zip(my_list, your_list)))\n",
    "\n",
    "print(list(filter(only_odd,my_list)))\n",
    "\n",
    "print(list(map(multi_by2,my_list)))\n",
    "\n",
    "print(my_list)"
   ]
  },
  {
   "cell_type": "code",
   "execution_count": null,
   "metadata": {},
   "outputs": [
    {
     "name": "stdout",
     "output_type": "stream",
     "text": [
      "[(1, 10), (2, 20), (3, 30)]\n",
      "[1, 3]\n",
      "[2, 4, 6]\n",
      "[1, 2, 3]\n"
     ]
    }
   ],
   "source": [
    "#  zip()\n",
    "\n",
    "my_list = [1,2,3]\n",
    "your_list = (10,20,30)\n",
    "\n",
    "def multi_by2(item):\n",
    "    return item*2\n",
    "\n",
    "def only_odd(item):\n",
    "    return item%2 != 0\n",
    "\n",
    "print(list(zip(my_list, your_list)))\n",
    "\n",
    "print(list(filter(only_odd,my_list)))\n",
    "\n",
    "print(list(map(multi_by2,my_list)))\n",
    "\n",
    "print(my_list)"
   ]
  },
  {
   "cell_type": "code",
   "execution_count": null,
   "metadata": {},
   "outputs": [],
   "source": [
    "# reduced\n",
    "\n",
    "from functools import reduce"
   ]
  },
  {
   "cell_type": "code",
   "execution_count": null,
   "metadata": {},
   "outputs": [
    {
     "name": "stdout",
     "output_type": "stream",
     "text": [
      "0 1\n",
      "1 2\n",
      "3 3\n",
      "6\n",
      "[1, 2, 3]\n"
     ]
    }
   ],
   "source": [
    "my_list = [1,2,3]\n",
    "\n",
    "def multi_by2(item):\n",
    "    return item*2\n",
    "\n",
    "def only_odd(item):\n",
    "    return item%2 != 0\n",
    "\n",
    "def accumulator(acc,item):\n",
    "    print(acc,item)\n",
    "    return acc + item\n",
    "\n",
    "print(reduce(accumulator,my_list,0))\n",
    "print(my_list)\n"
   ]
  },
  {
   "cell_type": "code",
   "execution_count": null,
   "metadata": {},
   "outputs": [
    {
     "name": "stdout",
     "output_type": "stream",
     "text": [
      "[2, 4, 6]\n"
     ]
    }
   ],
   "source": [
    "# lambda expression\n",
    "\n",
    "#  lambda param:action(param)\n",
    "\n",
    "print(list(map(lambda item: item * 2, my_list)))"
   ]
  },
  {
   "cell_type": "code",
   "execution_count": null,
   "metadata": {},
   "outputs": [
    {
     "name": "stdout",
     "output_type": "stream",
     "text": [
      "[25, 16, 9]\n"
     ]
    }
   ],
   "source": [
    "my_list = [5,4,3]\n",
    "\n",
    "print(list(map(lambda item: item**2, my_list)))"
   ]
  },
  {
   "cell_type": "code",
   "execution_count": null,
   "metadata": {},
   "outputs": [
    {
     "data": {
      "text/plain": [
       "[(0, 2), (4, 3), (9, 9), (10, -1)]"
      ]
     },
     "execution_count": 123,
     "metadata": {},
     "output_type": "execute_result"
    }
   ],
   "source": [
    "# list sorting\n",
    "\n",
    "a = [(0,2),(4,3),(10,-1),(9,9)]\n",
    "\n",
    "sorted(a)"
   ]
  },
  {
   "cell_type": "code",
   "execution_count": null,
   "metadata": {},
   "outputs": [
    {
     "name": "stdout",
     "output_type": "stream",
     "text": [
      "[(10, -1), (0, 2), (4, 3), (9, 9)]\n"
     ]
    }
   ],
   "source": [
    "a = [(0,2),(4,3),(10,-1),(9,9)]\n",
    "\n",
    "a.sort(key=lambda x:x[1])\n",
    "print(a)"
   ]
  },
  {
   "cell_type": "code",
   "execution_count": null,
   "metadata": {},
   "outputs": [
    {
     "name": "stdout",
     "output_type": "stream",
     "text": [
      "[(0, 2), (4, 3), (9, 9), (10, -1)]\n"
     ]
    }
   ],
   "source": [
    "a.sort(key=lambda x:x[0])\n",
    "print(a)"
   ]
  },
  {
   "cell_type": "code",
   "execution_count": null,
   "metadata": {},
   "outputs": [
    {
     "data": {
      "text/plain": [
       "['h', 'e', 'l', 'l', 'o']"
      ]
     },
     "execution_count": 128,
     "metadata": {},
     "output_type": "execute_result"
    }
   ],
   "source": [
    "# list, set, dic, comprehension\n",
    "\n",
    "my_list = [char for char in 'hello']\n",
    "\n",
    "my_list"
   ]
  },
  {
   "cell_type": "code",
   "execution_count": null,
   "metadata": {},
   "outputs": [
    {
     "data": {
      "text/plain": [
       "[0, 1, 2, 3, 4, 5, 6, 7, 8, 9, 10]"
      ]
     },
     "execution_count": 129,
     "metadata": {},
     "output_type": "execute_result"
    }
   ],
   "source": [
    "my_list1 = [num for num in range(0,11)]\n",
    "my_list1"
   ]
  },
  {
   "cell_type": "code",
   "execution_count": null,
   "metadata": {},
   "outputs": [
    {
     "data": {
      "text/plain": [
       "[0, 2, 4, 6, 8, 10, 12, 14, 16, 18, 20]"
      ]
     },
     "execution_count": 130,
     "metadata": {},
     "output_type": "execute_result"
    }
   ],
   "source": [
    "my_list2 = [num*2 for num in range(0,11)]\n",
    "my_list2"
   ]
  },
  {
   "cell_type": "code",
   "execution_count": null,
   "metadata": {},
   "outputs": [
    {
     "data": {
      "text/plain": [
       "[0, 1, 4, 9, 16, 25, 36, 49, 64, 81, 100]"
      ]
     },
     "execution_count": 131,
     "metadata": {},
     "output_type": "execute_result"
    }
   ],
   "source": [
    "my_list3 = [num**2 for num in range(0,11)]\n",
    "my_list3"
   ]
  },
  {
   "cell_type": "code",
   "execution_count": null,
   "metadata": {},
   "outputs": [
    {
     "data": {
      "text/plain": [
       "[0, 4, 16, 36, 64, 100]"
      ]
     },
     "execution_count": 132,
     "metadata": {},
     "output_type": "execute_result"
    }
   ],
   "source": [
    "my_list4 = [num**2 for num in range(0,11) if num%2==0]\n",
    "my_list4"
   ]
  },
  {
   "cell_type": "code",
   "execution_count": null,
   "metadata": {},
   "outputs": [
    {
     "data": {
      "text/plain": [
       "{'a': 1, 'b': 4}"
      ]
     },
     "execution_count": 133,
     "metadata": {},
     "output_type": "execute_result"
    }
   ],
   "source": [
    "# # set comprihension\n",
    "\n",
    "# same as list only unique item\n",
    "\n",
    "# for dict\n",
    "\n",
    "sample_dict = {\n",
    "    'a': 1,\n",
    "    'b': 2\n",
    "}\n",
    "my_dict = {key : value**2 for key,value in sample_dict.items()}\n",
    "\n",
    "my_dict"
   ]
  },
  {
   "cell_type": "code",
   "execution_count": null,
   "metadata": {},
   "outputs": [
    {
     "data": {
      "text/plain": [
       "{'b': 4}"
      ]
     },
     "execution_count": 134,
     "metadata": {},
     "output_type": "execute_result"
    }
   ],
   "source": [
    "# for dict\n",
    "\n",
    "sample_dict = {\n",
    "    'a': 1,\n",
    "    'b': 2\n",
    "}\n",
    "my_dict = {key : value**2 for key,value in sample_dict.items() if value % 2==0}\n",
    "\n",
    "my_dict"
   ]
  },
  {
   "cell_type": "code",
   "execution_count": null,
   "metadata": {},
   "outputs": [
    {
     "data": {
      "text/plain": [
       "{1: 2, 2: 4, 3: 6}"
      ]
     },
     "execution_count": 135,
     "metadata": {},
     "output_type": "execute_result"
    }
   ],
   "source": [
    "my_dict1 ={num:num*2 for num in [1,2,3]}\n",
    "my_dict1"
   ]
  },
  {
   "cell_type": "code",
   "execution_count": null,
   "metadata": {},
   "outputs": [
    {
     "data": {
      "text/plain": [
       "['b', 'n']"
      ]
     },
     "execution_count": 137,
     "metadata": {},
     "output_type": "execute_result"
    }
   ],
   "source": [
    "some_list = ['a','b','c','b','d','m','n','n']\n",
    "\n",
    "duplicates= []\n",
    "for value in some_list:\n",
    "    if some_list.count(value)>1:\n",
    "        if value not in duplicates:\n",
    "            duplicates.append(value)\n",
    "            \n",
    "duplicates"
   ]
  },
  {
   "cell_type": "code",
   "execution_count": null,
   "metadata": {},
   "outputs": [
    {
     "data": {
      "text/plain": [
       "{'b', 'n'}"
      ]
     },
     "execution_count": 138,
     "metadata": {},
     "output_type": "execute_result"
    }
   ],
   "source": [
    "# with comprehension\n",
    "\n",
    "duplicates = set([x for x in some_list if some_list.count(x)>1])\n",
    "duplicates"
   ]
  },
  {
   "cell_type": "code",
   "execution_count": null,
   "metadata": {},
   "outputs": [],
   "source": [
    "# decorators\n",
    "\n",
    "#    @classmethod\n",
    "#    @staticmethod\n",
    "\n",
    "# higher order function\n",
    "\n",
    "\n"
   ]
  },
  {
   "cell_type": "code",
   "execution_count": null,
   "metadata": {},
   "outputs": [
    {
     "ename": "SyntaxError",
     "evalue": "invalid syntax (1442580111.py, line 15)",
     "output_type": "error",
     "traceback": [
      "\u001b[1;36m  Input \u001b[1;32mIn [140]\u001b[1;36m\u001b[0m\n\u001b[1;33m    def hooooo()\u001b[0m\n\u001b[1;37m                ^\u001b[0m\n\u001b[1;31mSyntaxError\u001b[0m\u001b[1;31m:\u001b[0m invalid syntax\n"
     ]
    }
   ],
   "source": [
    "#  Errors in python\n",
    " \n",
    "    #  print(1+'tr')\n",
    "    \n",
    "    # print(\"hello)\n",
    "    \n",
    "    \n",
    "# error Handling\n",
    "\n",
    "# typr error\n",
    "# attribute error etc\n",
    "\n",
    "def hoooooo():    # syntax error\n",
    "    \n",
    "    def hooooo()\n",
    "    \n",
    "    \n",
    "\n"
   ]
  },
  {
   "cell_type": "code",
   "execution_count": null,
   "metadata": {},
   "outputs": [
    {
     "ename": "ZeroDivisionError",
     "evalue": "division by zero",
     "output_type": "error",
     "traceback": [
      "\u001b[1;31m---------------------------------------------------------------------------\u001b[0m",
      "\u001b[1;31mZeroDivisionError\u001b[0m                         Traceback (most recent call last)",
      "\u001b[1;32mc:\\Users\\shash\\Documents\\GitHub\\Basic to master in Python\\revision.ipynb Cell 234'\u001b[0m in \u001b[0;36m<cell line: 3>\u001b[1;34m()\u001b[0m\n\u001b[0;32m      <a href='vscode-notebook-cell:/c%3A/Users/shash/Documents/GitHub/Basic%20to%20master%20in%20Python/revision.ipynb#ch0000233?line=0'>1</a>\u001b[0m \u001b[39mdef\u001b[39;00m \u001b[39mhooo\u001b[39m(num):\n\u001b[0;32m      <a href='vscode-notebook-cell:/c%3A/Users/shash/Documents/GitHub/Basic%20to%20master%20in%20Python/revision.ipynb#ch0000233?line=1'>2</a>\u001b[0m     \u001b[39m5\u001b[39m\u001b[39m/\u001b[39mnum\n\u001b[1;32m----> <a href='vscode-notebook-cell:/c%3A/Users/shash/Documents/GitHub/Basic%20to%20master%20in%20Python/revision.ipynb#ch0000233?line=2'>3</a>\u001b[0m hooo(\u001b[39m0\u001b[39;49m)\n",
      "\u001b[1;32mc:\\Users\\shash\\Documents\\GitHub\\Basic to master in Python\\revision.ipynb Cell 234'\u001b[0m in \u001b[0;36mhooo\u001b[1;34m(num)\u001b[0m\n\u001b[0;32m      <a href='vscode-notebook-cell:/c%3A/Users/shash/Documents/GitHub/Basic%20to%20master%20in%20Python/revision.ipynb#ch0000233?line=0'>1</a>\u001b[0m \u001b[39mdef\u001b[39;00m \u001b[39mhooo\u001b[39m(num):\n\u001b[1;32m----> <a href='vscode-notebook-cell:/c%3A/Users/shash/Documents/GitHub/Basic%20to%20master%20in%20Python/revision.ipynb#ch0000233?line=1'>2</a>\u001b[0m     \u001b[39m5\u001b[39;49m\u001b[39m/\u001b[39;49mnum\n",
      "\u001b[1;31mZeroDivisionError\u001b[0m: division by zero"
     ]
    }
   ],
   "source": [
    "def hooo(num):\n",
    "    5/num\n",
    "hooo(0)"
   ]
  },
  {
   "cell_type": "code",
   "execution_count": null,
   "metadata": {},
   "outputs": [
    {
     "name": "stdout",
     "output_type": "stream",
     "text": [
      "23\n"
     ]
    }
   ],
   "source": [
    "age = int(input('what is your age? '))\n",
    "          \n",
    "print(age)"
   ]
  },
  {
   "cell_type": "code",
   "execution_count": null,
   "metadata": {},
   "outputs": [
    {
     "name": "stdout",
     "output_type": "stream",
     "text": [
      "plz enter a number\n"
     ]
    }
   ],
   "source": [
    "try:\n",
    "    age = int(input('what is your age? '))\n",
    "    print(age)\n",
    "except:\n",
    "    print('plz enter a number')"
   ]
  },
  {
   "cell_type": "code",
   "execution_count": null,
   "metadata": {},
   "outputs": [
    {
     "name": "stdout",
     "output_type": "stream",
     "text": [
      "plz enter a number\n",
      "ohk,I'm finally done\n",
      "thnx\n",
      "ohk,I'm finally done\n"
     ]
    }
   ],
   "source": [
    "while True:\n",
    "    try:\n",
    "        age = int(input('what is your age? '))\n",
    "        10/age\n",
    "    except ValueError:\n",
    "        print('plz enter a number')\n",
    "    except ZeroDivisionError:\n",
    "        print('plz enter age higher than 0')\n",
    "    else:\n",
    "        print('thnx')\n",
    "        break\n",
    "    finally:\n",
    "        print('ohk,I\\'m finally done')"
   ]
  },
  {
   "cell_type": "code",
   "execution_count": null,
   "metadata": {},
   "outputs": [
    {
     "name": "stdout",
     "output_type": "stream",
     "text": [
      "0\n",
      "thank you\n"
     ]
    }
   ],
   "source": [
    "while True: \n",
    "    try:\n",
    "        age = int(input('what is your age? '))\n",
    "        print(age)\n",
    "    except:\n",
    "        print('plz enter a number')\n",
    "    else:\n",
    "        print('thank you')\n",
    "        break"
   ]
  },
  {
   "cell_type": "code",
   "execution_count": null,
   "metadata": {},
   "outputs": [
    {
     "name": "stdout",
     "output_type": "stream",
     "text": [
      "plz enter a number\n",
      "0\n",
      "thank you\n"
     ]
    }
   ],
   "source": [
    "while True: \n",
    "    try:\n",
    "        age = int(input('what is your age? '))\n",
    "        print(age)\n",
    "    except ValueError:\n",
    "        print('plz enter a number')\n",
    "    except ZeroDivisionError:\n",
    "        print('plz enter age higher than 0')\n",
    "    else:\n",
    "        print('thank you')\n",
    "        break\n",
    "    "
   ]
  },
  {
   "cell_type": "code",
   "execution_count": null,
   "metadata": {},
   "outputs": [
    {
     "ename": "TypeError",
     "evalue": "can only concatenate str (not \"int\") to str",
     "output_type": "error",
     "traceback": [
      "\u001b[1;31m---------------------------------------------------------------------------\u001b[0m",
      "\u001b[1;31mTypeError\u001b[0m                                 Traceback (most recent call last)",
      "\u001b[1;32mc:\\Users\\shash\\Documents\\GitHub\\Basic to master in Python\\revision.ipynb Cell 240'\u001b[0m in \u001b[0;36m<cell line: 3>\u001b[1;34m()\u001b[0m\n\u001b[0;32m      <a href='vscode-notebook-cell:/c%3A/Users/shash/Documents/GitHub/Basic%20to%20master%20in%20Python/revision.ipynb#ch0000239?line=0'>1</a>\u001b[0m \u001b[39mdef\u001b[39;00m \u001b[39msumm\u001b[39m(n1,n2):\n\u001b[0;32m      <a href='vscode-notebook-cell:/c%3A/Users/shash/Documents/GitHub/Basic%20to%20master%20in%20Python/revision.ipynb#ch0000239?line=1'>2</a>\u001b[0m     \u001b[39mreturn\u001b[39;00m n1\u001b[39m+\u001b[39mn2\n\u001b[1;32m----> <a href='vscode-notebook-cell:/c%3A/Users/shash/Documents/GitHub/Basic%20to%20master%20in%20Python/revision.ipynb#ch0000239?line=2'>3</a>\u001b[0m \u001b[39mprint\u001b[39m(summ(\u001b[39m'\u001b[39;49m\u001b[39m1\u001b[39;49m\u001b[39m'\u001b[39;49m\u001b[39m+\u001b[39;49m\u001b[39m2\u001b[39;49m))\n",
      "\u001b[1;31mTypeError\u001b[0m: can only concatenate str (not \"int\") to str"
     ]
    }
   ],
   "source": [
    "def summ(n1,n2):\n",
    "    return n1+n2\n",
    "print(summ('1'+2))"
   ]
  },
  {
   "cell_type": "code",
   "execution_count": null,
   "metadata": {},
   "outputs": [
    {
     "name": "stdout",
     "output_type": "stream",
     "text": [
      "something id wrong\n",
      "None\n"
     ]
    }
   ],
   "source": [
    "def summ(n1,n2):\n",
    "    try:\n",
    "        \n",
    "        return n1+n2\n",
    "    except:\n",
    "        print('something id wrong')\n",
    "print(summ('1',2))"
   ]
  },
  {
   "cell_type": "code",
   "execution_count": null,
   "metadata": {},
   "outputs": [
    {
     "name": "stdout",
     "output_type": "stream",
     "text": [
      "3\n"
     ]
    }
   ],
   "source": [
    "def summ(n1,n2):\n",
    "    try:\n",
    "        \n",
    "        return n1+n2\n",
    "    except TypeError:\n",
    "        print('something id wrong')\n",
    "print(summ(1,2))"
   ]
  },
  {
   "cell_type": "code",
   "execution_count": null,
   "metadata": {},
   "outputs": [
    {
     "ename": "TypeError",
     "evalue": "can only concatenate str (not \"TypeError\") to str",
     "output_type": "error",
     "traceback": [
      "\u001b[1;31m---------------------------------------------------------------------------\u001b[0m",
      "\u001b[1;31mTypeError\u001b[0m                                 Traceback (most recent call last)",
      "\u001b[1;32mc:\\Users\\shash\\Documents\\GitHub\\Basic to master in Python\\revision.ipynb Cell 243'\u001b[0m in \u001b[0;36msumm\u001b[1;34m(n1, n2)\u001b[0m\n\u001b[0;32m      <a href='vscode-notebook-cell:/c%3A/Users/shash/Documents/GitHub/Basic%20to%20master%20in%20Python/revision.ipynb#ch0000242?line=1'>2</a>\u001b[0m \u001b[39mtry\u001b[39;00m:\n\u001b[1;32m----> <a href='vscode-notebook-cell:/c%3A/Users/shash/Documents/GitHub/Basic%20to%20master%20in%20Python/revision.ipynb#ch0000242?line=3'>4</a>\u001b[0m     \u001b[39mreturn\u001b[39;00m n1\u001b[39m+\u001b[39;49mn2\n\u001b[0;32m      <a href='vscode-notebook-cell:/c%3A/Users/shash/Documents/GitHub/Basic%20to%20master%20in%20Python/revision.ipynb#ch0000242?line=4'>5</a>\u001b[0m \u001b[39mexcept\u001b[39;00m \u001b[39mTypeError\u001b[39;00m \u001b[39mas\u001b[39;00m err:\n",
      "\u001b[1;31mTypeError\u001b[0m: unsupported operand type(s) for +: 'int' and 'str'",
      "\nDuring handling of the above exception, another exception occurred:\n",
      "\u001b[1;31mTypeError\u001b[0m                                 Traceback (most recent call last)",
      "\u001b[1;32mc:\\Users\\shash\\Documents\\GitHub\\Basic to master in Python\\revision.ipynb Cell 243'\u001b[0m in \u001b[0;36m<cell line: 7>\u001b[1;34m()\u001b[0m\n\u001b[0;32m      <a href='vscode-notebook-cell:/c%3A/Users/shash/Documents/GitHub/Basic%20to%20master%20in%20Python/revision.ipynb#ch0000242?line=4'>5</a>\u001b[0m     \u001b[39mexcept\u001b[39;00m \u001b[39mTypeError\u001b[39;00m \u001b[39mas\u001b[39;00m err:\n\u001b[0;32m      <a href='vscode-notebook-cell:/c%3A/Users/shash/Documents/GitHub/Basic%20to%20master%20in%20Python/revision.ipynb#ch0000242?line=5'>6</a>\u001b[0m         \u001b[39mprint\u001b[39m(\u001b[39m'\u001b[39m\u001b[39msomething id wrong\u001b[39m\u001b[39m'\u001b[39m \u001b[39m+\u001b[39m err)\n\u001b[1;32m----> <a href='vscode-notebook-cell:/c%3A/Users/shash/Documents/GitHub/Basic%20to%20master%20in%20Python/revision.ipynb#ch0000242?line=6'>7</a>\u001b[0m \u001b[39mprint\u001b[39m(summ(\u001b[39m1\u001b[39;49m,\u001b[39m\"\u001b[39;49m\u001b[39m2\u001b[39;49m\u001b[39m\"\u001b[39;49m))\n",
      "\u001b[1;32mc:\\Users\\shash\\Documents\\GitHub\\Basic to master in Python\\revision.ipynb Cell 243'\u001b[0m in \u001b[0;36msumm\u001b[1;34m(n1, n2)\u001b[0m\n\u001b[0;32m      <a href='vscode-notebook-cell:/c%3A/Users/shash/Documents/GitHub/Basic%20to%20master%20in%20Python/revision.ipynb#ch0000242?line=3'>4</a>\u001b[0m     \u001b[39mreturn\u001b[39;00m n1\u001b[39m+\u001b[39mn2\n\u001b[0;32m      <a href='vscode-notebook-cell:/c%3A/Users/shash/Documents/GitHub/Basic%20to%20master%20in%20Python/revision.ipynb#ch0000242?line=4'>5</a>\u001b[0m \u001b[39mexcept\u001b[39;00m \u001b[39mTypeError\u001b[39;00m \u001b[39mas\u001b[39;00m err:\n\u001b[1;32m----> <a href='vscode-notebook-cell:/c%3A/Users/shash/Documents/GitHub/Basic%20to%20master%20in%20Python/revision.ipynb#ch0000242?line=5'>6</a>\u001b[0m     \u001b[39mprint\u001b[39m(\u001b[39m'\u001b[39;49m\u001b[39msomething id wrong\u001b[39;49m\u001b[39m'\u001b[39;49m \u001b[39m+\u001b[39;49m err)\n",
      "\u001b[1;31mTypeError\u001b[0m: can only concatenate str (not \"TypeError\") to str"
     ]
    }
   ],
   "source": [
    "def summ(n1,n2):\n",
    "    try:\n",
    "        \n",
    "        return n1+n2\n",
    "    except TypeError as err:\n",
    "        print('something id wrong' + err)\n",
    "print(summ(1,\"2\"))"
   ]
  },
  {
   "cell_type": "code",
   "execution_count": null,
   "metadata": {},
   "outputs": [
    {
     "name": "stdout",
     "output_type": "stream",
     "text": [
      "plz enter num unsupported operand type(s) for +: 'int' and 'str'\n",
      "None\n"
     ]
    }
   ],
   "source": [
    "def summ(n1,n2):\n",
    "    try:\n",
    "        \n",
    "        return n1+n2\n",
    "    except TypeError as err:\n",
    "        print(f'plz enter num {err}')\n",
    "print(summ(1,\"2\"))"
   ]
  },
  {
   "cell_type": "code",
   "execution_count": null,
   "metadata": {},
   "outputs": [
    {
     "name": "stdout",
     "output_type": "stream",
     "text": [
      "unsupported operand type(s) for +: 'int' and 'str'\n",
      "None\n"
     ]
    }
   ],
   "source": [
    "def summ(n1,n2):\n",
    "    try:\n",
    "        \n",
    "        return n1+n2\n",
    "    except TypeError as err:\n",
    "        print(err)\n",
    "print(summ(1,\"2\"))"
   ]
  },
  {
   "cell_type": "code",
   "execution_count": null,
   "metadata": {},
   "outputs": [
    {
     "name": "stdout",
     "output_type": "stream",
     "text": [
      "division by zero\n",
      "None\n"
     ]
    }
   ],
   "source": [
    "def summ(n1,n2):\n",
    "    try:\n",
    "          return n1/n2\n",
    "    except (TypeError, ZeroDivisionError) as err:\n",
    "        print(err)\n",
    "print(summ(1,0))"
   ]
  },
  {
   "cell_type": "code",
   "execution_count": null,
   "metadata": {},
   "outputs": [
    {
     "name": "stdout",
     "output_type": "stream",
     "text": [
      "unsupported operand type(s) for /: 'int' and 'str'\n",
      "None\n"
     ]
    }
   ],
   "source": [
    "def summ(n1,n2):\n",
    "    try:\n",
    "          return n1/n2\n",
    "    except (TypeError, ZeroDivisionError) as err:\n",
    "        print(err)\n",
    "print(summ(1,'2'))"
   ]
  },
  {
   "cell_type": "code",
   "execution_count": null,
   "metadata": {},
   "outputs": [
    {
     "name": "stdout",
     "output_type": "stream",
     "text": [
      "[0, 1, 2, 3, 4]\n"
     ]
    }
   ],
   "source": [
    "# Generator\n",
    "\n",
    "# rang(100)\n",
    "# listrange(100)\n",
    "\n",
    "def make_list(num):\n",
    "    result = []\n",
    "    for i in range(num):\n",
    "        result.append(i*2)\n",
    "    return result\n",
    "my_list = make_list(100)\n",
    "print(list(range(5)))"
   ]
  },
  {
   "cell_type": "code",
   "execution_count": null,
   "metadata": {},
   "outputs": [
    {
     "name": "stdout",
     "output_type": "stream",
     "text": [
      "0\n",
      "1\n",
      "2\n",
      "3\n",
      "4\n",
      "5\n",
      "6\n",
      "7\n",
      "8\n",
      "9\n"
     ]
    }
   ],
   "source": [
    "# iterate\n",
    "\n",
    "#generators\n",
    "\n",
    "def generator_function(num):\n",
    "    for i in range(num):\n",
    "        yield i\n",
    "\n",
    "for item in generator_function(10):\n",
    "    print(item)"
   ]
  },
  {
   "cell_type": "code",
   "execution_count": null,
   "metadata": {},
   "outputs": [
    {
     "name": "stdout",
     "output_type": "stream",
     "text": [
      "0\n",
      "2\n",
      "4\n",
      "6\n",
      "8\n",
      "10\n",
      "12\n",
      "14\n",
      "16\n",
      "18\n"
     ]
    }
   ],
   "source": [
    "# iterate\n",
    "\n",
    "#generators\n",
    "\n",
    "def generator_function(num):\n",
    "    for i in range(num):\n",
    "        yield i*2\n",
    "\n",
    "for item in generator_function(10):\n",
    "    print(item)"
   ]
  },
  {
   "cell_type": "code",
   "execution_count": null,
   "metadata": {},
   "outputs": [
    {
     "name": "stdout",
     "output_type": "stream",
     "text": [
      "2\n"
     ]
    }
   ],
   "source": [
    "# iterate\n",
    "\n",
    "#generators     yield is generator\n",
    "\n",
    "def generator_function(num):\n",
    "    for i in range(num):\n",
    "        yield i\n",
    "\n",
    "g = generator_function(10)\n",
    "next(g)\n",
    "next(g)\n",
    "print(next(g))"
   ]
  },
  {
   "cell_type": "code",
   "execution_count": null,
   "metadata": {},
   "outputs": [
    {
     "ename": "StopIteration",
     "evalue": "",
     "output_type": "error",
     "traceback": [
      "\u001b[1;31m---------------------------------------------------------------------------\u001b[0m",
      "\u001b[1;31mStopIteration\u001b[0m                             Traceback (most recent call last)",
      "\u001b[1;32mc:\\Users\\shash\\Documents\\GitHub\\Basic to master in Python\\revision.ipynb Cell 252'\u001b[0m in \u001b[0;36m<cell line: 11>\u001b[1;34m()\u001b[0m\n\u001b[0;32m      <a href='vscode-notebook-cell:/c%3A/Users/shash/Documents/GitHub/Basic%20to%20master%20in%20Python/revision.ipynb#ch0000251?line=8'>9</a>\u001b[0m g \u001b[39m=\u001b[39m generator_function(\u001b[39m1\u001b[39m)\n\u001b[0;32m     <a href='vscode-notebook-cell:/c%3A/Users/shash/Documents/GitHub/Basic%20to%20master%20in%20Python/revision.ipynb#ch0000251?line=9'>10</a>\u001b[0m \u001b[39mnext\u001b[39m(g)\n\u001b[1;32m---> <a href='vscode-notebook-cell:/c%3A/Users/shash/Documents/GitHub/Basic%20to%20master%20in%20Python/revision.ipynb#ch0000251?line=10'>11</a>\u001b[0m \u001b[39mnext\u001b[39;49m(g)\n\u001b[0;32m     <a href='vscode-notebook-cell:/c%3A/Users/shash/Documents/GitHub/Basic%20to%20master%20in%20Python/revision.ipynb#ch0000251?line=11'>12</a>\u001b[0m \u001b[39mprint\u001b[39m(\u001b[39mnext\u001b[39m(g))\n",
      "\u001b[1;31mStopIteration\u001b[0m: "
     ]
    }
   ],
   "source": [
    "# iterate\n",
    "\n",
    "#generators     yield is generator\n",
    "\n",
    "def generator_function(num):\n",
    "    for i in range(num):\n",
    "        yield i\n",
    "\n",
    "g = generator_function(1)\n",
    "next(g)\n",
    "next(g)\n",
    "print(next(g))"
   ]
  },
  {
   "cell_type": "code",
   "execution_count": null,
   "metadata": {},
   "outputs": [
    {
     "name": "stdout",
     "output_type": "stream",
     "text": [
      "> \u001b[1;32mc:\\users\\shash\\appdata\\local\\temp\\ipykernel_2868\\835736046.py\u001b[0m(15)\u001b[0;36madd\u001b[1;34m()\u001b[0m\n",
      "\n",
      "1\n",
      "5\n",
      "\n",
      "Documented commands (type help <topic>):\n",
      "========================================\n",
      "EOF    commands   enable    ll        pp       s                until \n",
      "a      condition  exit      longlist  psource  skip_hidden      up    \n",
      "alias  cont       h         n         q        skip_predicates  w     \n",
      "args   context    help      next      quit     source           whatis\n",
      "b      continue   ignore    p         r        step             where \n",
      "break  d          interact  pdef      restart  tbreak         \n",
      "bt     debug      j         pdoc      return   u              \n",
      "c      disable    jump      pfile     retval   unalias        \n",
      "cl     display    l         pinfo     run      undisplay      \n",
      "clear  down       list      pinfo2    rv       unt            \n",
      "\n",
      "Miscellaneous help topics:\n",
      "==========================\n",
      "exec  pdb\n",
      "\n"
     ]
    },
    {
     "ename": "BdbQuit",
     "evalue": "",
     "output_type": "error",
     "traceback": [
      "\u001b[1;31m---------------------------------------------------------------------------\u001b[0m",
      "\u001b[1;31mBdbQuit\u001b[0m                                   Traceback (most recent call last)",
      "\u001b[1;32mc:\\Users\\shash\\Documents\\GitHub\\Basic to master in Python\\revision.ipynb Cell 253'\u001b[0m in \u001b[0;36m<cell line: 17>\u001b[1;34m()\u001b[0m\n\u001b[0;32m     <a href='vscode-notebook-cell:/c%3A/Users/shash/Documents/GitHub/Basic%20to%20master%20in%20Python/revision.ipynb#ch0000252?line=13'>14</a>\u001b[0m     pdb\u001b[39m.\u001b[39mset_trace()   \u001b[39m# print(n1,n2)\u001b[39;00m\n\u001b[0;32m     <a href='vscode-notebook-cell:/c%3A/Users/shash/Documents/GitHub/Basic%20to%20master%20in%20Python/revision.ipynb#ch0000252?line=14'>15</a>\u001b[0m     \u001b[39mreturn\u001b[39;00m n1\u001b[39m+\u001b[39mn2\n\u001b[1;32m---> <a href='vscode-notebook-cell:/c%3A/Users/shash/Documents/GitHub/Basic%20to%20master%20in%20Python/revision.ipynb#ch0000252?line=16'>17</a>\u001b[0m add(\u001b[39m3\u001b[39;49m,\u001b[39m'\u001b[39;49m\u001b[39mhello\u001b[39;49m\u001b[39m'\u001b[39;49m)\n",
      "\u001b[1;32mc:\\Users\\shash\\Documents\\GitHub\\Basic to master in Python\\revision.ipynb Cell 253'\u001b[0m in \u001b[0;36madd\u001b[1;34m(n1, n2)\u001b[0m\n\u001b[0;32m     <a href='vscode-notebook-cell:/c%3A/Users/shash/Documents/GitHub/Basic%20to%20master%20in%20Python/revision.ipynb#ch0000252?line=12'>13</a>\u001b[0m \u001b[39mdef\u001b[39;00m \u001b[39madd\u001b[39m(n1,n2):\n\u001b[0;32m     <a href='vscode-notebook-cell:/c%3A/Users/shash/Documents/GitHub/Basic%20to%20master%20in%20Python/revision.ipynb#ch0000252?line=13'>14</a>\u001b[0m     pdb\u001b[39m.\u001b[39mset_trace()   \u001b[39m# print(n1,n2)\u001b[39;00m\n\u001b[1;32m---> <a href='vscode-notebook-cell:/c%3A/Users/shash/Documents/GitHub/Basic%20to%20master%20in%20Python/revision.ipynb#ch0000252?line=14'>15</a>\u001b[0m     \u001b[39mreturn\u001b[39;00m n1\u001b[39m+\u001b[39mn2\n",
      "\u001b[1;32mc:\\Users\\shash\\Documents\\GitHub\\Basic to master in Python\\revision.ipynb Cell 253'\u001b[0m in \u001b[0;36madd\u001b[1;34m(n1, n2)\u001b[0m\n\u001b[0;32m     <a href='vscode-notebook-cell:/c%3A/Users/shash/Documents/GitHub/Basic%20to%20master%20in%20Python/revision.ipynb#ch0000252?line=12'>13</a>\u001b[0m \u001b[39mdef\u001b[39;00m \u001b[39madd\u001b[39m(n1,n2):\n\u001b[0;32m     <a href='vscode-notebook-cell:/c%3A/Users/shash/Documents/GitHub/Basic%20to%20master%20in%20Python/revision.ipynb#ch0000252?line=13'>14</a>\u001b[0m     pdb\u001b[39m.\u001b[39mset_trace()   \u001b[39m# print(n1,n2)\u001b[39;00m\n\u001b[1;32m---> <a href='vscode-notebook-cell:/c%3A/Users/shash/Documents/GitHub/Basic%20to%20master%20in%20Python/revision.ipynb#ch0000252?line=14'>15</a>\u001b[0m     \u001b[39mreturn\u001b[39;00m n1\u001b[39m+\u001b[39mn2\n",
      "File \u001b[1;32m~\\AppData\\Local\\Programs\\Python\\Python39\\lib\\bdb.py:88\u001b[0m, in \u001b[0;36mBdb.trace_dispatch\u001b[1;34m(self, frame, event, arg)\u001b[0m\n\u001b[0;32m     <a href='file:///c%3A/Users/shash/AppData/Local/Programs/Python/Python39/lib/bdb.py?line=85'>86</a>\u001b[0m     \u001b[39mreturn\u001b[39;00m \u001b[39m# None\u001b[39;00m\n\u001b[0;32m     <a href='file:///c%3A/Users/shash/AppData/Local/Programs/Python/Python39/lib/bdb.py?line=86'>87</a>\u001b[0m \u001b[39mif\u001b[39;00m event \u001b[39m==\u001b[39m \u001b[39m'\u001b[39m\u001b[39mline\u001b[39m\u001b[39m'\u001b[39m:\n\u001b[1;32m---> <a href='file:///c%3A/Users/shash/AppData/Local/Programs/Python/Python39/lib/bdb.py?line=87'>88</a>\u001b[0m     \u001b[39mreturn\u001b[39;00m \u001b[39mself\u001b[39;49m\u001b[39m.\u001b[39;49mdispatch_line(frame)\n\u001b[0;32m     <a href='file:///c%3A/Users/shash/AppData/Local/Programs/Python/Python39/lib/bdb.py?line=88'>89</a>\u001b[0m \u001b[39mif\u001b[39;00m event \u001b[39m==\u001b[39m \u001b[39m'\u001b[39m\u001b[39mcall\u001b[39m\u001b[39m'\u001b[39m:\n\u001b[0;32m     <a href='file:///c%3A/Users/shash/AppData/Local/Programs/Python/Python39/lib/bdb.py?line=89'>90</a>\u001b[0m     \u001b[39mreturn\u001b[39;00m \u001b[39mself\u001b[39m\u001b[39m.\u001b[39mdispatch_call(frame, arg)\n",
      "File \u001b[1;32m~\\AppData\\Local\\Programs\\Python\\Python39\\lib\\bdb.py:113\u001b[0m, in \u001b[0;36mBdb.dispatch_line\u001b[1;34m(self, frame)\u001b[0m\n\u001b[0;32m    <a href='file:///c%3A/Users/shash/AppData/Local/Programs/Python/Python39/lib/bdb.py?line=110'>111</a>\u001b[0m \u001b[39mif\u001b[39;00m \u001b[39mself\u001b[39m\u001b[39m.\u001b[39mstop_here(frame) \u001b[39mor\u001b[39;00m \u001b[39mself\u001b[39m\u001b[39m.\u001b[39mbreak_here(frame):\n\u001b[0;32m    <a href='file:///c%3A/Users/shash/AppData/Local/Programs/Python/Python39/lib/bdb.py?line=111'>112</a>\u001b[0m     \u001b[39mself\u001b[39m\u001b[39m.\u001b[39muser_line(frame)\n\u001b[1;32m--> <a href='file:///c%3A/Users/shash/AppData/Local/Programs/Python/Python39/lib/bdb.py?line=112'>113</a>\u001b[0m     \u001b[39mif\u001b[39;00m \u001b[39mself\u001b[39m\u001b[39m.\u001b[39mquitting: \u001b[39mraise\u001b[39;00m BdbQuit\n\u001b[0;32m    <a href='file:///c%3A/Users/shash/AppData/Local/Programs/Python/Python39/lib/bdb.py?line=113'>114</a>\u001b[0m \u001b[39mreturn\u001b[39;00m \u001b[39mself\u001b[39m\u001b[39m.\u001b[39mtrace_dispatch\n",
      "\u001b[1;31mBdbQuit\u001b[0m: "
     ]
    }
   ],
   "source": [
    "# debugging\n",
    "\n",
    "#linting\n",
    "\n",
    "# ide / editor\n",
    "\n",
    "# read errors\n",
    "\n",
    "# PDP python debugger\n",
    "\n",
    "import pdb\n",
    "\n",
    "def add(n1,n2):\n",
    "    pdb.set_trace()   # print(n1,n2)\n",
    "    return n1+n2\n",
    "\n",
    "add(3,'hello')\n"
   ]
  },
  {
   "cell_type": "code",
   "execution_count": null,
   "metadata": {},
   "outputs": [
    {
     "name": "stdout",
     "output_type": "stream",
     "text": [
      "True\n"
     ]
    }
   ],
   "source": [
    "#   regex\n",
    "\n",
    "\n",
    "import re\n",
    "\n",
    "\n",
    "string = 'search inside of this text plz !'\n",
    "\n",
    "print('search' in string)"
   ]
  },
  {
   "cell_type": "code",
   "execution_count": null,
   "metadata": {},
   "outputs": [
    {
     "data": {
      "text/plain": [
       "(17, 21)"
      ]
     },
     "execution_count": 164,
     "metadata": {},
     "output_type": "execute_result"
    }
   ],
   "source": [
    "a = re.search('this',string)\n",
    "a.span()"
   ]
  },
  {
   "cell_type": "code",
   "execution_count": null,
   "metadata": {},
   "outputs": [
    {
     "data": {
      "text/plain": [
       "17"
      ]
     },
     "execution_count": 165,
     "metadata": {},
     "output_type": "execute_result"
    }
   ],
   "source": [
    "a.start()"
   ]
  },
  {
   "cell_type": "code",
   "execution_count": null,
   "metadata": {},
   "outputs": [
    {
     "data": {
      "text/plain": [
       "'this'"
      ]
     },
     "execution_count": 166,
     "metadata": {},
     "output_type": "execute_result"
    }
   ],
   "source": [
    "a.group()"
   ]
  },
  {
   "cell_type": "code",
   "execution_count": null,
   "metadata": {},
   "outputs": [
    {
     "name": "stdout",
     "output_type": "stream",
     "text": [
      "None\n"
     ]
    }
   ],
   "source": [
    "pattern = re.compile('this')\n",
    "a=pattern.search(string)\n",
    "b = pattern.findall(string)\n",
    "c = pattern.fullmatch(string)\n",
    "d = pattern.match(string)\n",
    "\n",
    "print(d)"
   ]
  },
  {
   "cell_type": "code",
   "execution_count": null,
   "metadata": {},
   "outputs": [
    {
     "name": "stdout",
     "output_type": "stream",
     "text": [
      "ABC\n",
      "ACB\n",
      "BAC\n",
      "BCA\n",
      "CBA\n",
      "CAB\n"
     ]
    }
   ],
   "source": [
    "# pemutation question\n",
    "\n",
    "#  a b c ab bc abc\n",
    "\n",
    "\n",
    "def permute(data, i, length): \n",
    "    if i==length: \n",
    "        print(''.join(data) )\n",
    "    else: \n",
    "        for j in range(i,length): \n",
    "            #swap\n",
    "            data[i], data[j] = data[j], data[i] \n",
    "            permute(data, i+1, length) \n",
    "            data[i], data[j] = data[j], data[i]  \n",
    "  \n",
    "\n",
    "string = \"ABC\"\n",
    "n = len(string) \n",
    "data = list(string) \n",
    "permute(data, 0, n)\n",
    "        "
   ]
  },
  {
   "cell_type": "code",
   "execution_count": null,
   "metadata": {},
   "outputs": [
    {
     "name": "stdout",
     "output_type": "stream",
     "text": [
      "['A', 'AB', 'ABC', 'B', 'BC', 'C']\n"
     ]
    }
   ],
   "source": [
    "# possible combination\n",
    "def combination(s):\n",
    "    print(list(s[i:j+1] for i in range (len(s)) for j in range(i,len(s))))\n",
    "        \n",
    "s='ABC'\n",
    "combination(s)"
   ]
  },
  {
   "cell_type": "code",
   "execution_count": null,
   "metadata": {},
   "outputs": [
    {
     "name": "stdout",
     "output_type": "stream",
     "text": [
      "['a', 'b', 'c', 'ab', 'bc', 'abc']\n"
     ]
    }
   ],
   "source": [
    "def allSubstrings(s):\n",
    "    length = len(s)\n",
    "    mylist = []\n",
    "    for i in range(1, length+1):\n",
    "        for j in range(length-i+1):\n",
    "            mylist.append(s[j:j+i])\n",
    "    return mylist\n",
    "s='abc'\n",
    "print(allSubstrings(s))"
   ]
  },
  {
   "cell_type": "code",
   "execution_count": null,
   "metadata": {},
   "outputs": [
    {
     "name": "stdout",
     "output_type": "stream",
     "text": [
      "[2, 2, 5, 4, 0, 0, 0, 0, 0, 0]\n"
     ]
    }
   ],
   "source": [
    "#   2,0,2,5,0,0,4\n",
    "\n",
    "#   2,2,5,4,0,0,0\n",
    "\n",
    "#  O(n)\n",
    "\n",
    "def moveZeros_to_last(arr,n):\n",
    "    l=0\n",
    "    r=l+1\n",
    "    m=r+1\n",
    "    \n",
    "    while(m < n and (l<n-1 and r<n)):\n",
    "        if arr[l]==0 and arr[r]==0:\n",
    "            arr[l],arr[m]=arr[m],arr[l]\n",
    "            m+=1\n",
    "        elif arr[l]==0:\n",
    "            arr[l],arr[r]=arr[r],arr[l]\n",
    "            r+=1\n",
    "        else:\n",
    "            l+=1\n",
    "            r+=1\n",
    "    return arr\n",
    "            \n",
    "    \n",
    "\n",
    "\n",
    "arr=[2,0,2,5,0,0,0,0,0,4]\n",
    "n=len(arr)\n",
    "res= moveZeros_to_last(arr,n)\n",
    "print(res)\n",
    "\n"
   ]
  },
  {
   "cell_type": "code",
   "execution_count": null,
   "metadata": {},
   "outputs": [
    {
     "name": "stdout",
     "output_type": "stream",
     "text": [
      "3 4 5 6 1 2 "
     ]
    }
   ],
   "source": [
    "# 1,2,3,4,5,6\n",
    "\n",
    "# k=2\n",
    "# 2,3,4,5,6,1\n",
    "# 3,4,5,6,1,2\n",
    "\n",
    "# def leftrotate(arr,k,n):\n",
    "#     arr[:] = arr[k:n]+arr[:k]\n",
    "#     return arr\n",
    "\n",
    "def leftrotate(arr,k,n):\n",
    "    mod = k % n\n",
    "    s = \"\"\n",
    " \n",
    "    # Prints the rotated array from start position\n",
    "    for i in range(n):\n",
    "        print(str(arr[(mod + i) % n]),end=\" \")\n",
    "    \n",
    "arr=[1,2,3,4,5,6]\n",
    "n=len(arr)\n",
    "k=2\n",
    "leftrotate(arr,k,n)"
   ]
  },
  {
   "cell_type": "code",
   "execution_count": null,
   "metadata": {},
   "outputs": [
    {
     "name": "stdout",
     "output_type": "stream",
     "text": [
      "1 2 3 4 \n",
      "1 2 4 \n",
      "1 2 4 5 \n",
      "5 4 2 1 "
     ]
    }
   ],
   "source": [
    "# linkedlist Implementation\n",
    "\n",
    "class Node(object):\n",
    "    def __init__(self,data,next=None):\n",
    "        self.data = data\n",
    "        self.next = next\n",
    "        \n",
    "    # function to set data\n",
    "    def setData(self, data):\n",
    "        self.data = data\n",
    "        \n",
    "    # function to get data of a particular node\n",
    "    def getData(self):\n",
    "        return self.data\n",
    "    \n",
    "    # function to set next node\n",
    "    def setNext(self, next):\n",
    "        self.next = next\n",
    "        \n",
    "    # function to get the next node\n",
    "    def getNext(self):\n",
    "        return self.next\n",
    "    \n",
    "class LinkedList(object):\n",
    "    def __init__(self):\n",
    "        self.head = None\n",
    "        \n",
    "    def printLinkedList(self):\n",
    "        temp = self.head\n",
    "        while temp:\n",
    "            print(temp.data,end=\" \")\n",
    "            temp = temp.next\n",
    "            \n",
    "    def insertAtStart(self,data):\n",
    "        newNode = Node(data)\n",
    "        newNode.next = self.head\n",
    "        self.head = newNode\n",
    "        \n",
    "    def insertAtLast(self,data):\n",
    "        newNode = Node(data)\n",
    "        temp = self.head\n",
    "        while(temp.next != None):         # get last node\n",
    "            temp = temp.next\n",
    "        temp.next = newNode\n",
    "        \n",
    "    # inserting the node in between the linked list (after a specific node)\n",
    "    def insertBetween(self, previousNode, data):\n",
    "        if (previousNode.next is None):\n",
    "            print('Previous node should have next node!')\n",
    "        else:\n",
    "            newNode = Node(data)\n",
    "            newNode.next = previousNode.next\n",
    "            previousNode.next = newNode\n",
    "    \n",
    "    # deleting an item based on data(or key)\n",
    "    def delete(self, data):\n",
    "        temp = self.head\n",
    "        # if data/key is found in head node itself\n",
    "        if (temp.next is not None):\n",
    "            if(temp.data == data):\n",
    "                self.head = temp.next\n",
    "                temp = None\n",
    "                return\n",
    "            else:\n",
    "                #  else search all the nodes\n",
    "                while(temp.next != None):\n",
    "                    if(temp.data == data):\n",
    "                        break\n",
    "                    prev = temp          #save current node as previous so that we can go on to next node\n",
    "                    temp = temp.next\n",
    "                \n",
    "                # node not found\n",
    "                if temp == None:\n",
    "                    return\n",
    "                \n",
    "                prev.next = temp.next\n",
    "                return \n",
    "            \n",
    "    # iterative search\n",
    "    def search(self, node, data):\n",
    "        if node == None:\n",
    "            return False\n",
    "        if node.data == data:\n",
    "            return True\n",
    "        return self.search(node.getNext(), data) \n",
    "    \n",
    "    def reverse(self):\n",
    "        prev = None\n",
    "        curr = self.head\n",
    "        while(curr is not None):\n",
    "            next = curr.next\n",
    "            curr.next = prev\n",
    "            prev = curr\n",
    "            curr = next\n",
    "        self.head = prev\n",
    "        \n",
    "    \n",
    "    \n",
    "        \n",
    "if __name__ == '__main__':\n",
    "    List = LinkedList()\n",
    "    List.head = Node(1)                   # create the head node\n",
    "    node2 = Node(2)\n",
    "    List.head.setNext(node2)           # head node's next --> node2\n",
    "    node3 = Node(3)\n",
    "    node2.setNext(node3) \n",
    "    node4 = Node(4)\n",
    "    node3.setNext(node4)\n",
    "    List.printLinkedList()\n",
    "    print()\n",
    "    List.delete(3)\n",
    "    List.printLinkedList()\n",
    "    List.insertAtLast(5)\n",
    "    print()\n",
    "    List.printLinkedList()\n",
    "    print()\n",
    "    List.reverse()\n",
    "    List.printLinkedList()"
   ]
  },
  {
   "cell_type": "code",
   "execution_count": null,
   "metadata": {},
   "outputs": [],
   "source": []
  },
  {
   "cell_type": "code",
   "execution_count": null,
   "metadata": {},
   "outputs": [],
   "source": [
    "'''\n",
    "{{1,    2,   3,   4},\n",
    "  {5,    6,   7,   8},\n",
    "  {9,   10,  11,  12},\n",
    "  {13,  14,  15,  16 }}\n",
    "\n",
    "\n",
    "Output: 1 2 3 4 8 12 16 15 14 13 9 5 6 7 11 10\n",
    "'''"
   ]
  },
  {
   "cell_type": "code",
   "execution_count": null,
   "metadata": {},
   "outputs": [
    {
     "name": "stdout",
     "output_type": "stream",
     "text": [
      "1 2 3 4 8 12 16 15 14 13 9 5 6 7 11 10 "
     ]
    }
   ],
   "source": [
    "def spiralMatrix(arr):\n",
    "    row=len(arr)\n",
    "    col=len(arr[0])    \n",
    "    k,l=0,0\n",
    "    \n",
    "    while k < row and l < col:\n",
    "        for i in range(l,col):\n",
    "            print(arr[k][i],end=\" \")\n",
    "        k += 1\n",
    "        \n",
    "        for i in range(k,row):\n",
    "            print(arr[i][col-1],end=\" \")\n",
    "        col -= 1\n",
    "        \n",
    "        if (k < row):\n",
    "            for i in range(col-1,l-1,-1):\n",
    "                print(arr[row-1][i],end=\" \")\n",
    "            row -= 1\n",
    "            \n",
    "        if l < col:\n",
    "            for i in range(row-1,k-1,-1):\n",
    "                print(arr[i][l],end=\" \")\n",
    "                \n",
    "            l += 1\n",
    "\n",
    "arr=[[1,    2,   3,   4],\n",
    "    [5,    6,   7,   8],\n",
    "    [9,   10,  11,  12],\n",
    "    [13,  14,  15,  16 ]]\n",
    "\n",
    "spiralMatrix(arr)"
   ]
  },
  {
   "cell_type": "code",
   "execution_count": null,
   "metadata": {},
   "outputs": [
    {
     "name": "stdout",
     "output_type": "stream",
     "text": [
      "True\n"
     ]
    }
   ],
   "source": [
    "# The quick brown fox jumps over the lazy dog\n",
    "\n",
    "\n",
    "def checkPnagram(s):\n",
    "    s=s.lower()\n",
    "    s=s.split()\n",
    "    s=\"\".join(s)\n",
    "    \n",
    "    alphabet='abcdefghijklmnopqrstuvwxyz'\n",
    "    flag=0\n",
    "    for i in alphabet:\n",
    "        if i not in s:\n",
    "            flag=1\n",
    "    \n",
    "    if flag==1:\n",
    "        return False\n",
    "    else:\n",
    "        return True\n",
    "\n",
    "\n",
    "s=\"The quick brown fox jumps over the lazy dog\"\n",
    "\n",
    "print(checkPnagram(s))\n",
    "\n"
   ]
  },
  {
   "cell_type": "code",
   "execution_count": null,
   "metadata": {},
   "outputs": [],
   "source": []
  },
  {
   "cell_type": "code",
   "execution_count": null,
   "metadata": {},
   "outputs": [
    {
     "name": "stdout",
     "output_type": "stream",
     "text": [
      "True\n"
     ]
    }
   ],
   "source": [
    "s= 'random'\n",
    "ans=False\n",
    "for i in s:\n",
    "    if i=='a':\n",
    "        ans=True\n",
    "    \n"
   ]
  },
  {
   "cell_type": "code",
   "execution_count": null,
   "metadata": {},
   "outputs": [],
   "source": [
    "# (())\n",
    "\n",
    "# (()\n",
    " \n",
    "# ()("
   ]
  },
  {
   "cell_type": "code",
   "execution_count": null,
   "metadata": {},
   "outputs": [
    {
     "ename": "AttributeError",
     "evalue": "'collections.deque' object has no attribute 'isEmpty'",
     "output_type": "error",
     "traceback": [
      "\u001b[1;31m---------------------------------------------------------------------------\u001b[0m",
      "\u001b[1;31mAttributeError\u001b[0m                            Traceback (most recent call last)",
      "\u001b[1;32mc:\\Users\\shash\\Documents\\GitHub\\Basic to master in Python\\revision.ipynb Cell 272'\u001b[0m in \u001b[0;36m<cell line: 29>\u001b[1;34m()\u001b[0m\n\u001b[0;32m     <a href='vscode-notebook-cell:/c%3A/Users/shash/Documents/GitHub/Basic%20to%20master%20in%20Python/revision.ipynb#ch0000271?line=20'>21</a>\u001b[0m         \u001b[39mreturn\u001b[39;00m \u001b[39mFalse\u001b[39;00m\n\u001b[0;32m     <a href='vscode-notebook-cell:/c%3A/Users/shash/Documents/GitHub/Basic%20to%20master%20in%20Python/revision.ipynb#ch0000271?line=26'>27</a>\u001b[0m arr\u001b[39m=\u001b[39m \u001b[39m'\u001b[39m\u001b[39m(())\u001b[39m\u001b[39m'\u001b[39m\n\u001b[1;32m---> <a href='vscode-notebook-cell:/c%3A/Users/shash/Documents/GitHub/Basic%20to%20master%20in%20Python/revision.ipynb#ch0000271?line=28'>29</a>\u001b[0m \u001b[39mprint\u001b[39m(isbalance(arr))\n",
      "\u001b[1;32mc:\\Users\\shash\\Documents\\GitHub\\Basic to master in Python\\revision.ipynb Cell 272'\u001b[0m in \u001b[0;36misbalance\u001b[1;34m(arr)\u001b[0m\n\u001b[0;32m     <a href='vscode-notebook-cell:/c%3A/Users/shash/Documents/GitHub/Basic%20to%20master%20in%20Python/revision.ipynb#ch0000271?line=9'>10</a>\u001b[0m     myStack\u001b[39m.\u001b[39mappend(arr[i])\n\u001b[0;32m     <a href='vscode-notebook-cell:/c%3A/Users/shash/Documents/GitHub/Basic%20to%20master%20in%20Python/revision.ipynb#ch0000271?line=10'>11</a>\u001b[0m \u001b[39melse\u001b[39;00m:\n\u001b[1;32m---> <a href='vscode-notebook-cell:/c%3A/Users/shash/Documents/GitHub/Basic%20to%20master%20in%20Python/revision.ipynb#ch0000271?line=11'>12</a>\u001b[0m     \u001b[39mif\u001b[39;00m myStack\u001b[39m.\u001b[39;49misEmpty():\n\u001b[0;32m     <a href='vscode-notebook-cell:/c%3A/Users/shash/Documents/GitHub/Basic%20to%20master%20in%20Python/revision.ipynb#ch0000271?line=12'>13</a>\u001b[0m         balance \u001b[39m=\u001b[39m \u001b[39m-\u001b[39m\u001b[39m1\u001b[39m\n\u001b[0;32m     <a href='vscode-notebook-cell:/c%3A/Users/shash/Documents/GitHub/Basic%20to%20master%20in%20Python/revision.ipynb#ch0000271?line=13'>14</a>\u001b[0m     \u001b[39melse\u001b[39;00m:\n",
      "\u001b[1;31mAttributeError\u001b[0m: 'collections.deque' object has no attribute 'isEmpty'"
     ]
    }
   ],
   "source": [
    "import Stack\n",
    "\n",
    "def isbalance(arr):\n",
    "    i=0\n",
    "    balance=0\n",
    "    myStack = Stack.Stack(len(arr))\n",
    "    while i < len(arr) and balance == 0:\n",
    "        \n",
    "        if arr[i] == '(':\n",
    "            myStack.push(arr[i])\n",
    "        else:\n",
    "            if myStack.isEmpty():\n",
    "                balance = -1\n",
    "            else:\n",
    "                myStack.pop()\n",
    "        i += 1\n",
    "        \n",
    "    if balance == 0 and myStack.isEmpty():\n",
    "        return True\n",
    "    else:\n",
    "        return False\n",
    "    \n",
    "\n",
    "             \n",
    "\n",
    "\n",
    "arr= '(())'\n",
    "\n",
    "print(isbalance(arr))"
   ]
  },
  {
   "cell_type": "code",
   "execution_count": null,
   "metadata": {},
   "outputs": [
    {
     "name": "stdout",
     "output_type": "stream",
     "text": [
      "a\n"
     ]
    }
   ],
   "source": [
    "s=\"Africa\"\n",
    "\n",
    "s=s.lower()\n",
    "\n",
    "for i in range(len(s)-1):\n",
    "    for j in range(i+1,len(s)):\n",
    "        if s[i]==s[j]:\n",
    "            print(s[i])\n",
    "        \n",
    "            \n",
    "            \n",
    "            \n",
    "            \n"
   ]
  },
  {
   "cell_type": "code",
   "execution_count": null,
   "metadata": {},
   "outputs": [],
   "source": [
    "def reverse(llist):\n",
    "    prev = None\n",
    "    curr = head\n",
    "    while curr is not None:\n",
    "        next = curr.next\n",
    "        curr.next = prev\n",
    "        prev = curr\n",
    "        curr = next\n",
    "    return prev"
   ]
  },
  {
   "cell_type": "code",
   "execution_count": null,
   "metadata": {},
   "outputs": [
    {
     "name": "stdout",
     "output_type": "stream",
     "text": [
      "[1, 2, 5]\n"
     ]
    }
   ],
   "source": [
    "\n",
    "def printNum(s):\n",
    "    rev=[]\n",
    "    ans=0\n",
    "    if s>0:\n",
    "        while s>0:\n",
    "            ans = s%10\n",
    "            rev.append(ans)\n",
    "            s = s//10\n",
    "        print(rev[::-1])\n",
    "    else:\n",
    "        s= s*-1\n",
    "        while s>0:\n",
    "            ans = s%10\n",
    "            rev.append(ans)\n",
    "            s = s//10\n",
    "        print(rev[::-1])\n",
    "        \n",
    "s= -125\n",
    "printNum(s)"
   ]
  },
  {
   "cell_type": "code",
   "execution_count": null,
   "metadata": {},
   "outputs": [
    {
     "name": "stdout",
     "output_type": "stream",
     "text": [
      "False\n"
     ]
    }
   ],
   "source": [
    "def palindrom(s,start,end):\n",
    "    \n",
    "    if start == end:\n",
    "        return True\n",
    "    if s[start] != s[end]:\n",
    "        return False\n",
    "    if start < end+1:\n",
    "        return palindrom(s,start+1,end-1)\n",
    "    return True\n",
    "        \n",
    "s='abcdba'\n",
    "start=0\n",
    "end=len(s)-1\n",
    "print(palindrom(s,start,end))"
   ]
  },
  {
   "cell_type": "code",
   "execution_count": null,
   "metadata": {},
   "outputs": [
    {
     "name": "stdout",
     "output_type": "stream",
     "text": [
      "Given Linked List\n",
      "1->2->3->4->NULL\n",
      "Linked List after deletion of middle\n",
      "1->2->4->NULL\n"
     ]
    }
   ],
   "source": [
    "# Python3 program to delete middle\n",
    "# of a linked list\n",
    "# Link list Node\n",
    "class Node:\t\n",
    "\tdef __init__(self):\n",
    "\t\tself.data = 0\n",
    "\t\tself.next = None\n",
    "# Count of nodes\n",
    "def countOfNodes(head):\n",
    "\tcount = 0\n",
    "\twhile (head != None):\n",
    "\t\thead = head.next\n",
    "\t\tcount += 1\n",
    "\treturn count\n",
    "# Deletes middle node and returns\n",
    "# head of the modified list\n",
    "def deleteMid(head):\n",
    "\t# Base cases\n",
    "\tif (head == None):\n",
    "\t\treturn None\n",
    "\tif (head.next == None):\n",
    "\t\tdel head\n",
    "\t\treturn None\n",
    "\tcopyHead = head\n",
    "\t# Find the count of nodes\n",
    "\tcount = countOfNodes(head)\n",
    "\t# Find the middle node\n",
    "\tmid = count // 2\n",
    "\t# Delete the middle node\n",
    "\twhile (mid > 1):\n",
    "\t\tmid -= 1\n",
    "\t\thead = head.next\n",
    "\t# Delete the middle node\n",
    "\thead.next = head.next.next\n",
    "\treturn copyHead\n",
    "# A utility function to print\n",
    "# a given linked list\n",
    "def printList(ptr):\n",
    "\twhile (ptr != None):\n",
    "\t\tprint(ptr.data, end = '->')\n",
    "\t\tptr = ptr.next\n",
    "\tprint('NULL')\n",
    "# Utility function to create a new node.\n",
    "def newNode(data):\n",
    "\ttemp = Node()\n",
    "\ttemp.data = data\n",
    "\ttemp.next = None\n",
    "\treturn temp\n",
    "\n",
    "# Driver Code\n",
    "if __name__=='__main__':\n",
    "\t# Start with the empty list\n",
    "\thead = newNode(1)\n",
    "\thead.next = newNode(2)\n",
    "\thead.next.next = newNode(3)\n",
    "\thead.next.next.next = newNode(4)\n",
    "\tprint(\"Given Linked List\")\n",
    "\tprintList(head)\n",
    "\thead = deleteMid(head)\n",
    "\tprint(\"Linked List after deletion of middle\")\n",
    "\tprintList(head)\n",
    "#  This code is contributed by shashwat\n",
    "# Complexity Analysis: \n",
    "# Time Complexity: O(n). \n",
    "# Two traversals of the linked list is needed\n",
    "# Auxiliary Space: O(1). \n",
    "# No extra space is needed."
   ]
  },
  {
   "cell_type": "code",
   "execution_count": null,
   "metadata": {},
   "outputs": [
    {
     "name": "stdout",
     "output_type": "stream",
     "text": [
      "isPalindrome: True\n"
     ]
    }
   ],
   "source": [
    "# Python3 program to check if linked\n",
    "# list is palindrome using stack\n",
    "class Node:\n",
    "\tdef __init__(self,data):\n",
    "\t\tself.data = data\n",
    "\t\tself.ptr = None\n",
    "# Function to check if the linked list\n",
    "# is palindrome or not\n",
    "def ispalindrome(head):\n",
    "\t# Temp pointer\n",
    "\tslow = head\n",
    "\t# Declare a stack\n",
    "\tstack = []\n",
    "\tispalin = True\n",
    "\t# Push all elements of the list\n",
    "\t# to the stack\n",
    "\twhile slow != None:\n",
    "\t\tstack.append(slow.data)\n",
    "\t\t# Move ahead\n",
    "\t\tslow = slow.ptr\n",
    "\t# Iterate in the list again and\n",
    "\t# check by popping from the stack\n",
    "\twhile head != None:\n",
    "\t\t# Get the top most element\n",
    "\t\ti = stack.pop()\n",
    "\t\t# Check if data is not\n",
    "\t\t# same as popped element\n",
    "\t\tif head.data == i:\n",
    "\t\t\tispalin = True\n",
    "\t\telse:\n",
    "\t\t\tispalin = False\n",
    "\t\t\tbreak\n",
    "\t\t# Move ahead\n",
    "\t\thead = head.ptr\n",
    "\treturn ispalin\n",
    "# Driver Code\n",
    "# Addition of linked list\n",
    "one = Node(1)\n",
    "two = Node(2)\n",
    "three = Node(3)\n",
    "four = Node(4)\n",
    "five = Node(3)\n",
    "six = Node(2)\n",
    "seven = Node(1)\n",
    "# Initialize the next pointer\n",
    "# of every current pointer\n",
    "one.ptr = two\n",
    "two.ptr = three\n",
    "three.ptr = four\n",
    "four.ptr = five\n",
    "five.ptr = six\n",
    "six.ptr = seven\n",
    "seven.ptr = None\n",
    "# Call function to check palindrome or not\n",
    "result = ispalindrome(one)\n",
    "print(\"isPalindrome:\", result)\n",
    "# This code is contributed by Nishtha Goel\n"
   ]
  },
  {
   "cell_type": "code",
   "execution_count": null,
   "metadata": {},
   "outputs": [
    {
     "name": "stdout",
     "output_type": "stream",
     "text": [
      "15\n"
     ]
    }
   ],
   "source": [
    "# Python3 program to find first non-repeating\n",
    "# element in a linked list\n",
    "# Link list node\n",
    "class Node:\n",
    "\tdef __init__(self, data):\n",
    "\t\tself.data = data\n",
    "\t\tself.next = None\n",
    "# Function to find the first non-repeating\n",
    "# element in the linked list\n",
    "def firstNonRepeating(head):\n",
    "\t# Create an empty map and insert all linked\n",
    "\t# list elements into hash table\n",
    "\tmp = dict()\n",
    "\ttemp = head\n",
    "\twhile (temp != None):\n",
    "\t\tif temp.data not in mp:\n",
    "\t\t\tmp[temp.data] = 0\n",
    "\t\tmp[temp.data] += 1\n",
    "\t\ttemp = temp.next\n",
    "\ttemp = head\n",
    "\t# Traverse the linked list again and return\n",
    "\t# the first node whose count is 1\n",
    "\twhile (temp != None):\n",
    "\t\tif temp.data in mp:\n",
    "\t\t\tif mp[temp.data] == 1:\n",
    "\t\t\t\treturn temp.data\n",
    "\t\ttemp = temp.next\n",
    "\treturn -1\n",
    "# Function to push a node\n",
    "def push(head_ref, new_data):\n",
    "\tnew_node = Node(new_data)\n",
    "\tnew_node.next = head_ref\n",
    "\thead_ref = new_node\n",
    "\treturn head_ref\n",
    "\n",
    "# Driver code\n",
    "if __name__=='__main__':\n",
    "\t# Let us create below linked list.\n",
    "\t# 85->15->18->20->85->35->4->20->NULL\n",
    "\thead = None\n",
    "\thead = push(head, 20)\n",
    "\thead = push(head, 4)\n",
    "\thead = push(head, 35)\n",
    "\thead = push(head, 85)\n",
    "\thead = push(head, 20)\n",
    "\thead = push(head, 18)\n",
    "\thead = push(head, 15)\n",
    "\thead = push(head, 85)\n",
    "\tprint(firstNonRepeating(head))\n",
    "# This code is contributed by shashwat\n"
   ]
  },
  {
   "cell_type": "code",
   "execution_count": null,
   "metadata": {},
   "outputs": [
    {
     "ename": "SyntaxError",
     "evalue": "Missing parentheses in call to 'print'. Did you mean print(temp.data, end=\" \")? (1110948617.py, line 33)",
     "output_type": "error",
     "traceback": [
      "\u001b[1;36m  Input \u001b[1;32mIn [6]\u001b[1;36m\u001b[0m\n\u001b[1;33m    print temp.data,\u001b[0m\n\u001b[1;37m          ^\u001b[0m\n\u001b[1;31mSyntaxError\u001b[0m\u001b[1;31m:\u001b[0m Missing parentheses in call to 'print'. Did you mean print(temp.data, end=\" \")?\n"
     ]
    }
   ],
   "source": [
    "# Python program to reverse a linked list\n",
    "# Time Complexity : O(n)\n",
    "# Space Complexity : O(1)\n",
    "# Node class\n",
    "class Node:\n",
    "\t# Constructor to initialize the node object\n",
    "\tdef __init__(self, data):\n",
    "\t\tself.data = data\n",
    "\t\tself.next = None\n",
    "class LinkedList:\n",
    "\t# Function to initialize head\n",
    "\tdef __init__(self):\n",
    "\t\tself.head = None\n",
    "\t# Function to reverse the linked list\n",
    "\tdef reverse(self):\n",
    "\t\tprev = None\n",
    "\t\tcurrent = self.head\n",
    "\t\twhile(current is not None):\n",
    "\t\t\tnext = current.next\n",
    "\t\t\tcurrent.next = prev\n",
    "\t\t\tprev = current\n",
    "\t\t\tcurrent = next\n",
    "\t\tself.head = prev\n",
    "\t# Function to insert a new node at the beginning\n",
    "\tdef push(self, new_data):\n",
    "\t\tnew_node = Node(new_data)\n",
    "\t\tnew_node.next = self.head\n",
    "\t\tself.head = new_node\n",
    "\t# Utility function to print the linked LinkedList\n",
    "\tdef printList(self):\n",
    "\t\ttemp = self.head\n",
    "\t\twhile(temp):\n",
    "\t\t\tprint temp.data,\n",
    "\t\t\ttemp = temp.next\n",
    "# Driver code\n",
    "llist = LinkedList()\n",
    "llist.push(20)\n",
    "llist.push(4)\n",
    "llist.push(15)\n",
    "llist.push(85)\n",
    "llist.push(5)\n",
    "print \"Given Linked List\"\n",
    "llist.printList()\n",
    "llist.reverse()\n",
    "print \"\\nReversed Linked List\"\n",
    "llist.printList()\n",
    "# This code is contributed by Nikhil Kumar Singh(nickzuck_007)\n"
   ]
  },
  {
   "cell_type": "code",
   "execution_count": null,
   "metadata": {},
   "outputs": [
    {
     "name": "stdout",
     "output_type": "stream",
     "text": [
      "Created Linked List: \n",
      " 8   2   3   1   7  \n",
      "Linked List after Deletion at position 4: \n",
      " 8   2   3   1  "
     ]
    }
   ],
   "source": [
    "# Python program to delete a node in a linked list\n",
    "# at a given position\n",
    "# Node class\n",
    "class Node:\n",
    "\t# Constructor to initialize the node object\n",
    "\tdef __init__(self, data):\n",
    "\t\tself.data = data\n",
    "\t\tself.next = None\n",
    "class LinkedList:\n",
    "\t# Constructor to initialize head\n",
    "\tdef __init__(self):\n",
    "\t\tself.head = None\n",
    "\t# Function to insert a new node at the beginning\n",
    "\tdef push(self, new_data):\n",
    "\t\tnew_node = Node(new_data)\n",
    "\t\tnew_node.next = self.head\n",
    "\t\tself.head = new_node\n",
    "\t# Given a reference to the head of a list\n",
    "\t# and a position, delete the node at a given position\n",
    "\t#This delete function code is contributed by Arabin Islam\n",
    "\tdef deleteNode(self, position):\n",
    "\t\tif self.head is None:\n",
    "\t\t\treturn\n",
    "\t\tif position == 0:\n",
    "\t\t\tself.head = self.head.next\n",
    "\t\t\treturn self.head\n",
    "\t\tindex = 0\n",
    "\t\tcurrent = self.head\n",
    "\t\tprev = self.head\n",
    "\t\ttemp = self.head\n",
    "\t\twhile current is not None:\n",
    "\t\t\tif index == position:\n",
    "\t\t\t\ttemp = current.next\n",
    "\t\t\t\tbreak\n",
    "\t\t\tprev = current\n",
    "\t\t\tcurrent = current.next\n",
    "\t\t\tindex += 1\n",
    "\t\tprev.next = temp\n",
    "\t\treturn prev\n",
    "\t# Utility function to print the LinkedList\n",
    "\tdef printList(self):\n",
    "\t\ttemp = self.head\n",
    "\t\twhile(temp):\n",
    "\t\t\tprint (\" %d \" % (temp.data),end=\" \")\n",
    "\t\t\ttemp = temp.next\n",
    "# Driver program to test above function\n",
    "llist = LinkedList()\n",
    "llist.push(7)\n",
    "llist.push(1)\n",
    "llist.push(3)\n",
    "llist.push(2)\n",
    "llist.push(8)\n",
    "print (\"Created Linked List: \")\n",
    "llist.printList()\n",
    "llist.deleteNode(4)\n",
    "print (\"\\nLinked List after Deletion at position 4: \")\n",
    "llist.printList()\n",
    "# This code is contributed by Nikhil Kumar Singh(nickzuck_007)"
   ]
  },
  {
   "cell_type": "code",
   "execution_count": 7,
   "metadata": {},
   "outputs": [
    {
     "ename": "KeyboardInterrupt",
     "evalue": "",
     "output_type": "error",
     "traceback": [
      "\u001b[1;31m---------------------------------------------------------------------------\u001b[0m",
      "\u001b[1;31mKeyboardInterrupt\u001b[0m                         Traceback (most recent call last)",
      "\u001b[1;32mc:\\Users\\shash\\Documents\\GitHub\\Basic to master in Python\\revision.ipynb Cell 282'\u001b[0m in \u001b[0;36m<cell line: 24>\u001b[1;34m()\u001b[0m\n\u001b[0;32m     <a href='vscode-notebook-cell:/c%3A/Users/shash/Documents/GitHub/Basic%20to%20master%20in%20Python/revision.ipynb#ch0000281?line=20'>21</a>\u001b[0m     \u001b[39mreturn\u001b[39;00m result\n\u001b[0;32m     <a href='vscode-notebook-cell:/c%3A/Users/shash/Documents/GitHub/Basic%20to%20master%20in%20Python/revision.ipynb#ch0000281?line=22'>23</a>\u001b[0m string\u001b[39m=\u001b[39m \u001b[39m'\u001b[39m\u001b[39ma2b4c3de2f\u001b[39m\u001b[39m'\u001b[39m\n\u001b[1;32m---> <a href='vscode-notebook-cell:/c%3A/Users/shash/Documents/GitHub/Basic%20to%20master%20in%20Python/revision.ipynb#ch0000281?line=23'>24</a>\u001b[0m \u001b[39mprint\u001b[39m(decompose(string))\n",
      "\u001b[1;32mc:\\Users\\shash\\Documents\\GitHub\\Basic to master in Python\\revision.ipynb Cell 282'\u001b[0m in \u001b[0;36mdecompose\u001b[1;34m(string)\u001b[0m\n\u001b[0;32m     <a href='vscode-notebook-cell:/c%3A/Users/shash/Documents/GitHub/Basic%20to%20master%20in%20Python/revision.ipynb#ch0000281?line=10'>11</a>\u001b[0m \u001b[39mwhile\u001b[39;00m i\u001b[39m<\u001b[39m\u001b[39mlen\u001b[39m(string): \n\u001b[0;32m     <a href='vscode-notebook-cell:/c%3A/Users/shash/Documents/GitHub/Basic%20to%20master%20in%20Python/revision.ipynb#ch0000281?line=11'>12</a>\u001b[0m     count \u001b[39m=\u001b[39m \u001b[39m0\u001b[39m\n\u001b[1;32m---> <a href='vscode-notebook-cell:/c%3A/Users/shash/Documents/GitHub/Basic%20to%20master%20in%20Python/revision.ipynb#ch0000281?line=12'>13</a>\u001b[0m     \u001b[39mif\u001b[39;00m string[i] \u001b[39m>\u001b[39m\u001b[39m=\u001b[39m \u001b[39m'\u001b[39m\u001b[39m0\u001b[39m\u001b[39m'\u001b[39m \u001b[39mand\u001b[39;00m string \u001b[39m<\u001b[39m\u001b[39m=\u001b[39m \u001b[39m'\u001b[39m\u001b[39m9\u001b[39m\u001b[39m'\u001b[39m:\n\u001b[0;32m     <a href='vscode-notebook-cell:/c%3A/Users/shash/Documents/GitHub/Basic%20to%20master%20in%20Python/revision.ipynb#ch0000281?line=13'>14</a>\u001b[0m         \u001b[39mwhile\u001b[39;00m string[i] \u001b[39m>\u001b[39m\u001b[39m=\u001b[39m \u001b[39m'\u001b[39m\u001b[39m0\u001b[39m\u001b[39m'\u001b[39m \u001b[39mand\u001b[39;00m string[i] \u001b[39m<\u001b[39m\u001b[39m=\u001b[39m\u001b[39m'\u001b[39m\u001b[39m9\u001b[39m\u001b[39m'\u001b[39m:\n\u001b[0;32m     <a href='vscode-notebook-cell:/c%3A/Users/shash/Documents/GitHub/Basic%20to%20master%20in%20Python/revision.ipynb#ch0000281?line=14'>15</a>\u001b[0m             count \u001b[39m=\u001b[39m count \u001b[39m*\u001b[39m \u001b[39m10\u001b[39m \u001b[39m+\u001b[39m \u001b[39mord\u001b[39m(string[i] \u001b[39m-\u001b[39m \u001b[39mord\u001b[39m(\u001b[39m'\u001b[39m\u001b[39m0\u001b[39m\u001b[39m'\u001b[39m))\n",
      "\u001b[1;31mKeyboardInterrupt\u001b[0m: "
     ]
    }
   ],
   "source": [
    "# a2b4c3de2f\n",
    "# op: aabbbbcccdeef\n",
    "\n",
    "\n",
    "def decompose(string):\n",
    "    \n",
    "    integrestack = []\n",
    "    stringstack = []\n",
    "    i=0\n",
    "    result=\"\"\n",
    "    while i<len(string): \n",
    "        count = 0\n",
    "        if string[i] >= '0' and string <= '9':\n",
    "            while string[i] >= '0' and string[i] <='9':\n",
    "                count = count * 10 + ord(string[i] - ord('0'))\n",
    "                i += 1\n",
    "            i -= 1\n",
    "        elif len(integrestack) !=0:\n",
    "            count=integrestack[-1]\n",
    "            intergerstack.pop()\n",
    "        \n",
    "        \n",
    "        \n",
    "    while len(stringstack) != 0:\n",
    "        result =stringstack[-1]+result\n",
    "        stringstack.pop()\n",
    "    return result\n",
    "\n",
    "string= 'a2b4c3de2f'\n",
    "print(decompose(string))"
   ]
  },
  {
   "cell_type": "code",
   "execution_count": 12,
   "metadata": {},
   "outputs": [
    {
     "name": "stdout",
     "output_type": "stream",
     "text": [
      "1 2 5 7 7 8 1 2 8 \n",
      "\n",
      "1 2 5 7 8 \n"
     ]
    }
   ],
   "source": [
    "# 1, 2, 5, 7, 7, 8, 1, 2, 8\n",
    "\n",
    "class Node():\n",
    "    def __init__(self,data):\n",
    "        self.data=data\n",
    "        self.next=None\n",
    "class LinkedList():\n",
    "    def __init__(self):\n",
    "        self.head = None\n",
    "        \n",
    "    def removeDuplicate(self):\n",
    "        ptr1 = None\n",
    "        ptr2 = None\n",
    "        dup = None\n",
    "        ptr1 = self.head\n",
    "        \n",
    "        while ptr1 != None and ptr1.next != None:\n",
    "            ptr2 = ptr1\n",
    "            \n",
    "            while ptr2.next != None:\n",
    "                if ptr1.data == ptr2.next.data:\n",
    "                    dup = ptr2.next\n",
    "                    ptr2.next = ptr2.next.next\n",
    "                else:\n",
    "                    ptr2 = ptr2.next\n",
    "            ptr1 = ptr1.next\n",
    "    \n",
    "    def printList(self):\n",
    "        temp=self.head\n",
    "        while temp != None:\n",
    "            print(temp.data,end=\" \")\n",
    "            temp=temp.next\n",
    "        print()\n",
    "        \n",
    "list =LinkedList()\n",
    "list.head = Node(1)\n",
    "list.head.next=Node(2)\n",
    "list.head.next.next = Node(5)\n",
    "list.head.next.next.next = Node(7)\n",
    "list.head.next.next.next.next =Node(7)\n",
    "list.head.next.next.next.next.next =Node(8)\n",
    "list.head.next.next.next.next.next.next=Node(1)\n",
    "list.head.next.next.next.next.next.next.next=Node(2)\n",
    "list.head.next.next.next.next.next.next.next.next=Node(8)\n",
    "\n",
    "list.printList()\n",
    "print()\n",
    "list.removeDuplicate()\n",
    "list.printList()\n",
    "# 1, 2, 5, 7, 7, 8, 1, 2, 8"
   ]
  },
  {
   "cell_type": "code",
   "execution_count": 16,
   "metadata": {},
   "outputs": [
    {
     "name": "stdout",
     "output_type": "stream",
     "text": [
      "-1\n"
     ]
    }
   ],
   "source": [
    "# 12 17 8 9 4 5\n",
    "\n",
    "def checkNextGreater(arr,key):\n",
    "    left=0\n",
    "    right=len(arr)-1\n",
    "    ans = -1\n",
    "    while left<right:\n",
    "        mid = left + (right-left)//2\n",
    "        if arr[mid] > key:\n",
    "            right = mid-1\n",
    "        elif arr[mid] < key:\n",
    "            left = mid+1\n",
    "        elif (arr[mid] == key and arr[mid+1] > arr[mid]):\n",
    "            ans = arr[mid+1]\n",
    "        elif (mid==right and arr[mid] < arr[0]):\n",
    "            ans = arr[0]\n",
    "    return ans\n",
    "\n",
    "arr=[12,17,8,9,4,5]\n",
    "print(checkNextGreater(arr,12))"
   ]
  },
  {
   "cell_type": "code",
   "execution_count": null,
   "metadata": {},
   "outputs": [],
   "source": [
    "# Python3 program to count number of\n",
    "# substrings with exactly k distinct\n",
    "# characters in a given string\n",
    "\n",
    "# Function to count number of substrings\n",
    "# with exactly k unique characters\n",
    "def countkDist(str1, k):\n",
    "\tn = len(str1)\n",
    "\t\n",
    "\t# Initialize result\n",
    "\tres = 0\n",
    "\n",
    "\t# To store count of characters from\n",
    "\t# 'a' to 'z'\n",
    "\tcnt = [0] * 27\n",
    "\n",
    "\t# Consider all substrings beginning\n",
    "\t# with str[i]\n",
    "\tfor i in range(0, n):\n",
    "\t\tdist_count = 0\n",
    "\n",
    "\t\t# Initializing array with 0\n",
    "\t\tcnt = [0] * 27\n",
    "\n",
    "\t\t# Consider all substrings between str[i..j]\n",
    "\t\tfor j in range(i, n):\n",
    "\t\t\t\n",
    "\t\t\t# If this is a new character for this\n",
    "\t\t\t# substring, increment dist_count.\n",
    "\t\t\tif(cnt[ord(str1[j]) - 97] == 0):\n",
    "\t\t\t\tdist_count += 1\n",
    "\n",
    "\t\t\t# Increment count of current character\n",
    "\t\t\tcnt[ord(str1[j]) - 97] += 1\n",
    "\n",
    "\t\t\t# If distinct character count becomes k,\n",
    "\t\t\t# then increment result.\n",
    "\t\t\tif(dist_count == k):\n",
    "\t\t\t\tres += 1\n",
    "\t\t\tif(dist_count > k):\n",
    "\t\t\t\tbreak\n",
    "\n",
    "\treturn res\t\n",
    "\n",
    "# Driver Code\n",
    "if __name__ == \"__main__\":\n",
    "\tstr1 = \"abcbaa\"\n",
    "\tk = 3\n",
    "\tprint(\"Total substrings with exactly\", k,\n",
    "\t\t\"distinct characters : \", end = \"\")\n",
    "\tprint(countkDist(str1, k))\n",
    "\n",
    "# This code is contributed by\n",
    "# Sairahul Jella\n"
   ]
  },
  {
   "cell_type": "code",
   "execution_count": 34,
   "metadata": {},
   "outputs": [
    {
     "name": "stdout",
     "output_type": "stream",
     "text": [
      "2 4 5 9 8 "
     ]
    }
   ],
   "source": [
    "# Your code here# Python 3 program to remove the\n",
    "# duplicates from the array\n",
    "def removeDups(arr, n):\n",
    "    mp = {i : 0 for i in arr}\n",
    "     \n",
    "    for i in range(len(arr)):\n",
    "         \n",
    "        if mp[arr[i]] == 0:\n",
    "            print(arr[i], end = \" \")\n",
    "            mp[arr[i]] = 1\n",
    "            \n",
    "                \n",
    "    \n",
    "    # return ' '.join(str(x) for x in arr)\n",
    "\n",
    "# Driver code\n",
    "if __name__ == '__main__':\n",
    "    n = int(input())\n",
    "\n",
    "    arr = list(map(int, input().rstrip().split()))\n",
    "\n",
    "    removeDups(arr,n)\n",
    "\n",
    "# This code is contributed\n",
    "# by Mohit Kumar"
   ]
  },
  {
   "cell_type": "code",
   "execution_count": 36,
   "metadata": {},
   "outputs": [
    {
     "name": "stdout",
     "output_type": "stream",
     "text": [
      "1\n",
      "1\n",
      "3\n",
      "0\n",
      "5\n"
     ]
    }
   ],
   "source": [
    "# Your code here\n",
    "\n",
    "def check_smaller(arr,s):\n",
    "    count=0\n",
    "    for i in range(len(arr)):\n",
    "        if s>=arr[i]:\n",
    "            count+=1\n",
    "\n",
    "    return count\n",
    "\n",
    "\n",
    "if __name__ == '__main__':\n",
    "    n = int(input())\n",
    "\n",
    "    arr = list(map(int, input().rstrip().split()))\n",
    "\n",
    "    k=int(input())\n",
    "\n",
    "    for i in range(k):\n",
    "        s=int(input())\n",
    "        print(check_smaller(arr,s))"
   ]
  },
  {
   "cell_type": "code",
   "execution_count": 16,
   "metadata": {},
   "outputs": [
    {
     "name": "stdout",
     "output_type": "stream",
     "text": [
      "-1 2 "
     ]
    }
   ],
   "source": [
    "# Your code here\n",
    "def floor(arr,k):\n",
    "    if k<arr[0]:\n",
    "        return -1\n",
    "    start,end=0,len(arr)-1\n",
    "    \n",
    "    while start <= end:\n",
    "        mid=start+(end-start)//2\n",
    "        if k < arr[mid]:\n",
    "            end=mid-1\n",
    "        elif k > arr[mid]:\n",
    "            start = mid+1\n",
    "        else:\n",
    "            return arr[mid]\n",
    "    return arr[end]\n",
    "\n",
    "def ceil(arr,k):\n",
    "    if k > arr[len(arr)-1]:\n",
    "        return -1\n",
    "    start,end=0,len(arr)-1\n",
    "    while start <= end:\n",
    "        mid=start+(end-start)//2\n",
    "        if k < arr[mid]:\n",
    "            end=mid-1\n",
    "        elif k > arr[mid]:\n",
    "            start = mid+1\n",
    "        else:\n",
    "            return arr[mid]\n",
    "    return arr[start]\n",
    "\n",
    "\n",
    "# arr=[2,5,6,11,15]\n",
    "# k=1\n",
    "# print(floor(arr,k),end=\" \")\n",
    "# print(ceil(arr,k),end=\" \")\n",
    "if __name__ == '__main__':\n",
    "    n = int(input())\n",
    "\n",
    "    arr = list(map(int, input().rstrip().split()))\n",
    "\n",
    "    k=int(input())\n",
    "\n",
    "    for i in range(k):\n",
    "        s=int(input())\n",
    "        print(floor(arr,s),end=\" \")\n",
    "        print(ceil(arr,s),end=\" \")\n",
    "        print()"
   ]
  },
  {
   "cell_type": "code",
   "execution_count": 18,
   "metadata": {},
   "outputs": [
    {
     "name": "stdout",
     "output_type": "stream",
     "text": [
      "Sum found between indexes\n",
      " 1 and  3\n"
     ]
    },
    {
     "data": {
      "text/plain": [
       "1"
      ]
     },
     "execution_count": 18,
     "metadata": {},
     "output_type": "execute_result"
    }
   ],
   "source": [
    "def subArraySum(arr, n, sum_):\n",
    "      \n",
    "    # Initialize curr_sum as\n",
    "    # value of first element\n",
    "    # and starting point as 0 \n",
    "    curr_sum = arr[0]\n",
    "    start = 0\n",
    "  \n",
    "    # Add elements one by \n",
    "    # one to curr_sum and \n",
    "    # if the curr_sum exceeds \n",
    "    # the sum, then remove \n",
    "    # starting element \n",
    "    i = 1\n",
    "    while i <= n:\n",
    "          \n",
    "        # If curr_sum exceeds\n",
    "        # the sum, then remove\n",
    "        # the starting elements\n",
    "        while curr_sum > sum_ and start < i-1:\n",
    "          \n",
    "            curr_sum = curr_sum - arr[start]\n",
    "            start += 1\n",
    "              \n",
    "        # If curr_sum becomes\n",
    "        # equal to sum, then\n",
    "        # return true\n",
    "        if curr_sum == sum_:\n",
    "            print (\"Sum found between indexes\")\n",
    "            print (\"% d and % d\"%(start, i-1))\n",
    "            return 1\n",
    "  \n",
    "        # Add this element \n",
    "        # to curr_sum\n",
    "        if i < n:\n",
    "            curr_sum = curr_sum + arr[i]\n",
    "        i += 1\n",
    "  \n",
    "    # If we reach here, \n",
    "    # then no subarray\n",
    "    print (\"No subarray found\")\n",
    "    return 0\n",
    "  \n",
    "\n",
    "arr=[1,2,3,7,5]\n",
    "sum=12\n",
    "subArraySum(arr,len(arr)-1,sum)\n",
    "\n",
    "# if __name__ == '__main__':\n",
    "#     n= list(map(int,input().split()))\n",
    "#     length=n[0]\n",
    "#     Sum=n[1]\n",
    "#     arr = list(map(int, input().rstrip().split()))\n",
    "#     print(subArraySum(arr,length,Sum))\n"
   ]
  },
  {
   "cell_type": "code",
   "execution_count": 30,
   "metadata": {},
   "outputs": [
    {
     "name": "stdout",
     "output_type": "stream",
     "text": [
      "2\n"
     ]
    }
   ],
   "source": [
    "def countVowels(string,num):\n",
    "    string=string.lower()\n",
    "    vowel=\"aeiou\"\n",
    "    count=0\n",
    "    if len(string)%2==0:\n",
    "        for i in range(len(string)):\n",
    "            if i % 2==0:\n",
    "                if string[i] in vowel:\n",
    "                    count+=1\n",
    "        return count\n",
    "    else:  \n",
    "        for i in range(len(string)):\n",
    "            if i % 2!=0:\n",
    "                if string[i] in vowel:\n",
    "                    count+=1\n",
    "        return count\n",
    "\n",
    " \n",
    "# Driver Code\n",
    "if __name__ == '__main__':\n",
    "    num=int(input())\n",
    "    string=input()\n",
    "    result = countVowels(string,num)\n",
    "    print(result)\n",
    "# Total number of Vowels"
   ]
  },
  {
   "cell_type": "code",
   "execution_count": 31,
   "metadata": {},
   "outputs": [
    {
     "name": "stdout",
     "output_type": "stream",
     "text": [
      "shashwatpal\n"
     ]
    }
   ],
   "source": []
  },
  {
   "cell_type": "code",
   "execution_count": 47,
   "metadata": {},
   "outputs": [
    {
     "name": "stdout",
     "output_type": "stream",
     "text": [
      "1 4 2 5 3 6 "
     ]
    }
   ],
   "source": [
    "# Your code here\n",
    "\n",
    "def shuffle(arr,size):\n",
    "    l=[]\n",
    "    for i in range(size):\n",
    "        print(arr[i],end=\" \")\n",
    "        print(arr[size+i],end=\" \")\n",
    "\n",
    "size=3\n",
    "arr=[1,2,3,4,5,6]\n",
    "shuffle(arr,size)\n",
    "\n",
    "\n",
    "\n",
    "# size = 2*int(input())\n",
    "\n",
    "# arr= list(map(int,input(),rstrip().split()))\n",
    "\n",
    "# shufflr(arr)"
   ]
  },
  {
   "cell_type": "code",
   "execution_count": null,
   "metadata": {},
   "outputs": [],
   "source": [
    "# Your code here\n",
    "\n",
    "\n",
    "def happyBallons(arr,size):\n",
    "    count = 0\n",
    "    for i in range(size):\n",
    "        if i % 2 == 0 and arr[i] % 2 != 0:\n",
    "            count += 1\n",
    "        elif i % 2 != 0 and arr[i] % 2 == 0:\n",
    "            count += 1\n",
    "    return count\n",
    "\n",
    "size=int(input())\n",
    "\n",
    "arr = list(map(int, input().rstrip().split()))\n",
    "\n",
    "print(happyBallons(arr,size))"
   ]
  },
  {
   "cell_type": "code",
   "execution_count": null,
   "metadata": {},
   "outputs": [],
   "source": [
    "# Your code here\n",
    "\n",
    "def insertAtIndex(arr,index,value):\n",
    "\tarr.insert(index,value)\n",
    "\treturn arr\n",
    "\n",
    "\n",
    "if __name__ == '__main__':\n",
    "\tt=int(input())\n",
    "\twhile t>0:\n",
    "\t\t\n",
    "\t\tinputs= list(map(int,input().rstrip().split()))\n",
    "\t\tsize = inputs[0]\n",
    "\t\tvalue = inputs[1]\n",
    "\t\tindex = inputs[2]\n",
    "\t\tarr = list(map(int, input().rstrip().split()))\n",
    "\t\tprint(insertAtIndex(arr,index,value))\n",
    "\n",
    "\t\tt-=1"
   ]
  },
  {
   "cell_type": "code",
   "execution_count": 61,
   "metadata": {},
   "outputs": [
    {
     "name": "stdout",
     "output_type": "stream",
     "text": [
      "2 2\n",
      "1 2\n"
     ]
    }
   ],
   "source": [
    "# Your code here\n",
    "\n",
    "\n",
    "def count(arr,size):\n",
    "    # arr.sort()\n",
    "    freq = {}\n",
    "    for i in arr:\n",
    "        if arr.count(i) > 1:\n",
    "            freq[i]=arr.count(i)\n",
    "    \n",
    "    for x, y in freq.items():\n",
    "        print(x, y)\n",
    "\n",
    "\n",
    "size=5\n",
    "arr= [3,2,1,1,2]\n",
    "count(arr,size)\n"
   ]
  },
  {
   "cell_type": "code",
   "execution_count": 71,
   "metadata": {},
   "outputs": [
    {
     "ename": "IndexError",
     "evalue": "list assignment index out of range",
     "output_type": "error",
     "traceback": [
      "\u001b[1;31m---------------------------------------------------------------------------\u001b[0m",
      "\u001b[1;31mIndexError\u001b[0m                                Traceback (most recent call last)",
      "Input \u001b[1;32mIn [71]\u001b[0m, in \u001b[0;36m<cell line: 25>\u001b[1;34m()\u001b[0m\n\u001b[0;32m     23\u001b[0m k\u001b[39m=\u001b[39m\u001b[39m2\u001b[39m\n\u001b[0;32m     24\u001b[0m arr\u001b[39m=\u001b[39m[\u001b[39m6\u001b[39m,\u001b[39m4\u001b[39m,\u001b[39m3\u001b[39m,\u001b[39m4\u001b[39m,\u001b[39m1\u001b[39m]\n\u001b[1;32m---> 25\u001b[0m \u001b[39mprint\u001b[39m(kCircleSum(arr,n,k))\n",
      "Input \u001b[1;32mIn [71]\u001b[0m, in \u001b[0;36mkCircleSum\u001b[1;34m(arr, n, k)\u001b[0m\n\u001b[0;32m     10\u001b[0m     \u001b[39melse\u001b[39;00m:\n\u001b[0;32m     11\u001b[0m         newArr\u001b[39m=\u001b[39m[]\n\u001b[1;32m---> 12\u001b[0m         newArr[i]\u001b[39m=\u001b[39marr[i:mod\u001b[39m+\u001b[39mi]\n\u001b[0;32m     13\u001b[0m         arr[i] \u001b[39m=\u001b[39m\u001b[39msum\u001b[39m(newArr)\n\u001b[0;32m     14\u001b[0m \u001b[39mreturn\u001b[39;00m arr\n",
      "\u001b[1;31mIndexError\u001b[0m: list assignment index out of range"
     ]
    }
   ],
   "source": [
    "def  kCircleSum(arr,n,k):\n",
    "    #Enter your code here\n",
    "    mod = k%n\n",
    "    for i in range(0,n,k):\n",
    "        \n",
    "        if i+k > n:\n",
    "            \n",
    "            newArr[i]=arr[i:]+arr[:(i+k)//n]\n",
    "            arr[i]=sum(newArr)\n",
    "        else:\n",
    "            newArr=[]\n",
    "            newArr[i]=arr[i:mod+i]\n",
    "            arr[i] =sum(newArr)\n",
    "    return arr\n",
    "# inputs = list(map(int, input().rstrip().split()))\n",
    "\n",
    "# n=inputs[0]\n",
    "# k=inputs[1]\n",
    "\n",
    "# arr = list(map(int, input().rstrip().split()))\n",
    "\n",
    "n=5\n",
    "k=2\n",
    "arr=[6,4,3,4,1]\n",
    "print(kCircleSum(arr,n,k))"
   ]
  },
  {
   "cell_type": "code",
   "execution_count": 81,
   "metadata": {},
   "outputs": [
    {
     "ename": "TypeError",
     "evalue": "'builtin_function_or_method' object is not iterable",
     "output_type": "error",
     "traceback": [
      "\u001b[1;31m---------------------------------------------------------------------------\u001b[0m",
      "\u001b[1;31mTypeError\u001b[0m                                 Traceback (most recent call last)",
      "Input \u001b[1;32mIn [81]\u001b[0m, in \u001b[0;36m<cell line: 18>\u001b[1;34m()\u001b[0m\n\u001b[0;32m     16\u001b[0m size\u001b[39m=\u001b[39m\u001b[39m5\u001b[39m\n\u001b[0;32m     17\u001b[0m arr\u001b[39m=\u001b[39m[\u001b[39m1\u001b[39m,\u001b[39m4\u001b[39m,\u001b[39m2\u001b[39m,\u001b[39m4\u001b[39m,\u001b[39m5\u001b[39m]\n\u001b[1;32m---> 18\u001b[0m count(arr,size)\n",
      "Input \u001b[1;32mIn [81]\u001b[0m, in \u001b[0;36mcount\u001b[1;34m(arr, size)\u001b[0m\n\u001b[0;32m      5\u001b[0m     \u001b[39mif\u001b[39;00m arr\u001b[39m.\u001b[39mcount(i) \u001b[39m>\u001b[39m \u001b[39m1\u001b[39m:\n\u001b[0;32m      6\u001b[0m         freq[i]\u001b[39m=\u001b[39marr\u001b[39m.\u001b[39mcount(i)\n\u001b[1;32m----> 8\u001b[0m v \u001b[39m=\u001b[39m \u001b[39mmax\u001b[39;49m(freq\u001b[39m.\u001b[39;49mitems)\n\u001b[0;32m      9\u001b[0m \u001b[39mprint\u001b[39m(freq\u001b[39m.\u001b[39mkeys(v))\n",
      "\u001b[1;31mTypeError\u001b[0m: 'builtin_function_or_method' object is not iterable"
     ]
    }
   ],
   "source": [
    "\n",
    "def count(arr,size):\n",
    "    # arr.sort()\n",
    "    freq = {}\n",
    "    for i in arr:\n",
    "        if arr.count(i) > 1:\n",
    "            freq[i]=arr.count(i)\n",
    "    \n",
    "    v = max(freq.items)\n",
    "    print(freq.keys(v))\n",
    "\n",
    "\n",
    "# size=int(input())\n",
    "\n",
    "# arr = list(map(int, input().rstrip().split()))\n",
    "\n",
    "size=5\n",
    "arr=[1,4,2,4,5]\n",
    "count(arr,size)"
   ]
  },
  {
   "cell_type": "code",
   "execution_count": null,
   "metadata": {},
   "outputs": [],
   "source": [
    "# make palindrome\n",
    "\n",
    "\n",
    "public class newStr {\n",
    "        public static void main(String[] args) {\n",
    "            String s=\"anna\";\n",
    "            System.out.println(swap(s));\n",
    "        }\n",
    "        static String swap(String s){\n",
    "    \n",
    "            int n = s.length();\n",
    "        char[] str = s.toCharArray();\n",
    "        \n",
    "        for (int i = 0; i < n / 2; i++) {\n",
    "          int left = i;\n",
    "          int right = n - left - 1;\n",
    "          while (left < right) {\n",
    "            if (str[left] == str[right]) {\n",
    "              break;\n",
    "            }\n",
    "            else {\n",
    "              right--;\n",
    "            }\n",
    "          }\n",
    "          if (left == right) {\n",
    "            return \"-1\";\n",
    "          }\n",
    "          else {\n",
    "            for (int j = right; j < n - left - 1; j++) {\n",
    "              char t = str[j];\n",
    "              str[j] = str[j + 1];\n",
    "              str[j + 1] = t;\n",
    "            }\n",
    "          }\n",
    "        }\n",
    "        String sb=str.Arrays.toString();\n",
    "        return sb;            \n",
    "        }\n",
    "    }"
   ]
  },
  {
   "cell_type": "code",
   "execution_count": 5,
   "metadata": {},
   "outputs": [
    {
     "name": "stdout",
     "output_type": "stream",
     "text": [
      "aabbbcccc\n",
      "aaabbbccddeef\n"
     ]
    }
   ],
   "source": [
    "def decompress_str(com):\n",
    "    ls = []\n",
    "    for i in range(0,len(com),2):\n",
    "        times = int(com[i+1])\n",
    "        while times:\n",
    "            ls.append(com[i])\n",
    "            times -= 1\n",
    "    print(\"\".join(ls))\n",
    "\n",
    "input = \"a2b3c4\"\n",
    "decompress_str(input) # output aabbbcccc\n",
    "\n",
    "decompress_str('a3b3c2d2e2f1')"
   ]
  },
  {
   "cell_type": "code",
   "execution_count": 41,
   "metadata": {},
   "outputs": [
    {
     "name": "stdout",
     "output_type": "stream",
     "text": [
      "2 5 7 7 8 1 2 8 \n",
      "8\n"
     ]
    }
   ],
   "source": [
    "# 1, 2, 5, 7, 7, 8, 1, 2, 8\n",
    "\n",
    "class Node():\n",
    "    def __init__(self,data):\n",
    "        self.data=data\n",
    "        self.next=None\n",
    "class LinkedList():\n",
    "    def __init__(self):\n",
    "        self.head = None\n",
    "        \n",
    "    def removeDuplicate(self):\n",
    "        ptr1 = None\n",
    "        ptr2 = None\n",
    "        dup = None\n",
    "        ptr1 = self.head\n",
    "        \n",
    "        while ptr1 != None and ptr1.next != None:\n",
    "            ptr2 = ptr1\n",
    "            \n",
    "            while ptr2.next != None:\n",
    "                if ptr1.data == ptr2.next.data:\n",
    "                    dup = ptr2.next\n",
    "                    ptr2.next = ptr2.next.next\n",
    "                else:\n",
    "                    ptr2 = ptr2.next\n",
    "            ptr1 = ptr1.next\n",
    "    \n",
    "    def printList(self):\n",
    "        temp=self.head\n",
    "        while temp != None:\n",
    "            print(temp.data,end=\" \")\n",
    "            temp=temp.next\n",
    "        print()\n",
    "        \n",
    "    def insertAtStart(self, data):\n",
    "        newNode = Node(data)\n",
    "        newNode.next = self.head\n",
    "        self.head = newNode\n",
    "    \n",
    "    def insertAtEnd(self, data):\n",
    "        if self.head is None:\n",
    "            self.head = Node(data)\n",
    "            return\n",
    "        itr = self.head\n",
    "        while itr.next:\n",
    "            itr = itr.next\n",
    "        itr.next = Node(data)\n",
    "    \n",
    "    def insert_at(self, index, data):\n",
    "        if index<0 or index>self.get_length():\n",
    "            raise Exception(\"Invalid Index\")\n",
    "        if index==0:\n",
    "            self.insertAtStart(data)\n",
    "            return\n",
    "        count = 0\n",
    "        itr = self.head\n",
    "        while itr:\n",
    "            if count == index - 1:\n",
    "                node = Node(data)\n",
    "                itr.next = node\n",
    "                break\n",
    "            itr = itr.next\n",
    "            count += 1\n",
    "    \n",
    "    def remove_at(self, index):\n",
    "        if index<0 or index>=self.get_length():\n",
    "            raise Exception(\"Invalid Index\")\n",
    "        if index==0:\n",
    "            self.head = self.head.next\n",
    "            return\n",
    "        count = 0\n",
    "        itr = self.head\n",
    "        while itr:\n",
    "            if count == index - 1:\n",
    "                itr.next = itr.next.next\n",
    "                break\n",
    "            itr = itr.next\n",
    "            count+=1\n",
    "    \n",
    "    def insert_values(self, data_list):\n",
    "        self.head = None\n",
    "        for data in data_list:\n",
    "            self.insert_at_end(data)\n",
    "\n",
    "        \n",
    "    def get_length(self):\n",
    "        count = 0\n",
    "        itr = self.head\n",
    "        while itr:\n",
    "            count+=1\n",
    "            itr = itr.next\n",
    "        return count\n",
    "        \n",
    "        \n",
    "list =LinkedList()\n",
    "list.insertAtStart(5)\n",
    "list.insertAtEnd(7)\n",
    "list.insertAtEnd(7)\n",
    "list.insertAtEnd(8)\n",
    "list.insertAtEnd(1)\n",
    "list.insertAtEnd(2)\n",
    "list.insertAtEnd(8)\n",
    "list.insertAtStart(2)\n",
    "# list.insert_at(2,4)\n",
    "\n",
    "list.printList()\n",
    "print(list.get_length())\n",
    "# list.removeDuplicate()\n",
    "# list.printList()\n",
    "\n",
    "# 1, 2, 5, 7, 7, 8, 1, 2, 8"
   ]
  },
  {
   "cell_type": "code",
   "execution_count": null,
   "metadata": {},
   "outputs": [],
   "source": [
    "'''\n",
    "Given a linked list where every node represents a linked list and contains two pointers of its type: \n",
    "(i) Pointer to next node in the main list (we call it ‘right’ pointer in the code below) \n",
    "(ii) Pointer to a linked list where this node is headed (we call it the ‘down’ pointer in the code below). \n",
    "All linked lists are sorted.\n",
    "\n",
    "Write a function flatten() to flatten the lists into a single linked list. The flattened linked list should also be sorted. For example, for the above input list, output list should be 5->7->8->10->19->20->22->28->30->35->40->45->50\n",
    "'''"
   ]
  },
  {
   "cell_type": "code",
   "execution_count": 50,
   "metadata": {},
   "outputs": [
    {
     "ename": "AttributeError",
     "evalue": "'NoneType' object has no attribute 'data'",
     "output_type": "error",
     "traceback": [
      "\u001b[1;31m---------------------------------------------------------------------------\u001b[0m",
      "\u001b[1;31mAttributeError\u001b[0m                            Traceback (most recent call last)",
      "\u001b[1;32mc:\\Users\\shash\\Documents\\GitHub\\Basic to master in Python\\revision.ipynb Cell 302'\u001b[0m in \u001b[0;36m<cell line: 65>\u001b[1;34m()\u001b[0m\n\u001b[0;32m     <a href='vscode-notebook-cell:/c%3A/Users/shash/Documents/GitHub/Basic%20to%20master%20in%20Python/revision.ipynb#ch0000300?line=61'>62</a>\u001b[0m List\u001b[39m.\u001b[39mhead\u001b[39m.\u001b[39mright\u001b[39m.\u001b[39mright\u001b[39m.\u001b[39mright \u001b[39m=\u001b[39m List\u001b[39m.\u001b[39minsert(List\u001b[39m.\u001b[39mhead\u001b[39m.\u001b[39mright\u001b[39m.\u001b[39mright\u001b[39m.\u001b[39mright,\u001b[39m35\u001b[39m)\n\u001b[0;32m     <a href='vscode-notebook-cell:/c%3A/Users/shash/Documents/GitHub/Basic%20to%20master%20in%20Python/revision.ipynb#ch0000300?line=62'>63</a>\u001b[0m List\u001b[39m.\u001b[39mhead\u001b[39m.\u001b[39mright\u001b[39m.\u001b[39mright\u001b[39m.\u001b[39mright \u001b[39m=\u001b[39m List\u001b[39m.\u001b[39minsert(List\u001b[39m.\u001b[39mhead\u001b[39m.\u001b[39mright\u001b[39m.\u001b[39mright\u001b[39m.\u001b[39mright,\u001b[39m20\u001b[39m)\n\u001b[1;32m---> <a href='vscode-notebook-cell:/c%3A/Users/shash/Documents/GitHub/Basic%20to%20master%20in%20Python/revision.ipynb#ch0000300?line=64'>65</a>\u001b[0m List\u001b[39m.\u001b[39;49mflatten(List\u001b[39m.\u001b[39;49mhead)\n\u001b[0;32m     <a href='vscode-notebook-cell:/c%3A/Users/shash/Documents/GitHub/Basic%20to%20master%20in%20Python/revision.ipynb#ch0000300?line=66'>67</a>\u001b[0m List\u001b[39m.\u001b[39mprintLList()\n",
      "\u001b[1;32mc:\\Users\\shash\\Documents\\GitHub\\Basic to master in Python\\revision.ipynb Cell 302'\u001b[0m in \u001b[0;36mLinkedList.flatten\u001b[1;34m(self, root_node)\u001b[0m\n\u001b[0;32m     <a href='vscode-notebook-cell:/c%3A/Users/shash/Documents/GitHub/Basic%20to%20master%20in%20Python/revision.ipynb#ch0000300?line=27'>28</a>\u001b[0m \u001b[39mif\u001b[39;00m (root_node \u001b[39m==\u001b[39m \u001b[39mNone\u001b[39;00m \u001b[39mor\u001b[39;00m root_node\u001b[39m.\u001b[39mright \u001b[39m==\u001b[39m \u001b[39mNone\u001b[39;00m):\n\u001b[0;32m     <a href='vscode-notebook-cell:/c%3A/Users/shash/Documents/GitHub/Basic%20to%20master%20in%20Python/revision.ipynb#ch0000300?line=28'>29</a>\u001b[0m     \u001b[39mreturn\u001b[39;00m root_node\n\u001b[1;32m---> <a href='vscode-notebook-cell:/c%3A/Users/shash/Documents/GitHub/Basic%20to%20master%20in%20Python/revision.ipynb#ch0000300?line=30'>31</a>\u001b[0m root_node\u001b[39m.\u001b[39mright \u001b[39m=\u001b[39m \u001b[39mself\u001b[39;49m\u001b[39m.\u001b[39;49mflatten(root_node\u001b[39m.\u001b[39;49mright)\n\u001b[0;32m     <a href='vscode-notebook-cell:/c%3A/Users/shash/Documents/GitHub/Basic%20to%20master%20in%20Python/revision.ipynb#ch0000300?line=32'>33</a>\u001b[0m root_node \u001b[39m=\u001b[39m \u001b[39mself\u001b[39m\u001b[39m.\u001b[39msortLL(root_node,root_node)\n\u001b[0;32m     <a href='vscode-notebook-cell:/c%3A/Users/shash/Documents/GitHub/Basic%20to%20master%20in%20Python/revision.ipynb#ch0000300?line=34'>35</a>\u001b[0m \u001b[39mreturn\u001b[39;00m root\n",
      "\u001b[1;32mc:\\Users\\shash\\Documents\\GitHub\\Basic to master in Python\\revision.ipynb Cell 302'\u001b[0m in \u001b[0;36mLinkedList.flatten\u001b[1;34m(self, root_node)\u001b[0m\n\u001b[0;32m     <a href='vscode-notebook-cell:/c%3A/Users/shash/Documents/GitHub/Basic%20to%20master%20in%20Python/revision.ipynb#ch0000300?line=27'>28</a>\u001b[0m \u001b[39mif\u001b[39;00m (root_node \u001b[39m==\u001b[39m \u001b[39mNone\u001b[39;00m \u001b[39mor\u001b[39;00m root_node\u001b[39m.\u001b[39mright \u001b[39m==\u001b[39m \u001b[39mNone\u001b[39;00m):\n\u001b[0;32m     <a href='vscode-notebook-cell:/c%3A/Users/shash/Documents/GitHub/Basic%20to%20master%20in%20Python/revision.ipynb#ch0000300?line=28'>29</a>\u001b[0m     \u001b[39mreturn\u001b[39;00m root_node\n\u001b[1;32m---> <a href='vscode-notebook-cell:/c%3A/Users/shash/Documents/GitHub/Basic%20to%20master%20in%20Python/revision.ipynb#ch0000300?line=30'>31</a>\u001b[0m root_node\u001b[39m.\u001b[39mright \u001b[39m=\u001b[39m \u001b[39mself\u001b[39;49m\u001b[39m.\u001b[39;49mflatten(root_node\u001b[39m.\u001b[39;49mright)\n\u001b[0;32m     <a href='vscode-notebook-cell:/c%3A/Users/shash/Documents/GitHub/Basic%20to%20master%20in%20Python/revision.ipynb#ch0000300?line=32'>33</a>\u001b[0m root_node \u001b[39m=\u001b[39m \u001b[39mself\u001b[39m\u001b[39m.\u001b[39msortLL(root_node,root_node)\n\u001b[0;32m     <a href='vscode-notebook-cell:/c%3A/Users/shash/Documents/GitHub/Basic%20to%20master%20in%20Python/revision.ipynb#ch0000300?line=34'>35</a>\u001b[0m \u001b[39mreturn\u001b[39;00m root\n",
      "\u001b[1;32mc:\\Users\\shash\\Documents\\GitHub\\Basic to master in Python\\revision.ipynb Cell 302'\u001b[0m in \u001b[0;36mLinkedList.flatten\u001b[1;34m(self, root_node)\u001b[0m\n\u001b[0;32m     <a href='vscode-notebook-cell:/c%3A/Users/shash/Documents/GitHub/Basic%20to%20master%20in%20Python/revision.ipynb#ch0000300?line=28'>29</a>\u001b[0m     \u001b[39mreturn\u001b[39;00m root_node\n\u001b[0;32m     <a href='vscode-notebook-cell:/c%3A/Users/shash/Documents/GitHub/Basic%20to%20master%20in%20Python/revision.ipynb#ch0000300?line=30'>31</a>\u001b[0m root_node\u001b[39m.\u001b[39mright \u001b[39m=\u001b[39m \u001b[39mself\u001b[39m\u001b[39m.\u001b[39mflatten(root_node\u001b[39m.\u001b[39mright)\n\u001b[1;32m---> <a href='vscode-notebook-cell:/c%3A/Users/shash/Documents/GitHub/Basic%20to%20master%20in%20Python/revision.ipynb#ch0000300?line=32'>33</a>\u001b[0m root_node \u001b[39m=\u001b[39m \u001b[39mself\u001b[39;49m\u001b[39m.\u001b[39;49msortLL(root_node,root_node)\n\u001b[0;32m     <a href='vscode-notebook-cell:/c%3A/Users/shash/Documents/GitHub/Basic%20to%20master%20in%20Python/revision.ipynb#ch0000300?line=34'>35</a>\u001b[0m \u001b[39mreturn\u001b[39;00m root\n",
      "\u001b[1;32mc:\\Users\\shash\\Documents\\GitHub\\Basic to master in Python\\revision.ipynb Cell 302'\u001b[0m in \u001b[0;36mLinkedList.sortLL\u001b[1;34m(self, l1, l2)\u001b[0m\n\u001b[0;32m     <a href='vscode-notebook-cell:/c%3A/Users/shash/Documents/GitHub/Basic%20to%20master%20in%20Python/revision.ipynb#ch0000300?line=40'>41</a>\u001b[0m \u001b[39melse\u001b[39;00m:\n\u001b[0;32m     <a href='vscode-notebook-cell:/c%3A/Users/shash/Documents/GitHub/Basic%20to%20master%20in%20Python/revision.ipynb#ch0000300?line=41'>42</a>\u001b[0m     result\u001b[39m=\u001b[39ml2\n\u001b[1;32m---> <a href='vscode-notebook-cell:/c%3A/Users/shash/Documents/GitHub/Basic%20to%20master%20in%20Python/revision.ipynb#ch0000300?line=42'>43</a>\u001b[0m     result\u001b[39m.\u001b[39mdown \u001b[39m=\u001b[39m \u001b[39mself\u001b[39;49m\u001b[39m.\u001b[39;49msortLL(l1,l2\u001b[39m.\u001b[39;49mdown)\n\u001b[0;32m     <a href='vscode-notebook-cell:/c%3A/Users/shash/Documents/GitHub/Basic%20to%20master%20in%20Python/revision.ipynb#ch0000300?line=43'>44</a>\u001b[0m result\u001b[39m.\u001b[39mright \u001b[39m=\u001b[39m \u001b[39mNone\u001b[39;00m\n\u001b[0;32m     <a href='vscode-notebook-cell:/c%3A/Users/shash/Documents/GitHub/Basic%20to%20master%20in%20Python/revision.ipynb#ch0000300?line=44'>45</a>\u001b[0m \u001b[39mreturn\u001b[39;00m result\n",
      "\u001b[1;32mc:\\Users\\shash\\Documents\\GitHub\\Basic to master in Python\\revision.ipynb Cell 302'\u001b[0m in \u001b[0;36mLinkedList.sortLL\u001b[1;34m(self, l1, l2)\u001b[0m\n\u001b[0;32m     <a href='vscode-notebook-cell:/c%3A/Users/shash/Documents/GitHub/Basic%20to%20master%20in%20Python/revision.ipynb#ch0000300?line=37'>38</a>\u001b[0m \u001b[39mif\u001b[39;00m l1\u001b[39m.\u001b[39mdata \u001b[39m<\u001b[39m l2\u001b[39m.\u001b[39mdata:\n\u001b[0;32m     <a href='vscode-notebook-cell:/c%3A/Users/shash/Documents/GitHub/Basic%20to%20master%20in%20Python/revision.ipynb#ch0000300?line=38'>39</a>\u001b[0m     result\u001b[39m=\u001b[39ml1\n\u001b[1;32m---> <a href='vscode-notebook-cell:/c%3A/Users/shash/Documents/GitHub/Basic%20to%20master%20in%20Python/revision.ipynb#ch0000300?line=39'>40</a>\u001b[0m     result\u001b[39m.\u001b[39mdown \u001b[39m=\u001b[39m \u001b[39mself\u001b[39;49m\u001b[39m.\u001b[39;49msortLL(l1\u001b[39m.\u001b[39;49mdown,l2)\n\u001b[0;32m     <a href='vscode-notebook-cell:/c%3A/Users/shash/Documents/GitHub/Basic%20to%20master%20in%20Python/revision.ipynb#ch0000300?line=40'>41</a>\u001b[0m \u001b[39melse\u001b[39;00m:\n\u001b[0;32m     <a href='vscode-notebook-cell:/c%3A/Users/shash/Documents/GitHub/Basic%20to%20master%20in%20Python/revision.ipynb#ch0000300?line=41'>42</a>\u001b[0m     result\u001b[39m=\u001b[39ml2\n",
      "\u001b[1;32mc:\\Users\\shash\\Documents\\GitHub\\Basic to master in Python\\revision.ipynb Cell 302'\u001b[0m in \u001b[0;36mLinkedList.sortLL\u001b[1;34m(self, l1, l2)\u001b[0m\n\u001b[0;32m     <a href='vscode-notebook-cell:/c%3A/Users/shash/Documents/GitHub/Basic%20to%20master%20in%20Python/revision.ipynb#ch0000300?line=40'>41</a>\u001b[0m \u001b[39melse\u001b[39;00m:\n\u001b[0;32m     <a href='vscode-notebook-cell:/c%3A/Users/shash/Documents/GitHub/Basic%20to%20master%20in%20Python/revision.ipynb#ch0000300?line=41'>42</a>\u001b[0m     result\u001b[39m=\u001b[39ml2\n\u001b[1;32m---> <a href='vscode-notebook-cell:/c%3A/Users/shash/Documents/GitHub/Basic%20to%20master%20in%20Python/revision.ipynb#ch0000300?line=42'>43</a>\u001b[0m     result\u001b[39m.\u001b[39mdown \u001b[39m=\u001b[39m \u001b[39mself\u001b[39;49m\u001b[39m.\u001b[39;49msortLL(l1,l2\u001b[39m.\u001b[39;49mdown)\n\u001b[0;32m     <a href='vscode-notebook-cell:/c%3A/Users/shash/Documents/GitHub/Basic%20to%20master%20in%20Python/revision.ipynb#ch0000300?line=43'>44</a>\u001b[0m result\u001b[39m.\u001b[39mright \u001b[39m=\u001b[39m \u001b[39mNone\u001b[39;00m\n\u001b[0;32m     <a href='vscode-notebook-cell:/c%3A/Users/shash/Documents/GitHub/Basic%20to%20master%20in%20Python/revision.ipynb#ch0000300?line=44'>45</a>\u001b[0m \u001b[39mreturn\u001b[39;00m result\n",
      "\u001b[1;32mc:\\Users\\shash\\Documents\\GitHub\\Basic to master in Python\\revision.ipynb Cell 302'\u001b[0m in \u001b[0;36mLinkedList.sortLL\u001b[1;34m(self, l1, l2)\u001b[0m\n\u001b[0;32m     <a href='vscode-notebook-cell:/c%3A/Users/shash/Documents/GitHub/Basic%20to%20master%20in%20Python/revision.ipynb#ch0000300?line=37'>38</a>\u001b[0m \u001b[39mif\u001b[39;00m l1\u001b[39m.\u001b[39mdata \u001b[39m<\u001b[39m l2\u001b[39m.\u001b[39mdata:\n\u001b[0;32m     <a href='vscode-notebook-cell:/c%3A/Users/shash/Documents/GitHub/Basic%20to%20master%20in%20Python/revision.ipynb#ch0000300?line=38'>39</a>\u001b[0m     result\u001b[39m=\u001b[39ml1\n\u001b[1;32m---> <a href='vscode-notebook-cell:/c%3A/Users/shash/Documents/GitHub/Basic%20to%20master%20in%20Python/revision.ipynb#ch0000300?line=39'>40</a>\u001b[0m     result\u001b[39m.\u001b[39mdown \u001b[39m=\u001b[39m \u001b[39mself\u001b[39;49m\u001b[39m.\u001b[39;49msortLL(l1\u001b[39m.\u001b[39;49mdown,l2)\n\u001b[0;32m     <a href='vscode-notebook-cell:/c%3A/Users/shash/Documents/GitHub/Basic%20to%20master%20in%20Python/revision.ipynb#ch0000300?line=40'>41</a>\u001b[0m \u001b[39melse\u001b[39;00m:\n\u001b[0;32m     <a href='vscode-notebook-cell:/c%3A/Users/shash/Documents/GitHub/Basic%20to%20master%20in%20Python/revision.ipynb#ch0000300?line=41'>42</a>\u001b[0m     result\u001b[39m=\u001b[39ml2\n",
      "\u001b[1;32mc:\\Users\\shash\\Documents\\GitHub\\Basic to master in Python\\revision.ipynb Cell 302'\u001b[0m in \u001b[0;36mLinkedList.sortLL\u001b[1;34m(self, l1, l2)\u001b[0m\n\u001b[0;32m     <a href='vscode-notebook-cell:/c%3A/Users/shash/Documents/GitHub/Basic%20to%20master%20in%20Python/revision.ipynb#ch0000300?line=40'>41</a>\u001b[0m \u001b[39melse\u001b[39;00m:\n\u001b[0;32m     <a href='vscode-notebook-cell:/c%3A/Users/shash/Documents/GitHub/Basic%20to%20master%20in%20Python/revision.ipynb#ch0000300?line=41'>42</a>\u001b[0m     result\u001b[39m=\u001b[39ml2\n\u001b[1;32m---> <a href='vscode-notebook-cell:/c%3A/Users/shash/Documents/GitHub/Basic%20to%20master%20in%20Python/revision.ipynb#ch0000300?line=42'>43</a>\u001b[0m     result\u001b[39m.\u001b[39mdown \u001b[39m=\u001b[39m \u001b[39mself\u001b[39;49m\u001b[39m.\u001b[39;49msortLL(l1,l2\u001b[39m.\u001b[39;49mdown)\n\u001b[0;32m     <a href='vscode-notebook-cell:/c%3A/Users/shash/Documents/GitHub/Basic%20to%20master%20in%20Python/revision.ipynb#ch0000300?line=43'>44</a>\u001b[0m result\u001b[39m.\u001b[39mright \u001b[39m=\u001b[39m \u001b[39mNone\u001b[39;00m\n\u001b[0;32m     <a href='vscode-notebook-cell:/c%3A/Users/shash/Documents/GitHub/Basic%20to%20master%20in%20Python/revision.ipynb#ch0000300?line=44'>45</a>\u001b[0m \u001b[39mreturn\u001b[39;00m result\n",
      "\u001b[1;32mc:\\Users\\shash\\Documents\\GitHub\\Basic to master in Python\\revision.ipynb Cell 302'\u001b[0m in \u001b[0;36mLinkedList.sortLL\u001b[1;34m(self, l1, l2)\u001b[0m\n\u001b[0;32m     <a href='vscode-notebook-cell:/c%3A/Users/shash/Documents/GitHub/Basic%20to%20master%20in%20Python/revision.ipynb#ch0000300?line=36'>37</a>\u001b[0m \u001b[39mdef\u001b[39;00m \u001b[39msortLL\u001b[39m(\u001b[39mself\u001b[39m,l1,l2):\n\u001b[1;32m---> <a href='vscode-notebook-cell:/c%3A/Users/shash/Documents/GitHub/Basic%20to%20master%20in%20Python/revision.ipynb#ch0000300?line=37'>38</a>\u001b[0m     \u001b[39mif\u001b[39;00m l1\u001b[39m.\u001b[39mdata \u001b[39m<\u001b[39m l2\u001b[39m.\u001b[39;49mdata:\n\u001b[0;32m     <a href='vscode-notebook-cell:/c%3A/Users/shash/Documents/GitHub/Basic%20to%20master%20in%20Python/revision.ipynb#ch0000300?line=38'>39</a>\u001b[0m         result\u001b[39m=\u001b[39ml1\n\u001b[0;32m     <a href='vscode-notebook-cell:/c%3A/Users/shash/Documents/GitHub/Basic%20to%20master%20in%20Python/revision.ipynb#ch0000300?line=39'>40</a>\u001b[0m         result\u001b[39m.\u001b[39mdown \u001b[39m=\u001b[39m \u001b[39mself\u001b[39m\u001b[39m.\u001b[39msortLL(l1\u001b[39m.\u001b[39mdown,l2)\n",
      "\u001b[1;31mAttributeError\u001b[0m: 'NoneType' object has no attribute 'data'"
     ]
    }
   ],
   "source": [
    "class Node():\n",
    "    \n",
    "    def __init__(self,data):\n",
    "        self.data = data\n",
    "        self.right = None\n",
    "        self.down = None\n",
    "        \n",
    "class LinkedList():\n",
    "    \n",
    "    def __init__(self):\n",
    "        self.head = None\n",
    "        \n",
    "    def printLList(self):\n",
    "        itr = self.head\n",
    "        while itr != None:\n",
    "            print(itr.data,end=\" \")\n",
    "            itr = itr.down\n",
    "        print()\n",
    "    \n",
    "    def insert(self,head_ref,data):\n",
    "        new_node = Node(data)\n",
    "        new_node.down = head_ref\n",
    "        head_ref = new_node\n",
    "        return head_ref\n",
    "    \n",
    "    \n",
    "    def flatten(self,root_node):\n",
    "        if (root_node == None or root_node.right == None):\n",
    "            return root_node\n",
    "        \n",
    "        root_node.right = self.flatten(root_node.right)\n",
    "        \n",
    "        root_node = self.sortLL(root_node,root_node)\n",
    "        \n",
    "        return root\n",
    "    \n",
    "    def sortLL(self,l1,l2):\n",
    "        if l1.data < l2.data:\n",
    "            result=l1\n",
    "            result.down = self.sortLL(l1.down,l2)\n",
    "        else:\n",
    "            result=l2\n",
    "            result.down = self.sortLL(l1,l2.down)\n",
    "        result.right = None\n",
    "        return result\n",
    "\n",
    "List = LinkedList()\n",
    "List.head = List.insert(List.head,30)\n",
    "List.head = List.insert(List.head,8)\n",
    "List.head = List.insert(List.head,7)\n",
    "List.head = List.insert(List.head,5)\n",
    "\n",
    "List.head.right = List.insert(List.head.right,20)\n",
    "List.head.right = List.insert(List.head.right,10)\n",
    "\n",
    "List.head.right.right = List.insert(List.head.right.right,50)\n",
    "List.head.right.right = List.insert(List.head.right.right,22)\n",
    "List.head.right.right = List.insert(List.head.right.right,19)\n",
    "\n",
    "List.head.right.right.right = List.insert(List.head.right.right.right,45)\n",
    "List.head.right.right.right = List.insert(List.head.right.right.right,40)\n",
    "List.head.right.right.right = List.insert(List.head.right.right.right,35)\n",
    "List.head.right.right.right = List.insert(List.head.right.right.right,20)\n",
    "\n",
    "List.flatten(List.head)\n",
    "\n",
    "List.printLList()\n",
    "    "
   ]
  },
  {
   "cell_type": "code",
   "execution_count": 9,
   "metadata": {},
   "outputs": [
    {
     "name": "stdout",
     "output_type": "stream",
     "text": [
      "[7, 9, 10, 11, -5, -3, -4, -1]\n"
     ]
    }
   ],
   "source": [
    "\n",
    "\n",
    "def segregateElements(arr, n): \n",
    "    temp = [None]*n \n",
    "    j = 0 # index of temp \n",
    "    for i in range(n): \n",
    "        if (arr[i] >= 0 ): \n",
    "            temp[j] = arr[i] \n",
    "            j +=1\n",
    "            \n",
    "    if (j == n or j == 0): \n",
    "        return\n",
    "   \n",
    "    for i in range(n): \n",
    "        if (arr[i] < 0): \n",
    "            temp[j] = arr[i] \n",
    "            j +=1\n",
    "   \n",
    "    for k in range(n): \n",
    "        arr[k] = temp[k]\n",
    "        \n",
    "    return arr\n",
    "    \n",
    "N=8\n",
    "arr= [-5, 7, -3, -4, 9, 10, -1, 11]\n",
    "\n",
    "print(segregateElements(arr,N))"
   ]
  },
  {
   "cell_type": "code",
   "execution_count": 10,
   "metadata": {},
   "outputs": [
    {
     "name": "stdout",
     "output_type": "stream",
     "text": [
      "5\n"
     ]
    }
   ],
   "source": [
    "def findFrequency (arr, n, x):\n",
    "    return arr.count(x)\n",
    "\n",
    "arr=[1,1,1,1,1]\n",
    "n=5\n",
    "x=1\n",
    "print(findFrequency(arr,n,x))"
   ]
  },
  {
   "cell_type": "code",
   "execution_count": 11,
   "metadata": {},
   "outputs": [
    {
     "name": "stdout",
     "output_type": "stream",
     "text": [
      "5\n"
     ]
    }
   ],
   "source": [
    "def findFrequency (arr, n, x):\n",
    "    count=0\n",
    "    for i in arr:\n",
    "        if i==x:\n",
    "            count+=1\n",
    "    return count\n",
    "\n",
    "arr=[1,1,1,1,1]\n",
    "n=5\n",
    "x=1\n",
    "print(findFrequency(arr,n,x))"
   ]
  },
  {
   "cell_type": "code",
   "execution_count": 17,
   "metadata": {},
   "outputs": [
    {
     "name": "stdout",
     "output_type": "stream",
     "text": [
      "5\n"
     ]
    }
   ],
   "source": [
    "def doUnion(a,n,b,m):\n",
    "    s=set(a).union(set(b))\n",
    "    return len(s)\n",
    "\n",
    "n,m=5,3\n",
    "a=[1,2,3,4,5]\n",
    "b=[1,2,3]\n",
    "print(doUnion(a,n,b,m))\n"
   ]
  },
  {
   "cell_type": "code",
   "execution_count": 29,
   "metadata": {},
   "outputs": [
    {
     "name": "stdout",
     "output_type": "stream",
     "text": [
      "(1, 10000)\n"
     ]
    }
   ],
   "source": [
    "def getMinMax(a, n):\n",
    "    i=0\n",
    "    minn=maxx=a[i]\n",
    "    while i<=n-1:\n",
    "        if maxx<a[i]:\n",
    "           maxx=a[i]\n",
    "        elif minn>a[i]:\n",
    "            minn=a[i]\n",
    "        i+=1\n",
    "    return minn,maxx\n",
    "        \n",
    "n=6\n",
    "a=[3,2,1,56,10000,167]\n",
    "print(getMinMax(a,n))"
   ]
  },
  {
   "cell_type": "code",
   "execution_count": 61,
   "metadata": {},
   "outputs": [
    {
     "data": {
      "text/plain": [
       "'3 4 5 1 2'"
      ]
     },
     "execution_count": 61,
     "metadata": {},
     "output_type": "execute_result"
    }
   ],
   "source": [
    "def rotateArr(A,D,N):\n",
    "    mod = D%N\n",
    "    l=[None]*N\n",
    "    for i in range(N):\n",
    "        l[i]=A[(mod+i)%N]\n",
    "    for i in range(N):\n",
    "        A[i]=l[i]\n",
    "    return A\n",
    "\n",
    "n=5\n",
    "d=2\n",
    "a=[1,2,3,4,5]\n",
    "rotateArr(a,d,n)"
   ]
  },
  {
   "cell_type": "code",
   "execution_count": 67,
   "metadata": {},
   "outputs": [
    {
     "name": "stdout",
     "output_type": "stream",
     "text": [
      "[1, 6, 12, 3, 5, 8]\n"
     ]
    }
   ],
   "source": [
    "def reArrange(arr, N):\n",
    "    # code here \n",
    "    i=0\n",
    "    j=1\n",
    "    while i<N and j<N:\n",
    "        elif i<N and arr[i]%2==0:\n",
    "            i+=2\n",
    "        elif j<N and arr[i]%2!=0:\n",
    "            j+=2\n",
    "                \n",
    "        if i<N and j<N:\n",
    "            arr[i],arr[j]=arr[j],arr[i]\n",
    "            \n",
    "n=4\n",
    "arr=[3,6,12,1,5,8]\n",
    "reArrange(arr,n)\n",
    "print(arr)"
   ]
  },
  {
   "cell_type": "code",
   "execution_count": 63,
   "metadata": {},
   "outputs": [
    {
     "name": "stdout",
     "output_type": "stream",
     "text": [
      "[6, 3, 12, 1, 5, 8]\n"
     ]
    }
   ],
   "source": [
    "def reArrange(arr, N):\n",
    "    # code here \n",
    "    i=0\n",
    "    j=1\n",
    "    while i<N and j<N:\n",
    "        while i<N and arr[i]%2==0:\n",
    "            i+=2\n",
    "        while j<N and arr[j]%2!=0:\n",
    "            j+=2\n",
    "        if i<N and j<N:\n",
    "            arr[i],arr[j]=arr[j],arr[i]\n",
    "            i+=2\n",
    "            j+=2\n",
    "                \n",
    "n=4\n",
    "arr=[3,6,12,1,5,8]\n",
    "reArrange(arr,n)\n",
    "print(arr)"
   ]
  },
  {
   "cell_type": "code",
   "execution_count": 70,
   "metadata": {},
   "outputs": [
    {
     "name": "stdout",
     "output_type": "stream",
     "text": [
      "[-12, -10, -6, -3, 1, 4, 6, 10, 6, 12, 15]\n",
      "4\n"
     ]
    }
   ],
   "source": [
    "def median(arr1,arr2,n,m):\n",
    "    i,j=0,0\n",
    "    result = merge(arr1,arr2)\n",
    "    \n",
    "    if len(result)%2==1:\n",
    "        return result[len(result)//2]\n",
    "    else:\n",
    "        Ceil= math.ceil(len(result)//2)\n",
    "        Floor=math.floor(len(result)//2)\n",
    "        \n",
    "        return (Ceil+Floor)//2\n",
    "    \n",
    "     \n",
    "    \n",
    "\n",
    "def merge(arr1,arr2):\n",
    "    i,j=0,0\n",
    "    temp=[]\n",
    "    while i<len(arr1) or j<len(arr2):\n",
    "        if arr1[i] <= arr2[j]:\n",
    "            temp.append(arr1[i])\n",
    "            i+=1\n",
    "        else:\n",
    "            temp.append(arr2[j])\n",
    "            j+=1\n",
    "        if i==len(arr1) or j==len(arr2):\n",
    "            temp.extend(arr1[i:] or arr2[j:])\n",
    "            break\n",
    "    return temp\n",
    "            \n",
    "\n",
    "arr1=[-5, 3, 6, 12, 15]\n",
    "n=len(arr1)\n",
    "arr2=[-12, -10, -6, -3, 4, 10]\n",
    "m=len(arr2)\n",
    "print(merge(arr1,arr2))\n",
    "print(median(arr1,arr2,n,m))\n",
    "\n"
   ]
  },
  {
   "cell_type": "code",
   "execution_count": null,
   "metadata": {},
   "outputs": [],
   "source": [
    "1  2  3\n",
    "4  5  6\n",
    "7  8  9\n",
    " \n",
    "3  6  9 \n",
    "2  5  8 \n",
    "1  4  7\n",
    " \n"
   ]
  },
  {
   "cell_type": "code",
   "execution_count": 81,
   "metadata": {},
   "outputs": [
    {
     "name": "stdout",
     "output_type": "stream",
     "text": [
      "7 4 1 \n",
      "8 5 2 \n",
      "9 6 3 \n"
     ]
    }
   ],
   "source": [
    "def clock90(mat):\n",
    "    col=len(mat[0])\n",
    "    row=len(mat)\n",
    "    \n",
    "    for i in range(0,col):\n",
    "        j=0\n",
    "        k=col-1\n",
    "        while j<k:\n",
    "            mat[j][i],mat[k][i]=mat[k][i],mat[j][i]\n",
    "            j+=1\n",
    "            k-=1\n",
    "\n",
    "mat=[[1,2,3],\n",
    "     [4,5,6],\n",
    "     [7,8,9]]\n",
    "\n",
    "clock90(mat)\n",
    "\n",
    "for i in range(len(mat)):\n",
    "    for j in range(len(mat[0])):\n",
    "        print(mat[j][i],end=\" \")\n",
    "    print()"
   ]
  },
  {
   "cell_type": "code",
   "execution_count": 103,
   "metadata": {},
   "outputs": [
    {
     "name": "stdout",
     "output_type": "stream",
     "text": [
      "3 6 9 \n",
      "2 5 8 \n",
      "1 4 7 \n"
     ]
    }
   ],
   "source": [
    "#anticlockwise 90 degre\n",
    "\n",
    "def rotate_matrix_ccw(mat):\n",
    "    if mat is None:\n",
    "        return None\n",
    "    n = len(mat)\n",
    "    if n == 1:\n",
    "        return mat\n",
    "    for i in range(n):\n",
    "        if len(mat[i]) != n:\n",
    "            raise Exception(\"Matrix must be square\")\n",
    "    # flip the matrix vertically\n",
    "    for j in range(n // 2):\n",
    "        for i in range(n):\n",
    "            mat[i][j], mat[i][n - 1 - j] = mat[i][n - 1 - j], mat[i][j]\n",
    "    # switch the upper-right triangle with the lower-left triangle\n",
    "    for i in range(n):\n",
    "        for j in range(i):\n",
    "            mat[i][j], mat[j][i] = mat[j][i], mat[i][j]\n",
    "    return mat\n",
    "            \n",
    "mat=[[1,2,3],\n",
    "     [4,5,6],\n",
    "     [7,8,9]]\n",
    "\n",
    "rotate_matrix_ccw(mat)\n",
    "\n",
    "for i in range(len(mat)):\n",
    "    for j in range(len(mat[0])):\n",
    "        print(mat[i][j],end=\" \")\n",
    "    print()\n",
    "    \n"
   ]
  },
  {
   "cell_type": "code",
   "execution_count": 31,
   "metadata": {},
   "outputs": [
    {
     "data": {
      "text/plain": [
       "']7 ,0 ,8['"
      ]
     },
     "execution_count": 31,
     "metadata": {},
     "output_type": "execute_result"
    }
   ],
   "source": [
    "#add two number\n",
    "\n",
    "def add(l1,l2):\n",
    "    l1 = int(listtoNum(l1))\n",
    "    l2 = int(listtoNum(l2))\n",
    "    l3=l1+l2\n",
    "    l=list()\n",
    "    while l3 > 0:\n",
    "       rev= l3%10\n",
    "       l.append(rev)\n",
    "       l3 = l3//10 \n",
    "    return (l[::-1])\n",
    "\n",
    "\n",
    "    \n",
    "def listtoNum(li):\n",
    "    return \"\".join(str(li[x]) for x in range(len(l1)-1,-1,-1))\n",
    "    \n",
    "l1=[2,4,3]\n",
    "l2=[5,6,4]\n",
    "# print(listtoNum(l1))\n",
    "print(add(l1,l2))\n",
    "\n"
   ]
  },
  {
   "cell_type": "code",
   "execution_count": 34,
   "metadata": {},
   "outputs": [
    {
     "ename": "NameError",
     "evalue": "name 'ListNode' is not defined",
     "output_type": "error",
     "traceback": [
      "\u001b[1;31m---------------------------------------------------------------------------\u001b[0m",
      "\u001b[1;31mNameError\u001b[0m                                 Traceback (most recent call last)",
      "\u001b[1;32mc:\\Users\\shash\\Documents\\GitHub\\Basic to master in Python\\revision.ipynb Cell 316'\u001b[0m in \u001b[0;36m<cell line: 23>\u001b[1;34m()\u001b[0m\n\u001b[0;32m     <a href='vscode-notebook-cell:/c%3A/Users/shash/Documents/GitHub/Basic%20to%20master%20in%20Python/revision.ipynb#ch0000315?line=20'>21</a>\u001b[0m l2\u001b[39m=\u001b[39m[\u001b[39m5\u001b[39m,\u001b[39m6\u001b[39m,\u001b[39m4\u001b[39m]\n\u001b[0;32m     <a href='vscode-notebook-cell:/c%3A/Users/shash/Documents/GitHub/Basic%20to%20master%20in%20Python/revision.ipynb#ch0000315?line=21'>22</a>\u001b[0m \u001b[39m# print(listtoNum(l1))\u001b[39;00m\n\u001b[1;32m---> <a href='vscode-notebook-cell:/c%3A/Users/shash/Documents/GitHub/Basic%20to%20master%20in%20Python/revision.ipynb#ch0000315?line=22'>23</a>\u001b[0m \u001b[39mprint\u001b[39m(addTwoNumbers(l1,l2))\n",
      "\u001b[1;32mc:\\Users\\shash\\Documents\\GitHub\\Basic to master in Python\\revision.ipynb Cell 316'\u001b[0m in \u001b[0;36maddTwoNumbers\u001b[1;34m(l1, l2)\u001b[0m\n\u001b[0;32m      <a href='vscode-notebook-cell:/c%3A/Users/shash/Documents/GitHub/Basic%20to%20master%20in%20Python/revision.ipynb#ch0000315?line=1'>2</a>\u001b[0m \u001b[39mdef\u001b[39;00m \u001b[39maddTwoNumbers\u001b[39m(l1, l2):\n\u001b[1;32m----> <a href='vscode-notebook-cell:/c%3A/Users/shash/Documents/GitHub/Basic%20to%20master%20in%20Python/revision.ipynb#ch0000315?line=2'>3</a>\u001b[0m     dummy \u001b[39m=\u001b[39m ListNode(\u001b[39m0\u001b[39m)\n\u001b[0;32m      <a href='vscode-notebook-cell:/c%3A/Users/shash/Documents/GitHub/Basic%20to%20master%20in%20Python/revision.ipynb#ch0000315?line=3'>4</a>\u001b[0m     curr \u001b[39m=\u001b[39m dummy\n\u001b[0;32m      <a href='vscode-notebook-cell:/c%3A/Users/shash/Documents/GitHub/Basic%20to%20master%20in%20Python/revision.ipynb#ch0000315?line=4'>5</a>\u001b[0m     carry \u001b[39m=\u001b[39m \u001b[39m0\u001b[39m\n",
      "\u001b[1;31mNameError\u001b[0m: name 'ListNode' is not defined"
     ]
    }
   ],
   "source": [
    "#sum of two linkedlist\n",
    "def addTwoNumbers(l1, l2):\n",
    "    dummy = ListNode(0)\n",
    "    curr = dummy\n",
    "    carry = 0\n",
    "\n",
    "    while carry or l1 or l2:\n",
    "      if l1:\n",
    "        carry += l1.val\n",
    "        l1 = l1.next\n",
    "      if l2:\n",
    "        carry += l2.val\n",
    "        l2 = l2.next\n",
    "      curr.next = ListNode(carry % 10)\n",
    "      carry //= 10\n",
    "      curr = curr.next\n",
    "\n",
    "    return dummy.next\n",
    "\n",
    "l1=[2,4,3]\n",
    "l2=[5,6,4]\n",
    "# print(listtoNum(l1))\n",
    "print(addTwoNumbers(l1,l2))\n",
    "\n"
   ]
  },
  {
   "cell_type": "code",
   "execution_count": 3,
   "metadata": {},
   "outputs": [],
   "source": [
    "# tree\n",
    "\n",
    "class Node(object):\n",
    "    def __init__(self,data=None):\n",
    "        self.left = None\n",
    "        self.right = None\n",
    "        self.data = data\n",
    "        \n",
    "    # for setting left node\n",
    "    def setLeft(self,node):\n",
    "        self.left = node\n",
    "    \n",
    "    # for setting right node\n",
    "    def setRight(self,node):\n",
    "        self.right = node\n",
    "    \n",
    "    # for getting the left node\n",
    "    def getLeft(self):\n",
    "        return self.left\n",
    "    \n",
    "    # for getting the right node\n",
    "    def getRight(self):\n",
    "        return self.right\n",
    "    \n",
    "    # for setting data of a node\n",
    "    def setData(self,data):\n",
    "        self.data = data\n",
    "        \n",
    "    # for getting data of a node\n",
    "    def getData(self):\n",
    "        return self.data\n",
    "    \n",
    "\n",
    "root = Node(1)\n",
    "root.setLeft(Node(2))\n",
    "root.setRight(Node(3))\n",
    "root.left.setLeft(Node(4))\n"
   ]
  },
  {
   "cell_type": "code",
   "execution_count": 7,
   "metadata": {},
   "outputs": [
    {
     "name": "stdout",
     "output_type": "stream",
     "text": [
      "Inorder Traversal: \n",
      "4 2 1 3 \n",
      "Preorder Traversal : \n",
      "1 2 4 3 \n",
      "Preorder Traversal : \n",
      "4 2 3 1 \n"
     ]
    }
   ],
   "source": [
    "# traversal\n",
    "\n",
    "def inorder(Tree):\n",
    "    if Tree:\n",
    "        inorder(Tree.getLeft())\n",
    "        print(Tree.getData(),end=' ')\n",
    "        inorder(Tree.getRight())\n",
    "    return\n",
    "\n",
    "print(\"Inorder Traversal: \")\n",
    "inorder(root)\n",
    "print()\n",
    "\n",
    "def preorder(Tree):\n",
    "    if Tree:\n",
    "        print(Tree.getData(),end=' ')\n",
    "        preorder(Tree.getLeft())\n",
    "        preorder(Tree.getRight())\n",
    "    return\n",
    "\n",
    "print(\"Preorder Traversal : \" )\n",
    "preorder(root)\n",
    "print()\n",
    "\n",
    "def postorder(Tree):\n",
    "    if Tree:\n",
    "        postorder(Tree.getLeft())\n",
    "        postorder(Tree.getRight())\n",
    "        print(Tree.getData(),end=' ')\n",
    "        \n",
    "print(\"Preorder Traversal : \" )\n",
    "postorder(root)\n",
    "print()"
   ]
  },
  {
   "cell_type": "code",
   "execution_count": 1,
   "metadata": {},
   "outputs": [
    {
     "name": "stdout",
     "output_type": "stream",
     "text": [
      "Inorder:  1  3  22  32  35  44 \n",
      "Preorder: 1  22 3   44 32  35   \n",
      "Postorder:    3    35 32  44 22 1\n"
     ]
    }
   ],
   "source": [
    "\n",
    "\n",
    "class Node(object):\n",
    "\t\"\"\"docstring for Node\"\"\"\n",
    "\tdef __init__(self, data):\n",
    "\t\tself.key = data\n",
    "\t\tself.left=None\n",
    "\t\tself.right=None\n",
    "\n",
    "\n",
    "class Tree:\n",
    "\t\"\"\"docstring for Tree\"\"\"\n",
    "\tdef __init__(self,data):\n",
    "\t\tself.root = Node(data)\n",
    "\t\t\n",
    "\tdef insertNode(root,data):\n",
    "\t\tif(root==None):\n",
    "\t\t\troot=Node(data)\n",
    "\t\telif(root.key<data):\n",
    "\t\t\troot.right=Tree.insertNode(root.right,data)\n",
    "\t\telse:\n",
    "\t\t\troot.left=Tree.insertNode(root.left,data)\n",
    "\t\treturn root\n",
    "\n",
    "\tdef inorder(root):\n",
    "\t\tif(root==None):\n",
    "\t\t\treturn \"\"\n",
    "\t\telse:\n",
    "\t\t\treturn str(Tree.inorder(root.left)) +\" \"+ str(root.key) +\" \"+ str(Tree.inorder(root.right))\n",
    "\n",
    "\n",
    "\tdef preorder(root):\n",
    "\t\tif(root==None):\n",
    "\t\t\treturn \"\"\n",
    "\t\telse:\n",
    "\t\t\treturn str(root.key) +\" \"+ str(Tree.preorder(root.left)) +\" \"+ str(Tree.preorder(root.right))\n",
    "\n",
    "\n",
    "\tdef postorder(root):\n",
    "\t\tif(root==None):\n",
    "\t\t\treturn \"\"\n",
    "\t\telse:\n",
    "\t\t\treturn str(Tree.postorder(root.left)) +\" \"+ str(Tree.postorder(root.right)) +\" \"+ str(root.key)\n",
    "\n",
    "\n",
    "\n",
    "\n",
    "array=[1,22,3,44,32,35]\n",
    "treeRoot=Node(array[0])\n",
    "for i in range(1,len(array)):\n",
    "\ttreeRoot=Tree.insertNode(treeRoot,array[i])\n",
    "\n",
    "print(\"Inorder:\", Tree.inorder(treeRoot))\n",
    "print(\"Preorder:\", Tree.preorder(treeRoot))\n",
    "print(\"Postorder:\", Tree.postorder(treeRoot))\n",
    "\n",
    "\n",
    "\n",
    "\n"
   ]
  },
  {
   "cell_type": "code",
   "execution_count": 11,
   "metadata": {},
   "outputs": [
    {
     "name": "stdout",
     "output_type": "stream",
     "text": [
      "False\n",
      "True\n",
      "\n",
      "Preorder: \n",
      "10 5 4 8 7 12 20 15 13 \n",
      "Inorder: \n",
      "4 5 7 8 10 12 13 15 20 \n",
      "Postorder: \n",
      "4 7 8 5 13 15 20 12 10 \n",
      "\n",
      "After deleting 20\n",
      "\n",
      "Inorder: \n",
      "4 5 7 8 10 12 13 15 \n",
      "Preorder: \n",
      "10 5 4 8 7 12 15 13 \n",
      "\n",
      "After deleting 10\n",
      "\n",
      "Inorder: \n",
      "4 5 7 8 12 13 15 \n",
      "Preorder: \n",
      "12 5 4 8 7 15 13 "
     ]
    }
   ],
   "source": [
    "# Author: OMKAR PATHAK\n",
    "\n",
    "# This program illustrates an example of Binary Search Tree using Python\n",
    "# Binary Search Tree, is a node-based binary tree data structure which has the following properties:\n",
    "#\n",
    "# The left subtree of a node contains only nodes with keys less than the node’s key.\n",
    "# The right subtree of a node contains only nodes with keys greater than the node’s key.\n",
    "# The left and right subtree each must also be a binary search tree.\n",
    "# There must be no duplicate nodes.\n",
    "\n",
    "class Node(object):\n",
    "    def __init__(self, data):\n",
    "        self.data = data\n",
    "        self.leftChild = None\n",
    "        self.rightChild = None\n",
    "\n",
    "    def insert(self, data):\n",
    "        ''' For inserting the data in the Tree '''\n",
    "        if self.data == data:\n",
    "            return False        # As BST cannot contain duplicate data\n",
    "\n",
    "        elif data < self.data:\n",
    "            ''' Data less than the root data is placed to the left of the root '''\n",
    "            if self.leftChild:\n",
    "                return self.leftChild.insert(data)\n",
    "            else:\n",
    "                self.leftChild = Node(data)\n",
    "                return True\n",
    "\n",
    "        else:\n",
    "            ''' Data greater than the root data is placed to the right of the root '''\n",
    "            if self.rightChild:\n",
    "                return self.rightChild.insert(data)\n",
    "            else:\n",
    "                self.rightChild = Node(data)\n",
    "                return True\n",
    "\n",
    "    def minValueNode(self, node):\n",
    "        current = node\n",
    "\n",
    "        # loop down to find the leftmost leaf\n",
    "        while(current.leftChild is not None):\n",
    "            current = current.leftChild\n",
    "\n",
    "        return current\n",
    "\n",
    "    def maxValueNode(self, node):\n",
    "        current = node\n",
    "        # loop down to find the leftmost leaf\n",
    "        while(current.rightChild is not None):\n",
    "            current = current.rightChild\n",
    "        return current\n",
    "\n",
    "    def delete(self, data,root):\n",
    "        ''' For deleting the node '''\n",
    "        if self is None:\n",
    "            return None\n",
    "\n",
    "        # if current node's data is less than that of root node, then only search in left subtree else right subtree\n",
    "        if data < self.data:\n",
    "            self.leftChild = self.leftChild.delete(data,root)\n",
    "        elif data > self.data:\n",
    "            self.rightChild = self.rightChild.delete(data,root)\n",
    "        else:\n",
    "            # deleting node with one child\n",
    "            if self.leftChild is None:\n",
    "\n",
    "                if self == root:\n",
    "                    temp = self.minValueNode(self.rightChild)\n",
    "                    self.data = temp.data\n",
    "                    self.rightChild = self.rightChild.delete(temp.data,root) \n",
    "\n",
    "                temp = self.rightChild\n",
    "                self = None\n",
    "                return temp\n",
    "            elif self.rightChild is None:\n",
    "\n",
    "                if self == root:\n",
    "                    temp = self.maxValueNode(self.leftChild)\n",
    "                    self.data = temp.data\n",
    "                    self.leftChild = self.leftChild.delete(temp.data,root) \n",
    "\n",
    "                temp = self.leftChild\n",
    "                self = None\n",
    "                return temp\n",
    "\n",
    "            # deleting node with two children\n",
    "            # first get the inorder successor\n",
    "            temp = self.minValueNode(self.rightChild)\n",
    "            self.data = temp.data\n",
    "            self.rightChild = self.rightChild.delete(temp.data,root)\n",
    "\n",
    "        return self\n",
    "\n",
    "    def find(self, data):\n",
    "        ''' This function checks whether the specified data is in tree or not '''\n",
    "        if(data == self.data):\n",
    "            return True\n",
    "        elif(data < self.data):\n",
    "            if self.leftChild:\n",
    "                return self.leftChild.find(data)\n",
    "            else:\n",
    "                return False\n",
    "        else:\n",
    "            if self.rightChild:\n",
    "                return self.rightChild.find(data)\n",
    "            else:\n",
    "                return False\n",
    "\n",
    "    def preorder(self):\n",
    "        '''For preorder traversal of the BST '''\n",
    "        if self:\n",
    "            print(str(self.data), end = ' ')\n",
    "            if self.leftChild:\n",
    "                self.leftChild.preorder()\n",
    "            if self.rightChild:\n",
    "                self.rightChild.preorder()\n",
    "\n",
    "    def inorder(self):\n",
    "        ''' For Inorder traversal of the BST '''\n",
    "        if self:\n",
    "            if self.leftChild:\n",
    "                self.leftChild.inorder()\n",
    "            print(str(self.data), end = ' ')\n",
    "            if self.rightChild:\n",
    "                self.rightChild.inorder()\n",
    "\n",
    "    def postorder(self):\n",
    "        ''' For postorder traversal of the BST '''\n",
    "        if self:\n",
    "            if self.leftChild:\n",
    "                self.leftChild.postorder()\n",
    "            if self.rightChild:\n",
    "                self.rightChild.postorder()\n",
    "            print(str(self.data), end = ' ')\n",
    "\n",
    "class Tree(object):\n",
    "    def __init__(self):\n",
    "        self.root = None\n",
    "\n",
    "    def insert(self, data):\n",
    "        if self.root:\n",
    "            return self.root.insert(data)\n",
    "        else:\n",
    "            self.root = Node(data)\n",
    "            return True\n",
    "\n",
    "    def delete(self, data):\n",
    "        if self.root is not None:\n",
    "            return self.root.delete(data,self.root)\n",
    "\n",
    "    def find(self, data):\n",
    "        if self.root:\n",
    "            return self.root.find(data)\n",
    "        else:\n",
    "            return False\n",
    "\n",
    "    def preorder(self):\n",
    "        if self.root is not None:\n",
    "            print()\n",
    "            print('Preorder: ')\n",
    "            self.root.preorder()\n",
    "\n",
    "    def inorder(self):\n",
    "        print()\n",
    "        if self.root is not None:\n",
    "            print('Inorder: ')\n",
    "            self.root.inorder()\n",
    "\n",
    "    def postorder(self):\n",
    "        print()\n",
    "        if self.root is not None:\n",
    "            print('Postorder: ')\n",
    "            self.root.postorder()\n",
    "\n",
    "if __name__ == '__main__':\n",
    "    tree = Tree()\n",
    "    tree.insert(10)\n",
    "    tree.insert(12)\n",
    "    tree.insert(5)\n",
    "    tree.insert(4)\n",
    "    tree.insert(20)\n",
    "    tree.insert(8)\n",
    "    tree.insert(7)\n",
    "    tree.insert(15)\n",
    "    tree.insert(13)\n",
    "    print(tree.find(1))\n",
    "    print(tree.find(12))\n",
    "    ''' Following tree is getting created:\n",
    "                    10\n",
    "                 /      \\\n",
    "               5         12\n",
    "              / \\           \\\n",
    "            4     8          20\n",
    "                 /          /\n",
    "                7         15\n",
    "                         /\n",
    "                       13\n",
    "    '''\n",
    "\n",
    "    tree.preorder()\n",
    "    tree.inorder()\n",
    "    tree.postorder()\n",
    "    print('\\n\\nAfter deleting 20')\n",
    "    tree.delete(20)\n",
    "    tree.inorder()\n",
    "    tree.preorder()\n",
    "    print('\\n\\nAfter deleting 10')\n",
    "    tree.delete(10)\n",
    "    tree.inorder()\n",
    "    tree.preorder()"
   ]
  },
  {
   "cell_type": "code",
   "execution_count": null,
   "metadata": {},
   "outputs": [],
   "source": []
  }
 ],
 "metadata": {
  "interpreter": {
   "hash": "cbc5014ed32a3511c99c810aecedbd8e5a5c878610fa20b4667810c497ccaeea"
  },
  "kernelspec": {
   "display_name": "Python 3.9.5 64-bit",
   "language": "python",
   "name": "python3"
  },
  "language_info": {
   "codemirror_mode": {
    "name": "ipython",
    "version": 3
   },
   "file_extension": ".py",
   "mimetype": "text/x-python",
   "name": "python",
   "nbconvert_exporter": "python",
   "pygments_lexer": "ipython3",
   "version": "3.9.5"
  },
  "orig_nbformat": 4
 },
 "nbformat": 4,
 "nbformat_minor": 2
}
